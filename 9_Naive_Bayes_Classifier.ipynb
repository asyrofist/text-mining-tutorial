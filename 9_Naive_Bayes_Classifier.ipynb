{
  "nbformat": 4,
  "nbformat_minor": 0,
  "metadata": {
    "colab": {
      "name": "9_Naive Bayes Classifier.ipynb",
      "version": "0.3.2",
      "provenance": [],
      "collapsed_sections": [],
      "include_colab_link": true
    },
    "kernelspec": {
      "name": "python3",
      "display_name": "Python 3"
    }
  },
  "cells": [
    {
      "cell_type": "markdown",
      "metadata": {
        "id": "view-in-github",
        "colab_type": "text"
      },
      "source": [
        "<a href=\"https://colab.research.google.com/github/fininsight/text-mining-tutorial/blob/master/9_Naive_Bayes_Classifier.ipynb\" target=\"_parent\"><img src=\"https://colab.research.google.com/assets/colab-badge.svg\" alt=\"Open In Colab\"/></a>"
      ]
    },
    {
      "cell_type": "markdown",
      "metadata": {
        "id": "MSHRKud41Tr0",
        "colab_type": "text"
      },
      "source": [
        "# Naive Bayes Classifier"
      ]
    },
    {
      "cell_type": "markdown",
      "metadata": {
        "id": "d_1yc6beq_VP",
        "colab_type": "text"
      },
      "source": [
        "\n",
        "\n",
        "## 구글 드라이브 파일 읽기\n",
        "\n"
      ]
    },
    {
      "cell_type": "code",
      "metadata": {
        "id": "yvX-1FJ7qXOu",
        "colab_type": "code",
        "colab": {
          "base_uri": "https://localhost:8080/",
          "height": 52
        },
        "outputId": "03889c34-85a3-45ca-c908-2e12ff3ec108"
      },
      "source": [
        "# 구글 드라이브에서 csv 파일을 읽어오기 위해 gauth 인증을 합니다.\n",
        "!pip install -U -q PyDrive\n",
        "from pydrive.auth import GoogleAuth\n",
        "from pydrive.drive import GoogleDrive\n",
        "from google.colab import auth\n",
        "from oauth2client.client import GoogleCredentials\n",
        "# Authenticate and create the PyDrive client.\n",
        "auth.authenticate_user()\n",
        "gauth = GoogleAuth()\n",
        "gauth.credentials = GoogleCredentials.get_application_default()\n",
        "drive = GoogleDrive(gauth)"
      ],
      "execution_count": 1,
      "outputs": [
        {
          "output_type": "stream",
          "text": [
            "\u001b[?25l\r\u001b[K     |▎                               | 10kB 16.3MB/s eta 0:00:01\r\u001b[K     |▋                               | 20kB 1.8MB/s eta 0:00:01\r\u001b[K     |█                               | 30kB 2.7MB/s eta 0:00:01\r\u001b[K     |█▎                              | 40kB 1.7MB/s eta 0:00:01\r\u001b[K     |█▋                              | 51kB 2.1MB/s eta 0:00:01\r\u001b[K     |██                              | 61kB 2.5MB/s eta 0:00:01\r\u001b[K     |██▎                             | 71kB 2.9MB/s eta 0:00:01\r\u001b[K     |██▋                             | 81kB 3.3MB/s eta 0:00:01\r\u001b[K     |███                             | 92kB 3.7MB/s eta 0:00:01\r\u001b[K     |███▎                            | 102kB 2.4MB/s eta 0:00:01\r\u001b[K     |███▋                            | 112kB 2.4MB/s eta 0:00:01\r\u001b[K     |████                            | 122kB 2.4MB/s eta 0:00:01\r\u001b[K     |████▎                           | 133kB 2.4MB/s eta 0:00:01\r\u001b[K     |████▋                           | 143kB 2.4MB/s eta 0:00:01\r\u001b[K     |█████                           | 153kB 2.4MB/s eta 0:00:01\r\u001b[K     |█████▎                          | 163kB 2.4MB/s eta 0:00:01\r\u001b[K     |█████▋                          | 174kB 2.4MB/s eta 0:00:01\r\u001b[K     |██████                          | 184kB 2.4MB/s eta 0:00:01\r\u001b[K     |██████▎                         | 194kB 2.4MB/s eta 0:00:01\r\u001b[K     |██████▋                         | 204kB 2.4MB/s eta 0:00:01\r\u001b[K     |███████                         | 215kB 2.4MB/s eta 0:00:01\r\u001b[K     |███████▎                        | 225kB 2.4MB/s eta 0:00:01\r\u001b[K     |███████▋                        | 235kB 2.4MB/s eta 0:00:01\r\u001b[K     |████████                        | 245kB 2.4MB/s eta 0:00:01\r\u001b[K     |████████▎                       | 256kB 2.4MB/s eta 0:00:01\r\u001b[K     |████████▋                       | 266kB 2.4MB/s eta 0:00:01\r\u001b[K     |█████████                       | 276kB 2.4MB/s eta 0:00:01\r\u001b[K     |█████████▎                      | 286kB 2.4MB/s eta 0:00:01\r\u001b[K     |█████████▋                      | 296kB 2.4MB/s eta 0:00:01\r\u001b[K     |██████████                      | 307kB 2.4MB/s eta 0:00:01\r\u001b[K     |██████████▎                     | 317kB 2.4MB/s eta 0:00:01\r\u001b[K     |██████████▋                     | 327kB 2.4MB/s eta 0:00:01\r\u001b[K     |███████████                     | 337kB 2.4MB/s eta 0:00:01\r\u001b[K     |███████████▎                    | 348kB 2.4MB/s eta 0:00:01\r\u001b[K     |███████████▋                    | 358kB 2.4MB/s eta 0:00:01\r\u001b[K     |████████████                    | 368kB 2.4MB/s eta 0:00:01\r\u001b[K     |████████████▎                   | 378kB 2.4MB/s eta 0:00:01\r\u001b[K     |████████████▋                   | 389kB 2.4MB/s eta 0:00:01\r\u001b[K     |█████████████                   | 399kB 2.4MB/s eta 0:00:01\r\u001b[K     |█████████████▎                  | 409kB 2.4MB/s eta 0:00:01\r\u001b[K     |█████████████▋                  | 419kB 2.4MB/s eta 0:00:01\r\u001b[K     |██████████████                  | 430kB 2.4MB/s eta 0:00:01\r\u001b[K     |██████████████▎                 | 440kB 2.4MB/s eta 0:00:01\r\u001b[K     |██████████████▋                 | 450kB 2.4MB/s eta 0:00:01\r\u001b[K     |███████████████                 | 460kB 2.4MB/s eta 0:00:01\r\u001b[K     |███████████████▎                | 471kB 2.4MB/s eta 0:00:01\r\u001b[K     |███████████████▋                | 481kB 2.4MB/s eta 0:00:01\r\u001b[K     |████████████████                | 491kB 2.4MB/s eta 0:00:01\r\u001b[K     |████████████████▎               | 501kB 2.4MB/s eta 0:00:01\r\u001b[K     |████████████████▋               | 512kB 2.4MB/s eta 0:00:01\r\u001b[K     |█████████████████               | 522kB 2.4MB/s eta 0:00:01\r\u001b[K     |█████████████████▎              | 532kB 2.4MB/s eta 0:00:01\r\u001b[K     |█████████████████▋              | 542kB 2.4MB/s eta 0:00:01\r\u001b[K     |██████████████████              | 552kB 2.4MB/s eta 0:00:01\r\u001b[K     |██████████████████▎             | 563kB 2.4MB/s eta 0:00:01\r\u001b[K     |██████████████████▋             | 573kB 2.4MB/s eta 0:00:01\r\u001b[K     |███████████████████             | 583kB 2.4MB/s eta 0:00:01\r\u001b[K     |███████████████████▎            | 593kB 2.4MB/s eta 0:00:01\r\u001b[K     |███████████████████▋            | 604kB 2.4MB/s eta 0:00:01\r\u001b[K     |████████████████████            | 614kB 2.4MB/s eta 0:00:01\r\u001b[K     |████████████████████▎           | 624kB 2.4MB/s eta 0:00:01\r\u001b[K     |████████████████████▋           | 634kB 2.4MB/s eta 0:00:01\r\u001b[K     |█████████████████████           | 645kB 2.4MB/s eta 0:00:01\r\u001b[K     |█████████████████████▎          | 655kB 2.4MB/s eta 0:00:01\r\u001b[K     |█████████████████████▋          | 665kB 2.4MB/s eta 0:00:01\r\u001b[K     |██████████████████████          | 675kB 2.4MB/s eta 0:00:01\r\u001b[K     |██████████████████████▎         | 686kB 2.4MB/s eta 0:00:01\r\u001b[K     |██████████████████████▋         | 696kB 2.4MB/s eta 0:00:01\r\u001b[K     |███████████████████████         | 706kB 2.4MB/s eta 0:00:01\r\u001b[K     |███████████████████████▎        | 716kB 2.4MB/s eta 0:00:01\r\u001b[K     |███████████████████████▋        | 727kB 2.4MB/s eta 0:00:01\r\u001b[K     |████████████████████████        | 737kB 2.4MB/s eta 0:00:01\r\u001b[K     |████████████████████████▎       | 747kB 2.4MB/s eta 0:00:01\r\u001b[K     |████████████████████████▋       | 757kB 2.4MB/s eta 0:00:01\r\u001b[K     |████████████████████████▉       | 768kB 2.4MB/s eta 0:00:01\r\u001b[K     |█████████████████████████▏      | 778kB 2.4MB/s eta 0:00:01\r\u001b[K     |█████████████████████████▌      | 788kB 2.4MB/s eta 0:00:01\r\u001b[K     |█████████████████████████▉      | 798kB 2.4MB/s eta 0:00:01\r\u001b[K     |██████████████████████████▏     | 808kB 2.4MB/s eta 0:00:01\r\u001b[K     |██████████████████████████▌     | 819kB 2.4MB/s eta 0:00:01\r\u001b[K     |██████████████████████████▉     | 829kB 2.4MB/s eta 0:00:01\r\u001b[K     |███████████████████████████▏    | 839kB 2.4MB/s eta 0:00:01\r\u001b[K     |███████████████████████████▌    | 849kB 2.4MB/s eta 0:00:01\r\u001b[K     |███████████████████████████▉    | 860kB 2.4MB/s eta 0:00:01\r\u001b[K     |████████████████████████████▏   | 870kB 2.4MB/s eta 0:00:01\r\u001b[K     |████████████████████████████▌   | 880kB 2.4MB/s eta 0:00:01\r\u001b[K     |████████████████████████████▉   | 890kB 2.4MB/s eta 0:00:01\r\u001b[K     |█████████████████████████████▏  | 901kB 2.4MB/s eta 0:00:01\r\u001b[K     |█████████████████████████████▌  | 911kB 2.4MB/s eta 0:00:01\r\u001b[K     |█████████████████████████████▉  | 921kB 2.4MB/s eta 0:00:01\r\u001b[K     |██████████████████████████████▏ | 931kB 2.4MB/s eta 0:00:01\r\u001b[K     |██████████████████████████████▌ | 942kB 2.4MB/s eta 0:00:01\r\u001b[K     |██████████████████████████████▉ | 952kB 2.4MB/s eta 0:00:01\r\u001b[K     |███████████████████████████████▏| 962kB 2.4MB/s eta 0:00:01\r\u001b[K     |███████████████████████████████▌| 972kB 2.4MB/s eta 0:00:01\r\u001b[K     |███████████████████████████████▉| 983kB 2.4MB/s eta 0:00:01\r\u001b[K     |████████████████████████████████| 993kB 2.4MB/s \n",
            "\u001b[?25h  Building wheel for PyDrive (setup.py) ... \u001b[?25l\u001b[?25hdone\n"
          ],
          "name": "stdout"
        }
      ]
    },
    {
      "cell_type": "code",
      "metadata": {
        "id": "zo2ZHNz9qaCr",
        "colab_type": "code",
        "colab": {}
      },
      "source": [
        "url ='https://drive.google.com/open?id=1k-eBWXizwP75G636Ws7VrIy8VOWjKt_3'\n",
        "id_spam = url.split('=')[1]"
      ],
      "execution_count": 0,
      "outputs": []
    },
    {
      "cell_type": "code",
      "metadata": {
        "id": "1bnae7x-qt9b",
        "colab_type": "code",
        "colab": {}
      },
      "source": [
        "# it관련 기사를 판다스를 통해 읽어온다.\n",
        "downloaded = drive.CreateFile({'id':id_spam}) \n",
        "downloaded.GetContentFile('9_spam.csv') "
      ],
      "execution_count": 0,
      "outputs": []
    },
    {
      "cell_type": "markdown",
      "metadata": {
        "id": "DwzbT2LkrCwH",
        "colab_type": "text"
      },
      "source": [
        "## Naive Bayes Classifier"
      ]
    },
    {
      "cell_type": "code",
      "metadata": {
        "id": "ypuyUtI4LAQs",
        "colab_type": "code",
        "outputId": "6ba4fe88-9702-43c0-e2a3-4d02d549da08",
        "colab": {
          "base_uri": "https://localhost:8080/",
          "height": 70
        }
      },
      "source": [
        "from collections import defaultdict\n",
        "import pandas as pd \n",
        "import numpy as np\n",
        "import math\n",
        "\n",
        "k =0.5\n",
        "\n",
        "input_file = pd.read_csv(\"9_spam.csv\")\n",
        "training_set = np.array(input_file)\n",
        "\n",
        "# 범주에 속하는 문서수 세기 1(예. 긍정), 0(예. 부정))\n",
        "doccnt1 = 0\n",
        "doccnt0 = 0\n",
        "    \n",
        "# 토큰별로 문서내 빈도수 카운팅\n",
        "wordfreq = defaultdict(lambda : [0, 0])\n",
        "for doc, point in training_set:\n",
        "      words = doc.split()\n",
        "      for word in words :\n",
        "        if point == 1 :\n",
        "          wordfreq[word][0] += 1\n",
        "        else :\n",
        "          wordfreq[word][1] += 1\n",
        "          \n",
        "for key, (cnt1, cnt0) in wordfreq.items() :\n",
        "  if cnt1 > 0 :\n",
        "    doccnt1 += 1\n",
        "  if cnt0 > 0 :\n",
        "    doccnt0 += 1\n",
        "    \n",
        "#print(doccnt0)\n",
        "\n",
        "wordprobs = defaultdict(lambda : [0, 0])\n",
        "for key, (cnt1, cnt0) in wordfreq.items() :\n",
        "  wordprobs[key][0] = (cnt1 + k) / (doccnt1 + 2*k)\n",
        "  wordprobs[key][1] = (cnt0 + k) / (doccnt0 + 2*k)\n",
        "\n",
        "#print(len(word_probs))\n",
        "\n",
        "doc = \"free lottery\"\n",
        "tokens = doc.split()\n",
        "\n",
        "# 초기값은 모두 0으로 처리\n",
        "log_prob1 = log_prob0 = 0.0\n",
        "\n",
        "# 모든 단어에 대해 반복\n",
        "for word, (prob1, prob0) in wordprobs.items():\n",
        "    if word in tokens:\n",
        "        log_prob1 += math.log(prob1)\n",
        "        log_prob0 += math.log(prob0)\n",
        "        \n",
        "    else:\n",
        "        log_prob1 += math.log(1.0 - prob1)\n",
        "        log_prob0 += math.log(1.0 - prob0)\n",
        "\n",
        "    \n",
        "log_prob1 += math.log(doccnt1/len(wordfreq))\n",
        "log_prob0 += math.log(doccnt0/len(wordfreq))\n",
        "  \n",
        "prob1 = math.exp(log_prob1)\n",
        "prob0 = math.exp(log_prob0)\n",
        "print(doc)\n",
        "print(\"스팸확률 : {}%\".format(prob1 / (prob1 + prob0)*100))\n",
        "print(\"정상확률 : {}%\".format(prob0 / (prob1 + prob0)*100))\n"
      ],
      "execution_count": 15,
      "outputs": [
        {
          "output_type": "stream",
          "text": [
            "free lottery\n",
            "스팸확률 : 89.64758762435878%\n",
            "정상확률 : 10.352412375641222%\n"
          ],
          "name": "stdout"
        }
      ]
    }
  ]
}