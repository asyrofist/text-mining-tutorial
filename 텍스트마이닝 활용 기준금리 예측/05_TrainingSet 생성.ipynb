{
 "cells": [
  {
   "cell_type": "markdown",
   "metadata": {},
   "source": [
    "# 1. Training Set 생성"
   ]
  },
  {
   "cell_type": "code",
   "execution_count": 1,
   "metadata": {},
   "outputs": [],
   "source": [
    "import pandas as pd\n",
    "import numpy as np\n",
    "\n",
    "\n",
    "df = pd.DataFrame()\n",
    "callrate = pd.read_csv('./data/market/callrate_lable.csv')\n",
    "\n",
    "#bond reports\n",
    "bond = pd.read_csv('./data/bondreports/bondreports_preprocessed.csv')\n",
    "bond['date'] = '20'+ bond['date']\n",
    "bond['date'] = pd.to_datetime(bond['date'],format='%Y.%m.%d', errors='ignore')\n",
    "callrate['date'] = pd.to_datetime(callrate['date'],format='%Y.%m.%d', errors='ignore')\n",
    "\n",
    "df = pd.merge(bond, callrate, on='date', how='left')\n",
    "df = df.fillna('')\n",
    "df['ngrams in doc'] = df[\"ngram\"] + ',' +  df[\"tokens\"] \n",
    "df[['date','ngrams in doc','lable']].to_csv('./data/model/training_set.csv', mode='w', index=False)\n"
   ]
  },
  {
   "cell_type": "code",
   "execution_count": 2,
   "metadata": {},
   "outputs": [],
   "source": [
    "#minutes\n",
    "minutes = pd.read_csv('./data/minutes/minutes_preprocessed.csv')\n",
    "minutes['date'] = pd.to_datetime(minutes['date'],format='%Y%m%d', errors='ignore')\n",
    "callrate['date'] = pd.to_datetime(callrate['date'],format='%Y.%m.%d', errors='ignore')\n",
    "\n",
    "df = pd.DataFrame()\n",
    "df = pd.merge(minutes.loc[minutes.date <= '2017.12.31'], callrate, on='date', how='left')\n",
    "df = df.fillna('')\n",
    "df['ngrams in doc'] = df[\"Foreign Currency tokens\"] + ',' +  df[\"Financial Markets tokens\"]  + ',' +  df[\"Foreign Currency ngram\"]  + ',' +  df[\"Financial Markets ngram\"] \n",
    "df[['date','ngrams in doc','lable']].to_csv('./data/model/training_set.csv', mode='a', header=False, index=False)\n",
    "\n"
   ]
  },
  {
   "cell_type": "code",
   "execution_count": 3,
   "metadata": {},
   "outputs": [],
   "source": [
    "import pandas as pd\n",
    "from os import listdir\n",
    "from os.path import isfile, join\n",
    "\n",
    "#news\n",
    "source_folder = \"./data/news/\"\n",
    "news_ls = [f for f in listdir(source_folder) if isfile(join(source_folder, f))]\n",
    "for newsfile in news_ls :\n",
    "    if newsfile in [\"news_2005_preprocessed_n.csv\",\"news_2006_preprocessed_n.csv\",\"news_2007_preprocessed_n.csv\",\"news_2008_preprocessed_n.csv\",\"news_2009_preprocessed_n.csv\",\"news_2010_preprocessed_n.csv\",\"news_2011_preprocessed_n.csv\",\"news_2012_preprocessed_n.csv\",\"news_2013_preprocessed_n.csv\",\"news_2014_preprocessed_n.csv\",\"news_2015_preprocessed_n.csv\"] :\n",
    "        news = pd.read_csv(source_folder + newsfile)\n",
    "        news['date'] = pd.to_datetime(news['date'],format='%Y.%m.%d', errors='ignore')\n",
    "        callrate['date'] = pd.to_datetime(callrate['date'],format='%Y.%m.%d', errors='ignore')\n",
    "\n",
    "        df = pd.DataFrame()\n",
    "        df = pd.merge(news, callrate, on='date', how='left')\n",
    "        df = df.fillna('')\n",
    "        df['ngrams in doc'] = df[\"tokens\"] + ',' +  df[\"ngram\"] \n",
    "        df[['date','ngrams in doc','lable']].to_csv('./data/model/training_set.csv', header=False, mode='a', index=False)"
   ]
  },
  {
   "cell_type": "code",
   "execution_count": 4,
   "metadata": {},
   "outputs": [],
   "source": [
    "traning_set = pd.read_csv('./data/model/training_set.csv')\n",
    "prev = 0\n",
    "for i, row in traning_set.sort_values(by=['date'], ascending=False).iterrows() :\n",
    "    if row['lable'] is None :\n",
    "        print(i)\n",
    "    \n",
    "    prev = row['lable']"
   ]
  },
  {
   "cell_type": "code",
   "execution_count": 5,
   "metadata": {},
   "outputs": [
    {
     "data": {
      "text/html": [
       "<div>\n",
       "<style scoped>\n",
       "    .dataframe tbody tr th:only-of-type {\n",
       "        vertical-align: middle;\n",
       "    }\n",
       "\n",
       "    .dataframe tbody tr th {\n",
       "        vertical-align: top;\n",
       "    }\n",
       "\n",
       "    .dataframe thead th {\n",
       "        text-align: right;\n",
       "    }\n",
       "</style>\n",
       "<table border=\"1\" class=\"dataframe\">\n",
       "  <thead>\n",
       "    <tr style=\"text-align: right;\">\n",
       "      <th></th>\n",
       "      <th>date</th>\n",
       "      <th>ngrams in doc</th>\n",
       "      <th>lable</th>\n",
       "    </tr>\n",
       "  </thead>\n",
       "  <tbody>\n",
       "    <tr>\n",
       "      <th>391</th>\n",
       "      <td>2017-12-27</td>\n",
       "      <td>은행채/NNG;신용스프레드/NNG;확대/NNG,신용스프레드/NNG;하향/NNG;안정...</td>\n",
       "      <td>1.0</td>\n",
       "    </tr>\n",
       "    <tr>\n",
       "      <th>78</th>\n",
       "      <td>2017-12-15</td>\n",
       "      <td>fed/NNG;시장/NNG;예상/NNG;금리/NNG;인상/NNG,실업률/NNG;하락...</td>\n",
       "      <td>1.0</td>\n",
       "    </tr>\n",
       "    <tr>\n",
       "      <th>148</th>\n",
       "      <td>2017-12-04</td>\n",
       "      <td>소비자/NNG;물가/NNG;상승률/NNG;최저/NNG,가계/NNG;부채/NNG;금리...</td>\n",
       "      <td>0.0</td>\n",
       "    </tr>\n",
       "    <tr>\n",
       "      <th>719</th>\n",
       "      <td>2017-11-30</td>\n",
       "      <td>금융경제/NNG,보/VV,fed/NNG,금리/NNG,인상/NNG,하/VV,예견/NN...</td>\n",
       "      <td>1.0</td>\n",
       "    </tr>\n",
       "    <tr>\n",
       "      <th>270</th>\n",
       "      <td>2017-11-30</td>\n",
       "      <td>그럼에도/VA;불구/NNG;금리/NNG;인상/NNG,금리/NNG;인하/NNG;사이클...</td>\n",
       "      <td>1.0</td>\n",
       "    </tr>\n",
       "  </tbody>\n",
       "</table>\n",
       "</div>"
      ],
      "text/plain": [
       "           date                                      ngrams in doc  lable\n",
       "391  2017-12-27  은행채/NNG;신용스프레드/NNG;확대/NNG,신용스프레드/NNG;하향/NNG;안정...    1.0\n",
       "78   2017-12-15  fed/NNG;시장/NNG;예상/NNG;금리/NNG;인상/NNG,실업률/NNG;하락...    1.0\n",
       "148  2017-12-04  소비자/NNG;물가/NNG;상승률/NNG;최저/NNG,가계/NNG;부채/NNG;금리...    0.0\n",
       "719  2017-11-30  금융경제/NNG,보/VV,fed/NNG,금리/NNG,인상/NNG,하/VV,예견/NN...    1.0\n",
       "270  2017-11-30  그럼에도/VA;불구/NNG;금리/NNG;인상/NNG,금리/NNG;인하/NNG;사이클...    1.0"
      ]
     },
     "execution_count": 5,
     "metadata": {},
     "output_type": "execute_result"
    }
   ],
   "source": [
    "traning_set.sort_values(by=['date'], ascending=False).head()"
   ]
  },
  {
   "cell_type": "code",
   "execution_count": 6,
   "metadata": {},
   "outputs": [
    {
     "data": {
      "text/plain": [
       "(100635, 3)"
      ]
     },
     "execution_count": 6,
     "metadata": {},
     "output_type": "execute_result"
    }
   ],
   "source": [
    "traning_set.loc[traning_set.lable==1.0].shape"
   ]
  },
  {
   "cell_type": "code",
   "execution_count": 7,
   "metadata": {},
   "outputs": [
    {
     "data": {
      "text/plain": [
       "(95512, 3)"
      ]
     },
     "execution_count": 7,
     "metadata": {},
     "output_type": "execute_result"
    }
   ],
   "source": [
    "traning_set.loc[traning_set.lable==-1.0].shape"
   ]
  },
  {
   "cell_type": "code",
   "execution_count": null,
   "metadata": {},
   "outputs": [],
   "source": []
  }
 ],
 "metadata": {
  "kernelspec": {
   "display_name": "Python 3",
   "language": "python",
   "name": "python3"
  },
  "language_info": {
   "codemirror_mode": {
    "name": "ipython",
    "version": 3
   },
   "file_extension": ".py",
   "mimetype": "text/x-python",
   "name": "python",
   "nbconvert_exporter": "python",
   "pygments_lexer": "ipython3",
   "version": "3.6.5"
  }
 },
 "nbformat": 4,
 "nbformat_minor": 2
}
