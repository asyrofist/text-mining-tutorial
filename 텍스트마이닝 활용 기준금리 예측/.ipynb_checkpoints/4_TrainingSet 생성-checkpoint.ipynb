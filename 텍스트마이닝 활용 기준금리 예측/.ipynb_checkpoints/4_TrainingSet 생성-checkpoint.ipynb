{
 "cells": [
  {
   "cell_type": "markdown",
   "metadata": {},
   "source": [
    "# 1. Training Set 생성"
   ]
  },
  {
   "cell_type": "code",
   "execution_count": 1,
   "metadata": {},
   "outputs": [],
   "source": [
    "import pandas as pd\n",
    "import numpy as np\n",
    "\n",
    "\n",
    "df = pd.DataFrame()\n",
    "callrate = pd.read_csv('./data/market/callrate_lable.csv')\n",
    "\n",
    "#bond reports\n",
    "bond = pd.read_csv('./data/bondreports/bondreports_preprocessed.csv')\n",
    "bond['date'] = '20'+ bond['date']\n",
    "bond['date'] = pd.to_datetime(bond['date'],format='%Y.%m.%d', errors='ignore')\n",
    "callrate['date'] = pd.to_datetime(callrate['date'],format='%Y.%m.%d', errors='ignore')\n",
    "\n",
    "df = pd.merge(bond, callrate, on='date', how='left')\n",
    "df = df.fillna('')\n",
    "df['ngrams in doc'] = df[\"ngram\"] + ',' +  df[\"tokens\"] \n",
    "df[['date','ngrams in doc','lable']].to_csv('./data/model/training_set.csv', mode='w', index=False)\n"
   ]
  },
  {
   "cell_type": "code",
   "execution_count": 2,
   "metadata": {},
   "outputs": [],
   "source": [
    "#minutes\n",
    "minutes = pd.read_csv('./data/minutes/minutes_preprocessed.csv')\n",
    "minutes['date'] = pd.to_datetime(minutes['date'],format='%Y%m%d', errors='ignore')\n",
    "callrate['date'] = pd.to_datetime(callrate['date'],format='%Y.%m.%d', errors='ignore')\n",
    "\n",
    "df = pd.DataFrame()\n",
    "df = pd.merge(minutes.loc[minutes.date <= '2017.12.31'], callrate, on='date', how='left')\n",
    "df = df.fillna('')\n",
    "df['ngrams in doc'] = df[\"Foreign Currency tokens\"] + ',' +  df[\"Financial Markets tokens\"]  + ',' +  df[\"Foreign Currency ngram\"]  + ',' +  df[\"Financial Markets ngram\"] \n",
    "df[['date','ngrams in doc','lable']].to_csv('./data/model/training_set.csv', mode='a', header=False, index=False)\n",
    "\n"
   ]
  },
  {
   "cell_type": "code",
   "execution_count": null,
   "metadata": {},
   "outputs": [],
   "source": [
    "import pandas as pd\n",
    "from os import listdir\n",
    "from os.path import isfile, join\n",
    "\n",
    "#news\n",
    "source_folder = \"./data/news/\"\n",
    "news_ls = [f for f in listdir(source_folder) if isfile(join(source_folder, f))]\n",
    "for newsfile in news_ls :\n",
    "    if newsfile in [\"news_2005_preprocessed_n.csv\",\"news_2006_preprocessed_n.csv\",\"news_2007_preprocessed_n.csv\",\"news_2008_preprocessed_n.csv\",\"news_2009_preprocessed_n.csv\",\"news_2010_preprocessed_n.csv\",\"news_2011_preprocessed_n.csv\",\"news_2012_preprocessed_n.csv\",\"news_2013_preprocessed_n.csv\",\"news_2014_preprocessed_n.csv\",\"news_2015_preprocessed_n.csv\"] :\n",
    "        news = pd.read_csv(source_folder + newsfile)\n",
    "        news['date'] = pd.to_datetime(news['date'],format='%Y.%m.%d', errors='ignore')\n",
    "        callrate['date'] = pd.to_datetime(callrate['date'],format='%Y.%m.%d', errors='ignore')\n",
    "\n",
    "        df = pd.DataFrame()\n",
    "        df = pd.merge(news, callrate, on='date', how='left')\n",
    "        df = df.fillna('')\n",
    "        df['ngrams in doc'] = df[\"tokens\"] + ',' +  df[\"ngram\"] \n",
    "        df[['date','ngrams in doc','lable']].to_csv('./data/model/training_set.csv', header=False, mode='a', index=False)"
   ]
  },
  {
   "cell_type": "code",
   "execution_count": null,
   "metadata": {},
   "outputs": [],
   "source": [
    "traning_set = pd.read_csv('./data/model/training_set.csv')\n",
    "prev = 0\n",
    "for i, row in traning_set.sort_values(by=['date'], ascending=False).iterrows() :\n",
    "    if row['lable'] is None :\n",
    "        print(i)\n",
    "    \n",
    "    prev = row['lable']"
   ]
  },
  {
   "cell_type": "code",
   "execution_count": null,
   "metadata": {},
   "outputs": [],
   "source": [
    "traning_set.sort_values(by=['date'], ascending=False).head()"
   ]
  },
  {
   "cell_type": "code",
   "execution_count": null,
   "metadata": {},
   "outputs": [],
   "source": [
    "traning_set.loc[traning_set.lable==1.0].shape"
   ]
  },
  {
   "cell_type": "code",
   "execution_count": null,
   "metadata": {},
   "outputs": [],
   "source": [
    "traning_set.loc[traning_set.lable==-1.0].shape"
   ]
  },
  {
   "cell_type": "code",
   "execution_count": null,
   "metadata": {},
   "outputs": [],
   "source": []
  }
 ],
 "metadata": {
  "kernelspec": {
   "display_name": "Python 3",
   "language": "python",
   "name": "python3"
  },
  "language_info": {
   "codemirror_mode": {
    "name": "ipython",
    "version": 3
   },
   "file_extension": ".py",
   "mimetype": "text/x-python",
   "name": "python",
   "nbconvert_exporter": "python",
   "pygments_lexer": "ipython3",
   "version": "3.6.5"
  }
 },
 "nbformat": 4,
 "nbformat_minor": 2
}
