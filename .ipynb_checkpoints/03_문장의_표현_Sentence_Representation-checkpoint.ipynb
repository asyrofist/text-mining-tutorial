{
 "cells": [
  {
   "cell_type": "markdown",
   "metadata": {
    "colab_type": "text",
    "id": "view-in-github"
   },
   "source": [
    "<a href=\"https://colab.research.google.com/github/fininsight/text-mining-tutorial/blob/master/2_%EB%AC%B8%EC%9E%A5%EC%9D%98_%ED%91%9C%ED%98%84_Sentence_Representation.ipynb\" target=\"_parent\"><img src=\"https://colab.research.google.com/assets/colab-badge.svg\" alt=\"Open In Colab\"/></a>"
   ]
  },
  {
   "cell_type": "markdown",
   "metadata": {
    "colab_type": "text",
    "id": "zEFesPBvXe2C"
   },
   "source": [
    "# 문장의 표현 (Sentence Representation)"
   ]
  },
  {
   "cell_type": "markdown",
   "metadata": {
    "colab_type": "text",
    "id": "52uiZhBWaR4M"
   },
   "source": [
    "# 1 BoW (Bag of Words)"
   ]
  },
  {
   "cell_type": "markdown",
   "metadata": {
    "colab_type": "text",
    "id": "xuz1lvCi_e-y"
   },
   "source": [
    "<img src=\"https://image.slidesharecdn.com/vector-space-models-170118145044/95/cs571-vector-space-models-3-638.jpg?cb=1485433004\" />\n",
    "\n",
    "https://en.wikipedia.org/wiki/Bag-of-words_model\n",
    "https://www.slideshare.net/jchoi7s/cs571-vector-space-models"
   ]
  },
  {
   "cell_type": "markdown",
   "metadata": {
    "colab_type": "text",
    "id": "jUABPDuYAO7Y"
   },
   "source": [
    "## 1.1 동물원 예제"
   ]
  },
  {
   "cell_type": "code",
   "execution_count": 0,
   "metadata": {
    "colab": {},
    "colab_type": "code",
    "id": "dPZCmyM7aR4O"
   },
   "outputs": [],
   "source": [
    "sentence_ls = [\n",
    " '오늘 동물원에서 코끼리를 봤어',\n",
    " '오늘 동물원에서 원숭이에게 사과를 줬어'   \n",
    "]"
   ]
  },
  {
   "cell_type": "markdown",
   "metadata": {
    "colab_type": "text",
    "id": "zuMcIp6_aR4R"
   },
   "source": [
    "### 1) 띄어쓰기 단위로 토큰화"
   ]
  },
  {
   "cell_type": "code",
   "execution_count": 0,
   "metadata": {
    "colab": {},
    "colab_type": "code",
    "id": "HK8UIQfKaR4S"
   },
   "outputs": [],
   "source": [
    "sentence_ls = [sentence.split() for sentence in sentence_ls]"
   ]
  },
  {
   "cell_type": "code",
   "execution_count": 6,
   "metadata": {
    "colab": {
     "base_uri": "https://localhost:8080/",
     "height": 34
    },
    "colab_type": "code",
    "id": "-E2fakIGaR4U",
    "outputId": "cfd5cb57-d7f5-4a0e-a913-d0e50e7b352f"
   },
   "outputs": [
    {
     "data": {
      "text/plain": [
       "[['오늘', '동물원에서', '코끼리를', '봤어'], ['오늘', '동물원에서', '원숭이에게', '사과를', '줬어']]"
      ]
     },
     "execution_count": 6,
     "metadata": {
      "tags": []
     },
     "output_type": "execute_result"
    }
   ],
   "source": [
    "sentence_ls"
   ]
  },
  {
   "cell_type": "markdown",
   "metadata": {
    "colab_type": "text",
    "id": "vxOK8R52aR4X"
   },
   "source": [
    "### 2) 각 고유 토큰에 인덱스(Index)를 지정"
   ]
  },
  {
   "cell_type": "code",
   "execution_count": 0,
   "metadata": {
    "colab": {},
    "colab_type": "code",
    "id": "HjQvx_d1aR4Y"
   },
   "outputs": [],
   "source": [
    "from collections import defaultdict\n",
    "\n",
    "token_dict = defaultdict(lambda : len(token_dict))\n",
    "\n",
    "for sentence in sentence_ls:\n",
    "    for token in sentence:\n",
    "        token_dict[token]"
   ]
  },
  {
   "cell_type": "code",
   "execution_count": 8,
   "metadata": {
    "colab": {
     "base_uri": "https://localhost:8080/",
     "height": 158
    },
    "colab_type": "code",
    "id": "qHzASAoCaR4a",
    "outputId": "d7533d64-471b-45fb-f76b-6d2b8572144c"
   },
   "outputs": [
    {
     "data": {
      "text/plain": [
       "defaultdict(<function __main__.<lambda>>,\n",
       "            {'동물원에서': 1,\n",
       "             '봤어': 3,\n",
       "             '사과를': 5,\n",
       "             '오늘': 0,\n",
       "             '원숭이에게': 4,\n",
       "             '줬어': 6,\n",
       "             '코끼리를': 2})"
      ]
     },
     "execution_count": 8,
     "metadata": {
      "tags": []
     },
     "output_type": "execute_result"
    }
   ],
   "source": [
    "token_dict"
   ]
  },
  {
   "cell_type": "markdown",
   "metadata": {
    "colab_type": "text",
    "id": "BBi-jFhVaR4c"
   },
   "source": [
    "### 3) 토큰 인덱스 정렬"
   ]
  },
  {
   "cell_type": "code",
   "execution_count": 9,
   "metadata": {
    "colab": {
     "base_uri": "https://localhost:8080/",
     "height": 140
    },
    "colab_type": "code",
    "id": "Qn3hkjJuaR4d",
    "outputId": "d396da25-6d49-4be2-c010-fad6caa44117"
   },
   "outputs": [
    {
     "data": {
      "text/plain": [
       "[(0, '오늘'),\n",
       " (1, '동물원에서'),\n",
       " (2, '코끼리를'),\n",
       " (3, '봤어'),\n",
       " (4, '원숭이에게'),\n",
       " (5, '사과를'),\n",
       " (6, '줬어')]"
      ]
     },
     "execution_count": 9,
     "metadata": {
      "tags": []
     },
     "output_type": "execute_result"
    }
   ],
   "source": [
    "index_token_ls = sorted((value, key) for key, value in token_dict.items())\n",
    "index_token_ls"
   ]
  },
  {
   "cell_type": "code",
   "execution_count": 10,
   "metadata": {
    "colab": {
     "base_uri": "https://localhost:8080/",
     "height": 34
    },
    "colab_type": "code",
    "id": "qAg_or1naR4f",
    "outputId": "cc1978dc-99a2-4aab-a0eb-1d92b42eaba2"
   },
   "outputs": [
    {
     "data": {
      "text/plain": [
       "['오늘', '동물원에서', '코끼리를', '봤어', '원숭이에게', '사과를', '줬어']"
      ]
     },
     "execution_count": 10,
     "metadata": {
      "tags": []
     },
     "output_type": "execute_result"
    }
   ],
   "source": [
    "token_in_order = [tup[1] for tup in index_token_ls]\n",
    "token_in_order"
   ]
  },
  {
   "cell_type": "markdown",
   "metadata": {
    "colab_type": "text",
    "id": "3ELkZo_BaR4h"
   },
   "source": [
    "### 4) 빈(empty) BOW 생성"
   ]
  },
  {
   "cell_type": "code",
   "execution_count": 0,
   "metadata": {
    "colab": {},
    "colab_type": "code",
    "id": "ct2qziLJaR4i"
   },
   "outputs": [],
   "source": [
    "import pandas as pd\n",
    "import numpy as np\n",
    "\n",
    "n_words = len(token_dict) # 전체 고유 토큰의 수\n",
    "n_sentence = len(sentence_ls) # 전체 문장의 수\n",
    "\n",
    "BOW = pd.DataFrame(\n",
    "    np.zeros((n_sentence, n_words)),\n",
    "    columns = token_in_order,\n",
    "    index = ['문장_1', '문장_2'],\n",
    "    dtype = int,\n",
    ")"
   ]
  },
  {
   "cell_type": "code",
   "execution_count": 12,
   "metadata": {
    "colab": {
     "base_uri": "https://localhost:8080/",
     "height": 106
    },
    "colab_type": "code",
    "id": "q8-PznHAaR4k",
    "outputId": "3340247a-2df4-4790-cfc3-11fa6bc3d217"
   },
   "outputs": [
    {
     "data": {
      "text/html": [
       "<div>\n",
       "<style scoped>\n",
       "    .dataframe tbody tr th:only-of-type {\n",
       "        vertical-align: middle;\n",
       "    }\n",
       "\n",
       "    .dataframe tbody tr th {\n",
       "        vertical-align: top;\n",
       "    }\n",
       "\n",
       "    .dataframe thead th {\n",
       "        text-align: right;\n",
       "    }\n",
       "</style>\n",
       "<table border=\"1\" class=\"dataframe\">\n",
       "  <thead>\n",
       "    <tr style=\"text-align: right;\">\n",
       "      <th></th>\n",
       "      <th>오늘</th>\n",
       "      <th>동물원에서</th>\n",
       "      <th>코끼리를</th>\n",
       "      <th>봤어</th>\n",
       "      <th>원숭이에게</th>\n",
       "      <th>사과를</th>\n",
       "      <th>줬어</th>\n",
       "    </tr>\n",
       "  </thead>\n",
       "  <tbody>\n",
       "    <tr>\n",
       "      <th>문장_1</th>\n",
       "      <td>0</td>\n",
       "      <td>0</td>\n",
       "      <td>0</td>\n",
       "      <td>0</td>\n",
       "      <td>0</td>\n",
       "      <td>0</td>\n",
       "      <td>0</td>\n",
       "    </tr>\n",
       "    <tr>\n",
       "      <th>문장_2</th>\n",
       "      <td>0</td>\n",
       "      <td>0</td>\n",
       "      <td>0</td>\n",
       "      <td>0</td>\n",
       "      <td>0</td>\n",
       "      <td>0</td>\n",
       "      <td>0</td>\n",
       "    </tr>\n",
       "  </tbody>\n",
       "</table>\n",
       "</div>"
      ],
      "text/plain": [
       "      오늘  동물원에서  코끼리를  봤어  원숭이에게  사과를  줬어\n",
       "문장_1   0      0     0   0      0    0   0\n",
       "문장_2   0      0     0   0      0    0   0"
      ]
     },
     "execution_count": 12,
     "metadata": {
      "tags": []
     },
     "output_type": "execute_result"
    }
   ],
   "source": [
    "BOW"
   ]
  },
  {
   "cell_type": "markdown",
   "metadata": {
    "colab_type": "text",
    "id": "G7cZKHjeaR4n"
   },
   "source": [
    "### 5) 각 토큰을 BOW에 하나씩 담는다."
   ]
  },
  {
   "cell_type": "code",
   "execution_count": 0,
   "metadata": {
    "colab": {},
    "colab_type": "code",
    "id": "Jd4Gyeh4aR4n"
   },
   "outputs": [],
   "source": [
    "for i, sentence in enumerate(sentence_ls):\n",
    "    for token in sentence:\n",
    "        \n",
    "        token_location = token_dict[token] # 해당 토큰의 위치(column)\n",
    "        BOW.iloc[i, token_location] += 1"
   ]
  },
  {
   "cell_type": "code",
   "execution_count": 14,
   "metadata": {
    "colab": {
     "base_uri": "https://localhost:8080/",
     "height": 106
    },
    "colab_type": "code",
    "id": "CSJ2jydTaR4p",
    "outputId": "03ae038f-898b-47d3-eda1-a101438a3bf8"
   },
   "outputs": [
    {
     "data": {
      "text/html": [
       "<div>\n",
       "<style scoped>\n",
       "    .dataframe tbody tr th:only-of-type {\n",
       "        vertical-align: middle;\n",
       "    }\n",
       "\n",
       "    .dataframe tbody tr th {\n",
       "        vertical-align: top;\n",
       "    }\n",
       "\n",
       "    .dataframe thead th {\n",
       "        text-align: right;\n",
       "    }\n",
       "</style>\n",
       "<table border=\"1\" class=\"dataframe\">\n",
       "  <thead>\n",
       "    <tr style=\"text-align: right;\">\n",
       "      <th></th>\n",
       "      <th>오늘</th>\n",
       "      <th>동물원에서</th>\n",
       "      <th>코끼리를</th>\n",
       "      <th>봤어</th>\n",
       "      <th>원숭이에게</th>\n",
       "      <th>사과를</th>\n",
       "      <th>줬어</th>\n",
       "    </tr>\n",
       "  </thead>\n",
       "  <tbody>\n",
       "    <tr>\n",
       "      <th>문장_1</th>\n",
       "      <td>1</td>\n",
       "      <td>1</td>\n",
       "      <td>1</td>\n",
       "      <td>1</td>\n",
       "      <td>0</td>\n",
       "      <td>0</td>\n",
       "      <td>0</td>\n",
       "    </tr>\n",
       "    <tr>\n",
       "      <th>문장_2</th>\n",
       "      <td>1</td>\n",
       "      <td>1</td>\n",
       "      <td>0</td>\n",
       "      <td>0</td>\n",
       "      <td>1</td>\n",
       "      <td>1</td>\n",
       "      <td>1</td>\n",
       "    </tr>\n",
       "  </tbody>\n",
       "</table>\n",
       "</div>"
      ],
      "text/plain": [
       "      오늘  동물원에서  코끼리를  봤어  원숭이에게  사과를  줬어\n",
       "문장_1   1      1     1   1      0    0   0\n",
       "문장_2   1      1     0   0      1    1   1"
      ]
     },
     "execution_count": 14,
     "metadata": {
      "tags": []
     },
     "output_type": "execute_result"
    }
   ],
   "source": [
    "BOW"
   ]
  },
  {
   "cell_type": "markdown",
   "metadata": {
    "colab_type": "text",
    "id": "hx3EGCegbh8f"
   },
   "source": [
    "\n",
    "\n",
    "---\n",
    "\n"
   ]
  },
  {
   "cell_type": "markdown",
   "metadata": {
    "colab_type": "text",
    "id": "CHnBJ8wuaR4t"
   },
   "source": [
    "## 1.2 양념치킨과 후라이드치킨 예제"
   ]
  },
  {
   "cell_type": "code",
   "execution_count": 0,
   "metadata": {
    "colab": {},
    "colab_type": "code",
    "id": "4UZDtYS7aR4u"
   },
   "outputs": [],
   "source": [
    "sentence_ls = ['나는 양념 치킨을 좋아해 하지만 후라이드 치킨을 싫어해',\n",
    "               '나는 후라이드 치킨을 좋아해 하지만 양념 치킨을 싫어해']"
   ]
  },
  {
   "cell_type": "markdown",
   "metadata": {
    "colab_type": "text",
    "id": "CmXVteHEaR4x"
   },
   "source": [
    "#### 1) 띄어쓰기 단위로 토큰화"
   ]
  },
  {
   "cell_type": "code",
   "execution_count": 0,
   "metadata": {
    "colab": {},
    "colab_type": "code",
    "id": "TO8Vnn2SaR4y"
   },
   "outputs": [],
   "source": [
    "sentence_ls = [sentence.split() for sentence in sentence_ls]"
   ]
  },
  {
   "cell_type": "code",
   "execution_count": 17,
   "metadata": {
    "colab": {
     "base_uri": "https://localhost:8080/",
     "height": 52
    },
    "colab_type": "code",
    "id": "LTMWP5GjaR40",
    "outputId": "a9fc0455-898d-4cdc-9172-c222c617775d"
   },
   "outputs": [
    {
     "data": {
      "text/plain": [
       "[['나는', '양념', '치킨을', '좋아해', '하지만', '후라이드', '치킨을', '싫어해'],\n",
       " ['나는', '후라이드', '치킨을', '좋아해', '하지만', '양념', '치킨을', '싫어해']]"
      ]
     },
     "execution_count": 17,
     "metadata": {
      "tags": []
     },
     "output_type": "execute_result"
    }
   ],
   "source": [
    "sentence_ls"
   ]
  },
  {
   "cell_type": "markdown",
   "metadata": {
    "colab_type": "text",
    "id": "edQ76L6EaR44"
   },
   "source": [
    "#### 2) 각 고유 토큰에 인덱스(Index)를 지정"
   ]
  },
  {
   "cell_type": "code",
   "execution_count": 0,
   "metadata": {
    "colab": {},
    "colab_type": "code",
    "id": "6GZSTsvSaR44"
   },
   "outputs": [],
   "source": [
    "from collections import defaultdict\n",
    "\n",
    "token_dict = defaultdict(lambda : len(token_dict))\n",
    "\n",
    "for sentence in sentence_ls:\n",
    "    for token in sentence:\n",
    "        token_dict[token]"
   ]
  },
  {
   "cell_type": "code",
   "execution_count": 19,
   "metadata": {
    "colab": {
     "base_uri": "https://localhost:8080/",
     "height": 158
    },
    "colab_type": "code",
    "id": "fLXtAuLEaR46",
    "outputId": "01ecffad-843a-48c9-99ab-9e8df3541d4e"
   },
   "outputs": [
    {
     "data": {
      "text/plain": [
       "defaultdict(<function __main__.<lambda>>,\n",
       "            {'나는': 0,\n",
       "             '싫어해': 6,\n",
       "             '양념': 1,\n",
       "             '좋아해': 3,\n",
       "             '치킨을': 2,\n",
       "             '하지만': 4,\n",
       "             '후라이드': 5})"
      ]
     },
     "execution_count": 19,
     "metadata": {
      "tags": []
     },
     "output_type": "execute_result"
    }
   ],
   "source": [
    "token_dict"
   ]
  },
  {
   "cell_type": "markdown",
   "metadata": {
    "colab_type": "text",
    "id": "BNKgIOkdaR4-"
   },
   "source": [
    "#### 3) 토큰 인덱스 정렬"
   ]
  },
  {
   "cell_type": "code",
   "execution_count": 20,
   "metadata": {
    "colab": {
     "base_uri": "https://localhost:8080/",
     "height": 140
    },
    "colab_type": "code",
    "id": "H3Sk7-lJaR4-",
    "outputId": "02d9084c-c9ab-4d35-f589-fc4ef7a69fd7"
   },
   "outputs": [
    {
     "data": {
      "text/plain": [
       "[(0, '나는'),\n",
       " (1, '양념'),\n",
       " (2, '치킨을'),\n",
       " (3, '좋아해'),\n",
       " (4, '하지만'),\n",
       " (5, '후라이드'),\n",
       " (6, '싫어해')]"
      ]
     },
     "execution_count": 20,
     "metadata": {
      "tags": []
     },
     "output_type": "execute_result"
    }
   ],
   "source": [
    "index_token_ls = sorted((value, key) for key, value in token_dict.items())\n",
    "index_token_ls"
   ]
  },
  {
   "cell_type": "code",
   "execution_count": 21,
   "metadata": {
    "colab": {
     "base_uri": "https://localhost:8080/",
     "height": 34
    },
    "colab_type": "code",
    "id": "BEBwPXl7aR5A",
    "outputId": "72f987bb-4e7a-4597-d497-da049bc897c7"
   },
   "outputs": [
    {
     "data": {
      "text/plain": [
       "['나는', '양념', '치킨을', '좋아해', '하지만', '후라이드', '싫어해']"
      ]
     },
     "execution_count": 21,
     "metadata": {
      "tags": []
     },
     "output_type": "execute_result"
    }
   ],
   "source": [
    "token_in_order = [tup[1] for tup in index_token_ls]\n",
    "token_in_order"
   ]
  },
  {
   "cell_type": "markdown",
   "metadata": {
    "colab_type": "text",
    "id": "QmgGxyL7aR5E"
   },
   "source": [
    "#### 4) 빈(empty) BOW 생성"
   ]
  },
  {
   "cell_type": "code",
   "execution_count": 0,
   "metadata": {
    "colab": {},
    "colab_type": "code",
    "id": "_pmg9xo2aR5F"
   },
   "outputs": [],
   "source": [
    "import pandas as pd\n",
    "import numpy as np\n",
    "\n",
    "n_words = len(token_dict) # 전체 고유 토큰의 수\n",
    "n_sentence = len(sentence_ls) # 전체 문장의 수\n",
    "\n",
    "BOW = pd.DataFrame(\n",
    "    np.zeros((n_sentence, n_words)),\n",
    "    columns = token_in_order,\n",
    "    index = ['문장_1', '문장_2'],\n",
    "    dtype = int,\n",
    ")"
   ]
  },
  {
   "cell_type": "code",
   "execution_count": 23,
   "metadata": {
    "colab": {
     "base_uri": "https://localhost:8080/",
     "height": 106
    },
    "colab_type": "code",
    "id": "hNj8f-lvaR5H",
    "outputId": "2aabdc1f-894f-4a7d-eb7a-9abea039d1ec"
   },
   "outputs": [
    {
     "data": {
      "text/html": [
       "<div>\n",
       "<style scoped>\n",
       "    .dataframe tbody tr th:only-of-type {\n",
       "        vertical-align: middle;\n",
       "    }\n",
       "\n",
       "    .dataframe tbody tr th {\n",
       "        vertical-align: top;\n",
       "    }\n",
       "\n",
       "    .dataframe thead th {\n",
       "        text-align: right;\n",
       "    }\n",
       "</style>\n",
       "<table border=\"1\" class=\"dataframe\">\n",
       "  <thead>\n",
       "    <tr style=\"text-align: right;\">\n",
       "      <th></th>\n",
       "      <th>나는</th>\n",
       "      <th>양념</th>\n",
       "      <th>치킨을</th>\n",
       "      <th>좋아해</th>\n",
       "      <th>하지만</th>\n",
       "      <th>후라이드</th>\n",
       "      <th>싫어해</th>\n",
       "    </tr>\n",
       "  </thead>\n",
       "  <tbody>\n",
       "    <tr>\n",
       "      <th>문장_1</th>\n",
       "      <td>0</td>\n",
       "      <td>0</td>\n",
       "      <td>0</td>\n",
       "      <td>0</td>\n",
       "      <td>0</td>\n",
       "      <td>0</td>\n",
       "      <td>0</td>\n",
       "    </tr>\n",
       "    <tr>\n",
       "      <th>문장_2</th>\n",
       "      <td>0</td>\n",
       "      <td>0</td>\n",
       "      <td>0</td>\n",
       "      <td>0</td>\n",
       "      <td>0</td>\n",
       "      <td>0</td>\n",
       "      <td>0</td>\n",
       "    </tr>\n",
       "  </tbody>\n",
       "</table>\n",
       "</div>"
      ],
      "text/plain": [
       "      나는  양념  치킨을  좋아해  하지만  후라이드  싫어해\n",
       "문장_1   0   0    0    0    0     0    0\n",
       "문장_2   0   0    0    0    0     0    0"
      ]
     },
     "execution_count": 23,
     "metadata": {
      "tags": []
     },
     "output_type": "execute_result"
    }
   ],
   "source": [
    "BOW"
   ]
  },
  {
   "cell_type": "markdown",
   "metadata": {
    "colab_type": "text",
    "id": "HiQkXwbkaR5J"
   },
   "source": [
    "#### 5) 각 토큰을 BOW에 하나씩 담는다."
   ]
  },
  {
   "cell_type": "code",
   "execution_count": 0,
   "metadata": {
    "colab": {},
    "colab_type": "code",
    "id": "hIICxX7DaR5K"
   },
   "outputs": [],
   "source": [
    "for i, sentence in enumerate(sentence_ls):\n",
    "    for token in sentence:\n",
    "        \n",
    "        token_location = token_dict[token] # 해당 토큰의 위치(column)\n",
    "        BOW.iloc[i, token_location] += 1"
   ]
  },
  {
   "cell_type": "code",
   "execution_count": 25,
   "metadata": {
    "colab": {
     "base_uri": "https://localhost:8080/",
     "height": 106
    },
    "colab_type": "code",
    "id": "zL3v6nnjaR5M",
    "outputId": "23548a25-3dec-47ba-d98d-5dd26ec07afe"
   },
   "outputs": [
    {
     "data": {
      "text/html": [
       "<div>\n",
       "<style scoped>\n",
       "    .dataframe tbody tr th:only-of-type {\n",
       "        vertical-align: middle;\n",
       "    }\n",
       "\n",
       "    .dataframe tbody tr th {\n",
       "        vertical-align: top;\n",
       "    }\n",
       "\n",
       "    .dataframe thead th {\n",
       "        text-align: right;\n",
       "    }\n",
       "</style>\n",
       "<table border=\"1\" class=\"dataframe\">\n",
       "  <thead>\n",
       "    <tr style=\"text-align: right;\">\n",
       "      <th></th>\n",
       "      <th>나는</th>\n",
       "      <th>양념</th>\n",
       "      <th>치킨을</th>\n",
       "      <th>좋아해</th>\n",
       "      <th>하지만</th>\n",
       "      <th>후라이드</th>\n",
       "      <th>싫어해</th>\n",
       "    </tr>\n",
       "  </thead>\n",
       "  <tbody>\n",
       "    <tr>\n",
       "      <th>문장_1</th>\n",
       "      <td>1</td>\n",
       "      <td>1</td>\n",
       "      <td>2</td>\n",
       "      <td>1</td>\n",
       "      <td>1</td>\n",
       "      <td>1</td>\n",
       "      <td>1</td>\n",
       "    </tr>\n",
       "    <tr>\n",
       "      <th>문장_2</th>\n",
       "      <td>1</td>\n",
       "      <td>1</td>\n",
       "      <td>2</td>\n",
       "      <td>1</td>\n",
       "      <td>1</td>\n",
       "      <td>1</td>\n",
       "      <td>1</td>\n",
       "    </tr>\n",
       "  </tbody>\n",
       "</table>\n",
       "</div>"
      ],
      "text/plain": [
       "      나는  양념  치킨을  좋아해  하지만  후라이드  싫어해\n",
       "문장_1   1   1    2    1    1     1    1\n",
       "문장_2   1   1    2    1    1     1    1"
      ]
     },
     "execution_count": 25,
     "metadata": {
      "tags": []
     },
     "output_type": "execute_result"
    }
   ],
   "source": [
    "BOW"
   ]
  },
  {
   "cell_type": "markdown",
   "metadata": {
    "colab_type": "text",
    "id": "491wb8Avb4ij"
   },
   "source": [
    "\n",
    "\n",
    "---\n",
    "\n"
   ]
  },
  {
   "cell_type": "markdown",
   "metadata": {
    "colab_type": "text",
    "id": "Hlu7kB_fDyer"
   },
   "source": [
    "https://en.wikipedia.org/wiki/Document-term_matrix"
   ]
  },
  {
   "cell_type": "markdown",
   "metadata": {
    "colab_type": "text",
    "id": "n1BDV2EAzug6"
   },
   "source": [
    "# 2 N-gram"
   ]
  },
  {
   "cell_type": "code",
   "execution_count": 26,
   "metadata": {
    "colab": {
     "base_uri": "https://localhost:8080/",
     "height": 52
    },
    "colab_type": "code",
    "id": "U-X4misXzz6K",
    "outputId": "62fe1e6c-a6a6-4b25-e41b-92a43e4f0c3f"
   },
   "outputs": [
    {
     "name": "stdout",
     "output_type": "stream",
     "text": [
      "[nltk_data] Downloading package punkt to /root/nltk_data...\n",
      "[nltk_data]   Package punkt is already up-to-date!\n"
     ]
    }
   ],
   "source": [
    "import nltk\n",
    "from nltk import bigrams, word_tokenize\n",
    "from nltk.util import ngrams\n",
    "nltk.download('punkt')\n",
    "\n",
    "sentence = \"I am a boy.\"\n",
    "tokens = word_tokenize(sentence)\n",
    "\n",
    "bigram = bigrams(tokens)\n",
    "trigram = ngrams(tokens, 3)"
   ]
  },
  {
   "cell_type": "code",
   "execution_count": 27,
   "metadata": {
    "colab": {
     "base_uri": "https://localhost:8080/",
     "height": 87
    },
    "colab_type": "code",
    "id": "Cv-grZ4tz7gR",
    "outputId": "d145e6e3-a90d-4fce-fea8-af66e216c9a8"
   },
   "outputs": [
    {
     "name": "stdout",
     "output_type": "stream",
     "text": [
      "('I', 'am')\n",
      "('am', 'a')\n",
      "('a', 'boy')\n",
      "('boy', '.')\n"
     ]
    }
   ],
   "source": [
    "for t in bigram:\n",
    "    print(t)"
   ]
  },
  {
   "cell_type": "code",
   "execution_count": 28,
   "metadata": {
    "colab": {
     "base_uri": "https://localhost:8080/",
     "height": 70
    },
    "colab_type": "code",
    "id": "qco3k57t0HD8",
    "outputId": "a094dd9c-084a-41ae-a31f-82973fca85ea"
   },
   "outputs": [
    {
     "name": "stdout",
     "output_type": "stream",
     "text": [
      "('I', 'am', 'a')\n",
      "('am', 'a', 'boy')\n",
      "('a', 'boy', '.')\n"
     ]
    }
   ],
   "source": [
    "for t in trigram:\n",
    "    print(t)"
   ]
  },
  {
   "cell_type": "code",
   "execution_count": 29,
   "metadata": {
    "colab": {
     "base_uri": "https://localhost:8080/",
     "height": 439
    },
    "colab_type": "code",
    "id": "BD9vb0fN0XF3",
    "outputId": "35f71d31-c6a6-47e7-8f35-b48aaf1587a9"
   },
   "outputs": [
    {
     "name": "stdout",
     "output_type": "stream",
     "text": [
      "[nltk_data] Downloading package movie_reviews to /root/nltk_data...\n",
      "[nltk_data]   Unzipping corpora/movie_reviews.zip.\n",
      "[nltk_data] Downloading package punkt to /root/nltk_data...\n",
      "[nltk_data]   Package punkt is already up-to-date!\n"
     ]
    },
    {
     "data": {
      "text/plain": [
       "[('SS', 'plot'),\n",
       " ('plot', ':'),\n",
       " (':', 'two'),\n",
       " ('two', 'teen'),\n",
       " ('teen', 'couples'),\n",
       " ('couples', 'go'),\n",
       " ('go', 'to'),\n",
       " ('to', 'a'),\n",
       " ('a', 'church'),\n",
       " ('church', 'party'),\n",
       " ('party', ','),\n",
       " (',', 'drink'),\n",
       " ('drink', 'and'),\n",
       " ('and', 'then'),\n",
       " ('then', 'drive'),\n",
       " ('drive', '.'),\n",
       " ('.', 'SE'),\n",
       " ('SS', 'they'),\n",
       " ('they', 'get'),\n",
       " ('get', 'into')]"
      ]
     },
     "execution_count": 29,
     "metadata": {
      "tags": []
     },
     "output_type": "execute_result"
    }
   ],
   "source": [
    "import nltk\n",
    "nltk.download('movie_reviews')\n",
    "nltk.download('punkt')\n",
    "from nltk.corpus import movie_reviews\n",
    "\n",
    "sentences = []\n",
    "for tokens in movie_reviews.sents():\n",
    "    bigram = ngrams(tokens, 2, pad_left=True, pad_right=True, left_pad_symbol=\"SS\", right_pad_symbol=\"SE\")\n",
    "    sentences += [t for t in bigram]\n",
    "\n",
    "sentences[:20]"
   ]
  },
  {
   "cell_type": "markdown",
   "metadata": {
    "colab_type": "text",
    "id": "lYoJ_zN4BqtH"
   },
   "source": [
    "# 3 TDM(Term-Document Matrix)"
   ]
  },
  {
   "cell_type": "code",
   "execution_count": 0,
   "metadata": {
    "colab": {},
    "colab_type": "code",
    "id": "MM4_XrUuDB6X"
   },
   "outputs": [],
   "source": [
    "d1 = '오늘 동물원에서 원숭이를 봤어'\n",
    "d2 = '오늘 동물원에서 코끼리를 봤어 봤어'\n",
    "d3 = '동물원에서 원숭이에게 바나나를 줬어 바나나를'\n",
    "\n",
    "document_ls = [d1, d2, d3]"
   ]
  },
  {
   "cell_type": "markdown",
   "metadata": {
    "colab_type": "text",
    "id": "wOrXXr7rDaF8"
   },
   "source": [
    "### 1) 띄어쓰기 단위 토큰화"
   ]
  },
  {
   "cell_type": "code",
   "execution_count": 31,
   "metadata": {
    "colab": {
     "base_uri": "https://localhost:8080/",
     "height": 70
    },
    "colab_type": "code",
    "id": "LmbeAkHUDg7S",
    "outputId": "3a781687-7b92-4d9b-e379-dff492b6e8e6"
   },
   "outputs": [
    {
     "data": {
      "text/plain": [
       "[['오늘', '동물원에서', '원숭이를', '봤어'],\n",
       " ['오늘', '동물원에서', '코끼리를', '봤어', '봤어'],\n",
       " ['동물원에서', '원숭이에게', '바나나를', '줬어', '바나나를']]"
      ]
     },
     "execution_count": 31,
     "metadata": {
      "tags": []
     },
     "output_type": "execute_result"
    }
   ],
   "source": [
    "document_ls = [document.split() for document in document_ls]\n",
    "document_ls"
   ]
  },
  {
   "cell_type": "markdown",
   "metadata": {
    "colab_type": "text",
    "id": "vTaZTIRQDxX1"
   },
   "source": [
    "### 2) 각 고유 토큰에 인덱스(Index) 지정"
   ]
  },
  {
   "cell_type": "code",
   "execution_count": 0,
   "metadata": {
    "colab": {},
    "colab_type": "code",
    "id": "xYovrqPZEM8o"
   },
   "outputs": [],
   "source": [
    "from collections import defaultdict\n",
    "\n",
    "token_dict = defaultdict(lambda : len(token_dict))\n",
    "\n",
    "for document in document_ls:\n",
    "    for token in document:\n",
    "        token_dict[token]"
   ]
  },
  {
   "cell_type": "code",
   "execution_count": 33,
   "metadata": {
    "colab": {
     "base_uri": "https://localhost:8080/",
     "height": 175
    },
    "colab_type": "code",
    "id": "9wMReALjERqj",
    "outputId": "f9738b4f-449d-4ded-95f4-635311089a2f"
   },
   "outputs": [
    {
     "data": {
      "text/plain": [
       "defaultdict(<function __main__.<lambda>>,\n",
       "            {'동물원에서': 1,\n",
       "             '바나나를': 6,\n",
       "             '봤어': 3,\n",
       "             '오늘': 0,\n",
       "             '원숭이를': 2,\n",
       "             '원숭이에게': 5,\n",
       "             '줬어': 7,\n",
       "             '코끼리를': 4})"
      ]
     },
     "execution_count": 33,
     "metadata": {
      "tags": []
     },
     "output_type": "execute_result"
    }
   ],
   "source": [
    "token_dict"
   ]
  },
  {
   "cell_type": "markdown",
   "metadata": {
    "colab_type": "text",
    "id": "HzPojRQGD4JK"
   },
   "source": [
    "### 3) 토큰 인덱스 정렬"
   ]
  },
  {
   "cell_type": "code",
   "execution_count": 34,
   "metadata": {
    "colab": {
     "base_uri": "https://localhost:8080/",
     "height": 158
    },
    "colab_type": "code",
    "id": "ECUzO8llEWu8",
    "outputId": "d9294155-2964-48cf-cc39-89eea42b1423"
   },
   "outputs": [
    {
     "data": {
      "text/plain": [
       "[(0, '오늘'),\n",
       " (1, '동물원에서'),\n",
       " (2, '원숭이를'),\n",
       " (3, '봤어'),\n",
       " (4, '코끼리를'),\n",
       " (5, '원숭이에게'),\n",
       " (6, '바나나를'),\n",
       " (7, '줬어')]"
      ]
     },
     "execution_count": 34,
     "metadata": {
      "tags": []
     },
     "output_type": "execute_result"
    }
   ],
   "source": [
    "index_token_ls = sorted((value, key) for key, value in token_dict.items())\n",
    "index_token_ls"
   ]
  },
  {
   "cell_type": "code",
   "execution_count": 35,
   "metadata": {
    "colab": {
     "base_uri": "https://localhost:8080/",
     "height": 34
    },
    "colab_type": "code",
    "id": "dnQ5W2ZgEnbQ",
    "outputId": "a5094071-ee63-4fda-81af-e74f4f468320"
   },
   "outputs": [
    {
     "data": {
      "text/plain": [
       "['오늘', '동물원에서', '원숭이를', '봤어', '코끼리를', '원숭이에게', '바나나를', '줬어']"
      ]
     },
     "execution_count": 35,
     "metadata": {
      "tags": []
     },
     "output_type": "execute_result"
    }
   ],
   "source": [
    "token_in_order = [tup[1] for tup in index_token_ls]\n",
    "token_in_order"
   ]
  },
  {
   "cell_type": "markdown",
   "metadata": {
    "colab_type": "text",
    "id": "XNTLjC_7D6vv"
   },
   "source": [
    "### 4) 빈(empty) TDM 생성"
   ]
  },
  {
   "cell_type": "code",
   "execution_count": 0,
   "metadata": {
    "colab": {},
    "colab_type": "code",
    "id": "k6X4h6SNEa7a"
   },
   "outputs": [],
   "source": [
    "import pandas as pd\n",
    "import numpy as np\n",
    "\n",
    "n_words = len(token_dict) # 전체 고유 토큰의 수\n",
    "n_document = len(document_ls) # 전체 문서의 수\n",
    "\n",
    "TDM = pd.DataFrame(\n",
    "    np.zeros((n_document, n_words)),\n",
    "    columns = token_in_order,\n",
    "    index = ['문서_1', '문서_2', '문서_3'],\n",
    "    dtype = int,\n",
    ")"
   ]
  },
  {
   "cell_type": "code",
   "execution_count": 37,
   "metadata": {
    "colab": {
     "base_uri": "https://localhost:8080/",
     "height": 136
    },
    "colab_type": "code",
    "id": "mCZGq2fhEx75",
    "outputId": "9877d1e3-6729-4361-c344-9c03f8716eba"
   },
   "outputs": [
    {
     "data": {
      "text/html": [
       "<div>\n",
       "<style scoped>\n",
       "    .dataframe tbody tr th:only-of-type {\n",
       "        vertical-align: middle;\n",
       "    }\n",
       "\n",
       "    .dataframe tbody tr th {\n",
       "        vertical-align: top;\n",
       "    }\n",
       "\n",
       "    .dataframe thead th {\n",
       "        text-align: right;\n",
       "    }\n",
       "</style>\n",
       "<table border=\"1\" class=\"dataframe\">\n",
       "  <thead>\n",
       "    <tr style=\"text-align: right;\">\n",
       "      <th></th>\n",
       "      <th>오늘</th>\n",
       "      <th>동물원에서</th>\n",
       "      <th>원숭이를</th>\n",
       "      <th>봤어</th>\n",
       "      <th>코끼리를</th>\n",
       "      <th>원숭이에게</th>\n",
       "      <th>바나나를</th>\n",
       "      <th>줬어</th>\n",
       "    </tr>\n",
       "  </thead>\n",
       "  <tbody>\n",
       "    <tr>\n",
       "      <th>문서_1</th>\n",
       "      <td>0</td>\n",
       "      <td>0</td>\n",
       "      <td>0</td>\n",
       "      <td>0</td>\n",
       "      <td>0</td>\n",
       "      <td>0</td>\n",
       "      <td>0</td>\n",
       "      <td>0</td>\n",
       "    </tr>\n",
       "    <tr>\n",
       "      <th>문서_2</th>\n",
       "      <td>0</td>\n",
       "      <td>0</td>\n",
       "      <td>0</td>\n",
       "      <td>0</td>\n",
       "      <td>0</td>\n",
       "      <td>0</td>\n",
       "      <td>0</td>\n",
       "      <td>0</td>\n",
       "    </tr>\n",
       "    <tr>\n",
       "      <th>문서_3</th>\n",
       "      <td>0</td>\n",
       "      <td>0</td>\n",
       "      <td>0</td>\n",
       "      <td>0</td>\n",
       "      <td>0</td>\n",
       "      <td>0</td>\n",
       "      <td>0</td>\n",
       "      <td>0</td>\n",
       "    </tr>\n",
       "  </tbody>\n",
       "</table>\n",
       "</div>"
      ],
      "text/plain": [
       "      오늘  동물원에서  원숭이를  봤어  코끼리를  원숭이에게  바나나를  줬어\n",
       "문서_1   0      0     0   0     0      0     0   0\n",
       "문서_2   0      0     0   0     0      0     0   0\n",
       "문서_3   0      0     0   0     0      0     0   0"
      ]
     },
     "execution_count": 37,
     "metadata": {
      "tags": []
     },
     "output_type": "execute_result"
    }
   ],
   "source": [
    "TDM"
   ]
  },
  {
   "cell_type": "markdown",
   "metadata": {
    "colab_type": "text",
    "id": "Ja1HqdptD_a_"
   },
   "source": [
    "### 5) 각 토큰을 TDM에 담는다"
   ]
  },
  {
   "cell_type": "code",
   "execution_count": 0,
   "metadata": {
    "colab": {},
    "colab_type": "code",
    "id": "X6USVYHcE1of"
   },
   "outputs": [],
   "source": [
    "for i, document in enumerate(document_ls):\n",
    "    for token in document:\n",
    "        \n",
    "        token_location = token_dict[token] # 해당 토큰의 위치(column)\n",
    "        TDM.iloc[i, token_location] += 1"
   ]
  },
  {
   "cell_type": "code",
   "execution_count": 39,
   "metadata": {
    "colab": {
     "base_uri": "https://localhost:8080/",
     "height": 136
    },
    "colab_type": "code",
    "id": "qBQyD7NvE8vT",
    "outputId": "aecd74a9-9ae7-45f0-dd67-223acb9d4b1b"
   },
   "outputs": [
    {
     "data": {
      "text/html": [
       "<div>\n",
       "<style scoped>\n",
       "    .dataframe tbody tr th:only-of-type {\n",
       "        vertical-align: middle;\n",
       "    }\n",
       "\n",
       "    .dataframe tbody tr th {\n",
       "        vertical-align: top;\n",
       "    }\n",
       "\n",
       "    .dataframe thead th {\n",
       "        text-align: right;\n",
       "    }\n",
       "</style>\n",
       "<table border=\"1\" class=\"dataframe\">\n",
       "  <thead>\n",
       "    <tr style=\"text-align: right;\">\n",
       "      <th></th>\n",
       "      <th>오늘</th>\n",
       "      <th>동물원에서</th>\n",
       "      <th>원숭이를</th>\n",
       "      <th>봤어</th>\n",
       "      <th>코끼리를</th>\n",
       "      <th>원숭이에게</th>\n",
       "      <th>바나나를</th>\n",
       "      <th>줬어</th>\n",
       "    </tr>\n",
       "  </thead>\n",
       "  <tbody>\n",
       "    <tr>\n",
       "      <th>문서_1</th>\n",
       "      <td>1</td>\n",
       "      <td>1</td>\n",
       "      <td>1</td>\n",
       "      <td>1</td>\n",
       "      <td>0</td>\n",
       "      <td>0</td>\n",
       "      <td>0</td>\n",
       "      <td>0</td>\n",
       "    </tr>\n",
       "    <tr>\n",
       "      <th>문서_2</th>\n",
       "      <td>1</td>\n",
       "      <td>1</td>\n",
       "      <td>0</td>\n",
       "      <td>2</td>\n",
       "      <td>1</td>\n",
       "      <td>0</td>\n",
       "      <td>0</td>\n",
       "      <td>0</td>\n",
       "    </tr>\n",
       "    <tr>\n",
       "      <th>문서_3</th>\n",
       "      <td>0</td>\n",
       "      <td>1</td>\n",
       "      <td>0</td>\n",
       "      <td>0</td>\n",
       "      <td>0</td>\n",
       "      <td>1</td>\n",
       "      <td>2</td>\n",
       "      <td>1</td>\n",
       "    </tr>\n",
       "  </tbody>\n",
       "</table>\n",
       "</div>"
      ],
      "text/plain": [
       "      오늘  동물원에서  원숭이를  봤어  코끼리를  원숭이에게  바나나를  줬어\n",
       "문서_1   1      1     1   1     0      0     0   0\n",
       "문서_2   1      1     0   2     1      0     0   0\n",
       "문서_3   0      1     0   0     0      1     2   1"
      ]
     },
     "execution_count": 39,
     "metadata": {
      "tags": []
     },
     "output_type": "execute_result"
    }
   ],
   "source": [
    "TDM"
   ]
  },
  {
   "cell_type": "markdown",
   "metadata": {
    "colab_type": "text",
    "id": "TmnWDmSpBwBZ"
   },
   "source": [
    "# 4 TF-IDF (Term Frequency-Inverse Document Frequency)"
   ]
  },
  {
   "cell_type": "markdown",
   "metadata": {
    "colab_type": "text",
    "id": "NjKCX0atD4rM"
   },
   "source": [
    "<img src=\"https://wikimedia.org/api/rest_v1/media/math/render/svg/10109d0e60cc9d50a1ea2f189bac0ac29a030a00\" />\n",
    "\n",
    "\n",
    "\n",
    "*  TF(단어 빈도, Term Frequency) : 단어가 문서 내에 등장하는 빈도\n",
    "*  IDF(역문서 빈도, Inverse Document Frequency) : 단어가 여러 문서에 공통적으로 등장하는 빈도\n",
    "*  한 문서 내에 자주 등장하고 다른 문서에 자주 등장하지 않는 단어를 주요 단어로 판별할 수 있음\n",
    "\n",
    "\n",
    "\n",
    "\n",
    "<img src=\"https://upload.wikimedia.org/wikipedia/commons/thumb/8/81/Logarithm_plots.png/300px-Logarithm_plots.png\" />\n",
    "\n",
    "https://en.wikipedia.org/wiki/Tf%E2%80%93idf"
   ]
  },
  {
   "cell_type": "code",
   "execution_count": 0,
   "metadata": {
    "colab": {},
    "colab_type": "code",
    "id": "WNKTLfkAHdJv"
   },
   "outputs": [],
   "source": [
    "d1 = \"The cat sat on my face I hate a cat\"\n",
    "d2 = \"The dog sat on my bed I love a dog\" "
   ]
  },
  {
   "cell_type": "markdown",
   "metadata": {
    "colab_type": "text",
    "id": "PQLa8GJWKYqU"
   },
   "source": [
    "## 3.1 직접계산하기 1"
   ]
  },
  {
   "cell_type": "markdown",
   "metadata": {
    "colab_type": "text",
    "id": "KEiBvluT9vIJ"
   },
   "source": [
    "weighting schema|weight\n",
    "--|--\n",
    "tf (term frequency)|<img src=\"https://wikimedia.org/api/rest_v1/media/math/render/svg/91699003abf4fe8bdf861bbce08e73e71acf5fd4\" />\n",
    "idf(inverse document frequency) |<img src=\"https://wikimedia.org/api/rest_v1/media/math/render/svg/864fcfdc0c16344c11509f724f1aa7081cf9f657\" />"
   ]
  },
  {
   "cell_type": "markdown",
   "metadata": {
    "colab_type": "text",
    "id": "1bptdTrtIOIe"
   },
   "source": [
    "### 1) 띄어쓰기 단위 토큰화"
   ]
  },
  {
   "cell_type": "code",
   "execution_count": 0,
   "metadata": {
    "colab": {},
    "colab_type": "code",
    "id": "iZ4GIQWVHdJ0"
   },
   "outputs": [],
   "source": [
    "bowA = d1.split()\n",
    "bowB = d2.split()"
   ]
  },
  {
   "cell_type": "code",
   "execution_count": 42,
   "metadata": {
    "colab": {
     "base_uri": "https://localhost:8080/",
     "height": 34
    },
    "colab_type": "code",
    "id": "s2ZAERDwHdJ4",
    "outputId": "c92851bb-0f41-4c0b-bfd4-f16ee4b45fc5"
   },
   "outputs": [
    {
     "data": {
      "text/plain": [
       "['The', 'dog', 'sat', 'on', 'my', 'bed', 'I', 'love', 'a', 'dog']"
      ]
     },
     "execution_count": 42,
     "metadata": {
      "tags": []
     },
     "output_type": "execute_result"
    }
   ],
   "source": [
    "bowB"
   ]
  },
  {
   "cell_type": "markdown",
   "metadata": {
    "colab_type": "text",
    "id": "QECQCCBvKENE"
   },
   "source": [
    "### 2) TDM 생성"
   ]
  },
  {
   "cell_type": "code",
   "execution_count": 0,
   "metadata": {
    "colab": {},
    "colab_type": "code",
    "id": "UsBl-oP6HdJ-"
   },
   "outputs": [],
   "source": [
    "wordSet = set(bowA).union(set(bowB))"
   ]
  },
  {
   "cell_type": "code",
   "execution_count": 44,
   "metadata": {
    "colab": {
     "base_uri": "https://localhost:8080/",
     "height": 228
    },
    "colab_type": "code",
    "id": "a6OUO08sHdKA",
    "outputId": "e04cbbae-1e17-4b96-8dc4-670a784c9d9b"
   },
   "outputs": [
    {
     "data": {
      "text/plain": [
       "{'I',\n",
       " 'The',\n",
       " 'a',\n",
       " 'bed',\n",
       " 'cat',\n",
       " 'dog',\n",
       " 'face',\n",
       " 'hate',\n",
       " 'love',\n",
       " 'my',\n",
       " 'on',\n",
       " 'sat'}"
      ]
     },
     "execution_count": 44,
     "metadata": {
      "tags": []
     },
     "output_type": "execute_result"
    }
   ],
   "source": [
    "wordSet"
   ]
  },
  {
   "cell_type": "code",
   "execution_count": 0,
   "metadata": {
    "colab": {},
    "colab_type": "code",
    "id": "_IcpIlc5HdKE"
   },
   "outputs": [],
   "source": [
    "wordDictA = dict.fromkeys(wordSet, 0) \n",
    "wordDictB = dict.fromkeys(wordSet, 0) "
   ]
  },
  {
   "cell_type": "code",
   "execution_count": 46,
   "metadata": {
    "colab": {
     "base_uri": "https://localhost:8080/",
     "height": 228
    },
    "colab_type": "code",
    "id": "XhBzZzriHdKH",
    "outputId": "428139a3-6bb6-4fda-c4dc-0628179023d1"
   },
   "outputs": [
    {
     "data": {
      "text/plain": [
       "{'I': 0,\n",
       " 'The': 0,\n",
       " 'a': 0,\n",
       " 'bed': 0,\n",
       " 'cat': 0,\n",
       " 'dog': 0,\n",
       " 'face': 0,\n",
       " 'hate': 0,\n",
       " 'love': 0,\n",
       " 'my': 0,\n",
       " 'on': 0,\n",
       " 'sat': 0}"
      ]
     },
     "execution_count": 46,
     "metadata": {
      "tags": []
     },
     "output_type": "execute_result"
    }
   ],
   "source": [
    "wordDictA"
   ]
  },
  {
   "cell_type": "code",
   "execution_count": 0,
   "metadata": {
    "colab": {},
    "colab_type": "code",
    "id": "BauIgbePHdKK"
   },
   "outputs": [],
   "source": [
    "for word in bowA:\n",
    "    wordDictA[word]+=1\n",
    "    \n",
    "for word in bowB:\n",
    "    wordDictB[word]+=1"
   ]
  },
  {
   "cell_type": "code",
   "execution_count": 48,
   "metadata": {
    "colab": {
     "base_uri": "https://localhost:8080/",
     "height": 228
    },
    "colab_type": "code",
    "id": "iEBYiLMyHdKN",
    "outputId": "75b5c5f5-ef89-463b-faee-0186733b4428"
   },
   "outputs": [
    {
     "data": {
      "text/plain": [
       "{'I': 1,\n",
       " 'The': 1,\n",
       " 'a': 1,\n",
       " 'bed': 0,\n",
       " 'cat': 2,\n",
       " 'dog': 0,\n",
       " 'face': 1,\n",
       " 'hate': 1,\n",
       " 'love': 0,\n",
       " 'my': 1,\n",
       " 'on': 1,\n",
       " 'sat': 1}"
      ]
     },
     "execution_count": 48,
     "metadata": {
      "tags": []
     },
     "output_type": "execute_result"
    }
   ],
   "source": [
    "wordDictA"
   ]
  },
  {
   "cell_type": "code",
   "execution_count": 49,
   "metadata": {
    "colab": {
     "base_uri": "https://localhost:8080/",
     "height": 106
    },
    "colab_type": "code",
    "id": "qv0LtT2bHdKQ",
    "outputId": "8f61ecc7-8f13-446d-e23d-1d233a0d8682"
   },
   "outputs": [
    {
     "data": {
      "text/html": [
       "<div>\n",
       "<style scoped>\n",
       "    .dataframe tbody tr th:only-of-type {\n",
       "        vertical-align: middle;\n",
       "    }\n",
       "\n",
       "    .dataframe tbody tr th {\n",
       "        vertical-align: top;\n",
       "    }\n",
       "\n",
       "    .dataframe thead th {\n",
       "        text-align: right;\n",
       "    }\n",
       "</style>\n",
       "<table border=\"1\" class=\"dataframe\">\n",
       "  <thead>\n",
       "    <tr style=\"text-align: right;\">\n",
       "      <th></th>\n",
       "      <th>I</th>\n",
       "      <th>The</th>\n",
       "      <th>a</th>\n",
       "      <th>bed</th>\n",
       "      <th>cat</th>\n",
       "      <th>dog</th>\n",
       "      <th>face</th>\n",
       "      <th>hate</th>\n",
       "      <th>love</th>\n",
       "      <th>my</th>\n",
       "      <th>on</th>\n",
       "      <th>sat</th>\n",
       "    </tr>\n",
       "  </thead>\n",
       "  <tbody>\n",
       "    <tr>\n",
       "      <th>0</th>\n",
       "      <td>1</td>\n",
       "      <td>1</td>\n",
       "      <td>1</td>\n",
       "      <td>0</td>\n",
       "      <td>2</td>\n",
       "      <td>0</td>\n",
       "      <td>1</td>\n",
       "      <td>1</td>\n",
       "      <td>0</td>\n",
       "      <td>1</td>\n",
       "      <td>1</td>\n",
       "      <td>1</td>\n",
       "    </tr>\n",
       "    <tr>\n",
       "      <th>1</th>\n",
       "      <td>1</td>\n",
       "      <td>1</td>\n",
       "      <td>1</td>\n",
       "      <td>1</td>\n",
       "      <td>0</td>\n",
       "      <td>2</td>\n",
       "      <td>0</td>\n",
       "      <td>0</td>\n",
       "      <td>1</td>\n",
       "      <td>1</td>\n",
       "      <td>1</td>\n",
       "      <td>1</td>\n",
       "    </tr>\n",
       "  </tbody>\n",
       "</table>\n",
       "</div>"
      ],
      "text/plain": [
       "   I  The  a  bed  cat  dog  face  hate  love  my  on  sat\n",
       "0  1    1  1    0    2    0     1     1     0   1   1    1\n",
       "1  1    1  1    1    0    2     0     0     1   1   1    1"
      ]
     },
     "execution_count": 49,
     "metadata": {
      "tags": []
     },
     "output_type": "execute_result"
    }
   ],
   "source": [
    "import pandas as pd\n",
    "pd.DataFrame([wordDictA, wordDictB])"
   ]
  },
  {
   "cell_type": "markdown",
   "metadata": {
    "colab_type": "text",
    "id": "1CwtCbPpKInm"
   },
   "source": [
    "### 3) TF 계산"
   ]
  },
  {
   "cell_type": "markdown",
   "metadata": {
    "colab_type": "text",
    "id": "IoIAj3Tl88da"
   },
   "source": [
    "<img src=\"https://wikimedia.org/api/rest_v1/media/math/render/svg/91699003abf4fe8bdf861bbce08e73e71acf5fd4\" />\n",
    "\n",
    "TF = 토크빈도/전체토큰갯수"
   ]
  },
  {
   "cell_type": "code",
   "execution_count": 0,
   "metadata": {
    "colab": {},
    "colab_type": "code",
    "id": "aXLKyRuLHdKe"
   },
   "outputs": [],
   "source": [
    "def computeTF(wordDict, bow):\n",
    "    tfDict = {}\n",
    "    bowCount = len(bow)\n",
    "    for word, count in wordDict.items():\n",
    "        tfDict[word] = count/float(bowCount)\n",
    "    return tfDict"
   ]
  },
  {
   "cell_type": "code",
   "execution_count": 0,
   "metadata": {
    "colab": {},
    "colab_type": "code",
    "id": "-o2zYkK3HdKp"
   },
   "outputs": [],
   "source": [
    "tfBowA = computeTF(wordDictA, bowA)\n",
    "tfBowB = computeTF(wordDictB, bowB)"
   ]
  },
  {
   "cell_type": "code",
   "execution_count": 52,
   "metadata": {
    "colab": {
     "base_uri": "https://localhost:8080/",
     "height": 228
    },
    "colab_type": "code",
    "id": "Fd3wWC8lHdKr",
    "outputId": "a99df223-66c3-47d7-91cb-0eed985459e5"
   },
   "outputs": [
    {
     "data": {
      "text/plain": [
       "{'I': 0.1,\n",
       " 'The': 0.1,\n",
       " 'a': 0.1,\n",
       " 'bed': 0.0,\n",
       " 'cat': 0.2,\n",
       " 'dog': 0.0,\n",
       " 'face': 0.1,\n",
       " 'hate': 0.1,\n",
       " 'love': 0.0,\n",
       " 'my': 0.1,\n",
       " 'on': 0.1,\n",
       " 'sat': 0.1}"
      ]
     },
     "execution_count": 52,
     "metadata": {
      "tags": []
     },
     "output_type": "execute_result"
    }
   ],
   "source": [
    "tfBowA"
   ]
  },
  {
   "cell_type": "code",
   "execution_count": 53,
   "metadata": {
    "colab": {
     "base_uri": "https://localhost:8080/",
     "height": 228
    },
    "colab_type": "code",
    "id": "ZZx4IAUFHdKu",
    "outputId": "6ecbf186-a8f7-45a6-900d-cd908e739d28"
   },
   "outputs": [
    {
     "data": {
      "text/plain": [
       "{'I': 0.1,\n",
       " 'The': 0.1,\n",
       " 'a': 0.1,\n",
       " 'bed': 0.1,\n",
       " 'cat': 0.0,\n",
       " 'dog': 0.2,\n",
       " 'face': 0.0,\n",
       " 'hate': 0.0,\n",
       " 'love': 0.1,\n",
       " 'my': 0.1,\n",
       " 'on': 0.1,\n",
       " 'sat': 0.1}"
      ]
     },
     "execution_count": 53,
     "metadata": {
      "tags": []
     },
     "output_type": "execute_result"
    }
   ],
   "source": [
    "tfBowB"
   ]
  },
  {
   "cell_type": "markdown",
   "metadata": {
    "colab_type": "text",
    "id": "cWtq-XvuKO5H"
   },
   "source": [
    "### 4) IDF  계산"
   ]
  },
  {
   "cell_type": "markdown",
   "metadata": {
    "colab_type": "text",
    "id": "Ve7FkpIi9UVf"
   },
   "source": [
    "<img src=\"https://wikimedia.org/api/rest_v1/media/math/render/svg/864fcfdc0c16344c11509f724f1aa7081cf9f657\" />\n",
    "\n",
    "IDF = log(문서수/토큰빈도수)"
   ]
  },
  {
   "cell_type": "code",
   "execution_count": 0,
   "metadata": {
    "colab": {},
    "colab_type": "code",
    "id": "-4SS2ol1HdKz"
   },
   "outputs": [],
   "source": [
    "def computeIDF(docList):\n",
    "    import math\n",
    "    idfDict = {}\n",
    "    N = len(docList)\n",
    "    \n",
    "    idfDict = dict.fromkeys(docList[0].keys(), 0)\n",
    "    for doc in docList:\n",
    "        for word, val in doc.items():\n",
    "            if val > 0:\n",
    "                idfDict[word] += 1\n",
    "    \n",
    "    for word, val in idfDict.items():\n",
    "        idfDict[word] = math.log10(N / float(val))\n",
    "        \n",
    "    return idfDict    "
   ]
  },
  {
   "cell_type": "code",
   "execution_count": 0,
   "metadata": {
    "colab": {},
    "colab_type": "code",
    "id": "8IItDkbrHdK2"
   },
   "outputs": [],
   "source": [
    "idfs = computeIDF([wordDictA, wordDictB])"
   ]
  },
  {
   "cell_type": "markdown",
   "metadata": {
    "colab_type": "text",
    "id": "hBvQxDBcKS60"
   },
   "source": [
    "### 5) TF-IDF 계산"
   ]
  },
  {
   "cell_type": "code",
   "execution_count": 0,
   "metadata": {
    "colab": {},
    "colab_type": "code",
    "id": "cL4oRjrrHdLG"
   },
   "outputs": [],
   "source": [
    "def computeTFIDF(tfBow, idfs):\n",
    "    tfidf = {}\n",
    "    for word, val in tfBow.items():\n",
    "        tfidf[word] = val*idfs[word]\n",
    "    return tfidf\n",
    "    "
   ]
  },
  {
   "cell_type": "code",
   "execution_count": 0,
   "metadata": {
    "colab": {},
    "colab_type": "code",
    "id": "xumPZQmNHdLI"
   },
   "outputs": [],
   "source": [
    "tfidfBowA = computeTFIDF(tfBowA, idfs)\n",
    "tfidfBowB = computeTFIDF(tfBowB, idfs)"
   ]
  },
  {
   "cell_type": "code",
   "execution_count": 58,
   "metadata": {
    "colab": {
     "base_uri": "https://localhost:8080/",
     "height": 106
    },
    "colab_type": "code",
    "id": "4Ncmyd8hHdLJ",
    "outputId": "daae7c4d-e06c-4c7d-f4d5-fc3c3fb7ad22"
   },
   "outputs": [
    {
     "data": {
      "text/html": [
       "<div>\n",
       "<style scoped>\n",
       "    .dataframe tbody tr th:only-of-type {\n",
       "        vertical-align: middle;\n",
       "    }\n",
       "\n",
       "    .dataframe tbody tr th {\n",
       "        vertical-align: top;\n",
       "    }\n",
       "\n",
       "    .dataframe thead th {\n",
       "        text-align: right;\n",
       "    }\n",
       "</style>\n",
       "<table border=\"1\" class=\"dataframe\">\n",
       "  <thead>\n",
       "    <tr style=\"text-align: right;\">\n",
       "      <th></th>\n",
       "      <th>I</th>\n",
       "      <th>The</th>\n",
       "      <th>a</th>\n",
       "      <th>bed</th>\n",
       "      <th>cat</th>\n",
       "      <th>dog</th>\n",
       "      <th>face</th>\n",
       "      <th>hate</th>\n",
       "      <th>love</th>\n",
       "      <th>my</th>\n",
       "      <th>on</th>\n",
       "      <th>sat</th>\n",
       "    </tr>\n",
       "  </thead>\n",
       "  <tbody>\n",
       "    <tr>\n",
       "      <th>0</th>\n",
       "      <td>0.0</td>\n",
       "      <td>0.0</td>\n",
       "      <td>0.0</td>\n",
       "      <td>0.000000</td>\n",
       "      <td>0.060206</td>\n",
       "      <td>0.000000</td>\n",
       "      <td>0.030103</td>\n",
       "      <td>0.030103</td>\n",
       "      <td>0.000000</td>\n",
       "      <td>0.0</td>\n",
       "      <td>0.0</td>\n",
       "      <td>0.0</td>\n",
       "    </tr>\n",
       "    <tr>\n",
       "      <th>1</th>\n",
       "      <td>0.0</td>\n",
       "      <td>0.0</td>\n",
       "      <td>0.0</td>\n",
       "      <td>0.030103</td>\n",
       "      <td>0.000000</td>\n",
       "      <td>0.060206</td>\n",
       "      <td>0.000000</td>\n",
       "      <td>0.000000</td>\n",
       "      <td>0.030103</td>\n",
       "      <td>0.0</td>\n",
       "      <td>0.0</td>\n",
       "      <td>0.0</td>\n",
       "    </tr>\n",
       "  </tbody>\n",
       "</table>\n",
       "</div>"
      ],
      "text/plain": [
       "     I  The    a       bed       cat  ...      hate      love   my   on  sat\n",
       "0  0.0  0.0  0.0  0.000000  0.060206  ...  0.030103  0.000000  0.0  0.0  0.0\n",
       "1  0.0  0.0  0.0  0.030103  0.000000  ...  0.000000  0.030103  0.0  0.0  0.0\n",
       "\n",
       "[2 rows x 12 columns]"
      ]
     },
     "execution_count": 58,
     "metadata": {
      "tags": []
     },
     "output_type": "execute_result"
    }
   ],
   "source": [
    "import pandas as pd\n",
    "pd.DataFrame([tfidfBowA, tfidfBowB])"
   ]
  },
  {
   "cell_type": "code",
   "execution_count": 59,
   "metadata": {
    "colab": {
     "base_uri": "https://localhost:8080/",
     "height": 34
    },
    "colab_type": "code",
    "id": "IKCAwNHwcpLi",
    "outputId": "29fa1448-7611-4e7c-a223-4f6372d94555"
   },
   "outputs": [
    {
     "data": {
      "text/plain": [
       "'The cat sat on my face I hate a cat'"
      ]
     },
     "execution_count": 59,
     "metadata": {
      "tags": []
     },
     "output_type": "execute_result"
    }
   ],
   "source": [
    "d1"
   ]
  },
  {
   "cell_type": "code",
   "execution_count": 60,
   "metadata": {
    "colab": {
     "base_uri": "https://localhost:8080/",
     "height": 34
    },
    "colab_type": "code",
    "id": "-FAez35CdFRf",
    "outputId": "ff9e9acb-b14a-4564-8444-29aac60eeb6a"
   },
   "outputs": [
    {
     "data": {
      "text/plain": [
       "'The dog sat on my bed I love a dog'"
      ]
     },
     "execution_count": 60,
     "metadata": {
      "tags": []
     },
     "output_type": "execute_result"
    }
   ],
   "source": [
    "d2"
   ]
  },
  {
   "cell_type": "markdown",
   "metadata": {
    "colab_type": "text",
    "id": "-cwnRnyH5Ox6"
   },
   "source": [
    "## 3.2 직접계산하기2"
   ]
  },
  {
   "cell_type": "markdown",
   "metadata": {
    "colab_type": "text",
    "id": "Y8lmTqCA9ZBs"
   },
   "source": [
    "weighting schema|weight|설명\n",
    "--|--|--\n",
    "tf(double normalization 0.5)|<img src=\"https://wikimedia.org/api/rest_v1/media/math/render/svg/45badc1c70ec2caa00ed8c21ed75bd9f8d3e650c\" />|=0.5 + 0.5(토큰빈도/문서내최빈토큰)\n",
    "idf(inverse document frequency smooth)|<img src=\"https://wikimedia.org/api/rest_v1/media/math/render/svg/23e5ae785c1ddc6bd95d404ea3fac2477fff5eff\" />|=log(문서갯수/(1+토큰빈도))"
   ]
  },
  {
   "cell_type": "code",
   "execution_count": 61,
   "metadata": {
    "colab": {
     "base_uri": "https://localhost:8080/",
     "height": 107
    },
    "colab_type": "code",
    "id": "eO1kEEmceE1P",
    "outputId": "600581fd-ffb7-4907-bacb-8dfca447b2e9"
   },
   "outputs": [
    {
     "name": "stdout",
     "output_type": "stream",
     "text": [
      "====== document[0] ======\n",
      "[('The', -0.13206844429176096), ('cat', 0.0), ('sat', -0.13206844429176096), ('on', -0.13206844429176096), ('my', -0.13206844429176096), ('face', 0.0), ('I', -0.13206844429176096), ('hate', 0.0), ('a', -0.13206844429176096), ('cat', 0.0)]\n",
      "====== document[1] ======\n",
      "[('The', -0.13206844429176096), ('dog', 0.0), ('sat', -0.13206844429176096), ('on', -0.13206844429176096), ('my', -0.13206844429176096), ('bed', 0.0), ('I', -0.13206844429176096), ('love', 0.0), ('a', -0.13206844429176096), ('dog', 0.0)]\n"
     ]
    }
   ],
   "source": [
    "from math import log10\n",
    "\n",
    "# document 내 토큰이 등장한 빈도수 계산\n",
    "def f(t, d):\n",
    "    return d.count(t)\n",
    "\n",
    "# tf 계산\n",
    "def tf(t, d):\n",
    "    return 0.5 + 0.5*f(t,d)/max([f(w,d) for w in d])\n",
    "\n",
    "# idf 계산\n",
    "def idf(t, D):\n",
    "    numerator = len(D)\n",
    "    denominator = 1 + len([ True for d in D if t in d])\n",
    "    return log10(numerator/denominator)\n",
    "\n",
    "# tf-idf 계산\n",
    "def tfidf(t, d, D):\n",
    "    return tf(t,d)*idf(t, D)\n",
    "\n",
    "# 공백을 기준으로 토큰과\n",
    "def tokenizer(d):\n",
    "    return d.split()\n",
    "\n",
    "# tfidf 계산  \n",
    "def tfidfScorer(D):\n",
    "    tokenized_D = [tokenizer(d) for d in D]\n",
    "    result = []\n",
    "    for d in tokenized_D:\n",
    "        result.append([(t, tfidf(t, d, tokenized_D)) for t in d])\n",
    "    return result\n",
    "\n",
    "corpus = [d1, d2]\n",
    "\n",
    "for i, doc in enumerate(tfidfScorer(corpus)):\n",
    "    print('====== document[%d] ======' % i)\n",
    "    print(doc)"
   ]
  },
  {
   "cell_type": "markdown",
   "metadata": {
    "colab_type": "text",
    "id": "huJ0-b2bKb_8"
   },
   "source": [
    "## 3.3 sklearn 사용하여 계산하기"
   ]
  },
  {
   "cell_type": "markdown",
   "metadata": {
    "colab_type": "text",
    "id": "JqZ9ONgLpOzv"
   },
   "source": [
    "### 1) sklearn 활용 TF-IDF"
   ]
  },
  {
   "cell_type": "code",
   "execution_count": 0,
   "metadata": {
    "colab": {},
    "colab_type": "code",
    "id": "em3l3IS5kRP-"
   },
   "outputs": [],
   "source": [
    "from sklearn.feature_extraction.text import TfidfVectorizer\n",
    "from collections import defaultdict\n",
    "\n",
    "document_ls = [d1, d2, d2]\n",
    "\n",
    "vectorizer = TfidfVectorizer()\n",
    "tfidf = vectorizer.fit_transform(document_ls)\n",
    "\n",
    "word2id = defaultdict(lambda : 0)\n",
    "for idx, feature in enumerate(vectorizer.get_feature_names()):\n",
    "    word2id[feature] = idx"
   ]
  },
  {
   "cell_type": "markdown",
   "metadata": {
    "colab_type": "text",
    "id": "ESM6EqgjpUbG"
   },
   "source": [
    "### 2) dataframe으로 변환하여 출력"
   ]
  },
  {
   "cell_type": "code",
   "execution_count": 64,
   "metadata": {
    "colab": {
     "base_uri": "https://localhost:8080/",
     "height": 156
    },
    "colab_type": "code",
    "id": "Sy9QLG-NlF5N",
    "outputId": "b0371949-c652-46ac-f5bc-39e8eca28418"
   },
   "outputs": [
    {
     "data": {
      "text/html": [
       "<div>\n",
       "<style scoped>\n",
       "    .dataframe tbody tr th:only-of-type {\n",
       "        vertical-align: middle;\n",
       "    }\n",
       "\n",
       "    .dataframe tbody tr th {\n",
       "        vertical-align: top;\n",
       "    }\n",
       "\n",
       "    .dataframe thead th {\n",
       "        text-align: right;\n",
       "    }\n",
       "</style>\n",
       "<table border=\"1\" class=\"dataframe\">\n",
       "  <thead>\n",
       "    <tr style=\"text-align: right;\">\n",
       "      <th></th>\n",
       "      <th>bed</th>\n",
       "      <th>cat</th>\n",
       "      <th>dog</th>\n",
       "      <th>face</th>\n",
       "      <th>hate</th>\n",
       "      <th>love</th>\n",
       "      <th>my</th>\n",
       "      <th>on</th>\n",
       "      <th>sat</th>\n",
       "      <th>the</th>\n",
       "    </tr>\n",
       "  </thead>\n",
       "  <tbody>\n",
       "    <tr>\n",
       "      <th>0</th>\n",
       "      <td>0.000000</td>\n",
       "      <td>0.735448</td>\n",
       "      <td>0.000000</td>\n",
       "      <td>0.367724</td>\n",
       "      <td>0.367724</td>\n",
       "      <td>0.000000</td>\n",
       "      <td>0.217184</td>\n",
       "      <td>0.217184</td>\n",
       "      <td>0.217184</td>\n",
       "      <td>0.217184</td>\n",
       "    </tr>\n",
       "    <tr>\n",
       "      <th>1</th>\n",
       "      <td>0.344779</td>\n",
       "      <td>0.000000</td>\n",
       "      <td>0.689558</td>\n",
       "      <td>0.000000</td>\n",
       "      <td>0.000000</td>\n",
       "      <td>0.344779</td>\n",
       "      <td>0.267752</td>\n",
       "      <td>0.267752</td>\n",
       "      <td>0.267752</td>\n",
       "      <td>0.267752</td>\n",
       "    </tr>\n",
       "    <tr>\n",
       "      <th>2</th>\n",
       "      <td>0.344779</td>\n",
       "      <td>0.000000</td>\n",
       "      <td>0.689558</td>\n",
       "      <td>0.000000</td>\n",
       "      <td>0.000000</td>\n",
       "      <td>0.344779</td>\n",
       "      <td>0.267752</td>\n",
       "      <td>0.267752</td>\n",
       "      <td>0.267752</td>\n",
       "      <td>0.267752</td>\n",
       "    </tr>\n",
       "  </tbody>\n",
       "</table>\n",
       "</div>"
      ],
      "text/plain": [
       "        bed       cat       dog  ...        on       sat       the\n",
       "0  0.000000  0.735448  0.000000  ...  0.217184  0.217184  0.217184\n",
       "1  0.344779  0.000000  0.689558  ...  0.267752  0.267752  0.267752\n",
       "2  0.344779  0.000000  0.689558  ...  0.267752  0.267752  0.267752\n",
       "\n",
       "[3 rows x 10 columns]"
      ]
     },
     "execution_count": 64,
     "metadata": {
      "tags": []
     },
     "output_type": "execute_result"
    }
   ],
   "source": [
    "import pandas as pd\n",
    "count_vect_df = pd.DataFrame(tfidf.todense(), columns=vectorizer.get_feature_names())\n",
    "count_vect_df"
   ]
  },
  {
   "cell_type": "markdown",
   "metadata": {
    "colab_type": "text",
    "id": "uucW3BFQMUAg"
   },
   "source": [
    "\n",
    "\n",
    "---\n",
    "\n"
   ]
  }
 ],
 "metadata": {
  "colab": {
   "collapsed_sections": [],
   "include_colab_link": true,
   "name": "2_문장의 표현_Sentence Representation.ipynb",
   "provenance": [],
   "version": "0.3.2"
  },
  "kernelspec": {
   "display_name": "Python 3",
   "language": "python",
   "name": "python3"
  },
  "language_info": {
   "codemirror_mode": {
    "name": "ipython",
    "version": 3
   },
   "file_extension": ".py",
   "mimetype": "text/x-python",
   "name": "python",
   "nbconvert_exporter": "python",
   "pygments_lexer": "ipython3",
   "version": "3.6.5"
  }
 },
 "nbformat": 4,
 "nbformat_minor": 1
}
