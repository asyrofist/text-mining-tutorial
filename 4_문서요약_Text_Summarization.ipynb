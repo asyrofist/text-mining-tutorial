{
  "nbformat": 4,
  "nbformat_minor": 0,
  "metadata": {
    "colab": {
      "name": "4_문서요약_Text Summarization.ipynb",
      "version": "0.3.2",
      "provenance": [],
      "collapsed_sections": [],
      "toc_visible": true,
      "include_colab_link": true
    },
    "kernelspec": {
      "name": "python3",
      "display_name": "Python 3"
    }
  },
  "cells": [
    {
      "cell_type": "markdown",
      "metadata": {
        "id": "view-in-github",
        "colab_type": "text"
      },
      "source": [
        "<a href=\"https://colab.research.google.com/github/fininsight/text-mining-tutorial/blob/master/4_%EB%AC%B8%EC%84%9C%EC%9A%94%EC%95%BD_Text_Summarization.ipynb\" target=\"_parent\"><img src=\"https://colab.research.google.com/assets/colab-badge.svg\" alt=\"Open In Colab\"/></a>"
      ]
    },
    {
      "cell_type": "markdown",
      "metadata": {
        "id": "q1Q9mWDrgMUn",
        "colab_type": "text"
      },
      "source": [
        "# 문서 요약 (Text Summarization)"
      ]
    },
    {
      "cell_type": "code",
      "metadata": {
        "id": "oeYyuqvEi58W",
        "colab_type": "code",
        "colab": {}
      },
      "source": [
        "#https://www.businessinsider.sg/faang-stocks-are-a-dead-trade-for-the-next-several-months-2018-3/amp/\n",
        "\n",
        "Text = \"The FAANG stocks won’t see much more growth in the near future, according to Bill Studebaker, founder and Chief Investment Officer of Robo Global. \\\n",
        "Studebaker argues we are seeing a 'reallocation' that will continue from large-cap tech stocks into market-weight stocks. \\\n",
        "The FAANG stocks have had a rough few weeks, and have been hit hard since March 12. \\\n",
        "One FAANG to look out for, in the midst of all this, is Amazon, according to Studebaker. \\\n",
        "The stock market is seeing a 'reallocation' out of FAANG stocks, which are not where the smart money is, founder and Chief Investment Officer of Robo Global Bill Studebaker told Business Insider. \\\n",
        "The FAANG stocks (Facebook, Apple, Amazon, Netflix, Google) are all down considerably since March 12, a trend that accelerated when news of a massive Facebook data scandal broke, sending the tech-heavy Nasdaq into a downward frenzy. \\\n",
        "Investors are wondering what’s next. \\\n",
        "And what’s next isn’t good news for FAANG stock optimists, Studebaker thinks. 'This is a dead trade' for the next several months, he said. 'I wouldn’t expect there to be a lot of performance attribution coming from the FAANG stocks,' he added. That is, if the stock market is to see gains in the next several months, they will largely not come from the big tech companies. \\\n",
        "The market is seeing a 'reallocation out of large-cap technology, into other parts of the market,' he said. And this trend could continue for the foreseeable future. 'When you get these reallocation trades, a de-risking, this can go on for months and months.' The FAANG’s are pricey stocks, he said, pointing out that investors will 'factor in the law of big numbers,' he said. 'Just because they’re big cap doesn’t mean they’re safe,' he added. \\\n",
        "Still, he doesn’t necessarily think that investors are going to shift drastically into value stocks. 'With an increasingly favorable macro backdrop, you have strong growth demand.' \\\n",
        "Studebaker, who runs an artificial intelligence and robotics exchange-traded fund with $4 billion in assets under management, thinks that AI and robotics are better areas of growth. His ETF is up 27% in the past year, while the FAANG stocks are also largely up over that same span, even if they are down since March 12. \\\n",
        "While many point to artificial intelligence as an area that will be a boost to Google and Amazon, Studebaker doesn’t see that as a sign of significant growth for the FAANGs. He pointed out that 'eighty to ninety percent of their businesses are still search,' and that 'AI doesn’t really move the needle on the business.' He also said 'the revenue mix [attributable to AI] in those businesses are insignificant.' \\\n",
        "And while he’s not bullish on FAANG’s, he does say that the one FAANG to still watch out for is Amazon, simply because ecommerce still represents a small portion of the global retail market, giving the company room to grow.\" "
      ],
      "execution_count": 0,
      "outputs": []
    },
    {
      "cell_type": "markdown",
      "metadata": {
        "id": "xUOOmfhngBnb",
        "colab_type": "text"
      },
      "source": [
        "# 1 Textrank"
      ]
    },
    {
      "cell_type": "markdown",
      "metadata": {
        "id": "D2cG-zDxW0aW",
        "colab_type": "text"
      },
      "source": [
        "![대체 텍스트](https://www.researchgate.net/profile/Khushboo_Thakkar3/publication/232645575/figure/fig1/AS:575720050573312@1514273764062/Sample-graph-build-for-sentence-extraction.png)"
      ]
    },
    {
      "cell_type": "markdown",
      "metadata": {
        "id": "R-wrC-1D_a0V",
        "colab_type": "text"
      },
      "source": [
        "## 1.1 TextRank 직접 구현하기 (Matrix 활용)"
      ]
    },
    {
      "cell_type": "code",
      "metadata": {
        "id": "jlOhA83gBcFG",
        "colab_type": "code",
        "colab": {
          "base_uri": "https://localhost:8080/",
          "height": 53
        },
        "outputId": "e475ffcd-8295-494f-b677-34e0ee6269c4"
      },
      "source": [
        "import nltk\n",
        "nltk.download('punkt')\n",
        "from nltk.tokenize import sent_tokenize\n",
        "import numpy as np\n",
        "import re\n",
        "from operator import itemgetter"
      ],
      "execution_count": 27,
      "outputs": [
        {
          "output_type": "stream",
          "text": [
            "[nltk_data] Downloading package punkt to /root/nltk_data...\n",
            "[nltk_data]   Package punkt is already up-to-date!\n"
          ],
          "name": "stdout"
        }
      ]
    },
    {
      "cell_type": "code",
      "metadata": {
        "id": "u5uS2EJPBvn5",
        "colab_type": "code",
        "colab": {
          "base_uri": "https://localhost:8080/",
          "height": 35
        },
        "outputId": "46c44fbb-5ff6-4c9c-fb7f-e0e52d69b1f0"
      },
      "source": [
        "# 코사인 유사도 (1. 단어의 표현 예제 참고)\n",
        "def cosine_similarity(x, y):\n",
        "    # x와 y, 두 벡터의 코사인 유사도를 계산하는 함수\n",
        "    nominator = np.dot(x, y)    # 분자\n",
        "    denominator = np.linalg.norm(x)*np.linalg.norm(y)  # 분모\n",
        "    return nominator/denominator\n",
        "  \n",
        "cosine_similarity([0,0,1,0],[0,0,1,1])  "
      ],
      "execution_count": 28,
      "outputs": [
        {
          "output_type": "execute_result",
          "data": {
            "text/plain": [
              "0.7071067811865475"
            ]
          },
          "metadata": {
            "tags": []
          },
          "execution_count": 28
        }
      ]
    },
    {
      "cell_type": "code",
      "metadata": {
        "id": "ev4s4s0YBxa3",
        "colab_type": "code",
        "colab": {
          "base_uri": "https://localhost:8080/",
          "height": 35
        },
        "outputId": "ae397cdd-f1fc-4bb0-e39e-08d6d4d3321a"
      },
      "source": [
        "# 문장간 유사도 측정 (BoW를 활용 코사인 유사도 측정)\n",
        "def sentence_similarity(sentence1, sentence2):\n",
        "    # 각 문장을 소문자로 변환\n",
        "    sentence1 = [word.lower() for word in sentence1.split()]\n",
        "    sentence2 = [word.lower() for word in sentence2.split()]\n",
        "    \n",
        "    # BoW 생성을 위한 unique한 단어로 배열 생성\n",
        "    words_ls = list(set(sentence1 + sentence2))\n",
        " \n",
        "    bow1 = [0] * len(words_ls)\n",
        "    bow2 = [0] * len(words_ls)\n",
        " \n",
        "    # 첫번째 문장 BoW 생성\n",
        "    for word in sentence1:\n",
        "        bow1[words_ls.index(word)] += 1\n",
        "\n",
        "    # 두번째 문장 BoW 생성\n",
        "    for word in sentence2:\n",
        "        bow2[words_ls.index(word)] += 1\n",
        " \n",
        "    return cosine_similarity(bow1, bow2)\n",
        "\n",
        "sentence_similarity('나는 치킨을 좋아해','나는 치킨을 싫어해')"
      ],
      "execution_count": 29,
      "outputs": [
        {
          "output_type": "execute_result",
          "data": {
            "text/plain": [
              "0.6666666666666667"
            ]
          },
          "metadata": {
            "tags": []
          },
          "execution_count": 29
        }
      ]
    },
    {
      "cell_type": "code",
      "metadata": {
        "id": "38ThXVuHB2bA",
        "colab_type": "code",
        "colab": {
          "base_uri": "https://localhost:8080/",
          "height": 233
        },
        "outputId": "5579a19c-5b69-4784-e023-1eb3052ff538"
      },
      "source": [
        " def buildMatrix(sentences):\n",
        "    # 문장별로 그래프 edge를 Matrix 형태로 생성\n",
        "    weighted_edge = np.zeros((len(sentences), len(sentences)),dtype=np.float32)\n",
        "    \n",
        "    #print(len(weighted_edge))\n",
        "    #print(len(sentences))\n",
        "\n",
        "    for i in range(len(sentences)):\n",
        "        for j in range(len(sentences)):\n",
        "            if i == j:\n",
        "                continue\n",
        "            weighted_edge[i][j] = sentence_similarity(sentences[i], sentences[j])\n",
        "            #print('[' + str(i) + ',' + str(j)+'] = ' + str(weighted_edge[i][j]))\n",
        " \n",
        "    # normalize \n",
        "    for i in range(len(weighted_edge)):\n",
        "        weighted_edge[i] /= weighted_edge[i].sum()\n",
        " \n",
        "    return weighted_edge\n",
        " \n",
        "S = buildMatrix(sent_tokenize(Text))    \n",
        "print(S[:3])"
      ],
      "execution_count": 46,
      "outputs": [
        {
          "output_type": "stream",
          "text": [
            "[[0.         0.0112262  0.05309461 0.08495137 0.10800254 0.04884599\n",
            "  0.         0.0267237  0.0267237  0.05454953 0.0748202  0.05921028\n",
            "  0.04628681 0.0115717  0.05554416 0.         0.0119512  0.013956\n",
            "  0.04156678 0.05476728 0.05929456 0.06016671 0.02474134 0.07200538]\n",
            " [0.01794262 0.         0.04197839 0.         0.07624147 0.09654821\n",
            "  0.04091547 0.02641082 0.02641082 0.04312869 0.06572819 0.07802273\n",
            "  0.03049659 0.02287244 0.05489386 0.         0.09449022 0.\n",
            "  0.03286409 0.06185837 0.08790053 0.05096767 0.02445167 0.02587721]\n",
            " [0.07593698 0.03756431 0.         0.03553229 0.06453402 0.1050718\n",
            "  0.         0.04471048 0.04471048 0.05475893 0.04172635 0.04953131\n",
            "  0.05162721 0.03872041 0.03097633 0.         0.         0.04669857\n",
            "  0.02781756 0.09162921 0.04960183 0.0431412  0.         0.06571072]]\n"
          ],
          "name": "stdout"
        }
      ]
    },
    {
      "cell_type": "code",
      "metadata": {
        "id": "FlAJ0nVaB36Z",
        "colab_type": "code",
        "colab": {}
      },
      "source": [
        "def scoring(A, eps=0.0001, d=0.85, max_iter = 50):\n",
        "    P = np.ones(len(A)) / len(A)\n",
        "    for iter in range(0,max_iter):\n",
        "        #print(iter)\n",
        "        newP = np.ones(len(A)) * (1 - d) / len(A) + d * A.T.dot(P)\n",
        "        \n",
        "        if abs((newP - P).sum()) <= eps:\n",
        "            return newP\n",
        "        P = newP\n"
      ],
      "execution_count": 0,
      "outputs": []
    },
    {
      "cell_type": "code",
      "metadata": {
        "id": "ydkPRpImN-Zl",
        "colab_type": "code",
        "colab": {
          "base_uri": "https://localhost:8080/",
          "height": 107
        },
        "outputId": "579fbfed-50a2-431b-cd54-e97bb459dd77"
      },
      "source": [
        "a = scoring(S)\n",
        "a"
      ],
      "execution_count": 32,
      "outputs": [
        {
          "output_type": "execute_result",
          "data": {
            "text/plain": [
              "array([0.05131312, 0.03476392, 0.04586214, 0.04100753, 0.05375078,\n",
              "       0.04911632, 0.02083343, 0.02928484, 0.04381788, 0.04545217,\n",
              "       0.04992899, 0.05063568, 0.03620586, 0.02920778, 0.06010798,\n",
              "       0.01512391, 0.04080827, 0.01164713, 0.03514574, 0.04637666,\n",
              "       0.06060599, 0.05939736, 0.03014937, 0.05945716])"
            ]
          },
          "metadata": {
            "tags": []
          },
          "execution_count": 32
        }
      ]
    },
    {
      "cell_type": "code",
      "metadata": {
        "id": "1DVvQdjSB5PE",
        "colab_type": "code",
        "colab": {}
      },
      "source": [
        "def summarize(text, linesinSummary=10):\n",
        "  text = sent_tokenize(text)\n",
        "  weighted_edge = buildMatrix(text) \n",
        "  score = scoring(weighted_edge)\n",
        "  #print(score) \n",
        "\n",
        "  rankedSentenceIndexes = [item[0] for item in sorted(enumerate(score), key=lambda item: -item[1])]\n",
        "  selectedSentences = sorted(rankedSentenceIndexes[:linesinSummary])\n",
        "  summary = itemgetter(*selectedSentences)(text)\n",
        "  return summary"
      ],
      "execution_count": 0,
      "outputs": []
    },
    {
      "cell_type": "code",
      "metadata": {
        "id": "EqjLqMOyR18k",
        "colab_type": "code",
        "colab": {
          "base_uri": "https://localhost:8080/",
          "height": 91
        },
        "outputId": "e7322e55-e7e9-4c6e-e652-5c2e3bcadaf0"
      },
      "source": [
        "summarize(Text,3)"
      ],
      "execution_count": 40,
      "outputs": [
        {
          "output_type": "execute_result",
          "data": {
            "text/plain": [
              "(\"The FAANG’s are pricey stocks, he said, pointing out that investors will 'factor in the law of big numbers,' he said.\",\n",
              " 'While many point to artificial intelligence as an area that will be a boost to Google and Amazon, Studebaker doesn’t see that as a sign of significant growth for the FAANGs.',\n",
              " 'And while he’s not bullish on FAANG’s, he does say that the one FAANG to still watch out for is Amazon, simply because ecommerce still represents a small portion of the global retail market, giving the company room to grow.')"
            ]
          },
          "metadata": {
            "tags": []
          },
          "execution_count": 40
        }
      ]
    },
    {
      "cell_type": "markdown",
      "metadata": {
        "id": "J16o9Y89WgNT",
        "colab_type": "text"
      },
      "source": [
        "\n",
        "\n",
        "---\n",
        "\n"
      ]
    },
    {
      "cell_type": "markdown",
      "metadata": {
        "id": "i8Yj0ioJimhl",
        "colab_type": "text"
      },
      "source": [
        "## 1.2 TextRank 직접 구현하기 (Graph 활용)"
      ]
    },
    {
      "cell_type": "code",
      "metadata": {
        "id": "SBBP3udO-rWM",
        "colab_type": "code",
        "colab": {
          "base_uri": "https://localhost:8080/",
          "height": 53
        },
        "outputId": "ddf1e289-3777-47d4-a20c-67ea0ba0180e"
      },
      "source": [
        "import nltk\n",
        "nltk.download('punkt')\n",
        "from nltk.tokenize import sent_tokenize\n",
        "import networkx as nx\n",
        "import math\n",
        "import matplotlib.pyplot as plt\n",
        "def sentences(text):\n",
        "    return sent_tokenize(text)"
      ],
      "execution_count": 47,
      "outputs": [
        {
          "output_type": "stream",
          "text": [
            "[nltk_data] Downloading package punkt to /root/nltk_data...\n",
            "[nltk_data]   Package punkt is already up-to-date!\n"
          ],
          "name": "stdout"
        }
      ]
    },
    {
      "cell_type": "code",
      "metadata": {
        "id": "zuOJL2EW-uII",
        "colab_type": "code",
        "colab": {}
      },
      "source": [
        "def connect(nodes):\n",
        "    return [(start,end ,sentence_similarity(start, end)) for start in nodes for end in nodes if start is not end]"
      ],
      "execution_count": 0,
      "outputs": []
    },
    {
      "cell_type": "code",
      "metadata": {
        "id": "7jFFd2ka-t9b",
        "colab_type": "code",
        "colab": {}
      },
      "source": [
        "#def similarity(c1,c2):\n",
        "#    return len(common_words(c1, c2))/(math.log(len(c1))+math.log(len(c2)))"
      ],
      "execution_count": 0,
      "outputs": []
    },
    {
      "cell_type": "code",
      "metadata": {
        "id": "KG9S-Fxw-tzW",
        "colab_type": "code",
        "colab": {}
      },
      "source": [
        "#def common_words(c1,c2):\n",
        "#    elem1 = [x for x in c1.split()]\n",
        "#    elem2 = [x for x in c2.split()]\n",
        "#    c3=list()\n",
        "#    for item in elem1:\n",
        "#        if item in elem2:\n",
        "#            c3.append(item)\n",
        "#    return c3"
      ],
      "execution_count": 0,
      "outputs": []
    },
    {
      "cell_type": "code",
      "metadata": {
        "id": "rKEErtAU-tmj",
        "colab_type": "code",
        "colab": {}
      },
      "source": [
        "def rank(nodes,edges):\n",
        "    graph=nx.diamond_graph()\n",
        "    graph.add_nodes_from(nodes)\n",
        "    graph.add_weighted_edges_from(edges)\n",
        "    return nx.pagerank(graph)"
      ],
      "execution_count": 0,
      "outputs": []
    },
    {
      "cell_type": "code",
      "metadata": {
        "id": "6XQkxYkv-zxI",
        "colab_type": "code",
        "colab": {}
      },
      "source": [
        "def summarize(text,num_summaries=6):\n",
        "    nodes=sentences(text)\n",
        "    edges=connect(nodes)\n",
        "    scores=rank(nodes,edges)\n",
        "    #print(nodes)\n",
        "    return sorted(scores,key=scores.get)[:num_summaries]\n"
      ],
      "execution_count": 0,
      "outputs": []
    },
    {
      "cell_type": "code",
      "metadata": {
        "id": "UwlnlxyP8VM7",
        "colab_type": "code",
        "colab": {
          "base_uri": "https://localhost:8080/",
          "height": 109
        },
        "outputId": "214b34f1-dd69-4b8a-f918-e31010c5f95d"
      },
      "source": [
        "summary=summarize(Text, 3)\n",
        "\n",
        "for sent in summary :\n",
        "  print(sent)"
      ],
      "execution_count": 53,
      "outputs": [
        {
          "output_type": "stream",
          "text": [
            "['The FAANG stocks won’t see much more growth in the near future, according to Bill Studebaker, founder and Chief Investment Officer of Robo Global.', \"Studebaker argues we are seeing a 'reallocation' that will continue from large-cap tech stocks into market-weight stocks.\", 'The FAANG stocks have had a rough few weeks, and have been hit hard since March 12.', 'One FAANG to look out for, in the midst of all this, is Amazon, according to Studebaker.', \"The stock market is seeing a 'reallocation' out of FAANG stocks, which are not where the smart money is, founder and Chief Investment Officer of Robo Global Bill Studebaker told Business Insider.\", 'The FAANG stocks (Facebook, Apple, Amazon, Netflix, Google) are all down considerably since March 12, a trend that accelerated when news of a massive Facebook data scandal broke, sending the tech-heavy Nasdaq into a downward frenzy.', 'Investors are wondering what’s next.', 'And what’s next isn’t good news for FAANG stock optimists, Studebaker thinks.', \"'This is a dead trade' for the next several months, he said.\", \"'I wouldn’t expect there to be a lot of performance attribution coming from the FAANG stocks,' he added.\", 'That is, if the stock market is to see gains in the next several months, they will largely not come from the big tech companies.', \"The market is seeing a 'reallocation out of large-cap technology, into other parts of the market,' he said.\", 'And this trend could continue for the foreseeable future.', \"'When you get these reallocation trades, a de-risking, this can go on for months and months.'\", \"The FAANG’s are pricey stocks, he said, pointing out that investors will 'factor in the law of big numbers,' he said.\", \"'Just because they’re big cap doesn’t mean they’re safe,' he added.\", 'Still, he doesn’t necessarily think that investors are going to shift drastically into value stocks.', \"'With an increasingly favorable macro backdrop, you have strong growth demand.'\", 'Studebaker, who runs an artificial intelligence and robotics exchange-traded fund with $4 billion in assets under management, thinks that AI and robotics are better areas of growth.', 'His ETF is up 27% in the past year, while the FAANG stocks are also largely up over that same span, even if they are down since March 12.', 'While many point to artificial intelligence as an area that will be a boost to Google and Amazon, Studebaker doesn’t see that as a sign of significant growth for the FAANGs.', \"He pointed out that 'eighty to ninety percent of their businesses are still search,' and that 'AI doesn’t really move the needle on the business.'\", \"He also said 'the revenue mix [attributable to AI] in those businesses are insignificant.'\", 'And while he’s not bullish on FAANG’s, he does say that the one FAANG to still watch out for is Amazon, simply because ecommerce still represents a small portion of the global retail market, giving the company room to grow.']\n",
            "'With an increasingly favorable macro backdrop, you have strong growth demand.'\n",
            "'Just because they’re big cap doesn’t mean they’re safe,' he added.\n",
            "Investors are wondering what’s next.\n"
          ],
          "name": "stdout"
        }
      ]
    },
    {
      "cell_type": "markdown",
      "metadata": {
        "id": "YPayQbC4iqmB",
        "colab_type": "text"
      },
      "source": [
        "## 1.2 gensim을 활용한 요약"
      ]
    },
    {
      "cell_type": "code",
      "metadata": {
        "id": "4-GdO7EigEg2",
        "colab_type": "code",
        "colab": {
          "base_uri": "https://localhost:8080/",
          "height": 91
        },
        "outputId": "9a30f30d-489b-4340-fa1a-adc118825fa9"
      },
      "source": [
        "from gensim.summarization.summarizer import summarize\n",
        "print(summarize(Text))"
      ],
      "execution_count": 12,
      "outputs": [
        {
          "output_type": "stream",
          "text": [
            "The FAANG stocks won’t see much more growth in the near future, according to Bill Studebaker, founder and Chief Investment Officer of Robo Global.\n",
            "Studebaker argues we are seeing a 'reallocation' that will continue from large-cap tech stocks into market-weight stocks.\n",
            "The stock market is seeing a 'reallocation' out of FAANG stocks, which are not where the smart money is, founder and Chief Investment Officer of Robo Global Bill Studebaker told Business Insider.\n"
          ],
          "name": "stdout"
        }
      ]
    },
    {
      "cell_type": "markdown",
      "metadata": {
        "id": "g_1gyP1uX2z1",
        "colab_type": "text"
      },
      "source": [
        "\n",
        "\n",
        "---\n",
        "\n"
      ]
    },
    {
      "cell_type": "markdown",
      "metadata": {
        "id": "piKvCjRvgHFE",
        "colab_type": "text"
      },
      "source": [
        "#  2 Luhn Summarizer"
      ]
    },
    {
      "cell_type": "code",
      "metadata": {
        "id": "VyYBEIOJf9XI",
        "colab_type": "code",
        "colab": {}
      },
      "source": [
        "import pandas as pd\n",
        "from konlpy.tag import Okt\n",
        "okt = Okt()\n",
        "\n",
        "from sklearn.feature_extraction.text import TfidfVectorizer"
      ],
      "execution_count": 0,
      "outputs": []
    },
    {
      "cell_type": "code",
      "metadata": {
        "id": "Z-5YFnJ0f9XL",
        "colab_type": "code",
        "colab": {}
      },
      "source": [
        "df1 = pd.read_csv('preprocessing_실리콘벨리기사.csv')"
      ],
      "execution_count": 0,
      "outputs": []
    },
    {
      "cell_type": "code",
      "metadata": {
        "id": "9as82nzpf9XN",
        "colab_type": "code",
        "colab": {}
      },
      "source": [
        "df1.rename(columns={'0':'raw','1':'tuned'},inplace=True)"
      ],
      "execution_count": 0,
      "outputs": []
    },
    {
      "cell_type": "code",
      "metadata": {
        "id": "Tgo0vfnXf9XO",
        "colab_type": "code",
        "outputId": "afcb5efa-7a2c-4747-d340-54658e29d5e3",
        "colab": {}
      },
      "source": [
        "print(df1['raw'].tolist())"
      ],
      "execution_count": 0,
      "outputs": [
        {
          "output_type": "stream",
          "text": [
            "['교육을 삶의 최우선 순위로 두고 있는 한국의 부모들은 대학 전공 가운데 의학과 공학·과학을 중시한다. 자녀의 직업적 성공을 위해 대학 전공으로 의학과 이공계를 우선적으로 고려하는 일은 한국이 산업화 중이던 상황에선 올바른 선택이었다. 하지만 지금은 모든 것이 달라졌다. 요즘 실리콘밸리에서 확인되는 것은 4차 산업혁명 시대에는 예술과 인문학이 의학·공학만큼 중요하다는 사실이다.스티브 잡스는 자신이 대학 시절 수강했던 서체(書體) 수업이 매킨토시(애플이 1984년 발표한 개인용 컴퓨터) 개발 성공에 큰 영향을 미쳤다고 말했다. 그는 2011년 아이패드 2를 공개하면서 \"애플의 DNA는 기술만으로는 충분하지 않다. 교양과 인문학이 결합한 기술이야말로 가슴 벅찬 결과를 낳을 것\"이라며 예술과 디자인의 중요성을 강조했다. 이런 관점을 바탕으로 잡스는 세계 최고 가치를 인정받는 기업을 만들었고, 기술 산업의 새로운 표준까지 정했다.실리콘밸리에서 최근 뜨고 있는 스타 기업인 중에는 인문학 전공자들이 제법 많다. 구인·구직 소셜 네트워킹 서비스 기업인 링크드인(LinkedIn) 창업자 리드 호프만은 철학 석사 학위 소지자이며, 수잔 보이치키 유튜브 CEO는 역사와 문학을 전공했다. 메신저 개발 업체 슬랙(Slack)의 창업자 스튜어트 버터필드는 철학, 세계 최대 숙박 공유 기업인 에어비앤비의 설립자 브라이언 체스키는 미술을 전공했다. 중국 알리바바그룹의 마윈 회장의 학부 전공은 영어였다.내가 속해 있는 하버드대·듀크대 연구팀은 미국 IT 기업 창업자들의 92%가 학사 학위를, 47%는 석사 학위 이상을 갖고 있음을 밝혀냈다. 창업자들의 세부 전공을 보면 37%만 공학·컴퓨터 기술이며, 수학 전공자는 2%뿐이었다. 이들의 전공은 경영·회계·보건·예술·인문학 등 매우 다양했다.컴퓨터 주변기기 제조 업체 로지텍의 브랙큰 대럴 CEO도 영문학을 전공했다. 최근 내가 그에게 \"어떻게 5년여 만에 회사 주가를 450% 올릴 수 있었느냐\"고 물었더니 그는 \"우리 회사가 만드는 모든 제품의 디자인을 쉼 없이 고민했기 때문에 가능했다. 기술 관련 제품의 성공에 가장 중요한 것은 디자인\"이라고 답했다.4차 산업혁명은 \\'혁신의 규칙\\'을 바꾸는 일이다. 여기에는 컴퓨터와 인공지능, 디지털 의술, 로봇공학, 합성생물학 등 광범위한 기술이 활용된다. 의학·인공지능과 센서를 융합하면 인간의 건강을 진단하고 질병을 예방하는 \\'디지털 의사\\'를 만들 수 있다. 유전체학과 유전자 편집을 이용해 가뭄에 강하고 인류 전체를 먹여 살릴 새 식물을 개발할 수 있다. 인공지능 로봇을 사용해 노인들을 위한 \\'디지털 친구\\'도 가능하다. 초소형 물질의 발전은 모든 사람이 충분히 이용할 수 있는 \\'태양열 저장 기술\\'의 새 시대를 열 것이다.이런 해결책을 이끌어내는 데는 생물학·교육·의료·인간행동 등 여러 분야에 대한 지식이 필요하다. 우리가 처한 거대한 사회·기술적 도전에 대처하려면 인류를 둘러싼 다양한 배경과 맥락에 대해 비판적 사고 능력이 필수적이다. 이는 인문학 전공자들이 가장 잘 훈련받은 분야이다.일례로 음악·예술·문학과 심리학에서 비롯한 공감(共感) 능력은 디자인에 큰 장점이 된다. 로마제국의 흥망성쇠와 계몽주의를 공부한 역사학도는 기술의 인간적 요소와 유용성에 대한 통찰력을 가질 수 있다. 심리학 전공자는 사람에게 동기(動機)부여가 무엇이며, 사용자들이 원하는 게 무엇인지를 공학 한 분야에서만 일해온 엔지니어들보다 잘 이해할 수 있다. 우리가 상상하는 물건을 3D로 만들 수 있게 되면 음악가나 화가들의 세상이 될지도 모른다.\"자녀가 미래에 어떤 직업을 택하면 좋겠는가\"라는 질문을 받을 때 나는 \"아이들이 스스로 하고 싶은 것을 선택하도록 내버려 두는 게 최선\"이라고 답한다. 과거 우리 부모들이 우리에게 공부를 강요해서 학습을 \\'억지로 해야 하는 따분한 일\\'로 여기게 했던 방식을 따라 해선 안 된다. 그 대신 자녀가 자신의 열정을 추구하고 배우는 걸 즐길 수 있도록 북돋아야 한다.기술을 통해 놀라운 미래를 창조하고 새로운 산업혁명 시대에 리더가 되기 위해 한국에서는 공학자들과 손잡고 일할 음악가와 화가가 더 많이 필요하다. 이제는 과학·공학·의학뿐 아니라 창의성과 디자인에도 진정한 관심을 쏟아야 한다.']\n"
          ],
          "name": "stdout"
        }
      ]
    },
    {
      "cell_type": "code",
      "metadata": {
        "id": "s1HOF6Brf9XS",
        "colab_type": "code",
        "outputId": "68e33ff3-9b43-4173-8957-e53c2b09fe43",
        "colab": {}
      },
      "source": [
        "doc = df1['raw'].tolist()\n",
        "sentences = doc[0].split(\".\")\n",
        "sentences"
      ],
      "execution_count": 0,
      "outputs": [
        {
          "output_type": "execute_result",
          "data": {
            "text/plain": [
              "['교육을 삶의 최우선 순위로 두고 있는 한국의 부모들은 대학 전공 가운데 의학과 공학·과학을 중시한다',\n",
              " ' 자녀의 직업적 성공을 위해 대학 전공으로 의학과 이공계를 우선적으로 고려하는 일은 한국이 산업화 중이던 상황에선 올바른 선택이었다',\n",
              " ' 하지만 지금은 모든 것이 달라졌다',\n",
              " ' 요즘 실리콘밸리에서 확인되는 것은 4차 산업혁명 시대에는 예술과 인문학이 의학·공학만큼 중요하다는 사실이다',\n",
              " '스티브 잡스는 자신이 대학 시절 수강했던 서체(書體) 수업이 매킨토시(애플이 1984년 발표한 개인용 컴퓨터) 개발 성공에 큰 영향을 미쳤다고 말했다',\n",
              " ' 그는 2011년 아이패드 2를 공개하면서 \"애플의 DNA는 기술만으로는 충분하지 않다',\n",
              " ' 교양과 인문학이 결합한 기술이야말로 가슴 벅찬 결과를 낳을 것\"이라며 예술과 디자인의 중요성을 강조했다',\n",
              " ' 이런 관점을 바탕으로 잡스는 세계 최고 가치를 인정받는 기업을 만들었고, 기술 산업의 새로운 표준까지 정했다',\n",
              " '실리콘밸리에서 최근 뜨고 있는 스타 기업인 중에는 인문학 전공자들이 제법 많다',\n",
              " ' 구인·구직 소셜 네트워킹 서비스 기업인 링크드인(LinkedIn) 창업자 리드 호프만은 철학 석사 학위 소지자이며, 수잔 보이치키 유튜브 CEO는 역사와 문학을 전공했다',\n",
              " ' 메신저 개발 업체 슬랙(Slack)의 창업자 스튜어트 버터필드는 철학, 세계 최대 숙박 공유 기업인 에어비앤비의 설립자 브라이언 체스키는 미술을 전공했다',\n",
              " ' 중국 알리바바그룹의 마윈 회장의 학부 전공은 영어였다',\n",
              " '내가 속해 있는 하버드대·듀크대 연구팀은 미국 IT 기업 창업자들의 92%가 학사 학위를, 47%는 석사 학위 이상을 갖고 있음을 밝혀냈다',\n",
              " ' 창업자들의 세부 전공을 보면 37%만 공학·컴퓨터 기술이며, 수학 전공자는 2%뿐이었다',\n",
              " ' 이들의 전공은 경영·회계·보건·예술·인문학 등 매우 다양했다',\n",
              " '컴퓨터 주변기기 제조 업체 로지텍의 브랙큰 대럴 CEO도 영문학을 전공했다',\n",
              " ' 최근 내가 그에게 \"어떻게 5년여 만에 회사 주가를 450% 올릴 수 있었느냐\"고 물었더니 그는 \"우리 회사가 만드는 모든 제품의 디자인을 쉼 없이 고민했기 때문에 가능했다',\n",
              " ' 기술 관련 제품의 성공에 가장 중요한 것은 디자인\"이라고 답했다',\n",
              " \"4차 산업혁명은 '혁신의 규칙'을 바꾸는 일이다\",\n",
              " ' 여기에는 컴퓨터와 인공지능, 디지털 의술, 로봇공학, 합성생물학 등 광범위한 기술이 활용된다',\n",
              " \" 의학·인공지능과 센서를 융합하면 인간의 건강을 진단하고 질병을 예방하는 '디지털 의사'를 만들 수 있다\",\n",
              " ' 유전체학과 유전자 편집을 이용해 가뭄에 강하고 인류 전체를 먹여 살릴 새 식물을 개발할 수 있다',\n",
              " \" 인공지능 로봇을 사용해 노인들을 위한 '디지털 친구'도 가능하다\",\n",
              " \" 초소형 물질의 발전은 모든 사람이 충분히 이용할 수 있는 '태양열 저장 기술'의 새 시대를 열 것이다\",\n",
              " '이런 해결책을 이끌어내는 데는 생물학·교육·의료·인간행동 등 여러 분야에 대한 지식이 필요하다',\n",
              " ' 우리가 처한 거대한 사회·기술적 도전에 대처하려면 인류를 둘러싼 다양한 배경과 맥락에 대해 비판적 사고 능력이 필수적이다',\n",
              " ' 이는 인문학 전공자들이 가장 잘 훈련받은 분야이다',\n",
              " '일례로 음악·예술·문학과 심리학에서 비롯한 공감(共感) 능력은 디자인에 큰 장점이 된다',\n",
              " ' 로마제국의 흥망성쇠와 계몽주의를 공부한 역사학도는 기술의 인간적 요소와 유용성에 대한 통찰력을 가질 수 있다',\n",
              " ' 심리학 전공자는 사람에게 동기(動機)부여가 무엇이며, 사용자들이 원하는 게 무엇인지를 공학 한 분야에서만 일해온 엔지니어들보다 잘 이해할 수 있다',\n",
              " ' 우리가 상상하는 물건을 3D로 만들 수 있게 되면 음악가나 화가들의 세상이 될지도 모른다',\n",
              " '\"자녀가 미래에 어떤 직업을 택하면 좋겠는가\"라는 질문을 받을 때 나는 \"아이들이 스스로 하고 싶은 것을 선택하도록 내버려 두는 게 최선\"이라고 답한다',\n",
              " \" 과거 우리 부모들이 우리에게 공부를 강요해서 학습을 '억지로 해야 하는 따분한 일'로 여기게 했던 방식을 따라 해선 안 된다\",\n",
              " ' 그 대신 자녀가 자신의 열정을 추구하고 배우는 걸 즐길 수 있도록 북돋아야 한다',\n",
              " '기술을 통해 놀라운 미래를 창조하고 새로운 산업혁명 시대에 리더가 되기 위해 한국에서는 공학자들과 손잡고 일할 음악가와 화가가 더 많이 필요하다',\n",
              " ' 이제는 과학·공학·의학뿐 아니라 창의성과 디자인에도 진정한 관심을 쏟아야 한다',\n",
              " '']"
            ]
          },
          "metadata": {
            "tags": []
          },
          "execution_count": 133
        }
      ]
    },
    {
      "cell_type": "code",
      "metadata": {
        "id": "oD81MWFAf9XU",
        "colab_type": "code",
        "outputId": "52ebe7ff-3858-4096-e817-a1c5d54acb57",
        "colab": {}
      },
      "source": [
        "tuned_sentences = []\n",
        "\n",
        "for idx in range(len(sentences)) : \n",
        "    tuned_sentences.append(okt.nouns(sentences[idx]))\n",
        "tuned_sentences[0]"
      ],
      "execution_count": 0,
      "outputs": [
        {
          "output_type": "execute_result",
          "data": {
            "text/plain": [
              "['교육',\n",
              " '삶',\n",
              " '최',\n",
              " '우선',\n",
              " '순위',\n",
              " '한국',\n",
              " '부모',\n",
              " '대학',\n",
              " '전공',\n",
              " '가운데',\n",
              " '의학과',\n",
              " '공학',\n",
              " '과학',\n",
              " '중시']"
            ]
          },
          "metadata": {
            "tags": []
          },
          "execution_count": 134
        }
      ]
    },
    {
      "cell_type": "code",
      "metadata": {
        "id": "3NaQgzp9f9XX",
        "colab_type": "code",
        "outputId": "40229bb9-8fe4-43db-97f6-2139f08fbf34",
        "colab": {}
      },
      "source": [
        "tuned_sentences = [','.join(tuned_sentences[idx]).replace(',',' ') for idx in range(len(tuned_sentences))]\n",
        "tuned_sentences"
      ],
      "execution_count": 0,
      "outputs": [
        {
          "output_type": "execute_result",
          "data": {
            "text/plain": [
              "['교육 삶 최 우선 순위 한국 부모 대학 전공 가운데 의학과 공학 과학 중시',\n",
              " '자녀 직업 성공 위해 대학 전공 의학과 이공 우선 고려 일 한국 산업화 중 상황 선택',\n",
              " '지금 모든 것',\n",
              " '요즘 실리콘밸리 확인 것 차 산업혁명 시대 예술 인문학 의학 공학 사실',\n",
              " '스티브 잡스 자신 대학 시절 수강 서체 수업 매킨토시 애플 발표 개인 용 컴퓨터 개발 성공 영향 말',\n",
              " '그 아이패드 를 공개 애플 기술',\n",
              " '교양 인문학 결합 기술 가슴 결과 낳을 것 라며 예술 디자인 중요성 강조',\n",
              " '관점 바탕 잡스 세계 최고 가치 기업 기술 산업 표준 정',\n",
              " '실리콘밸리 최근 스타 기업인 중 인문학 전공자 제법',\n",
              " '구인 구직 소셜 네트워킹 서비스 기업인 링크드인 창업 리드 호프 철학 석사 학위 소지 잔 보이 유튜브 역사 문학 전공',\n",
              " '메신저 개발 업체 슬랙 의 창업 스튜어트 버터 필드 철학 세계 최대 숙박 공유 기업인 에어비앤비 설립 브라이언 체 스키 미술 전공',\n",
              " '중국 알리바바 그룹 마윈 회장 학부 전공 영어',\n",
              " '내 해 하버드대 듀크 팀 미국 기업 창업 자 학사 학위 석사 학위 이상 음',\n",
              " '창업 자 세부 전공 만 공학 컴퓨터 기술 수학 전공자',\n",
              " '이 전공 경영 회계 보건 예술 인문학 등 매우',\n",
              " '컴퓨터 주변기기 제조 업체 로지텍 브랙큰 대럴 도 영문학 전공',\n",
              " '최근 내 그 회사 주가 수 고 그 우리 회사 모든 제품 디자인 고민 때문',\n",
              " '기술 관련 제품 성공 가장 것 디자인 답',\n",
              " '차 산업혁명 혁신 규칙 일이',\n",
              " '여기 컴퓨터 인공 지능 디지털 의술 로봇공학 합성생물학 등 기술 활용',\n",
              " '의학 인공 지능 센서 융합 인간 건강 진단 질병 예방 디지털 의사 를 수',\n",
              " '유전체학 유전자 편집 이용 가뭄 인류 전체 새 식물 개발 수',\n",
              " '인공 지능 로봇 사용 노인 위 디지털 친구 도',\n",
              " '초소 물질 발전 모든 사람 이용 수 태양열 저장 기술 의 새 시대 열 것',\n",
              " '해결 책 데 생물학 교육 의료 인간 행동 등 여러 분야 대한 지식',\n",
              " '우리 처 사회 기술 도전 대처 인류 배경 맥락 대해 비판 사고 능력 필수',\n",
              " '인문학 전공자 가장 훈련 분야',\n",
              " '일례 음악 예술 문학 심리학 비롯 공감 능력 디자인 장점',\n",
              " '로마제국 흥망 성쇠 계몽 주의 공부 역사학도 기술 인간 요소 유용성 대한 통찰 수',\n",
              " '심리학 전공자 사람 동기 부여 무엇 사용자 게 무엇 인지 공학 분야 일 엔지니어 이해 수',\n",
              " '우리 상상 물건 로 수 음악가 화가 세상',\n",
              " '자녀 미래 직업 택하 질문 때 나 아이 스스로 것 선택 게 최선 답',\n",
              " '과거 우리 부모 우리 공부 강요 학습 억지로 일 로 여기 방식 해선 안',\n",
              " '그 대신 자녀 자신 열정 추구 걸 수 북',\n",
              " '기술 통해 미래 창조 산업혁명 시대 리더 위해 한국 공학자 일 음악가 화가 더',\n",
              " '이제 과학 공학 의학 창의성 디자인 관심',\n",
              " '']"
            ]
          },
          "metadata": {
            "tags": []
          },
          "execution_count": 135
        }
      ]
    },
    {
      "cell_type": "code",
      "metadata": {
        "id": "8Z8KrKYAf9XZ",
        "colab_type": "code",
        "colab": {}
      },
      "source": [
        "vectorizer = TfidfVectorizer()\n",
        "tfidf_vector = vectorizer.fit_transform(tuned_sentences).toarray()"
      ],
      "execution_count": 0,
      "outputs": []
    },
    {
      "cell_type": "code",
      "metadata": {
        "id": "hbhr2X9qf9Xb",
        "colab_type": "code",
        "outputId": "683a6baa-88e4-497b-c27a-e5f34df0b4f3",
        "colab": {}
      },
      "source": [
        "luhn_importance = []\n",
        "\n",
        "for idx in range(len(tfidf_vector)) : \n",
        "    luhn_importance.append(sum(tfidf_vector[idx]) / len([i for i in tfidf_vector[idx] if i != 0]))\n",
        "luhn_importance[:5]"
      ],
      "execution_count": 0,
      "outputs": [
        {
          "output_type": "stream",
          "text": [
            "/home/hskimim/anaconda3/envs/dss_env/lib/python3.6/site-packages/ipykernel_launcher.py:4: RuntimeWarning: invalid value encountered in double_scalars\n",
            "  after removing the cwd from sys.path.\n"
          ],
          "name": "stderr"
        },
        {
          "output_type": "execute_result",
          "data": {
            "text/plain": [
              "[0.2864330566455741,\n",
              " 0.2655826626486411,\n",
              " 0.703848815311294,\n",
              " 0.3138733801351376,\n",
              " 0.24904542659640516]"
            ]
          },
          "metadata": {
            "tags": []
          },
          "execution_count": 115
        }
      ]
    },
    {
      "cell_type": "code",
      "metadata": {
        "id": "LlrJU4Z3f9Xd",
        "colab_type": "code",
        "outputId": "9ceff0cd-78a9-465c-df34-df8b3886d7fc",
        "colab": {}
      },
      "source": [
        "final_df = pd.DataFrame(columns=['sentence','luhn_importance'])\n",
        "final_df['sentence'] = sentences\n",
        "final_df['luhn_importance'] = luhn_importance\n",
        "final_df.sort_values('luhn_importance',ascending=False).head()"
      ],
      "execution_count": 0,
      "outputs": [
        {
          "output_type": "execute_result",
          "data": {
            "text/html": [
              "<div>\n",
              "<style scoped>\n",
              "    .dataframe tbody tr th:only-of-type {\n",
              "        vertical-align: middle;\n",
              "    }\n",
              "\n",
              "    .dataframe tbody tr th {\n",
              "        vertical-align: top;\n",
              "    }\n",
              "\n",
              "    .dataframe thead th {\n",
              "        text-align: right;\n",
              "    }\n",
              "</style>\n",
              "<table border=\"1\" class=\"dataframe\">\n",
              "  <thead>\n",
              "    <tr style=\"text-align: right;\">\n",
              "      <th></th>\n",
              "      <th>sentence</th>\n",
              "      <th>luhn_importance</th>\n",
              "    </tr>\n",
              "  </thead>\n",
              "  <tbody>\n",
              "    <tr>\n",
              "      <th>2</th>\n",
              "      <td>하지만 지금은 모든 것이 달라졌다</td>\n",
              "      <td>0.703849</td>\n",
              "    </tr>\n",
              "    <tr>\n",
              "      <th>18</th>\n",
              "      <td>4차 산업혁명은 '혁신의 규칙'을 바꾸는 일이다</td>\n",
              "      <td>0.498424</td>\n",
              "    </tr>\n",
              "    <tr>\n",
              "      <th>5</th>\n",
              "      <td>그는 2011년 아이패드 2를 공개하면서 \"애플의 DNA는 기술만으로는 충분하지 않다</td>\n",
              "      <td>0.489840</td>\n",
              "    </tr>\n",
              "    <tr>\n",
              "      <th>33</th>\n",
              "      <td>그 대신 자녀가 자신의 열정을 추구하고 배우는 걸 즐길 수 있도록 북돋아야 한다</td>\n",
              "      <td>0.445919</td>\n",
              "    </tr>\n",
              "    <tr>\n",
              "      <th>26</th>\n",
              "      <td>이는 인문학 전공자들이 가장 잘 훈련받은 분야이다</td>\n",
              "      <td>0.444194</td>\n",
              "    </tr>\n",
              "  </tbody>\n",
              "</table>\n",
              "</div>"
            ],
            "text/plain": [
              "                                            sentence  luhn_importance\n",
              "2                                 하지만 지금은 모든 것이 달라졌다         0.703849\n",
              "18                        4차 산업혁명은 '혁신의 규칙'을 바꾸는 일이다         0.498424\n",
              "5    그는 2011년 아이패드 2를 공개하면서 \"애플의 DNA는 기술만으로는 충분하지 않다         0.489840\n",
              "33      그 대신 자녀가 자신의 열정을 추구하고 배우는 걸 즐길 수 있도록 북돋아야 한다         0.445919\n",
              "26                       이는 인문학 전공자들이 가장 잘 훈련받은 분야이다         0.444194"
            ]
          },
          "metadata": {
            "tags": []
          },
          "execution_count": 120
        }
      ]
    }
  ]
}