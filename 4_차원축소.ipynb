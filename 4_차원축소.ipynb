{
  "nbformat": 4,
  "nbformat_minor": 0,
  "metadata": {
    "colab": {
      "name": "4_차원축소.ipynb",
      "version": "0.3.2",
      "provenance": [],
      "collapsed_sections": [],
      "include_colab_link": true
    },
    "kernelspec": {
      "name": "python3",
      "display_name": "Python 3"
    }
  },
  "cells": [
    {
      "cell_type": "markdown",
      "metadata": {
        "id": "view-in-github",
        "colab_type": "text"
      },
      "source": [
        "<a href=\"https://colab.research.google.com/github/fininsight/text-mining-tutorial/blob/master/4_%EC%B0%A8%EC%9B%90%EC%B6%95%EC%86%8C.ipynb\" target=\"_parent\"><img src=\"https://colab.research.google.com/assets/colab-badge.svg\" alt=\"Open In Colab\"/></a>"
      ]
    },
    {
      "cell_type": "markdown",
      "metadata": {
        "id": "4di_nmaFk0Zu",
        "colab_type": "text"
      },
      "source": [
        "# 2 주성분 분석(PCA, Principal Component Analysis)"
      ]
    },
    {
      "cell_type": "markdown",
      "metadata": {
        "id": "-eRv2nFqlMAZ",
        "colab_type": "text"
      },
      "source": [
        "* PCA는 데이터의 분산(variance)을 최대로 하는 축을 찾는 것을 반복하여, 고차원 공간의 표본들을 저차원 공간으로 변환하는 기법\n",
        "\n",
        "\n"
      ]
    },
    {
      "cell_type": "markdown",
      "metadata": {
        "id": "n45Y8uyUlGMJ",
        "colab_type": "text"
      },
      "source": [
        "![대체 텍스트](http://i.imgur.com/jWJ2nUs.png)"
      ]
    },
    {
      "cell_type": "markdown",
      "metadata": {
        "id": "ebumLhy25esv",
        "colab_type": "text"
      },
      "source": [
        "## 2.1 차원 축소의 예\n",
        "\n",
        "변수 갯수를 차원이라고 생각할 수 있음"
      ]
    },
    {
      "cell_type": "code",
      "metadata": {
        "id": "kSe1NKhQlG9f",
        "colab_type": "code",
        "outputId": "6bbff101-5705-48f6-91ff-63ca1a0bfbbb",
        "colab": {
          "base_uri": "https://localhost:8080/",
          "height": 35
        }
      },
      "source": [
        "국어 = 80\n",
        "영어 = 60\n",
        "수학 = 90\n",
        "과학 = 70\n",
        "\n",
        "평균 = (국어 + 영어 + 수학 + 과학)/4 # 5개 차원을 1개 차원으로 축수\n",
        "\n",
        "평균"
      ],
      "execution_count": 0,
      "outputs": [
        {
          "output_type": "execute_result",
          "data": {
            "text/plain": [
              "75.0"
            ]
          },
          "metadata": {
            "tags": []
          },
          "execution_count": 2
        }
      ]
    },
    {
      "cell_type": "code",
      "metadata": {
        "id": "wWnVJ9vK5YY9",
        "colab_type": "code",
        "outputId": "31975ee1-1f79-412e-9c63-ddbcbb2acf91",
        "colab": {
          "base_uri": "https://localhost:8080/",
          "height": 35
        }
      },
      "source": [
        "몸무게 = 70\n",
        "키 = 180\n",
        "\n",
        "BMI = 몸무게 / (키*키) # 2개 차원을 1개 차원으로 축소\n",
        "\n",
        "BMI "
      ],
      "execution_count": 0,
      "outputs": [
        {
          "output_type": "execute_result",
          "data": {
            "text/plain": [
              "0.0021604938271604936"
            ]
          },
          "metadata": {
            "tags": []
          },
          "execution_count": 6
        }
      ]
    },
    {
      "cell_type": "markdown",
      "metadata": {
        "id": "zc4GQj2oNn3G",
        "colab_type": "text"
      },
      "source": [
        "\n",
        "\n",
        "---\n",
        "\n"
      ]
    },
    {
      "cell_type": "markdown",
      "metadata": {
        "id": "c_viMcGaNpEN",
        "colab_type": "text"
      },
      "source": [
        "## 2.2 PCA 예제 1"
      ]
    },
    {
      "cell_type": "markdown",
      "metadata": {
        "id": "EIDZeP-lOB52",
        "colab_type": "text"
      },
      "source": [
        "### 1) 예제 데이터"
      ]
    },
    {
      "cell_type": "code",
      "metadata": {
        "id": "zwp8In2uNWgi",
        "colab_type": "code",
        "outputId": "9399d852-c681-4d40-c85e-edf812f7bab4",
        "colab": {
          "base_uri": "https://localhost:8080/",
          "height": 202
        }
      },
      "source": [
        "import pandas as pd\n",
        "# Eating, exercise habbit and their body shape\n",
        "df = pd.DataFrame(columns=['calory', 'breakfast', 'lunch', 'dinner', 'exercise', 'body_shape'])\n",
        "\n",
        "df.loc[0] = [1200, 1, 0, 0, 2, 'Skinny']\n",
        "df.loc[1] = [2800, 1, 1, 1, 1, 'Normal']\n",
        "df.loc[2] = [3500, 2, 2, 1, 0, 'Fat']\n",
        "df.loc[3] = [1400, 0, 1, 0, 3, 'Skinny']\n",
        "df.loc[4] = [5000, 2, 2, 2, 0, 'Fat']\n",
        "df.loc[5] = [1300, 0, 0, 1, 2, 'Skinny']\n",
        "df.loc[6] = [3000, 1, 0, 1, 1, 'Normal']\n",
        "df.loc[7] = [4000, 2, 2, 2, 0, 'Fat']\n",
        "df.loc[8] = [2600, 0, 2, 0, 0, 'Normal']\n",
        "df.loc[9] = [3000, 1, 2, 1, 1, 'Fat']\n",
        "\n",
        "df.head()"
      ],
      "execution_count": 0,
      "outputs": [
        {
          "output_type": "execute_result",
          "data": {
            "text/html": [
              "<div>\n",
              "<style scoped>\n",
              "    .dataframe tbody tr th:only-of-type {\n",
              "        vertical-align: middle;\n",
              "    }\n",
              "\n",
              "    .dataframe tbody tr th {\n",
              "        vertical-align: top;\n",
              "    }\n",
              "\n",
              "    .dataframe thead th {\n",
              "        text-align: right;\n",
              "    }\n",
              "</style>\n",
              "<table border=\"1\" class=\"dataframe\">\n",
              "  <thead>\n",
              "    <tr style=\"text-align: right;\">\n",
              "      <th></th>\n",
              "      <th>calory</th>\n",
              "      <th>breakfast</th>\n",
              "      <th>lunch</th>\n",
              "      <th>dinner</th>\n",
              "      <th>exercise</th>\n",
              "      <th>body_shape</th>\n",
              "    </tr>\n",
              "  </thead>\n",
              "  <tbody>\n",
              "    <tr>\n",
              "      <th>0</th>\n",
              "      <td>1200</td>\n",
              "      <td>1</td>\n",
              "      <td>0</td>\n",
              "      <td>0</td>\n",
              "      <td>2</td>\n",
              "      <td>Skinny</td>\n",
              "    </tr>\n",
              "    <tr>\n",
              "      <th>1</th>\n",
              "      <td>2800</td>\n",
              "      <td>1</td>\n",
              "      <td>1</td>\n",
              "      <td>1</td>\n",
              "      <td>1</td>\n",
              "      <td>Normal</td>\n",
              "    </tr>\n",
              "    <tr>\n",
              "      <th>2</th>\n",
              "      <td>3500</td>\n",
              "      <td>2</td>\n",
              "      <td>2</td>\n",
              "      <td>1</td>\n",
              "      <td>0</td>\n",
              "      <td>Fat</td>\n",
              "    </tr>\n",
              "    <tr>\n",
              "      <th>3</th>\n",
              "      <td>1400</td>\n",
              "      <td>0</td>\n",
              "      <td>1</td>\n",
              "      <td>0</td>\n",
              "      <td>3</td>\n",
              "      <td>Skinny</td>\n",
              "    </tr>\n",
              "    <tr>\n",
              "      <th>4</th>\n",
              "      <td>5000</td>\n",
              "      <td>2</td>\n",
              "      <td>2</td>\n",
              "      <td>2</td>\n",
              "      <td>0</td>\n",
              "      <td>Fat</td>\n",
              "    </tr>\n",
              "  </tbody>\n",
              "</table>\n",
              "</div>"
            ],
            "text/plain": [
              "  calory breakfast lunch dinner exercise body_shape\n",
              "0   1200         1     0      0        2     Skinny\n",
              "1   2800         1     1      1        1     Normal\n",
              "2   3500         2     2      1        0        Fat\n",
              "3   1400         0     1      0        3     Skinny\n",
              "4   5000         2     2      2        0        Fat"
            ]
          },
          "metadata": {
            "tags": []
          },
          "execution_count": 2
        }
      ]
    },
    {
      "cell_type": "markdown",
      "metadata": {
        "id": "RU435e2UNWgn",
        "colab_type": "text"
      },
      "source": [
        "### 2) vector 추출"
      ]
    },
    {
      "cell_type": "code",
      "metadata": {
        "id": "aTsVKtciNWgn",
        "colab_type": "code",
        "outputId": "edf1f23a-f885-462f-d9b6-ed313ca64612",
        "colab": {
          "base_uri": "https://localhost:8080/",
          "height": 202
        }
      },
      "source": [
        "# X is feature vectors\n",
        "X = df[['calory', 'breakfast', 'lunch', 'dinner', 'exercise']]\n",
        "X.head()"
      ],
      "execution_count": 0,
      "outputs": [
        {
          "output_type": "execute_result",
          "data": {
            "text/html": [
              "<div>\n",
              "<style scoped>\n",
              "    .dataframe tbody tr th:only-of-type {\n",
              "        vertical-align: middle;\n",
              "    }\n",
              "\n",
              "    .dataframe tbody tr th {\n",
              "        vertical-align: top;\n",
              "    }\n",
              "\n",
              "    .dataframe thead th {\n",
              "        text-align: right;\n",
              "    }\n",
              "</style>\n",
              "<table border=\"1\" class=\"dataframe\">\n",
              "  <thead>\n",
              "    <tr style=\"text-align: right;\">\n",
              "      <th></th>\n",
              "      <th>calory</th>\n",
              "      <th>breakfast</th>\n",
              "      <th>lunch</th>\n",
              "      <th>dinner</th>\n",
              "      <th>exercise</th>\n",
              "    </tr>\n",
              "  </thead>\n",
              "  <tbody>\n",
              "    <tr>\n",
              "      <th>0</th>\n",
              "      <td>1200</td>\n",
              "      <td>1</td>\n",
              "      <td>0</td>\n",
              "      <td>0</td>\n",
              "      <td>2</td>\n",
              "    </tr>\n",
              "    <tr>\n",
              "      <th>1</th>\n",
              "      <td>2800</td>\n",
              "      <td>1</td>\n",
              "      <td>1</td>\n",
              "      <td>1</td>\n",
              "      <td>1</td>\n",
              "    </tr>\n",
              "    <tr>\n",
              "      <th>2</th>\n",
              "      <td>3500</td>\n",
              "      <td>2</td>\n",
              "      <td>2</td>\n",
              "      <td>1</td>\n",
              "      <td>0</td>\n",
              "    </tr>\n",
              "    <tr>\n",
              "      <th>3</th>\n",
              "      <td>1400</td>\n",
              "      <td>0</td>\n",
              "      <td>1</td>\n",
              "      <td>0</td>\n",
              "      <td>3</td>\n",
              "    </tr>\n",
              "    <tr>\n",
              "      <th>4</th>\n",
              "      <td>5000</td>\n",
              "      <td>2</td>\n",
              "      <td>2</td>\n",
              "      <td>2</td>\n",
              "      <td>0</td>\n",
              "    </tr>\n",
              "  </tbody>\n",
              "</table>\n",
              "</div>"
            ],
            "text/plain": [
              "  calory breakfast lunch dinner exercise\n",
              "0   1200         1     0      0        2\n",
              "1   2800         1     1      1        1\n",
              "2   3500         2     2      1        0\n",
              "3   1400         0     1      0        3\n",
              "4   5000         2     2      2        0"
            ]
          },
          "metadata": {
            "tags": []
          },
          "execution_count": 3
        }
      ]
    },
    {
      "cell_type": "code",
      "metadata": {
        "id": "W7pLlFliNWgq",
        "colab_type": "code",
        "outputId": "94d61abc-3099-44f8-8c2d-48c957e238b6",
        "colab": {
          "base_uri": "https://localhost:8080/",
          "height": 202
        }
      },
      "source": [
        "# Y is labels\n",
        "Y = df[['body_shape']]\n",
        "Y.head()"
      ],
      "execution_count": 0,
      "outputs": [
        {
          "output_type": "execute_result",
          "data": {
            "text/html": [
              "<div>\n",
              "<style scoped>\n",
              "    .dataframe tbody tr th:only-of-type {\n",
              "        vertical-align: middle;\n",
              "    }\n",
              "\n",
              "    .dataframe tbody tr th {\n",
              "        vertical-align: top;\n",
              "    }\n",
              "\n",
              "    .dataframe thead th {\n",
              "        text-align: right;\n",
              "    }\n",
              "</style>\n",
              "<table border=\"1\" class=\"dataframe\">\n",
              "  <thead>\n",
              "    <tr style=\"text-align: right;\">\n",
              "      <th></th>\n",
              "      <th>body_shape</th>\n",
              "    </tr>\n",
              "  </thead>\n",
              "  <tbody>\n",
              "    <tr>\n",
              "      <th>0</th>\n",
              "      <td>Skinny</td>\n",
              "    </tr>\n",
              "    <tr>\n",
              "      <th>1</th>\n",
              "      <td>Normal</td>\n",
              "    </tr>\n",
              "    <tr>\n",
              "      <th>2</th>\n",
              "      <td>Fat</td>\n",
              "    </tr>\n",
              "    <tr>\n",
              "      <th>3</th>\n",
              "      <td>Skinny</td>\n",
              "    </tr>\n",
              "    <tr>\n",
              "      <th>4</th>\n",
              "      <td>Fat</td>\n",
              "    </tr>\n",
              "  </tbody>\n",
              "</table>\n",
              "</div>"
            ],
            "text/plain": [
              "  body_shape\n",
              "0     Skinny\n",
              "1     Normal\n",
              "2        Fat\n",
              "3     Skinny\n",
              "4        Fat"
            ]
          },
          "metadata": {
            "tags": []
          },
          "execution_count": 4
        }
      ]
    },
    {
      "cell_type": "markdown",
      "metadata": {
        "id": "_-jESafVNWgv",
        "colab_type": "text"
      },
      "source": [
        "### 3) feature vector 표준화"
      ]
    },
    {
      "cell_type": "code",
      "metadata": {
        "id": "jTYWHiC6NWgv",
        "colab_type": "code",
        "outputId": "daa28e1c-b8b1-4cca-a82a-d5309be748bf",
        "colab": {
          "base_uri": "https://localhost:8080/",
          "height": 204
        }
      },
      "source": [
        "from sklearn.preprocessing import StandardScaler\n",
        "x_std = StandardScaler().fit_transform(X)\n",
        "\n",
        "x_std"
      ],
      "execution_count": 0,
      "outputs": [
        {
          "output_type": "execute_result",
          "data": {
            "text/plain": [
              "array([[-1.35205803,  0.        , -1.3764944 , -1.28571429,  1.        ],\n",
              "       [ 0.01711466,  0.        , -0.22941573,  0.14285714,  0.        ],\n",
              "       [ 0.61612771,  1.29099445,  0.91766294,  0.14285714, -1.        ],\n",
              "       [-1.18091145, -1.29099445, -0.22941573, -1.28571429,  2.        ],\n",
              "       [ 1.89972711,  1.29099445,  0.91766294,  1.57142857, -1.        ],\n",
              "       [-1.26648474, -1.29099445, -1.3764944 ,  0.14285714,  1.        ],\n",
              "       [ 0.18826125,  0.        , -1.3764944 ,  0.14285714,  0.        ],\n",
              "       [ 1.04399418,  1.29099445,  0.91766294,  1.57142857, -1.        ],\n",
              "       [-0.15403193, -1.29099445,  0.91766294, -1.28571429, -1.        ],\n",
              "       [ 0.18826125,  0.        ,  0.91766294,  0.14285714,  0.        ]])"
            ]
          },
          "metadata": {
            "tags": []
          },
          "execution_count": 5
        }
      ]
    },
    {
      "cell_type": "code",
      "metadata": {
        "id": "g_KzSYIMNWgx",
        "colab_type": "code",
        "colab": {}
      },
      "source": [
        "StandardScaler?"
      ],
      "execution_count": 0,
      "outputs": []
    },
    {
      "cell_type": "code",
      "metadata": {
        "id": "2Y5sAh8VOiK4",
        "colab_type": "code",
        "outputId": "36fb5b39-c602-421f-edfb-45bf2974e6ef",
        "colab": {
          "base_uri": "https://localhost:8080/",
          "height": 55
        }
      },
      "source": [
        "print(x_std.mean())\n",
        "print(x_std.std())"
      ],
      "execution_count": 0,
      "outputs": [
        {
          "output_type": "stream",
          "text": [
            "3.552713678800501e-17\n",
            "1.0\n"
          ],
          "name": "stdout"
        }
      ]
    },
    {
      "cell_type": "code",
      "metadata": {
        "id": "tVAlWTMC7zXF",
        "colab_type": "code",
        "outputId": "bae2d374-317d-4ae6-def8-b9997705b0c6",
        "colab": {
          "base_uri": "https://localhost:8080/",
          "height": 204
        }
      },
      "source": [
        "x_std"
      ],
      "execution_count": 0,
      "outputs": [
        {
          "output_type": "execute_result",
          "data": {
            "text/plain": [
              "array([[-1.35205803,  0.        , -1.3764944 , -1.28571429,  1.        ],\n",
              "       [ 0.01711466,  0.        , -0.22941573,  0.14285714,  0.        ],\n",
              "       [ 0.61612771,  1.29099445,  0.91766294,  0.14285714, -1.        ],\n",
              "       [-1.18091145, -1.29099445, -0.22941573, -1.28571429,  2.        ],\n",
              "       [ 1.89972711,  1.29099445,  0.91766294,  1.57142857, -1.        ],\n",
              "       [-1.26648474, -1.29099445, -1.3764944 ,  0.14285714,  1.        ],\n",
              "       [ 0.18826125,  0.        , -1.3764944 ,  0.14285714,  0.        ],\n",
              "       [ 1.04399418,  1.29099445,  0.91766294,  1.57142857, -1.        ],\n",
              "       [-0.15403193, -1.29099445,  0.91766294, -1.28571429, -1.        ],\n",
              "       [ 0.18826125,  0.        ,  0.91766294,  0.14285714,  0.        ]])"
            ]
          },
          "metadata": {
            "tags": []
          },
          "execution_count": 8
        }
      ]
    },
    {
      "cell_type": "code",
      "metadata": {
        "id": "q6UAaEze75Sq",
        "colab_type": "code",
        "outputId": "9789020e-ff64-422c-a78a-63800d2c448c",
        "colab": {
          "base_uri": "https://localhost:8080/",
          "height": 204
        }
      },
      "source": [
        "x_std.T"
      ],
      "execution_count": 0,
      "outputs": [
        {
          "output_type": "execute_result",
          "data": {
            "text/plain": [
              "array([[-1.35205803,  0.01711466,  0.61612771, -1.18091145,  1.89972711,\n",
              "        -1.26648474,  0.18826125,  1.04399418, -0.15403193,  0.18826125],\n",
              "       [ 0.        ,  0.        ,  1.29099445, -1.29099445,  1.29099445,\n",
              "        -1.29099445,  0.        ,  1.29099445, -1.29099445,  0.        ],\n",
              "       [-1.3764944 , -0.22941573,  0.91766294, -0.22941573,  0.91766294,\n",
              "        -1.3764944 , -1.3764944 ,  0.91766294,  0.91766294,  0.91766294],\n",
              "       [-1.28571429,  0.14285714,  0.14285714, -1.28571429,  1.57142857,\n",
              "         0.14285714,  0.14285714,  1.57142857, -1.28571429,  0.14285714],\n",
              "       [ 1.        ,  0.        , -1.        ,  2.        , -1.        ,\n",
              "         1.        ,  0.        , -1.        , -1.        ,  0.        ]])"
            ]
          },
          "metadata": {
            "tags": []
          },
          "execution_count": 10
        }
      ]
    },
    {
      "cell_type": "markdown",
      "metadata": {
        "id": "S0OJ6rcXNWgz",
        "colab_type": "text"
      },
      "source": [
        "### 4) feature 간 공분산 행렬계산"
      ]
    },
    {
      "cell_type": "code",
      "metadata": {
        "id": "EsRD5rBxNWg1",
        "colab_type": "code",
        "outputId": "5c1e7e3f-c971-49ad-c708-964ceb525e35",
        "colab": {
          "base_uri": "https://localhost:8080/",
          "height": 107
        }
      },
      "source": [
        "import numpy as np\n",
        "\n",
        "# features are columns from x_std\n",
        "features = x_std.T \n",
        "covariance_matrix = np.cov(features)\n",
        "\n",
        "\n",
        "\n",
        "print(covariance_matrix)"
      ],
      "execution_count": 0,
      "outputs": [
        {
          "output_type": "stream",
          "text": [
            "[[ 1.11111111  0.88379717  0.76782385  0.89376551 -0.93179808]\n",
            " [ 0.88379717  1.11111111  0.49362406  0.81967902 -0.71721914]\n",
            " [ 0.76782385  0.49362406  1.11111111  0.40056715 -0.76471911]\n",
            " [ 0.89376551  0.81967902  0.40056715  1.11111111 -0.63492063]\n",
            " [-0.93179808 -0.71721914 -0.76471911 -0.63492063  1.11111111]]\n"
          ],
          "name": "stdout"
        }
      ]
    },
    {
      "cell_type": "code",
      "metadata": {
        "id": "dcCx3i7e8ihj",
        "colab_type": "code",
        "outputId": "412fbcb0-959c-4fa2-9b43-95982bf6491c",
        "colab": {
          "base_uri": "https://localhost:8080/",
          "height": 111
        }
      },
      "source": [
        "x_std.T.dot(x_std)"
      ],
      "execution_count": 0,
      "outputs": [
        {
          "output_type": "execute_result",
          "data": {
            "text/plain": [
              "array([[10.        ,  7.95417455,  6.91041467,  8.04388957, -8.38618274],\n",
              "       [ 7.95417455, 10.        ,  4.44261658,  7.37711114, -6.45497224],\n",
              "       [ 6.91041467,  4.44261658, 10.        ,  3.60510439, -6.88247202],\n",
              "       [ 8.04388957,  7.37711114,  3.60510439, 10.        , -5.71428571],\n",
              "       [-8.38618274, -6.45497224, -6.88247202, -5.71428571, 10.        ]])"
            ]
          },
          "metadata": {
            "tags": []
          },
          "execution_count": 14
        }
      ]
    },
    {
      "cell_type": "markdown",
      "metadata": {
        "id": "fPQTE54yNWg2",
        "colab_type": "text"
      },
      "source": [
        "### 5) 고유 벡터(Eigen Vectors)와 고유값(Eigen Values) 산출"
      ]
    },
    {
      "cell_type": "code",
      "metadata": {
        "id": "SZM7B525NWg3",
        "colab_type": "code",
        "outputId": "886fe569-d23a-4947-b8ee-29da6c72583f",
        "colab": {
          "base_uri": "https://localhost:8080/",
          "height": 161
        }
      },
      "source": [
        "eig_vals, eig_vecs = np.linalg.eig(covariance_matrix)\n",
        "print('Eigenvalues \\n%s' %eig_vals)\n",
        "print('Eigenvectors \\n%s' %eig_vecs)"
      ],
      "execution_count": 0,
      "outputs": [
        {
          "output_type": "stream",
          "text": [
            "Eigenvalues \n",
            "[4.0657343  0.8387565  0.07629538 0.27758568 0.2971837 ]\n",
            "Eigenvectors \n",
            "[[-0.508005   -0.0169937  -0.84711404  0.11637853  0.10244985]\n",
            " [-0.44660335 -0.36890361  0.12808055 -0.63112016 -0.49973822]\n",
            " [-0.38377913  0.70804084  0.20681005 -0.40305226  0.38232213]\n",
            " [-0.42845209 -0.53194699  0.3694462   0.22228235  0.58954327]\n",
            " [ 0.46002038 -0.2816592  -0.29450345 -0.61341895  0.49601841]]\n"
          ],
          "name": "stdout"
        }
      ]
    },
    {
      "cell_type": "code",
      "metadata": {
        "id": "gswIA3qUNWg7",
        "colab_type": "code",
        "outputId": "49b690cf-2d95-4027-a5ec-c729217457ee",
        "colab": {
          "base_uri": "https://localhost:8080/",
          "height": 35
        }
      },
      "source": [
        "# 1개 차원으로 축소했을때 73%의 정보를 보유\n",
        "eig_vals[0] / sum(eig_vals)"
      ],
      "execution_count": 0,
      "outputs": [
        {
          "output_type": "execute_result",
          "data": {
            "text/plain": [
              "0.7318321731427544"
            ]
          },
          "metadata": {
            "tags": []
          },
          "execution_count": 27
        }
      ]
    },
    {
      "cell_type": "markdown",
      "metadata": {
        "id": "Iz3WqbWdNWg9",
        "colab_type": "text"
      },
      "source": [
        "### 6) 고유벡터(Eigen Vector)를 기준으로 데이터를 투영"
      ]
    },
    {
      "cell_type": "code",
      "metadata": {
        "id": "g1Z4VErxNWg9",
        "colab_type": "code",
        "outputId": "dce8eaea-c65d-4757-dfbe-e2d3a86773dc",
        "colab": {
          "base_uri": "https://localhost:8080/",
          "height": 53
        }
      },
      "source": [
        "projected_X = x_std.dot(eig_vecs.T[0])\n",
        "projected_X"
      ],
      "execution_count": 0,
      "outputs": [
        {
          "output_type": "execute_result",
          "data": {
            "text/plain": [
              "array([ 2.22600943,  0.0181432 , -1.76296611,  2.73542407, -3.02711544,\n",
              "        2.14702579,  0.37142473, -2.59239883,  0.39347815, -0.50902498])"
            ]
          },
          "metadata": {
            "tags": []
          },
          "execution_count": 48
        }
      ]
    },
    {
      "cell_type": "code",
      "metadata": {
        "id": "-ZBMM62kNWhJ",
        "colab_type": "code",
        "outputId": "f50d9c55-8e1c-4ed3-ea81-a17cb5bcd599",
        "colab": {
          "base_uri": "https://localhost:8080/",
          "height": 204
        }
      },
      "source": [
        "result = pd.DataFrame(projected_X, columns=['PC1'])\n",
        "result['y-axis'] = 0.0\n",
        "result['label'] = Y\n",
        "result.head()"
      ],
      "execution_count": 0,
      "outputs": [
        {
          "output_type": "execute_result",
          "data": {
            "text/html": [
              "<div>\n",
              "<style scoped>\n",
              "    .dataframe tbody tr th:only-of-type {\n",
              "        vertical-align: middle;\n",
              "    }\n",
              "\n",
              "    .dataframe tbody tr th {\n",
              "        vertical-align: top;\n",
              "    }\n",
              "\n",
              "    .dataframe thead th {\n",
              "        text-align: right;\n",
              "    }\n",
              "</style>\n",
              "<table border=\"1\" class=\"dataframe\">\n",
              "  <thead>\n",
              "    <tr style=\"text-align: right;\">\n",
              "      <th></th>\n",
              "      <th>PC1</th>\n",
              "      <th>y-axis</th>\n",
              "      <th>label</th>\n",
              "    </tr>\n",
              "  </thead>\n",
              "  <tbody>\n",
              "    <tr>\n",
              "      <th>0</th>\n",
              "      <td>2.226009</td>\n",
              "      <td>0.0</td>\n",
              "      <td>Skinny</td>\n",
              "    </tr>\n",
              "    <tr>\n",
              "      <th>1</th>\n",
              "      <td>0.018143</td>\n",
              "      <td>0.0</td>\n",
              "      <td>Normal</td>\n",
              "    </tr>\n",
              "    <tr>\n",
              "      <th>2</th>\n",
              "      <td>-1.762966</td>\n",
              "      <td>0.0</td>\n",
              "      <td>Fat</td>\n",
              "    </tr>\n",
              "    <tr>\n",
              "      <th>3</th>\n",
              "      <td>2.735424</td>\n",
              "      <td>0.0</td>\n",
              "      <td>Skinny</td>\n",
              "    </tr>\n",
              "    <tr>\n",
              "      <th>4</th>\n",
              "      <td>-3.027115</td>\n",
              "      <td>0.0</td>\n",
              "      <td>Fat</td>\n",
              "    </tr>\n",
              "  </tbody>\n",
              "</table>\n",
              "</div>"
            ],
            "text/plain": [
              "        PC1  y-axis   label\n",
              "0  2.226009     0.0  Skinny\n",
              "1  0.018143     0.0  Normal\n",
              "2 -1.762966     0.0     Fat\n",
              "3  2.735424     0.0  Skinny\n",
              "4 -3.027115     0.0     Fat"
            ]
          },
          "metadata": {
            "tags": []
          },
          "execution_count": 29
        }
      ]
    },
    {
      "cell_type": "code",
      "metadata": {
        "id": "qpgqiL4QNWhM",
        "colab_type": "code",
        "outputId": "0db1ecfc-ea04-44d8-c648-bd68cbd6b7f2",
        "colab": {
          "base_uri": "https://localhost:8080/",
          "height": 400
        }
      },
      "source": [
        "import matplotlib.pyplot as plt\n",
        "import seaborn as sns\n",
        "%matplotlib inline\n",
        "\n",
        "sns.lmplot('PC1', 'y-axis', data=result, fit_reg=False,  # x-axis, y-axis, data, no line\n",
        "           scatter_kws={\"s\": 50}, # marker size\n",
        "           hue=\"label\") # color\n",
        "\n",
        "# title\n",
        "plt.title('PCA result')"
      ],
      "execution_count": 0,
      "outputs": [
        {
          "output_type": "execute_result",
          "data": {
            "text/plain": [
              "Text(0.5, 1.0, 'PCA result')"
            ]
          },
          "metadata": {
            "tags": []
          },
          "execution_count": 30
        },
        {
          "output_type": "display_data",
          "data": {
            "image/png": "[encoded data removed]",
            "text/plain": [
              "<Figure size 432.25x360 with 1 Axes>"
            ]
          },
          "metadata": {
            "tags": []
          }
        }
      ]
    },
    {
      "cell_type": "markdown",
      "metadata": {
        "id": "ZJ6gr23YPhfr",
        "colab_type": "text"
      },
      "source": [
        "\n",
        "\n",
        "---\n",
        "\n"
      ]
    },
    {
      "cell_type": "markdown",
      "metadata": {
        "id": "VhprUX7gNWhP",
        "colab_type": "text"
      },
      "source": [
        "## 2.3 scikit-learn 활용 PCA"
      ]
    },
    {
      "cell_type": "code",
      "metadata": {
        "id": "8hNAo6pDNWhQ",
        "colab_type": "code",
        "outputId": "f9373094-f813-4ce7-b420-3fb16e6a312b",
        "colab": {
          "base_uri": "https://localhost:8080/",
          "height": 197
        }
      },
      "source": [
        "from sklearn import decomposition\n",
        "pca = decomposition.PCA(n_components=1)\n",
        "sklearn_pca_x = pca.fit_transform(x_std)\n",
        "sklearn_pca_x"
      ],
      "execution_count": 0,
      "outputs": [
        {
          "output_type": "execute_result",
          "data": {
            "text/plain": [
              "array([[-2.22600943],\n",
              "       [-0.0181432 ],\n",
              "       [ 1.76296611],\n",
              "       [-2.73542407],\n",
              "       [ 3.02711544],\n",
              "       [-2.14702579],\n",
              "       [-0.37142473],\n",
              "       [ 2.59239883],\n",
              "       [-0.39347815],\n",
              "       [ 0.50902498]])"
            ]
          },
          "metadata": {
            "tags": []
          },
          "execution_count": 31
        }
      ]
    },
    {
      "cell_type": "code",
      "metadata": {
        "id": "uMdCh2hFNWhR",
        "colab_type": "code",
        "outputId": "b3d21a10-f364-4fcc-f441-e0b79d695476",
        "colab": {
          "base_uri": "https://localhost:8080/",
          "height": 387
        }
      },
      "source": [
        "sklearn_result = pd.DataFrame(sklearn_pca_x, columns=['PC1'])\n",
        "sklearn_result['y-axis'] = 0.0\n",
        "sklearn_result['label'] = Y\n",
        "\n",
        "sns.lmplot('PC1', 'y-axis', data=sklearn_result, fit_reg=False,  # x-axis, y-axis, data, no line\n",
        "           scatter_kws={\"s\": 50}, # marker size\n",
        "           hue=\"label\") # color"
      ],
      "execution_count": 0,
      "outputs": [
        {
          "output_type": "execute_result",
          "data": {
            "text/plain": [
              "<seaborn.axisgrid.FacetGrid at 0x7f1d22654f60>"
            ]
          },
          "metadata": {
            "tags": []
          },
          "execution_count": 32
        },
        {
          "output_type": "display_data",
          "data": {
            "image/png": "[encoded data removed]",
            "text/plain": [
              "<Figure size 432.25x360 with 1 Axes>"
            ]
          },
          "metadata": {
            "tags": []
          }
        }
      ]
    },
    {
      "cell_type": "code",
      "metadata": {
        "id": "ZRbZndmmcqMe",
        "colab_type": "code",
        "outputId": "febe1b28-1258-44bf-a144-a69fed514853",
        "colab": {
          "base_uri": "https://localhost:8080/",
          "height": 197
        }
      },
      "source": [
        "from sklearn import decomposition\n",
        "pca = decomposition.PCA(n_components=2)\n",
        "sklearn_pca_x = pca.fit_transform(x_std)\n",
        "sklearn_pca_x"
      ],
      "execution_count": 0,
      "outputs": [
        {
          "output_type": "execute_result",
          "data": {
            "text/plain": [
              "array([[-2.22600943, -0.54936514],\n",
              "       [-0.0181432 , -0.23871898],\n",
              "       [ 1.76296611,  0.36868681],\n",
              "       [-2.73542407,  0.4544983 ],\n",
              "       [ 3.02711544, -0.41305057],\n",
              "       [-2.14702579, -0.83449111],\n",
              "       [-0.37142473, -1.05380594],\n",
              "       [ 2.59239883, -0.3985085 ],\n",
              "       [-0.39347815,  2.09420397],\n",
              "       [ 0.50902498,  0.57055116]])"
            ]
          },
          "metadata": {
            "tags": []
          },
          "execution_count": 33
        }
      ]
    },
    {
      "cell_type": "code",
      "metadata": {
        "id": "MVe_ILkacs95",
        "colab_type": "code",
        "outputId": "a4e39e5c-3a4b-4f4c-f50e-7bd31213ccc8",
        "colab": {
          "base_uri": "https://localhost:8080/",
          "height": 387
        }
      },
      "source": [
        "sklearn_result = pd.DataFrame(sklearn_pca_x, columns=['PC1', 'PC2'])\n",
        "sklearn_result['label'] = Y\n",
        "\n",
        "sns.lmplot('PC1', 'PC2', data=sklearn_result, fit_reg=False,  # x-axis, y-axis, data, no line\n",
        "           scatter_kws={\"s\": 50}, # marker size\n",
        "           hue=\"label\") # color"
      ],
      "execution_count": 0,
      "outputs": [
        {
          "output_type": "execute_result",
          "data": {
            "text/plain": [
              "<seaborn.axisgrid.FacetGrid at 0x7f1d1fd33278>"
            ]
          },
          "metadata": {
            "tags": []
          },
          "execution_count": 34
        },
        {
          "output_type": "display_data",
          "data": {
            "image/png": "[encoded data removed]",
            "text/plain": [
              "<Figure size 432.25x360 with 1 Axes>"
            ]
          },
          "metadata": {
            "tags": []
          }
        }
      ]
    },
    {
      "cell_type": "markdown",
      "metadata": {
        "id": "qxxHu8ooPgJ0",
        "colab_type": "text"
      },
      "source": [
        "\n",
        "\n",
        "---\n",
        "\n"
      ]
    },
    {
      "cell_type": "markdown",
      "metadata": {
        "id": "hYOj8UoxktAx",
        "colab_type": "text"
      },
      "source": [
        "# 2 특이값 분해(SVD, Singular Value Decomposion)"
      ]
    },
    {
      "cell_type": "markdown",
      "metadata": {
        "id": "niCjSM0B-ttO",
        "colab_type": "text"
      },
      "source": [
        "![대체 텍스트](https://wikimedia.org/api/rest_v1/media/math/render/svg/2ab6bd797a2b7652b0a54894bb3825756e8f9c6c)"
      ]
    },
    {
      "cell_type": "code",
      "metadata": {
        "id": "Tq075M816C0Z",
        "colab_type": "code",
        "colab": {}
      },
      "source": [
        "A = np.array([[1, 0, 0, 0, 2],\n",
        "              [0, 0, 3, 0, 0],\n",
        "              [0, 0, 0, 0, 0],\n",
        "              [0, 2, 0, 0, 0]])"
      ],
      "execution_count": 0,
      "outputs": []
    },
    {
      "cell_type": "markdown",
      "metadata": {
        "id": "zvotobJQ54Br",
        "colab_type": "text"
      },
      "source": [
        "## 2.1 특이값 분해"
      ]
    },
    {
      "cell_type": "markdown",
      "metadata": {
        "id": "E3Rr2p35_6KE",
        "colab_type": "text"
      },
      "source": [
        "![대체 텍스트](https://wikimedia.org/api/rest_v1/media/math/render/svg/8d164e57dfbf6318e5cdc21a1c24fcc6c3cea0c4)"
      ]
    },
    {
      "cell_type": "code",
      "metadata": {
        "id": "gFgP-USmkznm",
        "colab_type": "code",
        "outputId": "9bfd02cf-3bc3-4ee7-ae13-790d30bdab1c",
        "colab": {
          "base_uri": "https://localhost:8080/",
          "height": 251
        }
      },
      "source": [
        "import numpy as np\n",
        "\n",
        "# SVD\n",
        "U, s, VT = np.linalg.svd(A)\n",
        "\n",
        "print(\"U:\\n {}\".format(U))\n",
        "print(\"s:\\n {}\".format(s))\n",
        "print(\"VT:\\n {}\".format(VT))"
      ],
      "execution_count": 0,
      "outputs": [
        {
          "output_type": "stream",
          "text": [
            "U:\n",
            " [[ 0.  1.  0.  0.]\n",
            " [ 1.  0.  0.  0.]\n",
            " [ 0.  0.  0. -1.]\n",
            " [ 0.  0.  1.  0.]]\n",
            "s:\n",
            " [3.    2.236 2.    0.   ]\n",
            "VT:\n",
            " [[-0.     0.     1.    -0.     0.   ]\n",
            " [ 0.447  0.     0.     0.     0.894]\n",
            " [-0.     1.     0.    -0.     0.   ]\n",
            " [ 0.     0.     0.     1.     0.   ]\n",
            " [-0.894  0.     0.     0.     0.447]]\n"
          ],
          "name": "stdout"
        }
      ]
    },
    {
      "cell_type": "code",
      "metadata": {
        "id": "osRN2r6QFPb1",
        "colab_type": "code",
        "outputId": "cc77a04f-ad62-4136-ad9b-50b9361954b5",
        "colab": {
          "base_uri": "https://localhost:8080/",
          "height": 305
        }
      },
      "source": [
        "import numpy as np\n",
        "\n",
        "a = np.array([[1, 1, 1, 0, 0],\n",
        "              [3, 3, 3, 0, 0],\n",
        "              [4, 4, 4, 0, 0],\n",
        "              [5, 5, 5, 0, 0],\n",
        "              [0, 2, 0, 4, 4],\n",
        "              [0, 0, 0, 5, 5],\n",
        "              [0, 1, 0, 2, 2]])\n",
        "\n",
        "\n",
        "U, s, VT = np.linalg.svd(a)\n",
        "\n",
        "print(\"U:\\n {}\".format(U))\n",
        "print(\"s:\\n {}\".format(s))\n",
        "print(\"VT:\\n {}\".format(VT))"
      ],
      "execution_count": 0,
      "outputs": [
        {
          "output_type": "stream",
          "text": [
            "U:\n",
            " [[-0.138 -0.024 -0.011  0.56  -0.376 -0.7   -0.188]\n",
            " [-0.413 -0.071 -0.032  0.206  0.756 -0.258  0.378]\n",
            " [-0.55  -0.094 -0.043 -0.725 -0.185 -0.344 -0.092]\n",
            " [-0.688 -0.118 -0.054  0.344 -0.231  0.57  -0.115]\n",
            " [-0.153  0.591  0.654  0.     0.2    0.    -0.4  ]\n",
            " [-0.072  0.731 -0.678  0.     0.     0.     0.   ]\n",
            " [-0.076  0.296  0.327  0.    -0.4    0.     0.8  ]]\n",
            "s:\n",
            " [12.481  9.509  1.346  0.     0.   ]\n",
            "VT:\n",
            " [[-0.562 -0.593 -0.562 -0.09  -0.09 ]\n",
            " [-0.127  0.029 -0.127  0.695  0.695]\n",
            " [-0.41   0.805 -0.41  -0.091 -0.091]\n",
            " [-0.707  0.     0.707  0.     0.   ]\n",
            " [ 0.    -0.     0.    -0.707  0.707]]\n"
          ],
          "name": "stdout"
        }
      ]
    },
    {
      "cell_type": "markdown",
      "metadata": {
        "id": "VEmZejoD5yiq",
        "colab_type": "text"
      },
      "source": [
        "## 2.2 이미지에 적용한 특이값 분해"
      ]
    },
    {
      "cell_type": "code",
      "metadata": {
        "id": "50eOYv2a5uV5",
        "colab_type": "code",
        "colab": {}
      },
      "source": [
        "import os\n",
        "import numpy as np\n",
        "from PIL import Image\n",
        "import matplotlib.pyplot as plt\n",
        "%matplotlib inline\n",
        "\n",
        "path = 'test.JPG'\n",
        "\n",
        "#이미지 파일 열기\n",
        "img = Image.open(path)\n",
        "\n",
        "#파일 크기 계산\n",
        "s = float(os.path.getsize(path))/1000\n",
        "print(\"Size(dimension): \",img.size)\n",
        "plt.title(\"Original Image (%0.2f Kb):\" %s)\n",
        "plt.imshow(img)\n",
        "\n",
        "# gray 스케일로 변환\n",
        "imggray = img.convert('LA')\n",
        "imgmat = np.array( list(imggray.getdata(band = 0)), float)\n",
        "\n",
        "# 이미지 크기(가로, 세로)로 reshape\n",
        "imgmat.shape = (imggray.size[1], imggray.size[0])\n",
        "imgmat = np.matrix(imgmat)\n",
        "plt.figure()\n",
        "plt.imshow(imgmat, cmap = 'gray')\n",
        "plt.title(\"Image after converting it into the Grayscale pattern\")\n",
        "plt.show()\n",
        "\n",
        "print(\"After compression: \")\n",
        "U, S, Vt = np.linalg.svd(imgmat) #single value decomposition\n",
        "\n",
        "# 5, 25, 45 개의 특이값을 적용하여 이미지 압축\n",
        "for i in range(5, 51, 20):\n",
        "    cmpimg = np.matrix(U[:, :i]) * np.diag(S[:i]) * np.matrix(Vt[:i,:])\n",
        "    plt.imshow(cmpimg, cmap = 'gray')\n",
        "    title = \" Image after =  %s\" %i\n",
        "    plt.title(title)\n",
        "    plt.show()\n",
        "    result = Image.fromarray((cmpimg ).astype(np.uint8))"
      ],
      "execution_count": 0,
      "outputs": []
    },
    {
      "cell_type": "code",
      "metadata": {
        "id": "_oi3t7D2LGA7",
        "colab_type": "code",
        "colab": {}
      },
      "source": [
        ""
      ],
      "execution_count": 0,
      "outputs": []
    }
  ]
}