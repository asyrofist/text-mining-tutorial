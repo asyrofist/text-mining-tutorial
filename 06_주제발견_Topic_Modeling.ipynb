{
 "cells": [
  {
   "cell_type": "markdown",
   "metadata": {
    "colab_type": "text",
    "id": "view-in-github"
   },
   "source": [
    "<a href=\"https://colab.research.google.com/github/fininsight/text-mining-tutorial/blob/master/5_%EC%A3%BC%EC%A0%9C%EC%96%B4_%EC%B0%BE%EA%B8%B0_Topic_Modeling.ipynb\" target=\"_parent\"><img src=\"https://colab.research.google.com/assets/colab-badge.svg\" alt=\"Open In Colab\"/></a>"
   ]
  },
  {
   "cell_type": "markdown",
   "metadata": {
    "colab_type": "text",
    "id": "r-B1EbkAm9PF"
   },
   "source": [
    "# 주제어 찾기 (Topic Modeling)"
   ]
  },
  {
   "cell_type": "code",
   "execution_count": 0,
   "metadata": {
    "colab": {},
    "colab_type": "code",
    "id": "8RsErdJ2rqRy"
   },
   "outputs": [],
   "source": [
    "#https://www.businessinsider.sg/faang-stocks-are-a-dead-trade-for-the-next-several-months-2018-3/amp/\n",
    "\n",
    "Text = \"The FAANG stocks won’t see much more growth in the near future, according to Bill Studebaker, founder and Chief Investment Officer of Robo Global. \\\n",
    "Studebaker argues we are seeing a 'reallocation' that will continue from large-cap tech stocks into market-weight stocks. \\\n",
    "The FAANG stocks have had a rough few weeks, and have been hit hard since March 12. \\\n",
    "One FAANG to look out for, in the midst of all this, is Amazon, according to Studebaker. \\\n",
    "The stock market is seeing a 'reallocation' out of FAANG stocks, which are not where the smart money is, founder and Chief Investment Officer of Robo Global Bill Studebaker told Business Insider. \\\n",
    "The FAANG stocks (Facebook, Apple, Amazon, Netflix, Google) are all down considerably since March 12, a trend that accelerated when news of a massive Facebook data scandal broke, sending the tech-heavy Nasdaq into a downward frenzy. \\\n",
    "Investors are wondering what’s next. \\\n",
    "And what’s next isn’t good news for FAANG stock optimists, Studebaker thinks. 'This is a dead trade' for the next several months, he said. 'I wouldn’t expect there to be a lot of performance attribution coming from the FAANG stocks,' he added. That is, if the stock market is to see gains in the next several months, they will largely not come from the big tech companies. \\\n",
    "The market is seeing a 'reallocation out of large-cap technology, into other parts of the market,' he said. And this trend could continue for the foreseeable future. 'When you get these reallocation trades, a de-risking, this can go on for months and months.' The FAANG’s are pricey stocks, he said, pointing out that investors will 'factor in the law of big numbers,' he said. 'Just because they’re big cap doesn’t mean they’re safe,' he added. \\\n",
    "Still, he doesn’t necessarily think that investors are going to shift drastically into value stocks. 'With an increasingly favorable macro backdrop, you have strong growth demand.' \\\n",
    "Studebaker, who runs an artificial intelligence and robotics exchange-traded fund with $4 billion in assets under management, thinks that AI and robotics are better areas of growth. His ETF is up 27% in the past year, while the FAANG stocks are also largely up over that same span, even if they are down since March 12. \\\n",
    "While many point to artificial intelligence as an area that will be a boost to Google and Amazon, Studebaker doesn’t see that as a sign of significant growth for the FAANGs. He pointed out that 'eighty to ninety percent of their businesses are still search,' and that 'AI doesn’t really move the needle on the business.' He also said 'the revenue mix [attributable to AI] in those businesses are insignificant.' \\\n",
    "And while he’s not bullish on FAANG’s, he does say that the one FAANG to still watch out for is Amazon, simply because ecommerce still represents a small portion of the global retail market, giving the company room to grow.\" "
   ]
  },
  {
   "cell_type": "markdown",
   "metadata": {
    "colab_type": "text",
    "id": "h5M7ebmKhKdT"
   },
   "source": [
    "# 1 LSA (Latent Sematic Analysis, 잠재의미분석)\n",
    "https://wikidocs.net/24949"
   ]
  },
  {
   "cell_type": "markdown",
   "metadata": {
    "colab_type": "text",
    "id": "sqsIyzG-1a2-"
   },
   "source": [
    "## 1.1 특이값 분해(SVD, Singular Value Decomposion)"
   ]
  },
  {
   "cell_type": "markdown",
   "metadata": {
    "colab_type": "text",
    "id": "kj24DdwlUSDr"
   },
   "source": [
    "![대체 텍스트](http://i.imgur.com/lP44bGq.png)\n",
    "출처 :\n",
    "https://ratsgo.github.io/from%20frequency%20to%20semantics/2017/04/06/pcasvdlsa/"
   ]
  },
  {
   "cell_type": "code",
   "execution_count": 39,
   "metadata": {
    "colab": {
     "base_uri": "https://localhost:8080/",
     "height": 179
    },
    "colab_type": "code",
    "id": "rkaezZcE1hYd",
    "outputId": "e55d5d42-2bb5-4675-c2ce-49c6d84e0a3b"
   },
   "outputs": [
    {
     "name": "stdout",
     "output_type": "stream",
     "text": [
      "[[-0.58189652 -0.81326284]\n",
      " [-0.81326284  0.58189652]]\n",
      "[1.49065822 0.71444949]\n",
      "[[-0.63586997 -0.77179621]\n",
      " [-0.77179621  0.63586997]]\n",
      "True\n",
      "[-0.]\n",
      "[[1. 1.]]\n",
      "True\n"
     ]
    }
   ],
   "source": [
    "import numpy as np\n",
    "\n",
    "A = np.matrix([[1, 0.3], [0.45, 1.2]])\n",
    "U, s, V = np.linalg.svd(A)\n",
    "\n",
    "# We will use our created matrix A for this.\n",
    "# print the matrices U, s, V\n",
    "\n",
    "print(U)\n",
    "print(s)\n",
    "print(V)\n",
    "\n",
    "# Lets verify some properties of the SVD matrices.\n",
    "# Verify calculation of A=USV\n",
    "print(np.allclose(A, U * np.diag(s) * V))\n",
    "\n",
    "# Verify orthonormal properties of U and V. (Peformed on U but the same applies for V).\n",
    "#  1) Dot product between columns = 0\n",
    "print(np.round([np.dot(U[:, i-1].A1,  U[:, i].A1) for i in range(1, len(U))]))\n",
    "\n",
    "\n",
    "#  2) Columns are unit vectors (length = 1)\n",
    "print(np.round(np.sum((U*U), 0)))\n",
    "\n",
    "\n",
    "#  3) Multiplying by its transpose = identity matrix\n",
    "print(np.allclose(U.T * U, np.identity(len(U))))"
   ]
  },
  {
   "cell_type": "markdown",
   "metadata": {
    "colab_type": "text",
    "id": "EHKIcwjHUa01"
   },
   "source": [
    "http://timbaumann.info/svd-image-compression-demo/\n"
   ]
  },
  {
   "cell_type": "markdown",
   "metadata": {
    "colab_type": "text",
    "id": "jNQ1f1Iv1ekp"
   },
   "source": [
    "## 1.2 LSA 실습"
   ]
  },
  {
   "cell_type": "code",
   "execution_count": 0,
   "metadata": {
    "colab": {},
    "colab_type": "code",
    "id": "Ck-LYsHurxDk"
   },
   "outputs": [],
   "source": [
    "import numpy as np\n",
    "import pylab\n",
    "import re\n",
    "from scipy import linalg\n",
    "from matplotlib import pyplot"
   ]
  },
  {
   "cell_type": "code",
   "execution_count": 26,
   "metadata": {
    "colab": {
     "base_uri": "https://localhost:8080/",
     "height": 53
    },
    "colab_type": "code",
    "id": "F1WiKSsKr4ah",
    "outputId": "07eacc14-da5f-4710-8809-ca123ff1e0e7"
   },
   "outputs": [
    {
     "name": "stdout",
     "output_type": "stream",
     "text": [
      "[nltk_data] Downloading package punkt to /root/nltk_data...\n",
      "[nltk_data]   Package punkt is already up-to-date!\n"
     ]
    }
   ],
   "source": [
    "import nltk\n",
    "nltk.download('punkt')\n",
    "from nltk.tokenize import sent_tokenize\n",
    "documents = sent_tokenize(Text)"
   ]
  },
  {
   "cell_type": "code",
   "execution_count": 0,
   "metadata": {
    "colab": {},
    "colab_type": "code",
    "id": "IqfQDJs-tBwA"
   },
   "outputs": [],
   "source": [
    "from nltk.tokenize import TreebankWordTokenizer\n",
    "\n",
    "stopwords = ['a','an', 'after', 'also', 'and', 'as', 'be', 'being', 'but', 'by', 'd', 'for', 'from', 'he', 'her', 'his', 'in', 'is', 'more', 'of', 'often', 'the', 'to', 'who', 'with', 'people']\n",
    "punctuation_regex = '[,.;\"]+’'\n",
    "dictionary = {}\n",
    "\n",
    "currentDocId = 0\n",
    "\n",
    "for d in documents:\n",
    "    words = TreebankWordTokenizer().tokenize(d)\n",
    "    for w in words:\n",
    "        w = re.sub(punctuation_regex, '', w.lower())\n",
    "        if w in stopwords:\n",
    "            continue\n",
    "        elif w in dictionary:\n",
    "            dictionary[w].append(currentDocId)\n",
    "        else:\n",
    "            dictionary[w] = [currentDocId]\n",
    "    currentDocId += 1"
   ]
  },
  {
   "cell_type": "code",
   "execution_count": 51,
   "metadata": {
    "colab": {
     "base_uri": "https://localhost:8080/",
     "height": 91
    },
    "colab_type": "code",
    "id": "QrzLKKhqtFpO",
    "outputId": "4b0b1946-370e-411b-d1f9-8e4e55a36fa2"
   },
   "outputs": [
    {
     "name": "stdout",
     "output_type": "stream",
     "text": [
      "keywords:\n",
      " [\"'\", \"'reallocation\", ',', '.', '12', 'according', 'added', 'ai', 'all', 'amazon', 'are', 'artificial', 'because', 'big', 'bill', 'business', 'businesses', 'chief', 'continue', 'doesn', 'down', 'faang', 'facebook', 'founder', 'future', 'global', 'google', 'growth', 'have', 'if', 'intelligence', 'into', 'investment', 'investors', 'large-cap', 'largely', 'march', 'market', 'months', 'news', 'next', 'not', 'officer', 'on', 'one', 'out', 're', 'robo', 'robotics', 's', 'said', 'see', 'seeing', 'several', 'since', 'still', 'stock', 'stocks', 'studebaker', 't', 'tech', 'that', 'they', 'thinks', 'this', 'trend', 'up', 'what', 'while', 'will', 'you', '’'] \n",
      "\n"
     ]
    }
   ],
   "source": [
    "keywords = [k for k in dictionary.keys() if len(dictionary[k]) > 1]\n",
    "keywords.sort()\n",
    "print(\"keywords:\\n\", keywords, \"\\n\")\n",
    "\n",
    "X = np.zeros([len(keywords), currentDocId])\n",
    "for i, k in enumerate(keywords):\n",
    "    for d in dictionary[k]:\n",
    "        X[i,d] += 1\n"
   ]
  },
  {
   "cell_type": "code",
   "execution_count": 52,
   "metadata": {
    "colab": {
     "base_uri": "https://localhost:8080/",
     "height": 2159
    },
    "colab_type": "code",
    "id": "HGTAvWRRtHMp",
    "outputId": "4675203b-78a3-4a98-ec23-eb8135bc1483"
   },
   "outputs": [
    {
     "name": "stdout",
     "output_type": "stream",
     "text": [
      "U:\n",
      " [[-1.47935940e-01 -2.24396027e-01  3.54346273e-01 ...  4.60631664e-02\n",
      "  -9.58754399e-02  5.07483689e-02]\n",
      " [-4.09482100e-02 -6.02147521e-04  2.05939480e-01 ... -2.81523994e-01\n",
      "   3.90099004e-02  1.68780810e-01]\n",
      " [-7.21209876e-01  3.69329313e-01 -2.22001049e-01 ...  4.75633991e-02\n",
      "  -7.54473056e-02 -4.19928921e-02]\n",
      " ...\n",
      " [-5.95314671e-02 -5.29311082e-02  1.38848662e-01 ...  6.62530372e-01\n",
      "  -6.89465949e-02 -1.47822447e-02]\n",
      " [-1.92733119e-02  9.37229653e-03  2.17682822e-02 ... -2.30645855e-02\n",
      "   5.60574964e-01  3.71287422e-03]\n",
      " [-2.08127572e-01 -5.82824901e-01 -3.00108872e-01 ...  3.68075553e-03\n",
      "  -4.97622761e-03  3.91769713e-01]] \n",
      "\n",
      "SIGMA:\n",
      " [13.29890138  6.11406754  5.13375945  4.87755457  4.47442601  4.19314296\n",
      "  4.12745406  3.83351322  3.48159732  3.36684033  3.11734045  2.90481866\n",
      "  2.83146058  2.61253383  2.32092955  2.23170649  2.07723409  1.97895476\n",
      "  1.8555736   1.65696665  1.51747168  1.38609072  1.2650771   1.09993151] \n",
      "\n",
      "V:\n",
      " [[-0.22290056 -0.11593758 -0.12480809 -0.23846579 -0.24442667 -0.46057706\n",
      "  -0.06728862 -0.160563   -0.10361015 -0.14234361 -0.19356487 -0.18420195\n",
      "  -0.03219291 -0.15901242 -0.30790842 -0.16878083 -0.15980085 -0.09730145\n",
      "  -0.18440264 -0.2390741  -0.17429224 -0.19350107 -0.05686025 -0.33618209]\n",
      " [-0.06956448 -0.07726617  0.12816292  0.17864998  0.02280567  0.54981404\n",
      "  -0.17589105 -0.25703977 -0.01679792 -0.14947783  0.00965341  0.05077893\n",
      "  -0.01161359  0.05855642 -0.05391446 -0.51880757 -0.17011987 -0.00125356\n",
      "   0.05542048  0.1860321  -0.20209715 -0.30574972 -0.07509654 -0.18305701]\n",
      " [ 0.00375237  0.54658777  0.02028919 -0.18879513  0.30372242 -0.19607955\n",
      "  -0.0030321  -0.20404424  0.10592499  0.01819424  0.07280818  0.20693356\n",
      "   0.05495635  0.02979145  0.0760588  -0.17826037  0.09533542  0.08196167\n",
      "   0.11002407  0.13656269  0.01736089  0.20146957  0.22527486 -0.50347817]\n",
      " [-0.39515814  0.03252403  0.04507496 -0.17019095 -0.56554152  0.24609457\n",
      "   0.05703035 -0.06812709 -0.02059992 -0.02442609  0.05271955 -0.22945685\n",
      "  -0.01253476 -0.04078613  0.0295038   0.17993884  0.19097638 -0.01433645\n",
      "   0.14385564  0.37006385  0.25615303  0.16937077  0.04955298 -0.20225378]\n",
      " [ 0.50017226  0.10108426  0.11565206 -0.02848175  0.14816575  0.03700449\n",
      "   0.00243718  0.15671259 -0.26940934  0.03945635 -0.20909641 -0.37150362\n",
      "   0.01199415 -0.31985177 -0.24931194 -0.05209236  0.10082665 -0.07499021\n",
      "   0.20218436  0.18551939  0.31434307 -0.15905827 -0.1335765  -0.14595571]\n",
      " [-0.00202436 -0.06526411 -0.29214952  0.15882244 -0.11238318 -0.0780951\n",
      "  -0.10402016 -0.05203059  0.05134523 -0.18501805  0.18766667  0.02925711\n",
      "   0.01372389  0.13717248 -0.07939362 -0.31975608 -0.04730416  0.04817604\n",
      "   0.45682594 -0.38343438  0.52122866  0.13143428 -0.0279911   0.04900427]\n",
      " [ 0.23100097 -0.15622144  0.02609762  0.06485032 -0.05631552  0.07738386\n",
      "  -0.06401697  0.10355105  0.21203247  0.08756005  0.34928476 -0.02508277\n",
      "   0.08304748  0.27410799 -0.13783778  0.45159651 -0.16376959  0.14718199\n",
      "   0.04667447 -0.12454682 -0.00449805 -0.27263884 -0.03716446 -0.52080229]\n",
      " [-0.05974262  0.01477342 -0.0342414  -0.1440095   0.10830649 -0.27251471\n",
      "   0.09242495  0.06458847  0.02218802 -0.17480409  0.70380934 -0.05473727\n",
      "  -0.06001858 -0.10902071 -0.04782982 -0.11670272 -0.10858801 -0.15280456\n",
      "  -0.05502481  0.39866805  0.04782761 -0.23165481 -0.11995212  0.2176253 ]\n",
      " [ 0.03668885  0.0334539  -0.16485598 -0.03339034  0.16442276  0.16544277\n",
      "  -0.43044031 -0.46914162 -0.21484297 -0.04026494  0.11673956  0.14845523\n",
      "  -0.09387308 -0.06433242 -0.27925314  0.31864368  0.03965665 -0.10059708\n",
      "  -0.2951977   0.00461844  0.17782728  0.23101164 -0.21390001  0.06287398]\n",
      " [-0.12562771  0.39496748 -0.16258687 -0.02225187 -0.11816335  0.26248322\n",
      "   0.09386788  0.22058919 -0.07844719 -0.01262188  0.08715163  0.29710074\n",
      "  -0.0309072  -0.35782308  0.2005131   0.07347736  0.11566426 -0.21491982\n",
      "  -0.11001148 -0.36438975  0.09605517 -0.36770973 -0.1649433  -0.08993818]\n",
      " [-0.04488311 -0.34916428 -0.39471668 -0.0525145   0.24268329  0.03169963\n",
      "   0.02171114 -0.04497151 -0.07479557 -0.14343174 -0.10398261  0.13325747\n",
      "  -0.24055794 -0.28542545  0.21007881  0.25274409 -0.10952086 -0.16487916\n",
      "   0.45015447  0.15596057 -0.18570832 -0.01193001  0.17730838 -0.14429337]\n",
      " [ 0.26409771 -0.19987601 -0.34356282 -0.13856128  0.0538835   0.20505062\n",
      "   0.12380733  0.02918603  0.14378986 -0.01656853  0.14801518 -0.363155\n",
      "  -0.07782516  0.05575239  0.29436994 -0.24861932  0.20139648 -0.20050855\n",
      "  -0.39642463 -0.10813229 -0.01681054  0.25538098  0.01385575 -0.21039092]\n",
      " [-0.23458136  0.07493935 -0.22302982 -0.07720312  0.20728009  0.24420986\n",
      "   0.20081334  0.4170591  -0.0284207  -0.05687664  0.01728066  0.02982944\n",
      "   0.0883628   0.16433933 -0.62374342 -0.02950547  0.09955342 -0.10272047\n",
      "   0.07843521 -0.00637143 -0.22918529  0.2349839  -0.0465922  -0.01559234]\n",
      " [ 0.05837257  0.28682405 -0.45429893  0.49168616 -0.1289698  -0.14647785\n",
      "   0.04211796 -0.15458054 -0.07300793 -0.02535926 -0.11213953 -0.1652681\n",
      "   0.37447607  0.21804878  0.05240145  0.11090737  0.0224743  -0.23932598\n",
      "  -0.00845626  0.23251681 -0.13057302 -0.15206447  0.01127286  0.0389892 ]\n",
      " [-0.15548551 -0.1378056   0.02664014  0.46827142  0.04050602 -0.0746421\n",
      "  -0.04361812  0.31612685  0.05733246  0.04234794 -0.05735411  0.17200571\n",
      "  -0.00240828 -0.26581468 -0.0373818  -0.07737593 -0.33778657 -0.05663837\n",
      "  -0.35029691  0.19945978  0.3150759   0.22368425  0.14538326 -0.24808886]\n",
      " [ 0.28216502 -0.30026153 -0.10568359 -0.17776659 -0.17972524 -0.00822701\n",
      "   0.27499549 -0.12536813  0.10259902 -0.15855803 -0.11437417  0.52494532\n",
      "   0.33033705 -0.0478528  -0.17991117 -0.07200767  0.2678283   0.06930845\n",
      "  -0.14601325  0.18223735  0.15845825 -0.13791032  0.1228012   0.01382702]\n",
      " [-0.04539302 -0.10002136  0.29309454  0.23289071  0.07160901  0.04917874\n",
      "   0.13508617 -0.19038319 -0.10585687 -0.22680367  0.29404921 -0.17163269\n",
      "   0.45454362 -0.41671609 -0.02271291  0.08668299  0.1378865  -0.00073659\n",
      "   0.07317519 -0.27943519 -0.20231537  0.19995625  0.18621395 -0.02916246]\n",
      " [-0.00577406  0.1317012  -0.13056976 -0.41780921  0.08055674  0.23985394\n",
      "  -0.06171512 -0.00173248  0.10090736 -0.03287828 -0.09521253 -0.16946643\n",
      "   0.40213044 -0.04277863  0.03364845  0.07162982 -0.57265346  0.00973236\n",
      "  -0.06537448 -0.04116542  0.16946696 -0.05534033  0.31384506  0.20013103]\n",
      " [ 0.24062889  0.0224272  -0.06383341 -0.05000894 -0.35259675 -0.01950879\n",
      "  -0.45074474  0.12286032  0.16786115  0.44016153  0.16933188  0.12563533\n",
      "   0.05979829 -0.24117444 -0.13273449 -0.15675242  0.03531704 -0.22624246\n",
      "   0.15821969  0.02813046 -0.28113878  0.13208996  0.19772703  0.08888404]\n",
      " [-0.0609663  -0.18231359  0.04767823 -0.20044834  0.03063988 -0.08996173\n",
      "  -0.23557464  0.24434117 -0.38368259  0.0220334   0.00656715  0.1558915\n",
      "   0.46918178  0.14414841  0.32882528 -0.0749364  -0.04539    -0.05288087\n",
      "   0.08118382  0.07530511 -0.04251155  0.16650283 -0.44523712 -0.15742437]\n",
      " [ 0.27220493  0.18825461 -0.23784582  0.03120686 -0.29646338  0.04987151\n",
      "   0.08811312  0.09661437 -0.3378195  -0.20035229  0.11995121  0.04669042\n",
      "  -0.1547721  -0.12573028  0.02011694 -0.02817862 -0.2250329   0.59970027\n",
      "  -0.066892    0.05564514 -0.23656801  0.19814481 -0.02118886  0.01121352]\n",
      " [ 0.2640904   0.15901767  0.27452897 -0.02355644 -0.18987663 -0.01970024\n",
      "  -0.13781487  0.1546022   0.17028718 -0.66278703 -0.11407579  0.08989246\n",
      "  -0.12492039  0.143746    0.03220644  0.11631947 -0.10885908 -0.39642314\n",
      "   0.02219899 -0.00088095 -0.0874796   0.17973727 -0.00637095  0.00219926]\n",
      " [ 0.02380088  0.06186873 -0.06236899  0.01598959 -0.01008174  0.00514808\n",
      "   0.18621102 -0.16168553  0.57119345  0.05755465 -0.12085202 -0.02312837\n",
      "   0.09670995 -0.29188807 -0.01379637  0.02564524 -0.18164399  0.0924355\n",
      "   0.11727835  0.0642061  -0.07875949  0.19101985 -0.62303195  0.01119267]\n",
      " [ 0.15154936  0.00329229  0.15616925 -0.01415561 -0.14458277  0.03829105\n",
      "   0.5158846  -0.25332846 -0.30327928  0.3154786   0.09289101  0.15218584\n",
      "  -0.11410803  0.14228528 -0.04813329 -0.02999982 -0.37343772 -0.38948547\n",
      "   0.07802824 -0.08587376  0.01308663  0.17782757 -0.03547379 -0.04799553]] \n",
      "\n"
     ]
    }
   ],
   "source": [
    "U,sigma,V = linalg.svd(X, full_matrices=True)\n",
    "   \n",
    "print(\"U:\\n\", U, \"\\n\")\n",
    "print(\"SIGMA:\\n\", sigma, \"\\n\")\n",
    "print(\"V:\\n\", V, \"\\n\")"
   ]
  },
  {
   "cell_type": "code",
   "execution_count": 53,
   "metadata": {
    "colab": {
     "base_uri": "https://localhost:8080/",
     "height": 35
    },
    "colab_type": "code",
    "id": "cFxlI7xUtLQg",
    "outputId": "1998a66a-5be9-4945-c13a-a21c09a1013f"
   },
   "outputs": [
    {
     "name": "stdout",
     "output_type": "stream",
     "text": [
      "(72, 2) (2, 2) (2, 24)\n"
     ]
    }
   ],
   "source": [
    "targetDimension = 2\n",
    "U2 = U[0:, 0:targetDimension]\n",
    "V2 = V[0:targetDimension, 0:]\n",
    "sigma2 = np.diag(sigma[0:targetDimension])\n",
    "print(U2.shape, sigma2.shape, V2.shape)"
   ]
  },
  {
   "cell_type": "code",
   "execution_count": 54,
   "metadata": {
    "colab": {
     "base_uri": "https://localhost:8080/",
     "height": 413
    },
    "colab_type": "code",
    "id": "3_oDH-b7tMQd",
    "outputId": "ce8335f1-d327-425a-ed5a-49d8605440d7"
   },
   "outputs": [
    {
     "name": "stdout",
     "output_type": "stream",
     "text": [
      "X:\n",
      " [[0. 1. 0. ... 2. 1. 0.]\n",
      " [0. 1. 0. ... 0. 0. 0.]\n",
      " [2. 0. 1. ... 1. 0. 3.]\n",
      " ...\n",
      " [0. 1. 0. ... 0. 0. 0.]\n",
      " [0. 0. 0. ... 0. 0. 0.]\n",
      " [1. 0. 0. ... 1. 0. 2.]]\n",
      "X2:\n",
      " [[ 0.53397188  0.33410097  0.06970963 ...  0.80017138  0.2148964\n",
      "   0.91254895]\n",
      " [ 0.12164022  0.06342015  0.06749443 ...  0.10649978  0.03124064\n",
      "   0.18374735]\n",
      " [ 1.98082211  0.93751697  1.48647691 ...  1.16551181  0.37578781\n",
      "   2.81106116]\n",
      " ...\n",
      " [ 0.19898383  0.11679336  0.05733431 ...  0.25214346  0.0693195\n",
      "   0.32539812]\n",
      " [ 0.05314626  0.02528884  0.03933414 ...  0.03207668  0.01027082\n",
      "   0.07567845]\n",
      " [ 0.86484756  0.59623257 -0.11124736 ...  1.62510338  0.42498297\n",
      "   1.58281867]]\n"
     ]
    }
   ],
   "source": [
    "X2 = np.dot(np.dot(U2, sigma2), V2);\n",
    "print(\"X:\\n\", X);\n",
    "print(\"X2:\\n\", X2);"
   ]
  },
  {
   "cell_type": "code",
   "execution_count": 57,
   "metadata": {
    "colab": {
     "base_uri": "https://localhost:8080/",
     "height": 1393
    },
    "colab_type": "code",
    "id": "Md2QpaRVhV9Y",
    "outputId": "231c9d3d-b42e-407a-ace0-875824870122"
   },
   "outputs": [
    {
     "name": "stdout",
     "output_type": "stream",
     "text": [
      "( -0.04094821003763503 , -0.0006021475210365877 ) 'reallocation\n",
      "( -0.03469206547295287 , 0.017841722801033612 ) according\n",
      "( -0.02339474798784145 , -0.10930291326698445 ) added\n",
      "( -0.052563954865334966 , 0.11914556329456467 ) all\n",
      "( -0.09094865434210736 , 0.05615081247564459 ) amazon\n",
      "( -0.17060441974061671 , 0.023236020357869487 ) are\n",
      "( -0.026971767965426205 , -0.023990031437176904 ) artificial\n",
      "( -0.03797027378449258 , -0.11479503176725725 ) because\n",
      "( -0.05039920970749515 , -0.09209394836459171 ) big\n",
      "( -0.035140288827206656 , -0.007647741890695439 ) bill\n",
      "( -0.03292961760747903 , -0.046277547286571956 ) business\n",
      "( -0.01882571388788745 , -0.062290161424671024 ) businesses\n",
      "( -0.035140288827206656 , -0.0076477418906954215 ) chief\n",
      "( -0.011138550864793775 , -0.014536928222736114 ) continue\n",
      "( -0.05236334696352922 , -0.1957411002735738 ) doesn\n",
      "( -0.05260969564333587 , 0.12035296381578084 ) down\n",
      "( -0.2115536778307421 , 0.027699097451472806 ) faang\n",
      "( -0.06926542960267865 , 0.17985213325213673 ) facebook\n",
      "( -0.035140288827206656 , -0.007647741890695424 ) founder\n",
      "( -0.01918154456642123 , -0.013277261319794113 ) future\n",
      "( -0.06041922618931524 , -0.037588040946366544 ) global\n",
      "( -0.04773847691600316 , 0.056871614862819435 ) google\n",
      "( -0.051049096233045994 , -0.035572834426071 ) growth\n",
      "( -0.02608618659164533 , 0.041718915729323604 ) have\n",
      "( -0.026971767965426205 , -0.02399003143717689 ) intelligence\n",
      "( -0.06921755565797676 , 0.05776955059286497 ) into\n",
      "( -0.03514028882720666 , -0.007647741890695432 ) investment\n",
      "( -0.04022872839105525 , -0.06541069075538745 ) investors\n",
      "( -0.02256874661938574 , -0.004332179497803998 ) large-cap\n",
      "( -0.032531932382377345 , 0.03200578201704196 ) largely\n",
      "( -0.0619945375098273 , 0.1413149362411582 ) march\n",
      "( -0.08591518214485036 , -0.008020859706372582 ) market\n",
      "( -0.046259450348052414 , 0.017986114951333385 ) months\n",
      "( -0.04670611819664689 , 0.04788535220565765 ) news\n",
      "( -0.039478948048878464 , -0.07197750450341446 ) next\n",
      "( -0.05821335232073867 , -0.02463138225157421 ) not\n",
      "( -0.03514028882720666 , -0.007647741890695432 ) officer\n",
      "( -0.04321017742610417 , -0.0007208023871747095 ) one\n",
      "( -0.11314363169036944 , -0.04751118888148098 ) out\n",
      "( -0.03514028882720666 , -0.007647741890695432 ) robo\n",
      "( -0.027732011701524773 , 0.01812884065214406 ) robotics\n",
      "( -0.0722231988042913 , -0.024360943020081124 ) said\n",
      "( -0.044421539064001994 , -0.04285334080338229 ) see\n",
      "( -0.04094821003763506 , -0.0006021475210365961 ) seeing\n",
      "( -0.022345832244497748 , -0.0011685363433507608 ) several\n",
      "( -0.0619945375098273 , 0.1413149362411582 ) since\n",
      "( -0.07712412315069857 , -0.13771251391008105 ) still\n",
      "( -0.04500781835393762 , -0.03673179761631383 ) stock\n",
      "( -0.16044291729913326 , 0.04730169523852038 ) stocks\n",
      "( -0.10083453195926587 , -0.05709643185019137 ) studebaker\n",
      "( -0.023272783247710704 , -0.011058555943075329 ) tech\n",
      "( -0.20550827069368674 , -0.1143479699258047 ) that\n",
      "( -0.05791460522714534 , -0.1377036834061303 ) they\n",
      "( -0.02593940924606992 , -0.032976294094338686 ) thinks\n",
      "( -0.032308768273236796 , 0.0368973348635072 ) this\n",
      "( -0.037053433958803214 , 0.08802657917373705 ) trend\n",
      "( -0.017133115804380695 , -0.0708089681600637 ) what\n",
      "( -0.05636168031876893 , -0.032567853629207555 ) while\n",
      "( -0.059531467107104906 , -0.05293110818665927 ) will\n",
      "( -0.019273311910439756 , 0.009372296525910808 ) you\n"
     ]
    },
    {
     "data": {
      "text/plain": [
       "[<matplotlib.lines.Line2D at 0x7fc5d4db79b0>]"
      ]
     },
     "execution_count": 57,
     "metadata": {
      "tags": []
     },
     "output_type": "execute_result"
    },
    {
     "data": {
      "image/png": "[encoded data removed]",
      "text/plain": [
       "<Figure size 432x288 with 1 Axes>"
      ]
     },
     "metadata": {
      "tags": []
     },
     "output_type": "display_data"
    }
   ],
   "source": [
    "pyplot.title(\"LSA\")\n",
    "pyplot.xlabel(u'x')\n",
    "pyplot.ylabel(u'y')\n",
    "\n",
    "for i in range(len(U2)):\n",
    "    if len(keywords[i]) > 2 :\n",
    "      pylab.text(U2[i][0], U2[i][1],  keywords[i], fontsize=10)\n",
    "      print(\"(\", U2[i][0], \",\", U2[i][1], \")\", keywords[i])\n",
    "x = U2.T[0]\n",
    "y = U2.T[1]\n",
    "pylab.plot(x, y, '.')\n",
    "\n",
    "#for i in range(len(V2[0])):\n",
    "#    pylab.text(V2[0][i], V2[1][i], ('D%d' %(i+1)), fontsize=10)\n",
    "#    print(\"(\", V2[0][i], \",\", V2[1][i], \")\", ('D%d' %(i+1)))\n",
    "#x = V[0]\n",
    "#y = V[1]\n",
    "pylab.plot(x, y, 'x')"
   ]
  },
  {
   "cell_type": "markdown",
   "metadata": {
    "colab_type": "text",
    "id": "6gD9ld6qhKkT"
   },
   "source": [
    "\n",
    "#2 LDA (Latent Dirichlet allocation, 잠재 디리클레 할당)\n",
    "https://en.wikipedia.org/wiki/Latent_Dirichlet_allocation\n",
    "https://ko.wikipedia.org/wiki/%EC%9E%A0%EC%9E%AC_%EB%94%94%EB%A6%AC%ED%81%B4%EB%A0%88_%ED%95%A0%EB%8B%B9"
   ]
  },
  {
   "cell_type": "code",
   "execution_count": 37,
   "metadata": {
    "colab": {
     "base_uri": "https://localhost:8080/",
     "height": 394
    },
    "colab_type": "code",
    "id": "b_B6oZSfuQXW",
    "outputId": "def944b1-b7cd-472a-9263-2d083bba0fb5"
   },
   "outputs": [
    {
     "ename": "FileNotFoundError",
     "evalue": "ignored",
     "output_type": "error",
     "traceback": [
      "\u001b[0;31m---------------------------------------------------------------------------\u001b[0m",
      "\u001b[0;31mFileNotFoundError\u001b[0m                         Traceback (most recent call last)",
      "\u001b[0;32m<ipython-input-37-3e16e127eb46>\u001b[0m in \u001b[0;36m<module>\u001b[0;34m()\u001b[0m\n\u001b[1;32m     91\u001b[0m \u001b[0mZ\u001b[0m \u001b[0;34m=\u001b[0m \u001b[0;34m[\u001b[0m\u001b[0;34m]\u001b[0m\u001b[0;34m\u001b[0m\u001b[0;34m\u001b[0m\u001b[0m\n\u001b[1;32m     92\u001b[0m \u001b[0mK\u001b[0m \u001b[0;34m=\u001b[0m \u001b[0;36m10\u001b[0m\u001b[0;34m\u001b[0m\u001b[0;34m\u001b[0m\u001b[0m\n\u001b[0;32m---> 93\u001b[0;31m \u001b[0mdocs\u001b[0m\u001b[0;34m,\u001b[0m \u001b[0mword2id\u001b[0m\u001b[0;34m,\u001b[0m \u001b[0mid2word\u001b[0m \u001b[0;34m=\u001b[0m \u001b[0mpreprocessing\u001b[0m\u001b[0;34m(\u001b[0m\u001b[0;34m)\u001b[0m\u001b[0;34m\u001b[0m\u001b[0;34m\u001b[0m\u001b[0m\n\u001b[0m\u001b[1;32m     94\u001b[0m \u001b[0mN\u001b[0m \u001b[0;34m=\u001b[0m \u001b[0mlen\u001b[0m\u001b[0;34m(\u001b[0m\u001b[0mdocs\u001b[0m\u001b[0;34m)\u001b[0m\u001b[0;34m\u001b[0m\u001b[0;34m\u001b[0m\u001b[0m\n\u001b[1;32m     95\u001b[0m \u001b[0mM\u001b[0m \u001b[0;34m=\u001b[0m \u001b[0mlen\u001b[0m\u001b[0;34m(\u001b[0m\u001b[0mword2id\u001b[0m\u001b[0;34m)\u001b[0m\u001b[0;34m\u001b[0m\u001b[0;34m\u001b[0m\u001b[0m\n",
      "\u001b[0;32m<ipython-input-37-3e16e127eb46>\u001b[0m in \u001b[0;36mpreprocessing\u001b[0;34m()\u001b[0m\n\u001b[1;32m      8\u001b[0m \u001b[0;32mdef\u001b[0m \u001b[0mpreprocessing\u001b[0m\u001b[0;34m(\u001b[0m\u001b[0;34m)\u001b[0m\u001b[0;34m:\u001b[0m\u001b[0;34m\u001b[0m\u001b[0;34m\u001b[0m\u001b[0m\n\u001b[1;32m      9\u001b[0m     \u001b[0;31m# 读取停止词文件\u001b[0m\u001b[0;34m\u001b[0m\u001b[0;34m\u001b[0m\u001b[0;34m\u001b[0m\u001b[0m\n\u001b[0;32m---> 10\u001b[0;31m     \u001b[0mfile\u001b[0m \u001b[0;34m=\u001b[0m \u001b[0mcodecs\u001b[0m\u001b[0;34m.\u001b[0m\u001b[0mopen\u001b[0m\u001b[0;34m(\u001b[0m\u001b[0;34m'stopwords.dic'\u001b[0m\u001b[0;34m,\u001b[0m\u001b[0;34m'r'\u001b[0m\u001b[0;34m,\u001b[0m\u001b[0;34m'utf-8'\u001b[0m\u001b[0;34m)\u001b[0m\u001b[0;34m\u001b[0m\u001b[0;34m\u001b[0m\u001b[0m\n\u001b[0m\u001b[1;32m     11\u001b[0m     \u001b[0mstopwords\u001b[0m \u001b[0;34m=\u001b[0m \u001b[0;34m[\u001b[0m\u001b[0mline\u001b[0m\u001b[0;34m.\u001b[0m\u001b[0mstrip\u001b[0m\u001b[0;34m(\u001b[0m\u001b[0;34m)\u001b[0m \u001b[0;32mfor\u001b[0m \u001b[0mline\u001b[0m \u001b[0;32min\u001b[0m \u001b[0mfile\u001b[0m\u001b[0;34m]\u001b[0m\u001b[0;34m\u001b[0m\u001b[0;34m\u001b[0m\u001b[0m\n\u001b[1;32m     12\u001b[0m     \u001b[0mfile\u001b[0m\u001b[0;34m.\u001b[0m\u001b[0mclose\u001b[0m\u001b[0;34m(\u001b[0m\u001b[0;34m)\u001b[0m\u001b[0;34m\u001b[0m\u001b[0;34m\u001b[0m\u001b[0m\n",
      "\u001b[0;32m/usr/lib/python3.6/codecs.py\u001b[0m in \u001b[0;36mopen\u001b[0;34m(filename, mode, encoding, errors, buffering)\u001b[0m\n\u001b[1;32m    895\u001b[0m         \u001b[0;31m# Force opening of the file in binary mode\u001b[0m\u001b[0;34m\u001b[0m\u001b[0;34m\u001b[0m\u001b[0;34m\u001b[0m\u001b[0m\n\u001b[1;32m    896\u001b[0m         \u001b[0mmode\u001b[0m \u001b[0;34m=\u001b[0m \u001b[0mmode\u001b[0m \u001b[0;34m+\u001b[0m \u001b[0;34m'b'\u001b[0m\u001b[0;34m\u001b[0m\u001b[0;34m\u001b[0m\u001b[0m\n\u001b[0;32m--> 897\u001b[0;31m     \u001b[0mfile\u001b[0m \u001b[0;34m=\u001b[0m \u001b[0mbuiltins\u001b[0m\u001b[0;34m.\u001b[0m\u001b[0mopen\u001b[0m\u001b[0;34m(\u001b[0m\u001b[0mfilename\u001b[0m\u001b[0;34m,\u001b[0m \u001b[0mmode\u001b[0m\u001b[0;34m,\u001b[0m \u001b[0mbuffering\u001b[0m\u001b[0;34m)\u001b[0m\u001b[0;34m\u001b[0m\u001b[0;34m\u001b[0m\u001b[0m\n\u001b[0m\u001b[1;32m    898\u001b[0m     \u001b[0;32mif\u001b[0m \u001b[0mencoding\u001b[0m \u001b[0;32mis\u001b[0m \u001b[0;32mNone\u001b[0m\u001b[0;34m:\u001b[0m\u001b[0;34m\u001b[0m\u001b[0;34m\u001b[0m\u001b[0m\n\u001b[1;32m    899\u001b[0m         \u001b[0;32mreturn\u001b[0m \u001b[0mfile\u001b[0m\u001b[0;34m\u001b[0m\u001b[0;34m\u001b[0m\u001b[0m\n",
      "\u001b[0;31mFileNotFoundError\u001b[0m: [Errno 2] No such file or directory: 'stopwords.dic'"
     ]
    }
   ],
   "source": [
    "import numpy as np\n",
    "import time\n",
    "import codecs\n",
    "import jieba\n",
    "import re\n",
    "\n",
    "def preprocessing():\n",
    "    file = codecs.open('stopwords.dic','r','utf-8')\n",
    "    stopwords = [line.strip() for line in file] \n",
    "    file.close()\n",
    "    \n",
    "    file = codecs.open('dataset.txt','r','utf-8')\n",
    "    documents = [document.strip() for document in file] \n",
    "    file.close()\n",
    "    \n",
    "    word2id = {}\n",
    "    id2word = {}\n",
    "    docs = []\n",
    "    currentDocument = []\n",
    "    currentWordId = 0\n",
    "    \n",
    "    for document in documents:\n",
    "        segList = jieba.cut(document)\n",
    "        for word in segList: \n",
    "            word = word.lower().strip()\n",
    "            if len(word) > 1 and not re.search('[0-9]', word) and word not in stopwords:\n",
    "                if word in word2id:\n",
    "                    currentDocument.append(word2id[word])\n",
    "                else:\n",
    "                    currentDocument.append(currentWordId)\n",
    "                    word2id[word] = currentWordId\n",
    "                    id2word[currentWordId] = word\n",
    "                    currentWordId += 1\n",
    "        docs.append(currentDocument);\n",
    "        currentDocument = []\n",
    "    return docs, word2id, id2word\n",
    "    \n",
    "def randomInitialize():\n",
    "\tfor d, doc in enumerate(docs):\n",
    "\t\tzCurrentDoc = []\n",
    "\t\tfor w in doc:\n",
    "\t\t\tpz = np.divide(np.multiply(ndz[d, :], nzw[:, w]), nz)\n",
    "\t\t\tz = np.random.multinomial(1, pz / pz.sum()).argmax()\n",
    "\t\t\tzCurrentDoc.append(z)\n",
    "\t\t\tndz[d, z] += 1\n",
    "\t\t\tnzw[z, w] += 1\n",
    "\t\t\tnz[z] += 1\n",
    "\t\tZ.append(zCurrentDoc)\n",
    "\n",
    "def gibbsSampling():\n",
    "\tfor d, doc in enumerate(docs):\n",
    "\t\tfor index, w in enumerate(doc):\n",
    "\t\t\tz = Z[d][index]\n",
    "\t\t\tndz[d, z] -= 1\n",
    "\t\t\tnzw[z, w] -= 1\n",
    "\t\t\tnz[z] -= 1\n",
    "\t\t\tpz = np.divide(np.multiply(ndz[d, :], nzw[:, w]), nz)\n",
    "\t\t\tz = np.random.multinomial(1, pz / pz.sum()).argmax()\n",
    "\t\t\tZ[d][index] = z \n",
    "\t\t\tndz[d, z] += 1\n",
    "\t\t\tnzw[z, w] += 1\n",
    "\t\t\tnz[z] += 1\n",
    "\n",
    "def perplexity():\n",
    "\tnd = np.sum(ndz, 1)\n",
    "\tn = 0\n",
    "\tll = 0.0\n",
    "\tfor d, doc in enumerate(docs):\n",
    "\t\tfor w in doc:\n",
    "\t\t\tll = ll + np.log(((nzw[:, w] / nz) * (ndz[d, :] / nd[d])).sum())\n",
    "\t\t\tn = n + 1\n",
    "\treturn np.exp(ll/(-n))\n",
    "\n",
    "\n",
    "\n",
    "alpha = 5\n",
    "beta = 0.1\t\n",
    "iterationNum = 50\n",
    "Z = []\n",
    "K = 10\n",
    "docs, word2id, id2word = preprocessing()\n",
    "N = len(docs)\n",
    "M = len(word2id)\n",
    "ndz = np.zeros([N, K]) + alpha\n",
    "nzw = np.zeros([K, M]) + beta\n",
    "nz = np.zeros([K]) + M * beta\n",
    "randomInitialize()\n",
    "for i in range(0, iterationNum):\n",
    "\tgibbsSampling()\n",
    "\tprint(time.strftime('%X'), \"Iteration: \", i, \" Completed\", \" Perplexity: \", perplexity())\n",
    " \n",
    "topicwords = []\n",
    "maxTopicWordsNum = 10\n",
    "for z in range(0, K):\n",
    "\tids = nzw[z, :].argsort()\n",
    "\ttopicword = []\n",
    "\tfor j in ids:\n",
    "\t\ttopicword.insert(0, id2word[j])\n",
    "\ttopicwords.append(topicword[0 : min(10, len(topicword))])\n"
   ]
  },
  {
   "cell_type": "code",
   "execution_count": 0,
   "metadata": {
    "colab": {},
    "colab_type": "code",
    "id": "UrUwZ83UhVL9"
   },
   "outputs": [],
   "source": [
    "|"
   ]
  },
  {
   "cell_type": "code",
   "execution_count": 0,
   "metadata": {
    "colab": {},
    "colab_type": "code",
    "id": "D25kAvLShH61"
   },
   "outputs": [],
   "source": [
    "import preprocessing_py as prep\n",
    "from sklearn.feature_extraction.text import TfidfVectorizer\n",
    "from sklearn.decomposition import TruncatedSVD\n",
    "from sklearn.pipeline import Pipeline\n",
    "import numpy as np\n",
    "import pandas as pd\n",
    "from IPython.display import display , Markdown"
   ]
  },
  {
   "cell_type": "code",
   "execution_count": 0,
   "metadata": {
    "colab": {},
    "colab_type": "code",
    "id": "t7dhg5qrhH65"
   },
   "outputs": [],
   "source": [
    "import os"
   ]
  },
  {
   "cell_type": "code",
   "execution_count": 0,
   "metadata": {
    "colab": {},
    "colab_type": "code",
    "id": "x2RbHMq8hH67",
    "outputId": "73d815b0-41f3-4320-a296-814415ea5158"
   },
   "outputs": [
    {
     "data": {
      "text/plain": [
       "(102, 3)"
      ]
     },
     "execution_count": 45,
     "metadata": {
      "tags": []
     },
     "output_type": "execute_result"
    }
   ],
   "source": [
    "it_df = pd.read_csv('preprocessing_it.csv')\n",
    "it_df.shape"
   ]
  },
  {
   "cell_type": "code",
   "execution_count": 0,
   "metadata": {
    "colab": {},
    "colab_type": "code",
    "id": "hpPt8tjdhH6_"
   },
   "outputs": [],
   "source": [
    "it_df = it_df.iloc[:,1:]\n",
    "it_df.rename(columns={'0':'raw','1':'tuned'},inplace=True)\n",
    "it_df['tuned'] = it_df['tuned'].apply(lambda x : x.replace(\",\",' '))"
   ]
  },
  {
   "cell_type": "code",
   "execution_count": 0,
   "metadata": {
    "colab": {},
    "colab_type": "code",
    "id": "8kcvlIJehH7B",
    "outputId": "7cd5bd88-c434-42cc-b540-6ab1af9c82a5"
   },
   "outputs": [
    {
     "data": {
      "text/html": [
       "<div>\n",
       "<style scoped>\n",
       "    .dataframe tbody tr th:only-of-type {\n",
       "        vertical-align: middle;\n",
       "    }\n",
       "\n",
       "    .dataframe tbody tr th {\n",
       "        vertical-align: top;\n",
       "    }\n",
       "\n",
       "    .dataframe thead th {\n",
       "        text-align: right;\n",
       "    }\n",
       "</style>\n",
       "<table border=\"1\" class=\"dataframe\">\n",
       "  <thead>\n",
       "    <tr style=\"text-align: right;\">\n",
       "      <th></th>\n",
       "      <th>raw</th>\n",
       "      <th>tuned</th>\n",
       "    </tr>\n",
       "  </thead>\n",
       "  <tbody>\n",
       "    <tr>\n",
       "      <th>97</th>\n",
       "      <td>유영민 과학기술정통부 장관(오른쪽)이 22일 오후 서울 강서구 LG사이언스파크에서 ...</td>\n",
       "      <td>유영 민 과학기술 정통부 장관 오른쪽 오후 서울 강서구 사이언스 파크 중소기업 상생...</td>\n",
       "    </tr>\n",
       "    <tr>\n",
       "      <th>98</th>\n",
       "      <td>당당맨 최영수가 시사회 진행해 큰 인기(지디넷코리아=김민선 기자)애니메이션 &amp;apo...</td>\n",
       "      <td>당당 맨 최영 수가 시사회 진행 인기 디 넷 코리아 김 민선 애니메이션 아이스 에이...</td>\n",
       "    </tr>\n",
       "    <tr>\n",
       "      <th>99</th>\n",
       "      <td>전년比 4.9% 증가 '역대 최대'삼성전자, 최다 출원 5761건4차 산업혁명 시대...</td>\n",
       "      <td>전 년 증가 역대 최대 삼성 전자 최 출원 건 차 산업혁명 시대 핵심 자산 지식 재...</td>\n",
       "    </tr>\n",
       "    <tr>\n",
       "      <th>100</th>\n",
       "      <td>윤종인 행정안전부 차관(왼쪽 세번째)이 22일 오후 서울 종로구 정부서울청사에서 열...</td>\n",
       "      <td>윤 종인 행정 안전 부 차관 왼쪽 세 오후 서울 종로구 정부 서울 청사 블 록 체인...</td>\n",
       "    </tr>\n",
       "    <tr>\n",
       "      <th>101</th>\n",
       "      <td>[전자신문인터넷 박동선기자] 'K팝 명가' SM엔터테인먼트(이하 SM)가 4차 산업...</td>\n",
       "      <td>전자신문 인터넷 박동 선기 팝 명가 엔터테인먼트 이하 차 산업 기술 발전 발 차세대...</td>\n",
       "    </tr>\n",
       "  </tbody>\n",
       "</table>\n",
       "</div>"
      ],
      "text/plain": [
       "                                                   raw  \\\n",
       "97   유영민 과학기술정통부 장관(오른쪽)이 22일 오후 서울 강서구 LG사이언스파크에서 ...   \n",
       "98   당당맨 최영수가 시사회 진행해 큰 인기(지디넷코리아=김민선 기자)애니메이션 &apo...   \n",
       "99   전년比 4.9% 증가 '역대 최대'삼성전자, 최다 출원 5761건4차 산업혁명 시대...   \n",
       "100  윤종인 행정안전부 차관(왼쪽 세번째)이 22일 오후 서울 종로구 정부서울청사에서 열...   \n",
       "101  [전자신문인터넷 박동선기자] 'K팝 명가' SM엔터테인먼트(이하 SM)가 4차 산업...   \n",
       "\n",
       "                                                 tuned  \n",
       "97   유영 민 과학기술 정통부 장관 오른쪽 오후 서울 강서구 사이언스 파크 중소기업 상생...  \n",
       "98   당당 맨 최영 수가 시사회 진행 인기 디 넷 코리아 김 민선 애니메이션 아이스 에이...  \n",
       "99   전 년 증가 역대 최대 삼성 전자 최 출원 건 차 산업혁명 시대 핵심 자산 지식 재...  \n",
       "100  윤 종인 행정 안전 부 차관 왼쪽 세 오후 서울 종로구 정부 서울 청사 블 록 체인...  \n",
       "101  전자신문 인터넷 박동 선기 팝 명가 엔터테인먼트 이하 차 산업 기술 발전 발 차세대...  "
      ]
     },
     "execution_count": 49,
     "metadata": {
      "tags": []
     },
     "output_type": "execute_result"
    }
   ],
   "source": [
    "it_df.tail()"
   ]
  },
  {
   "cell_type": "code",
   "execution_count": 0,
   "metadata": {
    "colab": {},
    "colab_type": "code",
    "id": "_JbxF7DfhH7F"
   },
   "outputs": [],
   "source": [
    "# raw documents to tf-idf matrix: \n",
    "vectorizer = TfidfVectorizer( use_idf=True, \n",
    "                             smooth_idf=True)\n",
    "# SVD to reduce dimensionality: \n",
    "svd_model = TruncatedSVD(n_components=5,\n",
    "                         algorithm='randomized',\n",
    "                         n_iter=10)\n",
    "# pipeline of tf-idf + SVD, fit to and applied to documents:\n",
    "svd_transformer = Pipeline([('tfidf', vectorizer), \n",
    "                            ('svd', svd_model)])\n",
    "# svd_matrix can later be used to compare documents, compare words, or compare queries with documentsa\n",
    "documents = it_df['tuned'].tolist()\n",
    "svd_matrix = svd_transformer.fit_transform(documents)"
   ]
  },
  {
   "cell_type": "code",
   "execution_count": 0,
   "metadata": {
    "colab": {},
    "colab_type": "code",
    "id": "JAPtaUC2hH7I"
   },
   "outputs": [],
   "source": [
    "tfidf_encoding_vector = vectorizer.fit_transform(documents)\n",
    "svd_matrix = svd_model.fit_transform(tfidf_encoding_vector)"
   ]
  },
  {
   "cell_type": "code",
   "execution_count": 0,
   "metadata": {
    "colab": {},
    "colab_type": "code",
    "id": "kLUr3W35hH7K",
    "outputId": "fc47603d-2aa7-4712-f291-32988c2d2ccf",
    "scrolled": true
   },
   "outputs": [
    {
     "name": "stdout",
     "output_type": "stream",
     "text": [
      "(102, 5)\n"
     ]
    },
    {
     "data": {
      "text/plain": [
       "array([[ 2.60599236e-01, -3.97212865e-02,  4.20335502e-01,\n",
       "         1.95781571e-01, -2.52184640e-01],\n",
       "       [ 1.52032548e-01, -2.55084482e-02,  9.26432889e-03,\n",
       "        -2.84366300e-02,  5.70541228e-02],\n",
       "       [ 3.06213303e-01, -1.39739745e-01,  1.24294984e-01,\n",
       "        -1.09839426e-01, -6.42499768e-02],\n",
       "       [ 1.75708171e-01, -1.69289078e-02,  1.55163883e-01,\n",
       "        -2.03451478e-01,  6.06721707e-02],\n",
       "       [ 6.55834853e-02, -2.15937286e-02,  5.01504418e-02,\n",
       "        -6.84057794e-02,  1.97128119e-01],\n",
       "       [ 1.39988352e-01,  1.32835074e-02,  8.65993354e-02,\n",
       "        -1.49371478e-01,  4.32390491e-02],\n",
       "       [ 6.80485155e-02, -1.60572200e-02, -3.16402820e-03,\n",
       "        -1.10582029e-02,  6.18490235e-01],\n",
       "       [ 2.22799750e-01, -4.30826378e-02,  1.60023829e-01,\n",
       "        -1.87357842e-01,  3.15073843e-01],\n",
       "       [ 9.37675024e-02, -2.89161339e-02,  5.00652161e-02,\n",
       "        -1.07601510e-01,  8.38490596e-02],\n",
       "       [ 4.61334048e-01,  7.24005787e-01, -1.19768114e-01,\n",
       "         3.91726459e-02, -3.50548836e-02],\n",
       "       [ 1.00222292e-01, -8.00318257e-03,  1.39197274e-01,\n",
       "        -6.51430707e-02, -1.23815767e-03],\n",
       "       [ 9.34250587e-02, -1.61018430e-03,  7.25019268e-02,\n",
       "        -7.50119034e-02, -2.56728536e-03],\n",
       "       [ 1.23446883e-01,  1.83306758e-02,  6.26868966e-02,\n",
       "        -8.99601302e-02,  1.00908898e-02],\n",
       "       [ 1.43328230e-01, -2.81506392e-02,  1.57906037e-01,\n",
       "        -1.06388697e-01, -3.39779986e-02],\n",
       "       [ 4.53664228e-01,  6.99562081e-01, -7.78348444e-02,\n",
       "         1.81835519e-02, -1.66247067e-02],\n",
       "       [ 1.47914203e-01, -4.49925919e-02,  5.13980781e-01,\n",
       "         6.56683101e-01,  2.16338890e-01],\n",
       "       [ 9.00166782e-02, -7.83763374e-03,  5.33699074e-02,\n",
       "        -1.02191868e-01,  2.22360789e-02],\n",
       "       [ 5.46405264e-01, -3.44370725e-01, -2.07333425e-01,\n",
       "         5.18050597e-02, -1.48456512e-01],\n",
       "       [ 1.10814165e-01,  2.74819452e-03,  5.79637583e-02,\n",
       "        -4.63970125e-02,  9.42564522e-02],\n",
       "       [ 1.27433472e-01,  1.81001893e-02,  4.53083841e-02,\n",
       "        -9.91385022e-02,  1.69537463e-01],\n",
       "       [ 2.55073883e-01, -1.06232463e-02,  1.81202855e-01,\n",
       "        -1.56262598e-01,  2.65599682e-02],\n",
       "       [ 1.59905508e-01, -7.62248771e-02, -1.38586323e-02,\n",
       "        -5.41508041e-02,  1.99098372e-01],\n",
       "       [ 4.57556106e-01,  7.23300177e-01, -1.19200565e-01,\n",
       "         3.15562642e-02, -3.42536955e-02],\n",
       "       [ 1.44039045e-01, -4.68892382e-03,  7.00636847e-02,\n",
       "        -1.03632833e-01,  8.12451350e-02],\n",
       "       [ 1.38887585e-01, -2.41254322e-02,  9.47073266e-02,\n",
       "        -1.53844876e-01,  3.68491665e-02],\n",
       "       [ 1.04217357e-01,  5.74488930e-03, -1.04768170e-02,\n",
       "        -2.83544120e-02,  1.64993995e-02],\n",
       "       [ 7.47599617e-02, -1.47732189e-02,  5.30258058e-02,\n",
       "        -9.02061572e-02,  1.64319358e-01],\n",
       "       [ 2.70100157e-01, -6.61723905e-02,  4.37691179e-01,\n",
       "         1.25499953e-01, -3.28829840e-01],\n",
       "       [ 2.59382603e-01, -1.16678195e-01,  2.37637680e-01,\n",
       "        -1.02857717e-01, -1.85845205e-01],\n",
       "       [ 1.30141246e-01, -2.53188113e-02,  2.37813617e-01,\n",
       "        -1.33683017e-02, -6.53085858e-03],\n",
       "       [ 7.65775750e-02, -3.46194556e-03,  7.41367655e-02,\n",
       "        -8.22884293e-02,  2.51482483e-02],\n",
       "       [ 1.44985869e-01, -2.08016843e-02,  1.02119966e-01,\n",
       "        -1.58079235e-01,  5.85481078e-03],\n",
       "       [ 2.86662353e-01, -1.31302217e-01,  2.75016943e-01,\n",
       "        -1.12681040e-01, -2.34217343e-01],\n",
       "       [ 2.15504936e-01, -7.61692626e-02,  3.08470226e-01,\n",
       "         5.79263510e-03, -1.78732860e-01],\n",
       "       [ 2.72366272e-01, -9.70165180e-02,  2.14769160e-01,\n",
       "        -3.47806053e-01,  2.56745917e-02],\n",
       "       [ 3.96277055e-01,  5.60761586e-01, -5.69326132e-02,\n",
       "        -9.01656674e-03,  5.70686356e-04],\n",
       "       [ 3.98621868e-01, -2.38781991e-01, -2.04359736e-01,\n",
       "         9.56987201e-02,  4.06159356e-01],\n",
       "       [ 3.98621868e-01, -2.38781991e-01, -2.04359736e-01,\n",
       "         9.56987201e-02,  4.06159356e-01],\n",
       "       [ 6.80485155e-02, -1.60572200e-02, -3.16402820e-03,\n",
       "        -1.10582029e-02,  6.18490235e-01],\n",
       "       [ 2.22799750e-01, -4.30826378e-02,  1.60023829e-01,\n",
       "        -1.87357842e-01,  3.15073843e-01],\n",
       "       [ 9.73913451e-02, -7.72604800e-03,  3.87072021e-02,\n",
       "        -4.64574745e-02,  2.03362246e-02],\n",
       "       [ 6.22328259e-02, -3.75569050e-03,  2.13192515e-02,\n",
       "        -3.76204484e-02,  1.77853564e-02],\n",
       "       [ 8.16892230e-02, -3.37798203e-02,  2.51677351e-02,\n",
       "        -9.69018996e-02,  8.11951777e-02],\n",
       "       [ 8.58792772e-02, -2.65270818e-02,  4.27395383e-02,\n",
       "        -1.05428465e-01,  4.19461613e-02],\n",
       "       [ 1.31091665e-01, -3.75539920e-02,  7.56416352e-02,\n",
       "        -1.63873462e-01,  4.25842802e-02],\n",
       "       [ 5.65520926e-01, -3.64122700e-01, -2.46184587e-01,\n",
       "         1.12307908e-01, -9.20326687e-02],\n",
       "       [ 7.49698895e-02, -2.63150315e-02,  4.50114127e-02,\n",
       "        -9.05418601e-02,  4.20351968e-02],\n",
       "       [ 1.33663698e-01, -2.61445423e-02,  6.72968020e-02,\n",
       "        -1.55352371e-01,  4.10501378e-02],\n",
       "       [ 1.24753530e-01, -2.89008555e-02,  2.36278671e-01,\n",
       "        -1.00279279e-02, -1.10477960e-02],\n",
       "       [ 1.46925796e-01, -4.60495390e-02,  5.26032579e-01,\n",
       "         6.84311954e-01,  2.12453478e-01],\n",
       "       [ 2.73657926e-01, -7.12418005e-02,  4.73783747e-01,\n",
       "         1.74078641e-01, -3.00863905e-01],\n",
       "       [ 8.18721392e-02, -4.46434057e-03,  1.07279639e-01,\n",
       "        -2.24417240e-02,  1.17985278e-01],\n",
       "       [ 1.43747809e-01, -4.61299610e-02,  3.50561073e-01,\n",
       "         2.23273203e-01,  6.24323460e-02],\n",
       "       [ 4.94640635e-01, -3.21825023e-01, -3.42812905e-01,\n",
       "         1.97820870e-01, -7.63153917e-02],\n",
       "       [ 1.43146950e-01, -4.80462667e-02,  1.24276998e-01,\n",
       "        -1.16026112e-01, -6.74401920e-02],\n",
       "       [ 4.22088686e-01,  6.05996870e-01, -7.65885086e-02,\n",
       "         1.94898336e-03,  1.44306344e-02],\n",
       "       [ 2.14432981e-01, -8.50303312e-02,  9.74594850e-02,\n",
       "        -2.41783388e-01,  9.49262536e-02],\n",
       "       [ 1.50367556e-01, -6.28799750e-02,  1.41825259e-01,\n",
       "        -8.43517416e-02,  1.70817195e-02],\n",
       "       [ 9.37815915e-02, -2.40794746e-02,  7.61025120e-02,\n",
       "        -1.41446965e-01,  7.88896864e-02],\n",
       "       [ 1.53642198e-01, -5.00691764e-02,  1.14230808e-01,\n",
       "        -1.28861088e-01,  1.82034472e-02],\n",
       "       [ 1.07991989e-01, -4.81805970e-02,  3.13617755e-02,\n",
       "        -1.21331831e-01,  7.50463703e-02],\n",
       "       [ 6.26954100e-01, -3.97849026e-01, -3.22516825e-01,\n",
       "         1.57017746e-01, -8.76845853e-02],\n",
       "       [ 4.35302840e-01,  6.95845928e-01, -7.98128515e-02,\n",
       "         4.37192729e-02, -2.42948839e-02],\n",
       "       [ 1.36356039e-01, -4.70136249e-02,  4.95359254e-01,\n",
       "         6.73450709e-01,  2.28646370e-01],\n",
       "       [ 5.94890468e-01, -3.81755083e-01, -2.99128884e-01,\n",
       "         9.45025454e-02, -1.02223354e-01],\n",
       "       [ 5.50061298e-01, -3.28841253e-01, -3.15396464e-01,\n",
       "         1.64528671e-01, -2.41502842e-02],\n",
       "       [ 2.81283890e-01, -9.76966556e-02,  1.91344106e-01,\n",
       "        -3.45936703e-01,  4.99546030e-02],\n",
       "       [ 3.79757826e-01,  5.91106523e-01, -6.17869393e-02,\n",
       "         4.21605987e-02,  1.00849757e-02],\n",
       "       [ 2.29362695e-01, -1.18554276e-02,  1.92610335e-01,\n",
       "        -1.16250198e-01,  5.23234532e-02],\n",
       "       [ 1.10389373e-01, -1.10959937e-02,  5.67537118e-02,\n",
       "        -1.01199107e-01,  1.25600686e-01],\n",
       "       [ 1.24408834e-01, -4.81100052e-02,  1.42517643e-01,\n",
       "        -9.94172269e-02,  3.96843029e-03],\n",
       "       [ 4.14495639e-01,  6.74997494e-01, -6.94144195e-02,\n",
       "         8.10158347e-02, -1.66112841e-02],\n",
       "       [ 1.10938937e-01, -7.81836974e-03,  5.57696257e-02,\n",
       "        -1.20320680e-01,  2.12854345e-02],\n",
       "       [ 1.82645666e-01, -3.35730524e-02,  9.83387883e-02,\n",
       "        -1.94887279e-01,  3.20126707e-02],\n",
       "       [ 6.55824905e-01, -3.88590042e-01, -3.06557301e-01,\n",
       "         1.09713884e-01, -1.19302808e-01],\n",
       "       [ 9.29982893e-02, -2.71028335e-02,  2.13873999e-02,\n",
       "        -1.69000394e-02,  2.70425634e-02],\n",
       "       [ 8.14267309e-02, -3.72960200e-02,  3.12900250e-02,\n",
       "        -7.68733773e-02,  4.32285461e-02],\n",
       "       [ 1.64172168e-01, -3.99144415e-02,  1.34075177e-01,\n",
       "        -1.62293441e-01,  5.89960112e-03],\n",
       "       [ 1.18834722e-01,  5.73673370e-03,  6.91823248e-02,\n",
       "        -1.04141102e-01, -5.12494834e-02],\n",
       "       [ 1.43421002e-01, -6.99684359e-02,  6.15487111e-02,\n",
       "        -6.44085129e-03, -6.21264537e-02],\n",
       "       [ 2.92251924e-01, -1.18137845e-01,  2.41093810e-01,\n",
       "        -2.54474456e-01, -1.03290654e-01],\n",
       "       [ 1.37425175e-01, -4.60588916e-02,  8.71593728e-02,\n",
       "        -1.43589458e-01, -3.46574712e-03],\n",
       "       [ 1.02041478e-01, -3.63806601e-02,  8.13727961e-02,\n",
       "        -1.66468709e-01,  2.00860344e-02],\n",
       "       [ 9.81840887e-02, -1.00128679e-02,  6.56109276e-02,\n",
       "        -1.18152696e-01, -3.73921318e-02],\n",
       "       [ 2.65354173e-01, -1.02414897e-01,  2.08990550e-01,\n",
       "        -1.21484948e-01, -1.30130373e-01],\n",
       "       [ 1.19970583e-01, -3.08382259e-02,  1.03060339e-01,\n",
       "        -1.75713097e-01, -3.64071968e-03],\n",
       "       [ 4.34434740e-01,  7.03519517e-01, -8.11678444e-02,\n",
       "         8.18185153e-02, -2.42853610e-02],\n",
       "       [ 2.41571228e-01, -1.00260576e-01,  2.96443715e-01,\n",
       "        -4.96302112e-02, -1.67135973e-01],\n",
       "       [ 1.11567931e-01, -3.55541883e-02,  6.67480598e-02,\n",
       "        -1.13687690e-01, -1.87224357e-04],\n",
       "       [ 1.34564578e-01, -5.56268342e-02,  1.61015659e-01,\n",
       "        -3.53455254e-02, -4.75304070e-02],\n",
       "       [ 4.99694314e-01, -3.46611414e-01, -3.38898196e-01,\n",
       "         1.48940489e-01, -7.10051422e-02],\n",
       "       [ 8.04651004e-02, -1.90695998e-02,  5.34548933e-02,\n",
       "        -5.25138772e-02,  2.31841187e-01],\n",
       "       [ 1.55928560e-01, -3.89949369e-02,  1.28221937e-01,\n",
       "        -2.13365458e-01, -1.92617967e-02],\n",
       "       [ 1.41465219e-01,  6.79544470e-02,  1.19841500e-01,\n",
       "         8.50081936e-02,  6.63679796e-02],\n",
       "       [ 1.55540616e-01, -8.59293312e-02,  9.14199321e-02,\n",
       "        -3.79066756e-02, -9.16394325e-03],\n",
       "       [ 1.53604605e-01, -1.59480248e-02,  8.71079362e-02,\n",
       "        -1.43467564e-01,  8.30933424e-02],\n",
       "       [ 1.57272277e-01, -5.93480633e-02,  4.50667463e-02,\n",
       "        -9.17599636e-02,  1.74262675e-01],\n",
       "       [ 5.01969869e-01, -3.15047988e-01, -2.97243258e-01,\n",
       "         1.16070974e-01,  2.27602683e-03],\n",
       "       [ 6.21465093e-02, -3.42890498e-02, -9.87114286e-03,\n",
       "        -1.57994796e-02,  3.31911078e-02],\n",
       "       [ 1.29435743e-01, -4.81791086e-02,  5.73164356e-02,\n",
       "        -8.74807037e-02, -1.04471566e-02],\n",
       "       [ 1.61452022e-01, -4.47816026e-02,  9.27248042e-02,\n",
       "        -5.11591818e-02,  5.68422595e-02],\n",
       "       [ 2.11158718e-01, -6.63241562e-02,  1.24835171e-01,\n",
       "        -1.50553196e-01,  2.95322091e-02]])"
      ]
     },
     "execution_count": 55,
     "metadata": {
      "tags": []
     },
     "output_type": "execute_result"
    }
   ],
   "source": [
    "print(svd_matrix.shape)\n",
    "svd_matrix"
   ]
  },
  {
   "cell_type": "code",
   "execution_count": 0,
   "metadata": {
    "colab": {},
    "colab_type": "code",
    "id": "e64KGBknhH7N",
    "scrolled": true
   },
   "outputs": [],
   "source": [
    "cluster_ls = []\n",
    "for idx in range(len(svd_matrix)) :\n",
    "    cluster_ls.append((it_df['raw'][idx],np.argmax(svd_matrix[idx]),np.max(svd_matrix[idx])))"
   ]
  },
  {
   "cell_type": "code",
   "execution_count": 0,
   "metadata": {
    "colab": {},
    "colab_type": "code",
    "id": "WlS5RppRhH7O",
    "outputId": "22864e48-6133-4386-886f-3f6ad0155cbb"
   },
   "outputs": [
    {
     "name": "stdout",
     "output_type": "stream",
     "text": [
      "배정회 신임 과학기술일자리진흥원장[아시아경제 이민우 기자] 배정회 전 국립중앙과학관전시연구단장(56)이 과학기술일자리진흥원 제3대 원장으로 취임했다.과학기술정보통신부는 22일 이 같은 인사를 발표했다. 임기는 이날부터 3년 동안이다.배 신임 원장은 행정고등고시 40회로 공직에 입문했다. 교육과학기술부 융합기술과장, 중앙대 경영경제대 초빙교수, 과기정통부연구성과활용정책과장 및 연구성과혁신기획과장 등을 거쳤다. 과학기술 정책 수립부터 정부 연구개발(R&D;), 연구성과의 기술 이전 및 사업화까지 두루 경험을 보유한 것으로 평가받는다.배 신임 원장은 이날 환담회에서 \"새로운 임무에 맞게 조직을 신속히 재구성하고 직원 역량을 강화하겠다'며 \"실험실 유망기술을 R&D; 전문기업과 연결하며 기술이전을 효과적으로 지원하고 신기술창업을 통한 미래형 일자리를 많이 창출시키겠다\"고 밝혔다.이민우 기자 letzwin@asiae.co.kr▶ 네이버 홈에서 '아시아경제' 뉴스 확인하기▶ 재미와 신기 '과학을읽다' ▶ 꿀잼 '인기만화'<ⓒ경제를 보는 눈, 세계를 보는 창 아시아경제 무단전재 배포금지>\n"
     ]
    }
   ],
   "source": [
    "print(cluster_ls[0][0])"
   ]
  },
  {
   "cell_type": "code",
   "execution_count": 0,
   "metadata": {
    "colab": {},
    "colab_type": "code",
    "id": "vMR9wotEhH7R",
    "outputId": "75615cce-5a1a-42e9-b4c7-ecca14800b27"
   },
   "outputs": [
    {
     "name": "stdout",
     "output_type": "stream",
     "text": [
      "2\n"
     ]
    }
   ],
   "source": [
    "print(cluster_ls[0][1])"
   ]
  },
  {
   "cell_type": "code",
   "execution_count": 0,
   "metadata": {
    "colab": {},
    "colab_type": "code",
    "id": "F61pt4w1hH7U",
    "outputId": "ccc80670-46f5-4ec4-dfa2-fa782eca17f3",
    "scrolled": false
   },
   "outputs": [
    {
     "data": {
      "text/html": [
       "<div>\n",
       "<style scoped>\n",
       "    .dataframe tbody tr th:only-of-type {\n",
       "        vertical-align: middle;\n",
       "    }\n",
       "\n",
       "    .dataframe tbody tr th {\n",
       "        vertical-align: top;\n",
       "    }\n",
       "\n",
       "    .dataframe thead th {\n",
       "        text-align: right;\n",
       "    }\n",
       "</style>\n",
       "<table border=\"1\" class=\"dataframe\">\n",
       "  <thead>\n",
       "    <tr style=\"text-align: right;\">\n",
       "      <th></th>\n",
       "      <th>news</th>\n",
       "      <th>cat</th>\n",
       "      <th>score</th>\n",
       "    </tr>\n",
       "  </thead>\n",
       "  <tbody>\n",
       "    <tr>\n",
       "      <th>74</th>\n",
       "      <td>LG 사이언스파크에서 5G 준비현황 점검 후 업계 의견 청취유영민 장관 \"5G시대 ...</td>\n",
       "      <td>0</td>\n",
       "      <td>0.655825</td>\n",
       "    </tr>\n",
       "    <tr>\n",
       "      <th>61</th>\n",
       "      <td>[머니투데이 김주현 기자] [3개부처 장관, LG 5G 현장방문…유영민 장관 \"통신...</td>\n",
       "      <td>0</td>\n",
       "      <td>0.626954</td>\n",
       "    </tr>\n",
       "    <tr>\n",
       "      <th>64</th>\n",
       "      <td>LG유플러스가 준비 중인 5G 서비스에 대한 전시와 시연에서 성윤모 산업통상자원부장...</td>\n",
       "      <td>0</td>\n",
       "      <td>0.594890</td>\n",
       "    </tr>\n",
       "    <tr>\n",
       "      <th>45</th>\n",
       "      <td>유영민 과학기술정보통신부장관(가운데)과 성윤모 산업통상자원부장관(왼쪽), 홍종학 중...</td>\n",
       "      <td>0</td>\n",
       "      <td>0.565521</td>\n",
       "    </tr>\n",
       "    <tr>\n",
       "      <th>65</th>\n",
       "      <td>과기·산업·중기장관 등 마곡 방문유영민(왼쪽 세번째) 과학기술정보통신부 장관, 성윤...</td>\n",
       "      <td>0</td>\n",
       "      <td>0.550061</td>\n",
       "    </tr>\n",
       "  </tbody>\n",
       "</table>\n",
       "</div>"
      ],
      "text/plain": [
       "                                                 news  cat     score\n",
       "74  LG 사이언스파크에서 5G 준비현황 점검 후 업계 의견 청취유영민 장관 \"5G시대 ...    0  0.655825\n",
       "61  [머니투데이 김주현 기자] [3개부처 장관, LG 5G 현장방문…유영민 장관 \"통신...    0  0.626954\n",
       "64  LG유플러스가 준비 중인 5G 서비스에 대한 전시와 시연에서 성윤모 산업통상자원부장...    0  0.594890\n",
       "45  유영민 과학기술정보통신부장관(가운데)과 성윤모 산업통상자원부장관(왼쪽), 홍종학 중...    0  0.565521\n",
       "65  과기·산업·중기장관 등 마곡 방문유영민(왼쪽 세번째) 과학기술정보통신부 장관, 성윤...    0  0.550061"
      ]
     },
     "metadata": {
      "tags": []
     },
     "output_type": "display_data"
    },
    {
     "data": {
      "text/html": [
       "<div>\n",
       "<style scoped>\n",
       "    .dataframe tbody tr th:only-of-type {\n",
       "        vertical-align: middle;\n",
       "    }\n",
       "\n",
       "    .dataframe tbody tr th {\n",
       "        vertical-align: top;\n",
       "    }\n",
       "\n",
       "    .dataframe thead th {\n",
       "        text-align: right;\n",
       "    }\n",
       "</style>\n",
       "<table border=\"1\" class=\"dataframe\">\n",
       "  <thead>\n",
       "    <tr style=\"text-align: right;\">\n",
       "      <th></th>\n",
       "      <th>news</th>\n",
       "      <th>cat</th>\n",
       "      <th>score</th>\n",
       "    </tr>\n",
       "  </thead>\n",
       "  <tbody>\n",
       "    <tr>\n",
       "      <th>9</th>\n",
       "      <td>KT스카이라이프 \"세부 내용은 확인 필요\"국회 과방위, 합산규제 문제 2월 재논의【...</td>\n",
       "      <td>1</td>\n",
       "      <td>0.724006</td>\n",
       "    </tr>\n",
       "    <tr>\n",
       "      <th>22</th>\n",
       "      <td>과기정통부.KT 공공성 회복 방안 검토 후 다시 논의【서울=뉴시스】이국현 기자 = ...</td>\n",
       "      <td>1</td>\n",
       "      <td>0.723300</td>\n",
       "    </tr>\n",
       "    <tr>\n",
       "      <th>86</th>\n",
       "      <td>김성태 의원 \"KT스카이라이프 공공성 확보 방안, 과기정통부에 요청…합산규제 재도입...</td>\n",
       "      <td>1</td>\n",
       "      <td>0.703520</td>\n",
       "    </tr>\n",
       "    <tr>\n",
       "      <th>14</th>\n",
       "      <td>과방위, 규제 유지 쪽으로 기울어향후 M&amp;A; 등 사업확장 걸림돌22일 국회 과학기...</td>\n",
       "      <td>1</td>\n",
       "      <td>0.699562</td>\n",
       "    </tr>\n",
       "    <tr>\n",
       "      <th>62</th>\n",
       "      <td>[아시아경제 명진규 기자] 국회 과학기술정보방송통신위원회(이하 과방위)는 22일 법...</td>\n",
       "      <td>1</td>\n",
       "      <td>0.695846</td>\n",
       "    </tr>\n",
       "  </tbody>\n",
       "</table>\n",
       "</div>"
      ],
      "text/plain": [
       "                                                 news  cat     score\n",
       "9   KT스카이라이프 \"세부 내용은 확인 필요\"국회 과방위, 합산규제 문제 2월 재논의【...    1  0.724006\n",
       "22  과기정통부.KT 공공성 회복 방안 검토 후 다시 논의【서울=뉴시스】이국현 기자 = ...    1  0.723300\n",
       "86  김성태 의원 \"KT스카이라이프 공공성 확보 방안, 과기정통부에 요청…합산규제 재도입...    1  0.703520\n",
       "14  과방위, 규제 유지 쪽으로 기울어향후 M&A; 등 사업확장 걸림돌22일 국회 과학기...    1  0.699562\n",
       "62  [아시아경제 명진규 기자] 국회 과학기술정보방송통신위원회(이하 과방위)는 22일 법...    1  0.695846"
      ]
     },
     "metadata": {
      "tags": []
     },
     "output_type": "display_data"
    },
    {
     "data": {
      "text/html": [
       "<div>\n",
       "<style scoped>\n",
       "    .dataframe tbody tr th:only-of-type {\n",
       "        vertical-align: middle;\n",
       "    }\n",
       "\n",
       "    .dataframe tbody tr th {\n",
       "        vertical-align: top;\n",
       "    }\n",
       "\n",
       "    .dataframe thead th {\n",
       "        text-align: right;\n",
       "    }\n",
       "</style>\n",
       "<table border=\"1\" class=\"dataframe\">\n",
       "  <thead>\n",
       "    <tr style=\"text-align: right;\">\n",
       "      <th></th>\n",
       "      <th>news</th>\n",
       "      <th>cat</th>\n",
       "      <th>score</th>\n",
       "    </tr>\n",
       "  </thead>\n",
       "  <tbody>\n",
       "    <tr>\n",
       "      <th>50</th>\n",
       "      <td>[이데일리 이연호 기자] 과학기술정보통신부는 배정회(57·사진) 전 국립중앙과학관 ...</td>\n",
       "      <td>2</td>\n",
       "      <td>0.473784</td>\n",
       "    </tr>\n",
       "    <tr>\n",
       "      <th>27</th>\n",
       "      <td>배정회 과기일자리진흥원장배정회 과학기술일자리진흥원 원장(앞줄 왼쪽 네번째)이 22일...</td>\n",
       "      <td>2</td>\n",
       "      <td>0.437691</td>\n",
       "    </tr>\n",
       "    <tr>\n",
       "      <th>0</th>\n",
       "      <td>배정회 신임 과학기술일자리진흥원장[아시아경제 이민우 기자] 배정회 전 국립중앙과학관...</td>\n",
       "      <td>2</td>\n",
       "      <td>0.420336</td>\n",
       "    </tr>\n",
       "    <tr>\n",
       "      <th>52</th>\n",
       "      <td>[이데일리 이연호 기자] △정책부장 김강회 △기획부장 송장헌 △연구데이터공유센터장 ...</td>\n",
       "      <td>2</td>\n",
       "      <td>0.350561</td>\n",
       "    </tr>\n",
       "    <tr>\n",
       "      <th>33</th>\n",
       "      <td>석제범 IITP 원장 간담회석제범 정보통신기획평가원장\"이노베이션 아카데미, AI대학...</td>\n",
       "      <td>2</td>\n",
       "      <td>0.308470</td>\n",
       "    </tr>\n",
       "  </tbody>\n",
       "</table>\n",
       "</div>"
      ],
      "text/plain": [
       "                                                 news  cat     score\n",
       "50  [이데일리 이연호 기자] 과학기술정보통신부는 배정회(57·사진) 전 국립중앙과학관 ...    2  0.473784\n",
       "27  배정회 과기일자리진흥원장배정회 과학기술일자리진흥원 원장(앞줄 왼쪽 네번째)이 22일...    2  0.437691\n",
       "0   배정회 신임 과학기술일자리진흥원장[아시아경제 이민우 기자] 배정회 전 국립중앙과학관...    2  0.420336\n",
       "52  [이데일리 이연호 기자] △정책부장 김강회 △기획부장 송장헌 △연구데이터공유센터장 ...    2  0.350561\n",
       "33  석제범 IITP 원장 간담회석제범 정보통신기획평가원장\"이노베이션 아카데미, AI대학...    2  0.308470"
      ]
     },
     "metadata": {
      "tags": []
     },
     "output_type": "display_data"
    },
    {
     "data": {
      "text/html": [
       "<div>\n",
       "<style scoped>\n",
       "    .dataframe tbody tr th:only-of-type {\n",
       "        vertical-align: middle;\n",
       "    }\n",
       "\n",
       "    .dataframe tbody tr th {\n",
       "        vertical-align: top;\n",
       "    }\n",
       "\n",
       "    .dataframe thead th {\n",
       "        text-align: right;\n",
       "    }\n",
       "</style>\n",
       "<table border=\"1\" class=\"dataframe\">\n",
       "  <thead>\n",
       "    <tr style=\"text-align: right;\">\n",
       "      <th></th>\n",
       "      <th>news</th>\n",
       "      <th>cat</th>\n",
       "      <th>score</th>\n",
       "    </tr>\n",
       "  </thead>\n",
       "  <tbody>\n",
       "    <tr>\n",
       "      <th>49</th>\n",
       "      <td>[이데일리 이연호 기자]◇직책승진(8명)△감사부 부장 변재규△창의융합교육단 단장 허...</td>\n",
       "      <td>3</td>\n",
       "      <td>0.684312</td>\n",
       "    </tr>\n",
       "    <tr>\n",
       "      <th>63</th>\n",
       "      <td>&lt;직책 승진&gt;Δ변재규 감사부 부장 Δ허경호 창의융합교육단 단장Δ 김명수 과학문화산업...</td>\n",
       "      <td>3</td>\n",
       "      <td>0.673451</td>\n",
       "    </tr>\n",
       "    <tr>\n",
       "      <th>15</th>\n",
       "      <td>◇한국과학창의재단 ◇승진 △감사부장 변재규 △창의융합교육단장 허경호(종합교육연수원장...</td>\n",
       "      <td>3</td>\n",
       "      <td>0.656683</td>\n",
       "    </tr>\n",
       "  </tbody>\n",
       "</table>\n",
       "</div>"
      ],
      "text/plain": [
       "                                                 news  cat     score\n",
       "49  [이데일리 이연호 기자]◇직책승진(8명)△감사부 부장 변재규△창의융합교육단 단장 허...    3  0.684312\n",
       "63  <직책 승진>Δ변재규 감사부 부장 Δ허경호 창의융합교육단 단장Δ 김명수 과학문화산업...    3  0.673451\n",
       "15  ◇한국과학창의재단 ◇승진 △감사부장 변재규 △창의융합교육단장 허경호(종합교육연수원장...    3  0.656683"
      ]
     },
     "metadata": {
      "tags": []
     },
     "output_type": "display_data"
    },
    {
     "data": {
      "text/html": [
       "<div>\n",
       "<style scoped>\n",
       "    .dataframe tbody tr th:only-of-type {\n",
       "        vertical-align: middle;\n",
       "    }\n",
       "\n",
       "    .dataframe tbody tr th {\n",
       "        vertical-align: top;\n",
       "    }\n",
       "\n",
       "    .dataframe thead th {\n",
       "        text-align: right;\n",
       "    }\n",
       "</style>\n",
       "<table border=\"1\" class=\"dataframe\">\n",
       "  <thead>\n",
       "    <tr style=\"text-align: right;\">\n",
       "      <th></th>\n",
       "      <th>news</th>\n",
       "      <th>cat</th>\n",
       "      <th>score</th>\n",
       "    </tr>\n",
       "  </thead>\n",
       "  <tbody>\n",
       "    <tr>\n",
       "      <th>6</th>\n",
       "      <td>동영상 뉴스</td>\n",
       "      <td>4</td>\n",
       "      <td>0.618490</td>\n",
       "    </tr>\n",
       "    <tr>\n",
       "      <th>38</th>\n",
       "      <td>동영상 뉴스</td>\n",
       "      <td>4</td>\n",
       "      <td>0.618490</td>\n",
       "    </tr>\n",
       "    <tr>\n",
       "      <th>36</th>\n",
       "      <td>(서울=연합뉴스) 성윤모 산업통상자원부 장관이 22일 오후 서울 강서구 마곡동 LG...</td>\n",
       "      <td>4</td>\n",
       "      <td>0.406159</td>\n",
       "    </tr>\n",
       "    <tr>\n",
       "      <th>37</th>\n",
       "      <td>(서울=연합뉴스) 성윤모 산업통상자원부 장관이 22일 오후 서울 강서구 마곡동 LG...</td>\n",
       "      <td>4</td>\n",
       "      <td>0.406159</td>\n",
       "    </tr>\n",
       "    <tr>\n",
       "      <th>7</th>\n",
       "      <td>[앵커] 검색 기록과 내비게이션 이동경로까지, 일상 속 수많은 정보가 쌓여 '빅 ...</td>\n",
       "      <td>4</td>\n",
       "      <td>0.315074</td>\n",
       "    </tr>\n",
       "  </tbody>\n",
       "</table>\n",
       "</div>"
      ],
      "text/plain": [
       "                                                 news  cat     score\n",
       "6                                              동영상 뉴스    4  0.618490\n",
       "38                                             동영상 뉴스    4  0.618490\n",
       "36  (서울=연합뉴스) 성윤모 산업통상자원부 장관이 22일 오후 서울 강서구 마곡동 LG...    4  0.406159\n",
       "37  (서울=연합뉴스) 성윤모 산업통상자원부 장관이 22일 오후 서울 강서구 마곡동 LG...    4  0.406159\n",
       "7    [앵커] 검색 기록과 내비게이션 이동경로까지, 일상 속 수많은 정보가 쌓여 '빅 ...    4  0.315074"
      ]
     },
     "metadata": {
      "tags": []
     },
     "output_type": "display_data"
    }
   ],
   "source": [
    "cluster_ls = []\n",
    "for idx in range(len(svd_matrix)) :\n",
    "    cluster_ls.append((it_df['raw'][idx],np.argmax(svd_matrix[idx]),np.max(svd_matrix[idx])))\n",
    "\n",
    "new_ls = [i[0] for i in cluster_ls]\n",
    "cat_ls = [i[1] for i in cluster_ls]\n",
    "score_ls = [i[2] for i in cluster_ls]\n",
    "\n",
    "lsa_df = pd.DataFrame()\n",
    "lsa_df['news'] = new_ls\n",
    "lsa_df['cat'] = cat_ls\n",
    "lsa_df['score'] = score_ls\n",
    "\n",
    "for i in range(5) :\n",
    "    if \\\n",
    "    len(lsa_df[lsa_df['cat'] == i].sort_values('score',ascending=False).head(5)) == 0 :\n",
    "        display(Markdown('### There is no data which belong to {}-th cat!'.format(i+1)))\n",
    "\n",
    "    else :display(lsa_df[lsa_df['cat'] == i].sort_values('score',ascending=False).head(5))"
   ]
  },
  {
   "cell_type": "markdown",
   "metadata": {
    "colab_type": "text",
    "id": "pY_Wdh1VuKbc"
   },
   "source": [
    "\n",
    "\n",
    "---\n",
    "\n"
   ]
  }
 ],
 "metadata": {
  "colab": {
   "collapsed_sections": [],
   "include_colab_link": true,
   "name": "5_주제어 찾기_Topic Modeling.ipynb",
   "provenance": [],
   "version": "0.3.2"
  },
  "kernelspec": {
   "display_name": "Python 3",
   "language": "python",
   "name": "python3"
  },
  "language_info": {
   "codemirror_mode": {
    "name": "ipython",
    "version": 3
   },
   "file_extension": ".py",
   "mimetype": "text/x-python",
   "name": "python",
   "nbconvert_exporter": "python",
   "pygments_lexer": "ipython3",
   "version": "3.6.5"
  }
 },
 "nbformat": 4,
 "nbformat_minor": 1
}
