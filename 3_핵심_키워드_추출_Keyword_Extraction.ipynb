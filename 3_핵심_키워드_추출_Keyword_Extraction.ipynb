{
  "nbformat": 4,
  "nbformat_minor": 0,
  "metadata": {
    "colab": {
      "name": "3_핵심 키워드 추출_Keyword Extraction.ipynb",
      "version": "0.3.2",
      "provenance": [],
      "collapsed_sections": [],
      "include_colab_link": true
    },
    "kernelspec": {
      "name": "python3",
      "display_name": "Python 3"
    }
  },
  "cells": [
    {
      "cell_type": "markdown",
      "metadata": {
        "id": "view-in-github",
        "colab_type": "text"
      },
      "source": [
        "<a href=\"https://colab.research.google.com/github/fininsight/text-mining-tutorial/blob/master/3_%ED%95%B5%EC%8B%AC_%ED%82%A4%EC%9B%8C%EB%93%9C_%EC%B6%94%EC%B6%9C_Keyword_Extraction.ipynb\" target=\"_parent\"><img src=\"https://colab.research.google.com/assets/colab-badge.svg\" alt=\"Open In Colab\"/></a>"
      ]
    },
    {
      "cell_type": "markdown",
      "metadata": {
        "id": "q1Q9mWDrgMUn",
        "colab_type": "text"
      },
      "source": [
        "# 핵심 키워드 추출 (Keyword Extraction)"
      ]
    },
    {
      "cell_type": "markdown",
      "metadata": {
        "id": "jxsBfWirA9ao",
        "colab_type": "text"
      },
      "source": [
        "# 1 TF-IDF"
      ]
    },
    {
      "cell_type": "markdown",
      "metadata": {
        "id": "Of0dQ_ALpLw6",
        "colab_type": "text"
      },
      "source": [
        "## 1.1 샘플 텍스트"
      ]
    },
    {
      "cell_type": "code",
      "metadata": {
        "id": "DAYZY89FBsZX",
        "colab_type": "code",
        "colab": {}
      },
      "source": [
        "d1 = \"The cat sat on my face. I hate a cat.\"\n",
        "d2 = \"The dog sat on my bed. I love a dog.\" "
      ],
      "execution_count": 0,
      "outputs": []
    },
    {
      "cell_type": "markdown",
      "metadata": {
        "id": "JqZ9ONgLpOzv",
        "colab_type": "text"
      },
      "source": [
        "## 1.2 sklearn 활용 TF-IDF"
      ]
    },
    {
      "cell_type": "code",
      "metadata": {
        "id": "em3l3IS5kRP-",
        "colab_type": "code",
        "colab": {}
      },
      "source": [
        "from sklearn.feature_extraction.text import TfidfVectorizer\n",
        "from collections import defaultdict\n",
        "\n",
        "document_ls = [d1, d2]\n",
        "\n",
        "vectorizer = TfidfVectorizer()\n",
        "tfidf = vectorizer.fit_transform(document_ls)\n",
        "\n",
        "word2id = defaultdict(lambda : 0)\n",
        "for idx, feature in enumerate(vectorizer.get_feature_names()):\n",
        "    word2id[feature] = idx"
      ],
      "execution_count": 0,
      "outputs": []
    },
    {
      "cell_type": "markdown",
      "metadata": {
        "id": "ESM6EqgjpUbG",
        "colab_type": "text"
      },
      "source": [
        "## 1.3 dataframe으로 변환하여 출력"
      ]
    },
    {
      "cell_type": "code",
      "metadata": {
        "id": "Sy9QLG-NlF5N",
        "colab_type": "code",
        "colab": {
          "base_uri": "https://localhost:8080/",
          "height": 111
        },
        "outputId": "295a643c-25f4-438a-b634-22a4e9751163"
      },
      "source": [
        "import pandas as pd\n",
        "count_vect_df = pd.DataFrame(tfidf.todense(), columns=vectorizer.get_feature_names())\n",
        "count_vect_df"
      ],
      "execution_count": 99,
      "outputs": [
        {
          "output_type": "execute_result",
          "data": {
            "text/html": [
              "<div>\n",
              "<style scoped>\n",
              "    .dataframe tbody tr th:only-of-type {\n",
              "        vertical-align: middle;\n",
              "    }\n",
              "\n",
              "    .dataframe tbody tr th {\n",
              "        vertical-align: top;\n",
              "    }\n",
              "\n",
              "    .dataframe thead th {\n",
              "        text-align: right;\n",
              "    }\n",
              "</style>\n",
              "<table border=\"1\" class=\"dataframe\">\n",
              "  <thead>\n",
              "    <tr style=\"text-align: right;\">\n",
              "      <th></th>\n",
              "      <th>bed</th>\n",
              "      <th>cat</th>\n",
              "      <th>dog</th>\n",
              "      <th>face</th>\n",
              "      <th>hate</th>\n",
              "      <th>love</th>\n",
              "      <th>my</th>\n",
              "      <th>on</th>\n",
              "      <th>sat</th>\n",
              "      <th>the</th>\n",
              "    </tr>\n",
              "  </thead>\n",
              "  <tbody>\n",
              "    <tr>\n",
              "      <th>0</th>\n",
              "      <td>0.000000</td>\n",
              "      <td>0.706006</td>\n",
              "      <td>0.000000</td>\n",
              "      <td>0.353003</td>\n",
              "      <td>0.353003</td>\n",
              "      <td>0.000000</td>\n",
              "      <td>0.251164</td>\n",
              "      <td>0.251164</td>\n",
              "      <td>0.251164</td>\n",
              "      <td>0.251164</td>\n",
              "    </tr>\n",
              "    <tr>\n",
              "      <th>1</th>\n",
              "      <td>0.353003</td>\n",
              "      <td>0.000000</td>\n",
              "      <td>0.706006</td>\n",
              "      <td>0.000000</td>\n",
              "      <td>0.000000</td>\n",
              "      <td>0.353003</td>\n",
              "      <td>0.251164</td>\n",
              "      <td>0.251164</td>\n",
              "      <td>0.251164</td>\n",
              "      <td>0.251164</td>\n",
              "    </tr>\n",
              "  </tbody>\n",
              "</table>\n",
              "</div>"
            ],
            "text/plain": [
              "        bed       cat       dog      face      hate      love        my  \\\n",
              "0  0.000000  0.706006  0.000000  0.353003  0.353003  0.000000  0.251164   \n",
              "1  0.353003  0.000000  0.706006  0.000000  0.000000  0.353003  0.251164   \n",
              "\n",
              "         on       sat       the  \n",
              "0  0.251164  0.251164  0.251164  \n",
              "1  0.251164  0.251164  0.251164  "
            ]
          },
          "metadata": {
            "tags": []
          },
          "execution_count": 99
        }
      ]
    },
    {
      "cell_type": "markdown",
      "metadata": {
        "id": "M9d0sJ2Vqpw-",
        "colab_type": "text"
      },
      "source": [
        "## 1.4 TF-IDF score가 높은 순으로 출력"
      ]
    },
    {
      "cell_type": "code",
      "metadata": {
        "id": "YBP6VjiylrjP",
        "colab_type": "code",
        "colab": {
          "base_uri": "https://localhost:8080/",
          "height": 35
        },
        "outputId": "e8d66b6a-d8e9-4e1d-ce7d-3540381ed450"
      },
      "source": [
        "feature_array = np.array(vectorizer.get_feature_names())\n",
        "tfidf_sorting = np.argsort(tfidf[0].toarray()).flatten()[::-1]\n",
        "\n",
        "n = 3\n",
        "top_n = feature_array[tfidf_sorting][:n]\n",
        "\n",
        "top_n"
      ],
      "execution_count": 111,
      "outputs": [
        {
          "output_type": "execute_result",
          "data": {
            "text/plain": [
              "array(['cat', 'hate', 'face'], dtype='<U4')"
            ]
          },
          "metadata": {
            "tags": []
          },
          "execution_count": 111
        }
      ]
    },
    {
      "cell_type": "markdown",
      "metadata": {
        "id": "hZpm1wtTqxL-",
        "colab_type": "text"
      },
      "source": [
        "\n",
        "\n",
        "---\n",
        "\n"
      ]
    },
    {
      "cell_type": "markdown",
      "metadata": {
        "id": "mfekkYshBAVS",
        "colab_type": "text"
      },
      "source": [
        "# 2 Textrank"
      ]
    },
    {
      "cell_type": "markdown",
      "metadata": {
        "id": "bn58myMFF-nN",
        "colab_type": "text"
      },
      "source": [
        "<img src=\"https://i.stack.imgur.com/ohF5r.png\" />"
      ]
    },
    {
      "cell_type": "code",
      "metadata": {
        "id": "9X5YARYrBohs",
        "colab_type": "code",
        "colab": {}
      },
      "source": [
        ""
      ],
      "execution_count": 0,
      "outputs": []
    },
    {
      "cell_type": "markdown",
      "metadata": {
        "id": "GpFwfuGlpFL9",
        "colab_type": "text"
      },
      "source": [
        "## 2.3 gensim Textrank"
      ]
    },
    {
      "cell_type": "code",
      "metadata": {
        "id": "fW7gy7_7ooKb",
        "colab_type": "code",
        "outputId": "fb63f123-e5ff-4d40-f199-e5d58f3fa076",
        "colab": {
          "base_uri": "https://localhost:8080/",
          "height": 91
        }
      },
      "source": [
        "from gensim.summarization import keywords\n",
        "\n",
        "text = '''Challenges in natural language processing frequently involve speech recognition, natural language understanding, natural language generation (frequently from formal, machine-readable logical forms), connecting language and machine perception, dialog systems, or some combination thereof.'''\n",
        "keywords(text).split('\\n')"
      ],
      "execution_count": 0,
      "outputs": [
        {
          "output_type": "stream",
          "text": [
            "/usr/local/lib/python3.6/dist-packages/smart_open/ssh.py:34: UserWarning: paramiko missing, opening SSH/SCP/SFTP paths will be disabled.  `pip install paramiko` to suppress\n",
            "  warnings.warn('paramiko missing, opening SSH/SCP/SFTP paths will be disabled.  `pip install paramiko` to suppress')\n"
          ],
          "name": "stderr"
        },
        {
          "output_type": "execute_result",
          "data": {
            "text/plain": [
              "['natural language', 'machine', 'frequently']"
            ]
          },
          "metadata": {
            "tags": []
          },
          "execution_count": 39
        }
      ]
    },
    {
      "cell_type": "code",
      "metadata": {
        "id": "-ar-QV1MoyGL",
        "colab_type": "code",
        "outputId": "dfeb45e5-0da5-4ebd-f28a-8feb31713eb8",
        "colab": {
          "base_uri": "https://localhost:8080/",
          "height": 89
        }
      },
      "source": [
        "from gensim.summarization.summarizer import summarize\n",
        "\n",
        "text = '''Rice Pudding - Poem by Alan Alexander Milne\n",
        "... What is the matter with Mary Jane?\n",
        "... She's crying with all her might and main,\n",
        "... And she won't eat her dinner - rice pudding again -\n",
        "... What is the matter with Mary Jane?\n",
        "... What is the matter with Mary Jane?\n",
        "... I've promised her dolls and a daisy-chain,\n",
        "... And a book about animals - all in vain -\n",
        "... What is the matter with Mary Jane?\n",
        "... What is the matter with Mary Jane?\n",
        "... She's perfectly well, and she hasn't a pain;\n",
        "... But, look at her, now she's beginning again! -\n",
        "... What is the matter with Mary Jane?\n",
        "... What is the matter with Mary Jane?\n",
        "... I've promised her sweets and a ride in the train,\n",
        "... And I've begged her to stop for a bit and explain -\n",
        "... What is the matter with Mary Jane?\n",
        "... What is the matter with Mary Jane?\n",
        "... She's perfectly well and she hasn't a pain,\n",
        "... And it's lovely rice pudding for dinner again!\n",
        "... What is the matter with Mary Jane?'''\n",
        "print(summarize(text))\n"
      ],
      "execution_count": 0,
      "outputs": [
        {
          "output_type": "stream",
          "text": [
            "And she won't eat her dinner - rice pudding again -\n",
            "I've promised her dolls and a daisy-chain,\n",
            "I've promised her sweets and a ride in the train,\n",
            "And it's lovely rice pudding for dinner again!\n"
          ],
          "name": "stdout"
        }
      ]
    },
    {
      "cell_type": "code",
      "metadata": {
        "id": "ujyDQWblpBsJ",
        "colab_type": "code",
        "colab": {}
      },
      "source": [
        ""
      ],
      "execution_count": 0,
      "outputs": []
    },
    {
      "cell_type": "markdown",
      "metadata": {
        "id": "YZ8Uu6Rqbfyi",
        "colab_type": "text"
      },
      "source": [
        "## 2.1 TextRank 직접 구현하기\n",
        "(Based on: https://web.eecs.umich.edu/~mihalcea/papers/mihalcea.emnlp04.pdf)"
      ]
    },
    {
      "cell_type": "code",
      "metadata": {
        "id": "Nk06RCeMbfyk",
        "colab_type": "code",
        "colab": {}
      },
      "source": [
        "#Source of text:\n",
        "#https://www.researchgate.net/publication/227988510_Automatic_Keyword_Extraction_from_Individual_Documents\n",
        "\n",
        "Text = \"Compatibility of systems of linear constraints over the set of natural numbers. \\\n",
        "Criteria of compatibility of a system of linear Diophantine equations, strict inequations, and \\\n",
        "nonstrict inequations are considered. \\\n",
        "Upper bounds for components of a minimal set of solutions and \\\n",
        "algorithms of construction of minimal generating sets of solutions for all \\\n",
        "types of systems are given. \\\n",
        "These criteria and the corresponding algorithms for constructing \\\n",
        "a minimal supporting set of solutions can be used in solving all the \\\n",
        "considered types of systems and systems of mixed types.\"\n",
        "\n",
        "Text = \"북한이 4일 오전 강원도 원산 호도반도 일대에서 여러 발의 단거리 미사일을 발사한 가운데 탄도미사일이 아닌 방사포(다연장로켓)나 전술 로켓일 가능성이 제기된다. \\\n",
        "합동참모본부는 이날 '북한이 오전 9시6분께부터 9시27분께까지 원산북방 호도반도 일대에서 북동쪽 방향으로 불상 단거리 발사체 수발을 발사했다'고 밝혔다. \\\n",
        "발사된 발사체는 동해상까지 약 70~200㎞ 비행했으며 미사일 발사 의도와 기종 등 추가정보에 대해서는 한미가 정밀분석 중에 있다. \\\n",
        "당초 합참은 북한이 '단거리 미사일'을 발사했다고 발표했다가 40여분 만에 '단거리 발사체'로 수정 발표했다. 미사일로 보기 어렵다는 분석을 담은 것으로 보여진다. 유엔 제재는 모든 탄도미사일 발사를 금지하고 있다. \\\n",
        "북한은 지난달 17일에도 '신형 전술유도무기'라는 표현으로 단거리 발사체를 발사한 바 있다. 당시 군은 이에 대해 '지상전투용 유도무기'로 분석했다. 먼거리를 날아가는 순항미사일이 아닌 사거리 20여㎞ 수준의 단거리 발사체로 본 셈이다. \\\n",
        "북한은 정확히 17일 만에 단거리 발사체를 발사했는데 전문가들에 따르면 이번 발사체들은 240㎜ 방사포와 300㎜ 방사포일 것으로 추정된다. \\\n",
        "발사 수와 비행거리를 고려했을 때 240㎜방사포와 300㎜신형방사포를 함께 가지고 나와 최대사거리를 뽐내는 실발사훈련을 했을 가능성이 높아보인다는 분석이다. \\\n",
        "김동엽 경남대 극동문제연구소 교수는 '일단 장사정포, 일명 다연장로켓, 북한에선 방사포라고 하는 것의  실제훈련을 한 것이 아닐까 한다'고 말했다. \\\n",
        "이어 \\방사포를 탄도미사일로 볼 것인가는 해석의 차이가 있겠지만 일단 발사 방식상 탄도지만 미사일로까지 보기는 어렵다는 점에서 이번 북한의 행동을 모든 탄도미사일 발사를 금지하고 있는 유엔제재 위반으로 보기는 어려울 듯 하다'고 부연했다. \\\n",
        "홍민 통일연구원 북한연구실장은 'KN-09와 같은 대구경 방사포 또는 신형 함대함 미사일일 수 있다'고 말했다. 2015년 6월14일에도 북한은 신형 함대함 미사일 발사 훈련을 호도반도에서 진행한 바 있다. \\\n",
        "다만 일각에선 사거리가 200㎞까지 나온 것에 비춰볼 때 단거리 미사일의 가능성을 배제할 수 없다는 주장도 나온다. \\\n",
        "양욱 한국국방안보포럼 센터장은 '애초에 300㎜ 방사포란 것은 탄도미사일로 보아도 무방한, 즉 SRBM(단거리 탄도미사일)과 MLRS(다연장 로켓)의 경계선 상에 존재하는 무기체계'라며 '단거리 미사일의 가능성을 배제할 수 없다'고 밝혔다. \\\n",
        "2018년 2월 열병식에 등장했던 KN-02 단거리미사일의 개량형일 가능성을 추정할 수 있으며, '방사포'라고 하더라도 KN-09이거나 또는 그 개량형일 가능성도 있다는 주장이다.\""
      ],
      "execution_count": 0,
      "outputs": []
    },
    {
      "cell_type": "markdown",
      "metadata": {
        "id": "683iA8igbfym",
        "colab_type": "text"
      },
      "source": [
        "### Cleaning Text Data\n",
        "\n",
        "The raw input text is cleaned off non-printable characters (if any) and turned into lower case.\n",
        "The processed input text is then tokenized using NLTK library functions. "
      ]
    },
    {
      "cell_type": "code",
      "metadata": {
        "id": "3SxuV1Zkbfyn",
        "colab_type": "code",
        "outputId": "e5516380-4a1b-4e5d-8adc-2653ec61663b",
        "colab": {
          "base_uri": "https://localhost:8080/",
          "height": 127
        }
      },
      "source": [
        "import nltk\n",
        "from nltk import word_tokenize\n",
        "import string\n",
        "\n",
        "nltk.download('punkt')\n",
        "\n",
        "\n",
        "#def clean(text):\n",
        "#    text = text.lower()\n",
        "#    printable = set(string.printable)    \n",
        "#    text = filter(lambda x: (x in printable), text)\n",
        "#    print(text)\n",
        "#    return text\n",
        "\n",
        "#Cleaned_text = clean(Text)\n",
        "#print(Cleaned_text)\n",
        "\n",
        "text = word_tokenize(Text)\n",
        "\n",
        "print (\"Tokenized Text: \\n\")\n",
        "print (text)"
      ],
      "execution_count": 57,
      "outputs": [
        {
          "output_type": "stream",
          "text": [
            "[nltk_data] Downloading package punkt to /root/nltk_data...\n",
            "[nltk_data]   Package punkt is already up-to-date!\n",
            "Tokenized Text: \n",
            "\n",
            "['북한이', '4일', '오전', '강원도', '원산', '호도반도', '일대에서', '여러', '발의', '단거리', '미사일을', '발사한', '가운데', '탄도미사일이', '아닌', '방사포', '(', '다연장로켓', ')', '나', '전술', '로켓일', '가능성이', '제기된다', '.', '합동참모본부는', '이날', \"'북한이\", '오전', '9시6분께부터', '9시27분께까지', '원산북방', '호도반도', '일대에서', '북동쪽', '방향으로', '불상', '단거리', '발사체', '수발을', \"발사했다'고\", '밝혔다', '.', '발사된', '발사체는', '동해상까지', '약', '70~200㎞', '비행했으며', '미사일', '발사', '의도와', '기종', '등', '추가정보에', '대해서는', '한미가', '정밀분석', '중에', '있다', '.', '당초', '합참은', '북한이', \"'단거리\", \"미사일'을\", '발사했다고', '발표했다가', '40여분', '만에', \"'단거리\", \"발사체'로\", '수정', '발표했다', '.', '미사일로', '보기', '어렵다는', '분석을', '담은', '것으로', '보여진다', '.', '유엔', '제재는', '모든', '탄도미사일', '발사를', '금지하고', '있다', '.', '북한은', '지난달', '17일에도', \"'신형\", \"전술유도무기'라는\", '표현으로', '단거리', '발사체를', '발사한', '바', '있다', '.', '당시', '군은', '이에', '대해', \"'지상전투용\", \"유도무기'로\", '분석했다', '.', '먼거리를', '날아가는', '순항미사일이', '아닌', '사거리', '20여㎞', '수준의', '단거리', '발사체로', '본', '셈이다', '.', '북한은', '정확히', '17일', '만에', '단거리', '발사체를', '발사했는데', '전문가들에', '따르면', '이번', '발사체들은', '240㎜', '방사포와', '300㎜', '방사포일', '것으로', '추정된다', '.', '발사', '수와', '비행거리를', '고려했을', '때', '240㎜방사포와', '300㎜신형방사포를', '함께', '가지고', '나와', '최대사거리를', '뽐내는', '실발사훈련을', '했을', '가능성이', '높아보인다는', '분석이다', '.', '김동엽', '경남대', '극동문제연구소', '교수는', \"'일단\", '장사정포', ',', '일명', '다연장로켓', ',', '북한에선', '방사포라고', '하는', '것의', '실제훈련을', '한', '것이', '아닐까', \"한다'고\", '말했다', '.', '이어', '\\\\방사포를', '탄도미사일로', '볼', '것인가는', '해석의', '차이가', '있겠지만', '일단', '발사', '방식상', '탄도지만', '미사일로까지', '보기는', '어렵다는', '점에서', '이번', '북한의', '행동을', '모든', '탄도미사일', '발사를', '금지하고', '있는', '유엔제재', '위반으로', '보기는', '어려울', '듯', \"하다'고\", '부연했다', '.', '홍민', '통일연구원', '북한연구실장은', \"'KN-09와\", '같은', '대구경', '방사포', '또는', '신형', '함대함', '미사일일', '수', \"있다'고\", '말했다', '.', '2015년', '6월14일에도', '북한은', '신형', '함대함', '미사일', '발사', '훈련을', '호도반도에서', '진행한', '바', '있다', '.', '다만', '일각에선', '사거리가', '200㎞까지', '나온', '것에', '비춰볼', '때', '단거리', '미사일의', '가능성을', '배제할', '수', '없다는', '주장도', '나온다', '.', '양욱', '한국국방안보포럼', '센터장은', \"'애초에\", '300㎜', '방사포란', '것은', '탄도미사일로', '보아도', '무방한', ',', '즉', 'SRBM', '(', '단거리', '탄도미사일', ')', '과', 'MLRS', '(', '다연장', '로켓', ')', '의', '경계선', '상에', '존재하는', \"무기체계'라며\", \"'단거리\", '미사일의', '가능성을', '배제할', '수', \"없다'고\", '밝혔다', '.', '2018년', '2월', '열병식에', '등장했던', 'KN-02', '단거리미사일의', '개량형일', '가능성을', '추정할', '수', '있으며', ',', \"'방사포'라고\", '하더라도', 'KN-09이거나', '또는', '그', '개량형일', '가능성도', '있다는', '주장이다', '.']\n"
          ],
          "name": "stdout"
        }
      ]
    },
    {
      "cell_type": "markdown",
      "metadata": {
        "id": "d-Bj7zTHbfyr",
        "colab_type": "text"
      },
      "source": [
        "### POS Tagging For Lemmatization\n",
        "\n",
        "NLTK is again used for <b>POS tagging</b> the input text so that the words can be lemmatized based on their POS tags.\n",
        "\n",
        "Description of POS tags: \n",
        "\n",
        "\n",
        "http://www.ling.upenn.edu/courses/Fall_2003/ling001/penn_treebank_pos.html"
      ]
    },
    {
      "cell_type": "code",
      "metadata": {
        "id": "aV8RUcY_bfyr",
        "colab_type": "code",
        "outputId": "11427712-bcdb-422b-8cac-86a0936f245a",
        "colab": {
          "base_uri": "https://localhost:8080/",
          "height": 163
        }
      },
      "source": [
        "nltk.download('averaged_perceptron_tagger')\n",
        "  \n",
        "POS_tag = nltk.pos_tag(text)\n",
        "\n",
        "print(\"Tokenized Text with POS tags: \\n\")\n",
        "print(POS_tag)"
      ],
      "execution_count": 58,
      "outputs": [
        {
          "output_type": "stream",
          "text": [
            "[nltk_data] Downloading package averaged_perceptron_tagger to\n",
            "[nltk_data]     /root/nltk_data...\n",
            "[nltk_data]   Package averaged_perceptron_tagger is already up-to-\n",
            "[nltk_data]       date!\n",
            "Tokenized Text with POS tags: \n",
            "\n",
            "[('북한이', 'RB'), ('4일', 'CD'), ('오전', 'JJ'), ('강원도', 'NNP'), ('원산', 'NNP'), ('호도반도', 'NNP'), ('일대에서', 'NNP'), ('여러', 'NNP'), ('발의', 'NNP'), ('단거리', 'NNP'), ('미사일을', 'NNP'), ('발사한', 'NNP'), ('가운데', 'NNP'), ('탄도미사일이', 'NNP'), ('아닌', 'NNP'), ('방사포', 'NNP'), ('(', '('), ('다연장로켓', 'NNP'), (')', ')'), ('나', 'VBP'), ('전술', 'JJ'), ('로켓일', 'NNP'), ('가능성이', 'NNP'), ('제기된다', 'NNP'), ('.', '.'), ('합동참모본부는', 'VB'), ('이날', 'JJ'), (\"'북한이\", 'NNP'), ('오전', 'NNP'), ('9시6분께부터', 'CD'), ('9시27분께까지', 'CD'), ('원산북방', 'NN'), ('호도반도', 'NNP'), ('일대에서', 'NNP'), ('북동쪽', 'NNP'), ('방향으로', 'NNP'), ('불상', 'NNP'), ('단거리', 'NNP'), ('발사체', 'NNP'), ('수발을', 'NNP'), (\"발사했다'고\", 'NNP'), ('밝혔다', 'NNP'), ('.', '.'), ('발사된', 'VB'), ('발사체는', 'JJ'), ('동해상까지', 'NNP'), ('약', 'NNP'), ('70~200㎞', 'CD'), ('비행했으며', 'NNP'), ('미사일', 'NNP'), ('발사', 'NNP'), ('의도와', 'NNP'), ('기종', 'NNP'), ('등', 'NNP'), ('추가정보에', 'NNP'), ('대해서는', 'NNP'), ('한미가', 'NNP'), ('정밀분석', 'NNP'), ('중에', 'NNP'), ('있다', 'NNP'), ('.', '.'), ('당초', 'VB'), ('합참은', 'JJ'), ('북한이', 'NNP'), (\"'단거리\", 'POS'), (\"미사일'을\", 'NNP'), ('발사했다고', 'NNP'), ('발표했다가', 'VBD'), ('40여분', 'CD'), ('만에', 'NNP'), (\"'단거리\", 'POS'), (\"발사체'로\", 'NNP'), ('수정', 'NNP'), ('발표했다', 'NNP'), ('.', '.'), ('미사일로', 'VB'), ('보기', 'JJ'), ('어렵다는', 'NNP'), ('분석을', 'NNP'), ('담은', 'NNP'), ('것으로', 'NNP'), ('보여진다', 'NNP'), ('.', '.'), ('유엔', 'VB'), ('제재는', 'JJ'), ('모든', 'NNP'), ('탄도미사일', 'NNP'), ('발사를', 'NNP'), ('금지하고', 'NNP'), ('있다', 'NNP'), ('.', '.'), ('북한은', 'VB'), ('지난달', 'JJ'), ('17일에도', 'CD'), (\"'신형\", 'POS'), (\"전술유도무기'라는\", 'NN'), ('표현으로', 'NNP'), ('단거리', 'NNP'), ('발사체를', 'NNP'), ('발사한', 'NNP'), ('바', 'NNP'), ('있다', 'NNP'), ('.', '.'), ('당시', 'VB'), ('군은', 'JJ'), ('이에', 'NNP'), ('대해', 'NNP'), (\"'지상전투용\", 'POS'), (\"유도무기'로\", 'NNP'), ('분석했다', 'NNP'), ('.', '.'), ('먼거리를', 'VB'), ('날아가는', 'JJ'), ('순항미사일이', 'NNP'), ('아닌', 'NNP'), ('사거리', 'VBD'), ('20여㎞', 'CD'), ('수준의', 'NNP'), ('단거리', 'NNP'), ('발사체로', 'NNP'), ('본', 'NNP'), ('셈이다', 'NNP'), ('.', '.'), ('북한은', 'VB'), ('정확히', 'JJ'), ('17일', 'CD'), ('만에', 'JJ'), ('단거리', 'NNP'), ('발사체를', 'NNP'), ('발사했는데', 'NNP'), ('전문가들에', 'NNP'), ('따르면', 'NNP'), ('이번', 'NNP'), ('발사체들은', 'VBD'), ('240㎜', 'CD'), ('방사포와', 'JJ'), ('300㎜', 'CD'), ('방사포일', 'JJ'), ('것으로', 'NNP'), ('추정된다', 'NNP'), ('.', '.'), ('발사', 'VB'), ('수와', 'JJ'), ('비행거리를', 'NNP'), ('고려했을', 'NNP'), ('때', 'VBD'), ('240㎜방사포와', 'CD'), ('300㎜신형방사포를', 'CD'), ('함께', 'NN'), ('가지고', 'NNP'), ('나와', 'NNP'), ('최대사거리를', 'NNP'), ('뽐내는', 'NNP'), ('실발사훈련을', 'NNP'), ('했을', 'NNP'), ('가능성이', 'NNP'), ('높아보인다는', 'NNP'), ('분석이다', 'NNP'), ('.', '.'), ('김동엽', 'VB'), ('경남대', 'JJ'), ('극동문제연구소', 'NNP'), ('교수는', 'NNP'), (\"'일단\", 'POS'), ('장사정포', 'NN'), (',', ','), ('일명', 'NNP'), ('다연장로켓', 'NNP'), (',', ','), ('북한에선', 'NNP'), ('방사포라고', 'NNP'), ('하는', 'NNP'), ('것의', 'NNP'), ('실제훈련을', 'NNP'), ('한', 'NNP'), ('것이', 'NNP'), ('아닐까', 'NNP'), (\"한다'고\", 'NNP'), ('말했다', 'NNP'), ('.', '.'), ('이어', 'VB'), ('\\\\방사포를', 'JJ'), ('탄도미사일로', 'NNP'), ('볼', 'NNP'), ('것인가는', 'NNP'), ('해석의', 'NNP'), ('차이가', 'NNP'), ('있겠지만', 'NNP'), ('일단', 'NNP'), ('발사', 'NNP'), ('방식상', 'NNP'), ('탄도지만', 'NNP'), ('미사일로까지', 'NNP'), ('보기는', 'NNP'), ('어렵다는', 'NNP'), ('점에서', 'NNP'), ('이번', 'NNP'), ('북한의', 'NNP'), ('행동을', 'NNP'), ('모든', 'NNP'), ('탄도미사일', 'NNP'), ('발사를', 'NNP'), ('금지하고', 'NNP'), ('있는', 'NNP'), ('유엔제재', 'NNP'), ('위반으로', 'NNP'), ('보기는', 'NNP'), ('어려울', 'NNP'), ('듯', 'NNP'), (\"하다'고\", 'NNP'), ('부연했다', 'NNP'), ('.', '.'), ('홍민', 'VB'), ('통일연구원', 'JJ'), ('북한연구실장은', 'NNP'), (\"'KN-09와\", 'CD'), ('같은', 'NNP'), ('대구경', 'NNP'), ('방사포', 'NNP'), ('또는', 'NNP'), ('신형', 'NNP'), ('함대함', 'NNP'), ('미사일일', 'NNP'), ('수', 'NNP'), (\"있다'고\", 'NNP'), ('말했다', 'NNP'), ('.', '.'), ('2015년', 'CD'), ('6월14일에도', 'CD'), ('북한은', 'NN'), ('신형', 'NNP'), ('함대함', 'NNP'), ('미사일', 'NNP'), ('발사', 'NNP'), ('훈련을', 'NNP'), ('호도반도에서', 'NNP'), ('진행한', 'NNP'), ('바', 'NNP'), ('있다', 'NNP'), ('.', '.'), ('다만', 'VB'), ('일각에선', 'JJ'), ('사거리가', '$'), ('200㎞까지', 'CD'), ('나온', 'NNP'), ('것에', 'NNP'), ('비춰볼', 'NNP'), ('때', 'NNP'), ('단거리', 'NNP'), ('미사일의', 'NNP'), ('가능성을', 'NNP'), ('배제할', 'NNP'), ('수', 'NNP'), ('없다는', 'NNP'), ('주장도', 'NNP'), ('나온다', 'NNP'), ('.', '.'), ('양욱', 'VB'), ('한국국방안보포럼', 'JJ'), ('센터장은', 'NNP'), (\"'애초에\", 'POS'), ('300㎜', 'CD'), ('방사포란', 'JJ'), ('것은', 'NNP'), ('탄도미사일로', 'NNP'), ('보아도', 'NNP'), ('무방한', 'NNP'), (',', ','), ('즉', 'NNP'), ('SRBM', 'NNP'), ('(', '('), ('단거리', 'NNP'), ('탄도미사일', 'NNP'), (')', ')'), ('과', 'VBP'), ('MLRS', 'NNP'), ('(', '('), ('다연장', 'NNP'), ('로켓', 'NNP'), (')', ')'), ('의', 'VBP'), ('경계선', 'JJ'), ('상에', 'NNP'), ('존재하는', 'NNP'), (\"무기체계'라며\", 'NNP'), (\"'단거리\", 'POS'), ('미사일의', 'NNP'), ('가능성을', 'NNP'), ('배제할', 'NNP'), ('수', 'NNP'), (\"없다'고\", 'NNP'), ('밝혔다', 'NNP'), ('.', '.'), ('2018년', 'CD'), ('2월', 'CD'), ('열병식에', 'JJ'), ('등장했던', 'JJ'), ('KN-02', 'NNP'), ('단거리미사일의', 'NNP'), ('개량형일', 'NNP'), ('가능성을', 'NNP'), ('추정할', 'NNP'), ('수', 'NNP'), ('있으며', 'NNP'), (',', ','), (\"'방사포'라고\", \"''\"), ('하더라도', 'JJ'), ('KN-09이거나', 'NNP'), ('또는', 'NNP'), ('그', 'NNP'), ('개량형일', 'NNP'), ('가능성도', 'NNP'), ('있다는', 'NNP'), ('주장이다', 'NNP'), ('.', '.')]\n"
          ],
          "name": "stdout"
        }
      ]
    },
    {
      "cell_type": "markdown",
      "metadata": {
        "id": "Go4mXtQvbfyu",
        "colab_type": "text"
      },
      "source": [
        "### Lemmatization\n",
        "\n",
        "The tokenized text (mainly the nouns and adjectives) is normalized by <b>lemmatization</b>.\n",
        "In lemmatization different grammatical counterparts of a word will be replaced by single\n",
        "basic lemma. For example, 'glasses' may be replaced by 'glass'. \n",
        "\n",
        "Details about lemmatization: \n",
        "    \n",
        "https://nlp.stanford.edu/IR-book/html/htmledition/stemming-and-lemmatization-1.html"
      ]
    },
    {
      "cell_type": "code",
      "metadata": {
        "id": "yynPU39Obfyu",
        "colab_type": "code",
        "outputId": "e207bce5-c74d-4068-f756-d53389b182db",
        "colab": {
          "base_uri": "https://localhost:8080/",
          "height": 127
        }
      },
      "source": [
        "nltk.download('wordnet')\n",
        "\n",
        "from nltk.stem import WordNetLemmatizer\n",
        "\n",
        "wordnet_lemmatizer = WordNetLemmatizer()\n",
        "\n",
        "adjective_tags = ['JJ','JJR','JJS']\n",
        "\n",
        "lemmatized_text = []\n",
        "\n",
        "for word in POS_tag:\n",
        "    if word[1] in adjective_tags:\n",
        "        lemmatized_text.append(str(wordnet_lemmatizer.lemmatize(word[0],pos=\"a\")))\n",
        "    else:\n",
        "        lemmatized_text.append(str(wordnet_lemmatizer.lemmatize(word[0]))) #default POS = noun\n",
        "        \n",
        "print(\"Text tokens after lemmatization of adjectives and nouns: \\n\")\n",
        "print(lemmatized_text)"
      ],
      "execution_count": 59,
      "outputs": [
        {
          "output_type": "stream",
          "text": [
            "[nltk_data] Downloading package wordnet to /root/nltk_data...\n",
            "[nltk_data]   Package wordnet is already up-to-date!\n",
            "Text tokens after lemmatization of adjectives and nouns: \n",
            "\n",
            "['북한이', '4일', '오전', '강원도', '원산', '호도반도', '일대에서', '여러', '발의', '단거리', '미사일을', '발사한', '가운데', '탄도미사일이', '아닌', '방사포', '(', '다연장로켓', ')', '나', '전술', '로켓일', '가능성이', '제기된다', '.', '합동참모본부는', '이날', \"'북한이\", '오전', '9시6분께부터', '9시27분께까지', '원산북방', '호도반도', '일대에서', '북동쪽', '방향으로', '불상', '단거리', '발사체', '수발을', \"발사했다'고\", '밝혔다', '.', '발사된', '발사체는', '동해상까지', '약', '70~200㎞', '비행했으며', '미사일', '발사', '의도와', '기종', '등', '추가정보에', '대해서는', '한미가', '정밀분석', '중에', '있다', '.', '당초', '합참은', '북한이', \"'단거리\", \"미사일'을\", '발사했다고', '발표했다가', '40여분', '만에', \"'단거리\", \"발사체'로\", '수정', '발표했다', '.', '미사일로', '보기', '어렵다는', '분석을', '담은', '것으로', '보여진다', '.', '유엔', '제재는', '모든', '탄도미사일', '발사를', '금지하고', '있다', '.', '북한은', '지난달', '17일에도', \"'신형\", \"전술유도무기'라는\", '표현으로', '단거리', '발사체를', '발사한', '바', '있다', '.', '당시', '군은', '이에', '대해', \"'지상전투용\", \"유도무기'로\", '분석했다', '.', '먼거리를', '날아가는', '순항미사일이', '아닌', '사거리', '20여㎞', '수준의', '단거리', '발사체로', '본', '셈이다', '.', '북한은', '정확히', '17일', '만에', '단거리', '발사체를', '발사했는데', '전문가들에', '따르면', '이번', '발사체들은', '240㎜', '방사포와', '300㎜', '방사포일', '것으로', '추정된다', '.', '발사', '수와', '비행거리를', '고려했을', '때', '240㎜방사포와', '300㎜신형방사포를', '함께', '가지고', '나와', '최대사거리를', '뽐내는', '실발사훈련을', '했을', '가능성이', '높아보인다는', '분석이다', '.', '김동엽', '경남대', '극동문제연구소', '교수는', \"'일단\", '장사정포', ',', '일명', '다연장로켓', ',', '북한에선', '방사포라고', '하는', '것의', '실제훈련을', '한', '것이', '아닐까', \"한다'고\", '말했다', '.', '이어', '\\\\방사포를', '탄도미사일로', '볼', '것인가는', '해석의', '차이가', '있겠지만', '일단', '발사', '방식상', '탄도지만', '미사일로까지', '보기는', '어렵다는', '점에서', '이번', '북한의', '행동을', '모든', '탄도미사일', '발사를', '금지하고', '있는', '유엔제재', '위반으로', '보기는', '어려울', '듯', \"하다'고\", '부연했다', '.', '홍민', '통일연구원', '북한연구실장은', \"'KN-09와\", '같은', '대구경', '방사포', '또는', '신형', '함대함', '미사일일', '수', \"있다'고\", '말했다', '.', '2015년', '6월14일에도', '북한은', '신형', '함대함', '미사일', '발사', '훈련을', '호도반도에서', '진행한', '바', '있다', '.', '다만', '일각에선', '사거리가', '200㎞까지', '나온', '것에', '비춰볼', '때', '단거리', '미사일의', '가능성을', '배제할', '수', '없다는', '주장도', '나온다', '.', '양욱', '한국국방안보포럼', '센터장은', \"'애초에\", '300㎜', '방사포란', '것은', '탄도미사일로', '보아도', '무방한', ',', '즉', 'SRBM', '(', '단거리', '탄도미사일', ')', '과', 'MLRS', '(', '다연장', '로켓', ')', '의', '경계선', '상에', '존재하는', \"무기체계'라며\", \"'단거리\", '미사일의', '가능성을', '배제할', '수', \"없다'고\", '밝혔다', '.', '2018년', '2월', '열병식에', '등장했던', 'KN-02', '단거리미사일의', '개량형일', '가능성을', '추정할', '수', '있으며', ',', \"'방사포'라고\", '하더라도', 'KN-09이거나', '또는', '그', '개량형일', '가능성도', '있다는', '주장이다', '.']\n"
          ],
          "name": "stdout"
        }
      ]
    },
    {
      "cell_type": "markdown",
      "metadata": {
        "id": "4sWKlouCbfyw",
        "colab_type": "text"
      },
      "source": [
        "### POS tagging for Filtering\n",
        "\n",
        "The <b>lemmatized text</b> is <b>POS tagged</b> here. The tags will be used for filtering later on."
      ]
    },
    {
      "cell_type": "code",
      "metadata": {
        "id": "VD403a_ebfyx",
        "colab_type": "code",
        "outputId": "1a1b3d95-ade1-458f-a27f-9a26a4e04bf3",
        "colab": {
          "base_uri": "https://localhost:8080/",
          "height": 91
        }
      },
      "source": [
        "POS_tag = nltk.pos_tag(lemmatized_text)\n",
        "\n",
        "print(\"Lemmatized text with POS tags: \\n\")\n",
        "print(POS_tag)"
      ],
      "execution_count": 60,
      "outputs": [
        {
          "output_type": "stream",
          "text": [
            "Lemmatized text with POS tags: \n",
            "\n",
            "[('북한이', 'RB'), ('4일', 'CD'), ('오전', 'JJ'), ('강원도', 'NNP'), ('원산', 'NNP'), ('호도반도', 'NNP'), ('일대에서', 'NNP'), ('여러', 'NNP'), ('발의', 'NNP'), ('단거리', 'NNP'), ('미사일을', 'NNP'), ('발사한', 'NNP'), ('가운데', 'NNP'), ('탄도미사일이', 'NNP'), ('아닌', 'NNP'), ('방사포', 'NNP'), ('(', '('), ('다연장로켓', 'NNP'), (')', ')'), ('나', 'VBP'), ('전술', 'JJ'), ('로켓일', 'NNP'), ('가능성이', 'NNP'), ('제기된다', 'NNP'), ('.', '.'), ('합동참모본부는', 'VB'), ('이날', 'JJ'), (\"'북한이\", 'NNP'), ('오전', 'NNP'), ('9시6분께부터', 'CD'), ('9시27분께까지', 'CD'), ('원산북방', 'NN'), ('호도반도', 'NNP'), ('일대에서', 'NNP'), ('북동쪽', 'NNP'), ('방향으로', 'NNP'), ('불상', 'NNP'), ('단거리', 'NNP'), ('발사체', 'NNP'), ('수발을', 'NNP'), (\"발사했다'고\", 'NNP'), ('밝혔다', 'NNP'), ('.', '.'), ('발사된', 'VB'), ('발사체는', 'JJ'), ('동해상까지', 'NNP'), ('약', 'NNP'), ('70~200㎞', 'CD'), ('비행했으며', 'NNP'), ('미사일', 'NNP'), ('발사', 'NNP'), ('의도와', 'NNP'), ('기종', 'NNP'), ('등', 'NNP'), ('추가정보에', 'NNP'), ('대해서는', 'NNP'), ('한미가', 'NNP'), ('정밀분석', 'NNP'), ('중에', 'NNP'), ('있다', 'NNP'), ('.', '.'), ('당초', 'VB'), ('합참은', 'JJ'), ('북한이', 'NNP'), (\"'단거리\", 'POS'), (\"미사일'을\", 'NNP'), ('발사했다고', 'NNP'), ('발표했다가', 'VBD'), ('40여분', 'CD'), ('만에', 'NNP'), (\"'단거리\", 'POS'), (\"발사체'로\", 'NNP'), ('수정', 'NNP'), ('발표했다', 'NNP'), ('.', '.'), ('미사일로', 'VB'), ('보기', 'JJ'), ('어렵다는', 'NNP'), ('분석을', 'NNP'), ('담은', 'NNP'), ('것으로', 'NNP'), ('보여진다', 'NNP'), ('.', '.'), ('유엔', 'VB'), ('제재는', 'JJ'), ('모든', 'NNP'), ('탄도미사일', 'NNP'), ('발사를', 'NNP'), ('금지하고', 'NNP'), ('있다', 'NNP'), ('.', '.'), ('북한은', 'VB'), ('지난달', 'JJ'), ('17일에도', 'CD'), (\"'신형\", 'POS'), (\"전술유도무기'라는\", 'NN'), ('표현으로', 'NNP'), ('단거리', 'NNP'), ('발사체를', 'NNP'), ('발사한', 'NNP'), ('바', 'NNP'), ('있다', 'NNP'), ('.', '.'), ('당시', 'VB'), ('군은', 'JJ'), ('이에', 'NNP'), ('대해', 'NNP'), (\"'지상전투용\", 'POS'), (\"유도무기'로\", 'NNP'), ('분석했다', 'NNP'), ('.', '.'), ('먼거리를', 'VB'), ('날아가는', 'JJ'), ('순항미사일이', 'NNP'), ('아닌', 'NNP'), ('사거리', 'VBD'), ('20여㎞', 'CD'), ('수준의', 'NNP'), ('단거리', 'NNP'), ('발사체로', 'NNP'), ('본', 'NNP'), ('셈이다', 'NNP'), ('.', '.'), ('북한은', 'VB'), ('정확히', 'JJ'), ('17일', 'CD'), ('만에', 'JJ'), ('단거리', 'NNP'), ('발사체를', 'NNP'), ('발사했는데', 'NNP'), ('전문가들에', 'NNP'), ('따르면', 'NNP'), ('이번', 'NNP'), ('발사체들은', 'VBD'), ('240㎜', 'CD'), ('방사포와', 'JJ'), ('300㎜', 'CD'), ('방사포일', 'JJ'), ('것으로', 'NNP'), ('추정된다', 'NNP'), ('.', '.'), ('발사', 'VB'), ('수와', 'JJ'), ('비행거리를', 'NNP'), ('고려했을', 'NNP'), ('때', 'VBD'), ('240㎜방사포와', 'CD'), ('300㎜신형방사포를', 'CD'), ('함께', 'NN'), ('가지고', 'NNP'), ('나와', 'NNP'), ('최대사거리를', 'NNP'), ('뽐내는', 'NNP'), ('실발사훈련을', 'NNP'), ('했을', 'NNP'), ('가능성이', 'NNP'), ('높아보인다는', 'NNP'), ('분석이다', 'NNP'), ('.', '.'), ('김동엽', 'VB'), ('경남대', 'JJ'), ('극동문제연구소', 'NNP'), ('교수는', 'NNP'), (\"'일단\", 'POS'), ('장사정포', 'NN'), (',', ','), ('일명', 'NNP'), ('다연장로켓', 'NNP'), (',', ','), ('북한에선', 'NNP'), ('방사포라고', 'NNP'), ('하는', 'NNP'), ('것의', 'NNP'), ('실제훈련을', 'NNP'), ('한', 'NNP'), ('것이', 'NNP'), ('아닐까', 'NNP'), (\"한다'고\", 'NNP'), ('말했다', 'NNP'), ('.', '.'), ('이어', 'VB'), ('\\\\방사포를', 'JJ'), ('탄도미사일로', 'NNP'), ('볼', 'NNP'), ('것인가는', 'NNP'), ('해석의', 'NNP'), ('차이가', 'NNP'), ('있겠지만', 'NNP'), ('일단', 'NNP'), ('발사', 'NNP'), ('방식상', 'NNP'), ('탄도지만', 'NNP'), ('미사일로까지', 'NNP'), ('보기는', 'NNP'), ('어렵다는', 'NNP'), ('점에서', 'NNP'), ('이번', 'NNP'), ('북한의', 'NNP'), ('행동을', 'NNP'), ('모든', 'NNP'), ('탄도미사일', 'NNP'), ('발사를', 'NNP'), ('금지하고', 'NNP'), ('있는', 'NNP'), ('유엔제재', 'NNP'), ('위반으로', 'NNP'), ('보기는', 'NNP'), ('어려울', 'NNP'), ('듯', 'NNP'), (\"하다'고\", 'NNP'), ('부연했다', 'NNP'), ('.', '.'), ('홍민', 'VB'), ('통일연구원', 'JJ'), ('북한연구실장은', 'NNP'), (\"'KN-09와\", 'CD'), ('같은', 'NNP'), ('대구경', 'NNP'), ('방사포', 'NNP'), ('또는', 'NNP'), ('신형', 'NNP'), ('함대함', 'NNP'), ('미사일일', 'NNP'), ('수', 'NNP'), (\"있다'고\", 'NNP'), ('말했다', 'NNP'), ('.', '.'), ('2015년', 'CD'), ('6월14일에도', 'CD'), ('북한은', 'NN'), ('신형', 'NNP'), ('함대함', 'NNP'), ('미사일', 'NNP'), ('발사', 'NNP'), ('훈련을', 'NNP'), ('호도반도에서', 'NNP'), ('진행한', 'NNP'), ('바', 'NNP'), ('있다', 'NNP'), ('.', '.'), ('다만', 'VB'), ('일각에선', 'JJ'), ('사거리가', '$'), ('200㎞까지', 'CD'), ('나온', 'NNP'), ('것에', 'NNP'), ('비춰볼', 'NNP'), ('때', 'NNP'), ('단거리', 'NNP'), ('미사일의', 'NNP'), ('가능성을', 'NNP'), ('배제할', 'NNP'), ('수', 'NNP'), ('없다는', 'NNP'), ('주장도', 'NNP'), ('나온다', 'NNP'), ('.', '.'), ('양욱', 'VB'), ('한국국방안보포럼', 'JJ'), ('센터장은', 'NNP'), (\"'애초에\", 'POS'), ('300㎜', 'CD'), ('방사포란', 'JJ'), ('것은', 'NNP'), ('탄도미사일로', 'NNP'), ('보아도', 'NNP'), ('무방한', 'NNP'), (',', ','), ('즉', 'NNP'), ('SRBM', 'NNP'), ('(', '('), ('단거리', 'NNP'), ('탄도미사일', 'NNP'), (')', ')'), ('과', 'VBP'), ('MLRS', 'NNP'), ('(', '('), ('다연장', 'NNP'), ('로켓', 'NNP'), (')', ')'), ('의', 'VBP'), ('경계선', 'JJ'), ('상에', 'NNP'), ('존재하는', 'NNP'), (\"무기체계'라며\", 'NNP'), (\"'단거리\", 'POS'), ('미사일의', 'NNP'), ('가능성을', 'NNP'), ('배제할', 'NNP'), ('수', 'NNP'), (\"없다'고\", 'NNP'), ('밝혔다', 'NNP'), ('.', '.'), ('2018년', 'CD'), ('2월', 'CD'), ('열병식에', 'JJ'), ('등장했던', 'JJ'), ('KN-02', 'NNP'), ('단거리미사일의', 'NNP'), ('개량형일', 'NNP'), ('가능성을', 'NNP'), ('추정할', 'NNP'), ('수', 'NNP'), ('있으며', 'NNP'), (',', ','), (\"'방사포'라고\", \"''\"), ('하더라도', 'JJ'), ('KN-09이거나', 'NNP'), ('또는', 'NNP'), ('그', 'NNP'), ('개량형일', 'NNP'), ('가능성도', 'NNP'), ('있다는', 'NNP'), ('주장이다', 'NNP'), ('.', '.')]\n"
          ],
          "name": "stdout"
        }
      ]
    },
    {
      "cell_type": "markdown",
      "metadata": {
        "id": "tpxaLJkMbfyz",
        "colab_type": "text"
      },
      "source": [
        "## POS Based Filtering\n",
        "\n",
        "Any word from the lemmatized text, which isn't a noun, adjective, or gerund (or a 'foreign word'), is here\n",
        "considered as a <b>stopword</b> (non-content). This is based on the assumption that usually keywords are noun,\n",
        "adjectives or gerunds. \n",
        "\n",
        "Punctuations are added to the stopword list too."
      ]
    },
    {
      "cell_type": "code",
      "metadata": {
        "id": "AvhiXseibfyz",
        "colab_type": "code",
        "colab": {}
      },
      "source": [
        "stopwords = []\n",
        "\n",
        "wanted_POS = ['NN','NNS','NNP','NNPS','JJ','JJR','JJS','VBG','FW'] \n",
        "\n",
        "for word in POS_tag:\n",
        "    if word[1] not in wanted_POS:\n",
        "        stopwords.append(word[0])\n",
        "\n",
        "punctuations = list(str(string.punctuation))\n",
        "\n",
        "stopwords = stopwords + punctuations"
      ],
      "execution_count": 0,
      "outputs": []
    },
    {
      "cell_type": "markdown",
      "metadata": {
        "id": "IqGGJPWdbfy1",
        "colab_type": "text"
      },
      "source": [
        "### Complete stopword generation\n",
        "\n",
        "Even if we remove the aforementioned stopwords, still some extremely common nouns, adjectives or gerunds may\n",
        "remain which are very bad candidates for being keywords (or part of it). \n",
        "\n",
        "An external file constituting a long list of stopwords is loaded and all the words are added with the previous\n",
        "stopwords to create the final list 'stopwords-plus' which is then converted into a set. \n",
        "\n",
        "(Source of stopwords data: https://www.ranks.nl/stopwords)\n",
        "\n",
        "Stopwords-plus constitute the sum total of all stopwords and potential phrase-delimiters. \n",
        "\n",
        "(The contents of this set will be later used to partition the lemmatized text into n-gram phrases. But, for now, I will simply remove the stopwords, and work with a 'bag-of-words' approach. I will be developing the graph using unigram texts as vertices)"
      ]
    },
    {
      "cell_type": "code",
      "metadata": {
        "id": "QsdfrnAKbfy1",
        "colab_type": "code",
        "colab": {}
      },
      "source": [
        "#stopword_file = open(\"long_stopwords.txt\", \"r\")\n",
        "#Source = https://www.ranks.nl/stopwords\n",
        "\n",
        "lots_of_stopwords = []\n",
        "\n",
        "#for line in stopword_file.readlines():\n",
        "#    lots_of_stopwords.append(str(line.strip()))\n",
        "\n",
        "stopwords_plus = []\n",
        "stopwords_plus = stopwords + lots_of_stopwords\n",
        "stopwords_plus = set(stopwords_plus)\n",
        "\n",
        "#Stopwords_plus contain total set of all stopwords"
      ],
      "execution_count": 0,
      "outputs": []
    },
    {
      "cell_type": "markdown",
      "metadata": {
        "id": "HyRL_rz0bfy3",
        "colab_type": "text"
      },
      "source": [
        "### Removing Stopwords \n",
        "\n",
        "Removing stopwords from lemmatized_text. \n",
        "Processeced_text condtains the result."
      ]
    },
    {
      "cell_type": "code",
      "metadata": {
        "id": "ld9xPo0Bbfy3",
        "colab_type": "code",
        "outputId": "f4a62d37-2bd2-469e-8caa-bcd21be5e1a4",
        "colab": {
          "base_uri": "https://localhost:8080/",
          "height": 55
        }
      },
      "source": [
        "processed_text = []\n",
        "for word in lemmatized_text:\n",
        "    if word not in stopwords_plus:\n",
        "        processed_text.append(word)\n",
        "print(processed_text)"
      ],
      "execution_count": 63,
      "outputs": [
        {
          "output_type": "stream",
          "text": [
            "['오전', '강원도', '원산', '호도반도', '일대에서', '여러', '발의', '단거리', '미사일을', '발사한', '가운데', '탄도미사일이', '아닌', '방사포', '다연장로켓', '전술', '로켓일', '가능성이', '제기된다', '이날', \"'북한이\", '오전', '원산북방', '호도반도', '일대에서', '북동쪽', '방향으로', '불상', '단거리', '발사체', '수발을', \"발사했다'고\", '밝혔다', '발사체는', '동해상까지', '약', '비행했으며', '미사일', '의도와', '기종', '등', '추가정보에', '대해서는', '한미가', '정밀분석', '중에', '있다', '합참은', \"미사일'을\", '발사했다고', '만에', \"발사체'로\", '수정', '발표했다', '보기', '어렵다는', '분석을', '담은', '것으로', '보여진다', '제재는', '모든', '탄도미사일', '발사를', '금지하고', '있다', '지난달', \"전술유도무기'라는\", '표현으로', '단거리', '발사체를', '발사한', '바', '있다', '군은', '이에', '대해', \"유도무기'로\", '분석했다', '날아가는', '순항미사일이', '아닌', '수준의', '단거리', '발사체로', '본', '셈이다', '정확히', '만에', '단거리', '발사체를', '발사했는데', '전문가들에', '따르면', '이번', '방사포와', '방사포일', '것으로', '추정된다', '수와', '비행거리를', '고려했을', '함께', '가지고', '나와', '최대사거리를', '뽐내는', '실발사훈련을', '했을', '가능성이', '높아보인다는', '분석이다', '경남대', '극동문제연구소', '교수는', '장사정포', '일명', '다연장로켓', '북한에선', '방사포라고', '하는', '것의', '실제훈련을', '한', '것이', '아닐까', \"한다'고\", '말했다', '\\\\방사포를', '탄도미사일로', '볼', '것인가는', '해석의', '차이가', '있겠지만', '일단', '방식상', '탄도지만', '미사일로까지', '보기는', '어렵다는', '점에서', '이번', '북한의', '행동을', '모든', '탄도미사일', '발사를', '금지하고', '있는', '유엔제재', '위반으로', '보기는', '어려울', '듯', \"하다'고\", '부연했다', '통일연구원', '북한연구실장은', '같은', '대구경', '방사포', '또는', '신형', '함대함', '미사일일', '수', \"있다'고\", '말했다', '신형', '함대함', '미사일', '훈련을', '호도반도에서', '진행한', '바', '있다', '일각에선', '나온', '것에', '비춰볼', '단거리', '미사일의', '가능성을', '배제할', '수', '없다는', '주장도', '나온다', '한국국방안보포럼', '센터장은', '방사포란', '것은', '탄도미사일로', '보아도', '무방한', '즉', 'SRBM', '단거리', '탄도미사일', 'MLRS', '다연장', '로켓', '경계선', '상에', '존재하는', \"무기체계'라며\", '미사일의', '가능성을', '배제할', '수', \"없다'고\", '밝혔다', '열병식에', '등장했던', 'KN-02', '단거리미사일의', '개량형일', '가능성을', '추정할', '수', '있으며', '하더라도', 'KN-09이거나', '또는', '그', '개량형일', '가능성도', '있다는', '주장이다']\n"
          ],
          "name": "stdout"
        }
      ]
    },
    {
      "cell_type": "markdown",
      "metadata": {
        "id": "FVmNyjaKbfy5",
        "colab_type": "text"
      },
      "source": [
        "## Vocabulary Creation\n",
        "\n",
        "Vocabulary will only contain unique words from processed_text."
      ]
    },
    {
      "cell_type": "code",
      "metadata": {
        "id": "erJIafXibfy6",
        "colab_type": "code",
        "outputId": "65e84dd6-0e00-4983-ef77-4ffaf8c92b15",
        "colab": {
          "base_uri": "https://localhost:8080/",
          "height": 55
        }
      },
      "source": [
        "vocabulary = list(set(processed_text))\n",
        "print(vocabulary)"
      ],
      "execution_count": 64,
      "outputs": [
        {
          "output_type": "stream",
          "text": [
            "['미사일의', '듯', '일대에서', '지난달', '대해', '강원도', '표현으로', '있다', '방향으로', '탄도미사일', '것으로', '가지고', '신형', '함대함', '발사체는', '발사했는데', '진행한', '했을', '제기된다', '발사체', '방사포라고', \"하다'고\", '원산', '발의', '일각에선', '수', '발표했다', '부연했다', '나온', '미사일일', '위반으로', '보기는', \"한다'고\", '말했다', '하더라도', '방식상', '가운데', '나온다', \"'북한이\", '높아보인다는', '것인가는', \"미사일'을\", '분석을', '가능성을', '분석했다', '여러', '발사했다고', '한', '등장했던', '실발사훈련을', '북동쪽', '대해서는', '유엔제재', '것에', '미사일을', \"발사체'로\", '일명', '이에', \"유도무기'로\", '대구경', '수정', '다연장', '의도와', '함께', '추정된다', '통일연구원', '북한에선', '실제훈련을', '장사정포', '일단', '다연장로켓', '원산북방', '미사일', '있는', '그', '방사포란', '셈이다', '\\\\방사포를', '탄도미사일로', '한국국방안보포럼', '단거리미사일의', '같은', '보기', '수발을', '존재하는', \"있다'고\", '차이가', '가능성도', '볼', '탄도지만', '무방한', '로켓일', '보여진다', '호도반도에서', '고려했을', '있겠지만', '상에', \"없다'고\", 'KN-09이거나', \"발사했다'고\", '것의', '순항미사일이', '바', '아닐까', '동해상까지', '만에', '따르면', '발사한', '방사포와', '오전', 'KN-02', '단거리', '비행했으며', '수준의', '북한연구실장은', '전술', '열병식에', '밝혔다', '발사체로', '즉', '경남대', '주장이다', '날아가는', '어렵다는', '호도반도', '북한의', '약', '극동문제연구소', '탄도미사일이', '있으며', '미사일로까지', '불상', '없다는', '로켓', '분석이다', '배제할', '가능성이', '본', '뽐내는', '정밀분석', '모든', '군은', '아닌', '추정할', '제재는', '발사를', '센터장은', \"전술유도무기'라는\", '것이', 'MLRS', '방사포', '해석의', '주장도', '것은', '이번', '교수는', '발사체를', '중에', '비행거리를', '훈련을', '어려울', '기종', '방사포일', '보아도', '담은', '금지하고', '있다는', '등', '하는', '합참은', '최대사거리를', '점에서', '비춰볼', '추가정보에', '행동을', 'SRBM', '이날', '개량형일', '경계선', '또는', '나와', '한미가', '전문가들에', '수와', \"무기체계'라며\", '정확히']\n"
          ],
          "name": "stdout"
        }
      ]
    },
    {
      "cell_type": "markdown",
      "metadata": {
        "id": "iY8re-9gbfy9",
        "colab_type": "text"
      },
      "source": [
        "### Building Graph\n",
        "\n",
        "TextRank is a graph based model, and thus it requires us to build a graph. Each words in the vocabulary will serve as a vertex for graph. The words will be represented in the vertices by their index in vocabulary list.  \n",
        "\n",
        "The weighted_edge matrix contains the information of edge connections among all vertices.\n",
        "I am building wieghted undirected edges.\n",
        "\n",
        "weighted_edge[i][j] contains the weight of the connecting edge between the word vertex represented by vocabulary index i and the word vertex represented by vocabulary j.\n",
        "\n",
        "If weighted_edge[i][j] is zero, it means no edge connection is present between the words represented by index i and j.\n",
        "\n",
        "There is a connection between the words (and thus between i and j which represents them) if the words co-occur within a window of a specified 'window_size' in the processed_text.\n",
        "\n",
        "The value of the weighted_edge[i][j] is increased by (1/(distance between positions of words currently represented by i and j)) for every connection discovered between the same words in different locations of the text. \n",
        "\n",
        "The covered_coocurrences list (which is contain the list of pairs of absolute positions in processed_text of the words whose coocurrence at that location is already checked) is managed so that the same two words located in the same positions in processed_text are not repetitively counted while sliding the window one text unit at a time.\n",
        "\n",
        "The score of all vertices are intialized to one. \n",
        "\n",
        "Self-connections are not considered, so weighted_edge[i][i] will be zero."
      ]
    },
    {
      "cell_type": "code",
      "metadata": {
        "id": "phYnQIcBbfy9",
        "colab_type": "code",
        "colab": {}
      },
      "source": [
        "import numpy as np\n",
        "import math\n",
        "vocab_len = len(vocabulary)\n",
        "\n",
        "weighted_edge = np.zeros((vocab_len,vocab_len),dtype=np.float32)\n",
        "\n",
        "score = np.zeros((vocab_len),dtype=np.float32)\n",
        "window_size = 3\n",
        "covered_coocurrences = []\n",
        "\n",
        "for i in range(0,vocab_len):\n",
        "    score[i]=1\n",
        "    for j in range(0,vocab_len):\n",
        "        if j==i:\n",
        "            weighted_edge[i][j]=0\n",
        "        else:\n",
        "            for window_start in range(0,(len(processed_text)-window_size)):\n",
        "                \n",
        "                window_end = window_start+window_size\n",
        "                \n",
        "                window = processed_text[window_start:window_end]\n",
        "                \n",
        "                if (vocabulary[i] in window) and (vocabulary[j] in window):\n",
        "                    \n",
        "                    index_of_i = window_start + window.index(vocabulary[i])\n",
        "                    index_of_j = window_start + window.index(vocabulary[j])\n",
        "                    \n",
        "                    # index_of_x is the absolute position of the xth term in the window \n",
        "                    # (counting from 0) \n",
        "                    # in the processed_text\n",
        "                      \n",
        "                    if [index_of_i,index_of_j] not in covered_coocurrences:\n",
        "                        weighted_edge[i][j]+=1/math.fabs(index_of_i-index_of_j)\n",
        "                        covered_coocurrences.append([index_of_i,index_of_j])\n"
      ],
      "execution_count": 0,
      "outputs": []
    },
    {
      "cell_type": "markdown",
      "metadata": {
        "id": "Su4n0Q7VbfzA",
        "colab_type": "text"
      },
      "source": [
        "### Calculating weighted summation of connections of a vertex\n",
        "\n",
        "inout[i] will contain the sum of all the undirected connections\\edges associated withe the vertex represented by i."
      ]
    },
    {
      "cell_type": "code",
      "metadata": {
        "id": "GVJt5k1mbfzA",
        "colab_type": "code",
        "colab": {}
      },
      "source": [
        "inout = np.zeros((vocab_len),dtype=np.float32)\n",
        "\n",
        "for i in range(0,vocab_len):\n",
        "    for j in range(0,vocab_len):\n",
        "        inout[i]+=weighted_edge[i][j]"
      ],
      "execution_count": 0,
      "outputs": []
    },
    {
      "cell_type": "markdown",
      "metadata": {
        "id": "rX6biajkbfzC",
        "colab_type": "text"
      },
      "source": [
        "### Scoring Vertices\n",
        "\n",
        "The formula used for scoring a vertex represented by i is:\n",
        "\n",
        "score[i] = (1-d) + d x [ Summation(j) ( (weighted_edge[i][j]/inout[j]) x score[j] ) ] where j belongs to the list of vertieces that has a connection with i. \n",
        "\n",
        "d is the damping factor.\n",
        "\n",
        "The score is iteratively updated until convergence. "
      ]
    },
    {
      "cell_type": "code",
      "metadata": {
        "id": "3g-G1HwxbfzD",
        "colab_type": "code",
        "outputId": "95b7de83-590a-4886-b258-0122f70dee1e",
        "colab": {
          "base_uri": "https://localhost:8080/",
          "height": 35
        }
      },
      "source": [
        "MAX_ITERATIONS = 50\n",
        "d=0.85\n",
        "threshold = 0.0001 #convergence threshold\n",
        "\n",
        "for iter in range(0,MAX_ITERATIONS):\n",
        "    prev_score = np.copy(score)\n",
        "    \n",
        "    for i in range(0,vocab_len):\n",
        "        \n",
        "        summation = 0\n",
        "        for j in range(0,vocab_len):\n",
        "            if weighted_edge[i][j] != 0:\n",
        "                summation += (weighted_edge[i][j]/inout[j])*score[j]\n",
        "                \n",
        "        score[i] = (1-d) + d*(summation)\n",
        "    \n",
        "    if np.sum(np.fabs(prev_score-score)) <= threshold: #convergence condition\n",
        "        print(\"Converging at iteration \"+str(iter)+\"....\")\n",
        "        break\n"
      ],
      "execution_count": 67,
      "outputs": [
        {
          "output_type": "stream",
          "text": [
            "Converging at iteration 28....\n"
          ],
          "name": "stdout"
        }
      ]
    },
    {
      "cell_type": "code",
      "metadata": {
        "id": "wpMCtX24bfzG",
        "colab_type": "code",
        "outputId": "b37c85a6-64ca-4110-be59-8211fdee1fca",
        "colab": {
          "base_uri": "https://localhost:8080/",
          "height": 3365
        }
      },
      "source": [
        "for i in range(0,vocab_len):\n",
        "    print(\"Score of \"+vocabulary[i]+\": \"+str(score[i]))"
      ],
      "execution_count": 68,
      "outputs": [
        {
          "output_type": "stream",
          "text": [
            "Score of 미사일의: 1.3394127\n",
            "Score of 듯: 0.9122603\n",
            "Score of 일대에서: 1.4795749\n",
            "Score of 지난달: 0.7699191\n",
            "Score of 대해: 0.8938158\n",
            "Score of 강원도: 0.7221002\n",
            "Score of 표현으로: 0.76401246\n",
            "Score of 있다: 2.7670085\n",
            "Score of 방향으로: 0.8012033\n",
            "Score of 탄도미사일: 1.9642564\n",
            "Score of 것으로: 1.5896914\n",
            "Score of 가지고: 0.9738205\n",
            "Score of 신형: 1.379112\n",
            "Score of 함대함: 1.3798486\n",
            "Score of 발사체는: 0.854603\n",
            "Score of 발사했는데: 0.78580105\n",
            "Score of 진행한: 0.78955317\n",
            "Score of 했을: 0.91731805\n",
            "Score of 제기된다: 0.8826324\n",
            "Score of 발사체: 0.79881024\n",
            "Score of 방사포라고: 0.91809136\n",
            "Score of 하다'고: 0.9323855\n",
            "Score of 원산: 0.8283305\n",
            "Score of 발의: 0.7694295\n",
            "Score of 일각에선: 0.7883215\n",
            "Score of 수: 2.6255715\n",
            "Score of 발표했다: 0.8698311\n",
            "Score of 부연했다: 0.9381928\n",
            "Score of 나온: 0.8091199\n",
            "Score of 미사일일: 0.7348361\n",
            "Score of 위반으로: 0.84753454\n",
            "Score of 보기는: 1.6039605\n",
            "Score of 한다'고: 0.8618041\n",
            "Score of 말했다: 1.4703345\n",
            "Score of 하더라도: 0.79689914\n",
            "Score of 방식상: 0.9384601\n",
            "Score of 가운데: 0.7782201\n",
            "Score of 나온다: 0.8914458\n",
            "Score of '북한이: 0.87239516\n",
            "Score of 높아보인다는: 0.91330594\n",
            "Score of 것인가는: 0.91971856\n",
            "Score of 미사일'을: 0.81965524\n",
            "Score of 분석을: 0.844812\n",
            "Score of 가능성을: 1.9259368\n",
            "Score of 분석했다: 0.9026228\n",
            "Score of 여러: 0.7777212\n",
            "Score of 발사했다고: 0.8294253\n",
            "Score of 한: 0.9437595\n",
            "Score of 등장했던: 0.8544252\n",
            "Score of 실발사훈련을: 0.93669885\n",
            "Score of 북동쪽: 0.8050241\n",
            "Score of 대해서는: 0.9266061\n",
            "Score of 유엔제재: 0.8224319\n",
            "Score of 것에: 0.80448526\n",
            "Score of 미사일을: 0.7515216\n",
            "Score of 발사체'로: 0.84738284\n",
            "Score of 일명: 0.8951975\n",
            "Score of 이에: 0.8606064\n",
            "Score of 유도무기'로: 0.90553147\n",
            "Score of 대구경: 0.84550834\n",
            "Score of 수정: 0.8643479\n",
            "Score of 다연장: 0.84018296\n",
            "Score of 의도와: 0.87379897\n",
            "Score of 함께: 0.9701109\n",
            "Score of 추정된다: 0.8896187\n",
            "Score of 통일연구원: 0.933956\n",
            "Score of 북한에선: 0.8962112\n",
            "Score of 실제훈련을: 0.9512869\n",
            "Score of 장사정포: 0.9158791\n",
            "Score of 일단: 0.9511752\n",
            "Score of 다연장로켓: 1.5949972\n",
            "Score of 원산북방: 0.82200575\n",
            "Score of 미사일: 1.5275509\n",
            "Score of 있는: 0.7870887\n",
            "Score of 그: 0.82263047\n",
            "Score of 방사포란: 0.9056512\n",
            "Score of 셈이다: 0.8297625\n",
            "Score of \\방사포를: 0.8365429\n",
            "Score of 탄도미사일로: 1.6216974\n",
            "Score of 한국국방안보포럼: 0.9110837\n",
            "Score of 단거리미사일의: 0.82202953\n",
            "Score of 같은: 0.88749665\n",
            "Score of 보기: 0.8606525\n",
            "Score of 수발을: 0.81481004\n",
            "Score of 존재하는: 0.8432489\n",
            "Score of 있다'고: 0.74606425\n",
            "Score of 차이가: 0.952916\n",
            "Score of 가능성도: 0.7825417\n",
            "Score of 볼: 0.8923475\n",
            "Score of 탄도지만: 0.9136135\n",
            "Score of 무방한: 0.8582304\n",
            "Score of 로켓일: 0.8642234\n",
            "Score of 보여진다: 0.81281763\n",
            "Score of 호도반도에서: 0.80917114\n",
            "Score of 고려했을: 0.96106195\n",
            "Score of 있겠지만: 0.9559509\n",
            "Score of 상에: 0.8759257\n",
            "Score of 없다'고: 0.76400244\n",
            "Score of KN-09이거나: 0.8095163\n",
            "Score of 발사했다'고: 0.8325006\n",
            "Score of 것의: 0.949909\n",
            "Score of 순항미사일이: 0.84839356\n",
            "Score of 바: 1.3991358\n",
            "Score of 아닐까: 0.89490527\n",
            "Score of 동해상까지: 0.86880034\n",
            "Score of 만에: 1.4947485\n",
            "Score of 따르면: 0.82786\n",
            "Score of 발사한: 1.3726931\n",
            "Score of 방사포와: 0.8374681\n",
            "Score of 오전: 1.2240002\n",
            "Score of KN-02: 0.85297346\n",
            "Score of 단거리: 4.639918\n",
            "Score of 비행했으며: 0.8594733\n",
            "Score of 수준의: 0.7816324\n",
            "Score of 북한연구실장은: 0.9187693\n",
            "Score of 전술: 0.844582\n",
            "Score of 열병식에: 0.8385629\n",
            "Score of 밝혔다: 1.534617\n",
            "Score of 발사체로: 0.79827446\n",
            "Score of 즉: 0.8332077\n",
            "Score of 경남대: 0.94249976\n",
            "Score of 주장이다: 0.15\n",
            "Score of 날아가는: 0.8796791\n",
            "Score of 어렵다는: 1.5675472\n",
            "Score of 호도반도: 1.4993875\n",
            "Score of 북한의: 0.7995392\n",
            "Score of 약: 0.8689478\n",
            "Score of 극동문제연구소: 0.9438084\n",
            "Score of 탄도미사일이: 0.7835838\n",
            "Score of 있으며: 0.78095347\n",
            "Score of 미사일로까지: 0.88006806\n",
            "Score of 불상: 0.7920237\n",
            "Score of 없다는: 0.7948815\n",
            "Score of 로켓: 0.87487966\n",
            "Score of 분석이다: 0.9279711\n",
            "Score of 배제할: 1.296336\n",
            "Score of 가능성이: 1.6722825\n",
            "Score of 본: 0.81948435\n",
            "Score of 뽐내는: 0.95737684\n",
            "Score of 정밀분석: 0.8749286\n",
            "Score of 모든: 1.3748296\n",
            "Score of 군은: 0.81556433\n",
            "Score of 아닌: 1.4862221\n",
            "Score of 추정할: 0.7376886\n",
            "Score of 제재는: 0.7804256\n",
            "Score of 발사를: 1.3079946\n",
            "Score of 센터장은: 0.91697955\n",
            "Score of 전술유도무기'라는: 0.7765153\n",
            "Score of 것이: 0.9278096\n",
            "Score of MLRS: 0.7914094\n",
            "Score of 방사포: 1.4866931\n",
            "Score of 해석의: 0.9424221\n",
            "Score of 주장도: 0.84985197\n",
            "Score of 것은: 0.88905704\n",
            "Score of 이번: 1.5354496\n",
            "Score of 교수는: 0.9372519\n",
            "Score of 발사체를: 1.3711268\n",
            "Score of 중에: 0.83834535\n",
            "Score of 비행거리를: 0.9461112\n",
            "Score of 훈련을: 0.80526084\n",
            "Score of 어려울: 0.88785684\n",
            "Score of 기종: 0.8992963\n",
            "Score of 방사포일: 0.84727925\n",
            "Score of 보아도: 0.8668933\n",
            "Score of 담은: 0.84075344\n",
            "Score of 금지하고: 1.3506995\n",
            "Score of 있다는: 0.5252457\n",
            "Score of 등: 0.92354965\n",
            "Score of 하는: 0.9409957\n",
            "Score of 합참은: 0.8144996\n",
            "Score of 최대사거리를: 0.9676369\n",
            "Score of 점에서: 0.8164732\n",
            "Score of 비춰볼: 0.7752441\n",
            "Score of 추가정보에: 0.93067604\n",
            "Score of 행동을: 0.77282125\n",
            "Score of SRBM: 0.78822094\n",
            "Score of 이날: 0.8813112\n",
            "Score of 개량형일: 1.5413855\n",
            "Score of 경계선: 0.88454777\n",
            "Score of 또는: 1.4580258\n",
            "Score of 나와: 0.97314036\n",
            "Score of 한미가: 0.9110462\n",
            "Score of 전문가들에: 0.8130865\n",
            "Score of 수와: 0.91887707\n",
            "Score of 무기체계'라며: 0.7937072\n",
            "Score of 정확히: 0.80685216\n"
          ],
          "name": "stdout"
        }
      ]
    },
    {
      "cell_type": "markdown",
      "metadata": {
        "id": "YHWSpulWbfzI",
        "colab_type": "text"
      },
      "source": [
        "### Phrase Partiotioning\n",
        "\n",
        "Paritioning lemmatized_text into phrases using the stopwords in it as delimeters.\n",
        "The phrases are also candidates for keyphrases to be extracted. "
      ]
    },
    {
      "cell_type": "code",
      "metadata": {
        "id": "zGyVMVbubfzJ",
        "colab_type": "code",
        "outputId": "961a478e-c49a-4417-cae8-20322d4ee556",
        "colab": {
          "base_uri": "https://localhost:8080/",
          "height": 91
        }
      },
      "source": [
        "phrases = []\n",
        "\n",
        "phrase = \" \"\n",
        "for word in lemmatized_text:\n",
        "    \n",
        "    if word in stopwords_plus:\n",
        "        if phrase!= \" \":\n",
        "            phrases.append(str(phrase).strip().split())\n",
        "        phrase = \" \"\n",
        "    elif word not in stopwords_plus:\n",
        "        phrase+=str(word)\n",
        "        phrase+=\" \"\n",
        "\n",
        "print(\"Partitioned Phrases (Candidate Keyphrases): \\n\")\n",
        "print(phrases)"
      ],
      "execution_count": 70,
      "outputs": [
        {
          "output_type": "stream",
          "text": [
            "Partitioned Phrases (Candidate Keyphrases): \n",
            "\n",
            "[['오전', '강원도', '원산', '호도반도', '일대에서', '여러', '발의', '단거리', '미사일을', '발사한', '가운데', '탄도미사일이', '아닌', '방사포'], ['다연장로켓'], ['전술', '로켓일', '가능성이', '제기된다'], ['이날', \"'북한이\", '오전'], ['원산북방', '호도반도', '일대에서', '북동쪽', '방향으로', '불상', '단거리', '발사체', '수발을', \"발사했다'고\", '밝혔다'], ['발사체는', '동해상까지', '약'], ['비행했으며', '미사일'], ['의도와', '기종', '등', '추가정보에', '대해서는', '한미가', '정밀분석', '중에', '있다'], ['합참은'], [\"미사일'을\", '발사했다고'], ['만에'], [\"발사체'로\", '수정', '발표했다'], ['보기', '어렵다는', '분석을', '담은', '것으로', '보여진다'], ['제재는', '모든', '탄도미사일', '발사를', '금지하고', '있다'], ['지난달'], [\"전술유도무기'라는\", '표현으로', '단거리', '발사체를', '발사한', '바', '있다'], ['군은', '이에', '대해'], [\"유도무기'로\", '분석했다'], ['날아가는', '순항미사일이', '아닌'], ['수준의', '단거리', '발사체로', '본', '셈이다'], ['정확히'], ['만에', '단거리', '발사체를', '발사했는데', '전문가들에', '따르면', '이번'], ['방사포와'], ['방사포일', '것으로', '추정된다'], ['수와', '비행거리를', '고려했을'], ['함께', '가지고', '나와', '최대사거리를', '뽐내는', '실발사훈련을', '했을', '가능성이', '높아보인다는', '분석이다'], ['경남대', '극동문제연구소', '교수는'], ['장사정포'], ['일명', '다연장로켓'], ['북한에선', '방사포라고', '하는', '것의', '실제훈련을', '한', '것이', '아닐까', \"한다'고\", '말했다'], ['\\\\방사포를', '탄도미사일로', '볼', '것인가는', '해석의', '차이가', '있겠지만', '일단'], ['방식상', '탄도지만', '미사일로까지', '보기는', '어렵다는', '점에서', '이번', '북한의', '행동을', '모든', '탄도미사일', '발사를', '금지하고', '있는', '유엔제재', '위반으로', '보기는', '어려울', '듯', \"하다'고\", '부연했다'], ['통일연구원', '북한연구실장은'], ['같은', '대구경', '방사포', '또는', '신형', '함대함', '미사일일', '수', \"있다'고\", '말했다'], ['신형', '함대함', '미사일'], ['훈련을', '호도반도에서', '진행한', '바', '있다'], ['일각에선'], ['나온', '것에', '비춰볼'], ['단거리', '미사일의', '가능성을', '배제할', '수', '없다는', '주장도', '나온다'], ['한국국방안보포럼', '센터장은'], ['방사포란', '것은', '탄도미사일로', '보아도', '무방한'], ['즉', 'SRBM'], ['단거리', '탄도미사일'], ['MLRS'], ['다연장', '로켓'], ['경계선', '상에', '존재하는', \"무기체계'라며\"], ['미사일의', '가능성을', '배제할', '수', \"없다'고\", '밝혔다'], ['열병식에', '등장했던', 'KN-02', '단거리미사일의', '개량형일', '가능성을', '추정할', '수', '있으며'], ['하더라도', 'KN-09이거나', '또는', '그', '개량형일', '가능성도', '있다는', '주장이다']]\n"
          ],
          "name": "stdout"
        }
      ]
    },
    {
      "cell_type": "markdown",
      "metadata": {
        "id": "Iw2kNJNxbfzM",
        "colab_type": "text"
      },
      "source": [
        "### Create a list of unique phrases.\n",
        "\n",
        "Repeating phrases\\keyphrase candidates has no purpose here, anymore. "
      ]
    },
    {
      "cell_type": "code",
      "metadata": {
        "id": "1RKObP9ebfzM",
        "colab_type": "code",
        "outputId": "12e4b698-5f2a-4d7b-9f91-c97318f830f0",
        "colab": {
          "base_uri": "https://localhost:8080/",
          "height": 91
        }
      },
      "source": [
        "unique_phrases = []\n",
        "\n",
        "for phrase in phrases:\n",
        "    if phrase not in unique_phrases:\n",
        "        unique_phrases.append(phrase)\n",
        "\n",
        "print(\"Unique Phrases (Candidate Keyphrases): \\n\")\n",
        "print(unique_phrases)"
      ],
      "execution_count": 71,
      "outputs": [
        {
          "output_type": "stream",
          "text": [
            "Unique Phrases (Candidate Keyphrases): \n",
            "\n",
            "[['오전', '강원도', '원산', '호도반도', '일대에서', '여러', '발의', '단거리', '미사일을', '발사한', '가운데', '탄도미사일이', '아닌', '방사포'], ['다연장로켓'], ['전술', '로켓일', '가능성이', '제기된다'], ['이날', \"'북한이\", '오전'], ['원산북방', '호도반도', '일대에서', '북동쪽', '방향으로', '불상', '단거리', '발사체', '수발을', \"발사했다'고\", '밝혔다'], ['발사체는', '동해상까지', '약'], ['비행했으며', '미사일'], ['의도와', '기종', '등', '추가정보에', '대해서는', '한미가', '정밀분석', '중에', '있다'], ['합참은'], [\"미사일'을\", '발사했다고'], ['만에'], [\"발사체'로\", '수정', '발표했다'], ['보기', '어렵다는', '분석을', '담은', '것으로', '보여진다'], ['제재는', '모든', '탄도미사일', '발사를', '금지하고', '있다'], ['지난달'], [\"전술유도무기'라는\", '표현으로', '단거리', '발사체를', '발사한', '바', '있다'], ['군은', '이에', '대해'], [\"유도무기'로\", '분석했다'], ['날아가는', '순항미사일이', '아닌'], ['수준의', '단거리', '발사체로', '본', '셈이다'], ['정확히'], ['만에', '단거리', '발사체를', '발사했는데', '전문가들에', '따르면', '이번'], ['방사포와'], ['방사포일', '것으로', '추정된다'], ['수와', '비행거리를', '고려했을'], ['함께', '가지고', '나와', '최대사거리를', '뽐내는', '실발사훈련을', '했을', '가능성이', '높아보인다는', '분석이다'], ['경남대', '극동문제연구소', '교수는'], ['장사정포'], ['일명', '다연장로켓'], ['북한에선', '방사포라고', '하는', '것의', '실제훈련을', '한', '것이', '아닐까', \"한다'고\", '말했다'], ['\\\\방사포를', '탄도미사일로', '볼', '것인가는', '해석의', '차이가', '있겠지만', '일단'], ['방식상', '탄도지만', '미사일로까지', '보기는', '어렵다는', '점에서', '이번', '북한의', '행동을', '모든', '탄도미사일', '발사를', '금지하고', '있는', '유엔제재', '위반으로', '보기는', '어려울', '듯', \"하다'고\", '부연했다'], ['통일연구원', '북한연구실장은'], ['같은', '대구경', '방사포', '또는', '신형', '함대함', '미사일일', '수', \"있다'고\", '말했다'], ['신형', '함대함', '미사일'], ['훈련을', '호도반도에서', '진행한', '바', '있다'], ['일각에선'], ['나온', '것에', '비춰볼'], ['단거리', '미사일의', '가능성을', '배제할', '수', '없다는', '주장도', '나온다'], ['한국국방안보포럼', '센터장은'], ['방사포란', '것은', '탄도미사일로', '보아도', '무방한'], ['즉', 'SRBM'], ['단거리', '탄도미사일'], ['MLRS'], ['다연장', '로켓'], ['경계선', '상에', '존재하는', \"무기체계'라며\"], ['미사일의', '가능성을', '배제할', '수', \"없다'고\", '밝혔다'], ['열병식에', '등장했던', 'KN-02', '단거리미사일의', '개량형일', '가능성을', '추정할', '수', '있으며'], ['하더라도', 'KN-09이거나', '또는', '그', '개량형일', '가능성도', '있다는', '주장이다']]\n"
          ],
          "name": "stdout"
        }
      ]
    },
    {
      "cell_type": "markdown",
      "metadata": {
        "id": "ie8lFuS4bfzO",
        "colab_type": "text"
      },
      "source": [
        "### Thinning the list of candidate-keyphrases.\n",
        "\n",
        "Removing single word keyphrases-candidates that are present multi-word alternatives. "
      ]
    },
    {
      "cell_type": "code",
      "metadata": {
        "id": "qp467DtebfzP",
        "colab_type": "code",
        "outputId": "b85e4986-c9c9-4dcf-fcb0-1fbc448764eb",
        "colab": {
          "base_uri": "https://localhost:8080/",
          "height": 91
        }
      },
      "source": [
        "for word in vocabulary:\n",
        "    #print word\n",
        "    for phrase in unique_phrases:\n",
        "        if (word in phrase) and ([word] in unique_phrases) and (len(phrase)>1):\n",
        "            #if len(phrase)>1 then the current phrase is multi-worded.\n",
        "            #if the word in vocabulary is present in unique_phrases as a single-word-phrase\n",
        "            # and at the same time present as a word within a multi-worded phrase,\n",
        "            # then I will remove the single-word-phrase from the list.\n",
        "            unique_phrases.remove([word])\n",
        "            \n",
        "print(\"Thinned Unique Phrases (Candidate Keyphrases): \\n\")\n",
        "print(unique_phrases)"
      ],
      "execution_count": 72,
      "outputs": [
        {
          "output_type": "stream",
          "text": [
            "Thinned Unique Phrases (Candidate Keyphrases): \n",
            "\n",
            "[['오전', '강원도', '원산', '호도반도', '일대에서', '여러', '발의', '단거리', '미사일을', '발사한', '가운데', '탄도미사일이', '아닌', '방사포'], ['전술', '로켓일', '가능성이', '제기된다'], ['이날', \"'북한이\", '오전'], ['원산북방', '호도반도', '일대에서', '북동쪽', '방향으로', '불상', '단거리', '발사체', '수발을', \"발사했다'고\", '밝혔다'], ['발사체는', '동해상까지', '약'], ['비행했으며', '미사일'], ['의도와', '기종', '등', '추가정보에', '대해서는', '한미가', '정밀분석', '중에', '있다'], ['합참은'], [\"미사일'을\", '발사했다고'], [\"발사체'로\", '수정', '발표했다'], ['보기', '어렵다는', '분석을', '담은', '것으로', '보여진다'], ['제재는', '모든', '탄도미사일', '발사를', '금지하고', '있다'], ['지난달'], [\"전술유도무기'라는\", '표현으로', '단거리', '발사체를', '발사한', '바', '있다'], ['군은', '이에', '대해'], [\"유도무기'로\", '분석했다'], ['날아가는', '순항미사일이', '아닌'], ['수준의', '단거리', '발사체로', '본', '셈이다'], ['정확히'], ['만에', '단거리', '발사체를', '발사했는데', '전문가들에', '따르면', '이번'], ['방사포와'], ['방사포일', '것으로', '추정된다'], ['수와', '비행거리를', '고려했을'], ['함께', '가지고', '나와', '최대사거리를', '뽐내는', '실발사훈련을', '했을', '가능성이', '높아보인다는', '분석이다'], ['경남대', '극동문제연구소', '교수는'], ['장사정포'], ['일명', '다연장로켓'], ['북한에선', '방사포라고', '하는', '것의', '실제훈련을', '한', '것이', '아닐까', \"한다'고\", '말했다'], ['\\\\방사포를', '탄도미사일로', '볼', '것인가는', '해석의', '차이가', '있겠지만', '일단'], ['방식상', '탄도지만', '미사일로까지', '보기는', '어렵다는', '점에서', '이번', '북한의', '행동을', '모든', '탄도미사일', '발사를', '금지하고', '있는', '유엔제재', '위반으로', '보기는', '어려울', '듯', \"하다'고\", '부연했다'], ['통일연구원', '북한연구실장은'], ['같은', '대구경', '방사포', '또는', '신형', '함대함', '미사일일', '수', \"있다'고\", '말했다'], ['신형', '함대함', '미사일'], ['훈련을', '호도반도에서', '진행한', '바', '있다'], ['일각에선'], ['나온', '것에', '비춰볼'], ['단거리', '미사일의', '가능성을', '배제할', '수', '없다는', '주장도', '나온다'], ['한국국방안보포럼', '센터장은'], ['방사포란', '것은', '탄도미사일로', '보아도', '무방한'], ['즉', 'SRBM'], ['단거리', '탄도미사일'], ['MLRS'], ['다연장', '로켓'], ['경계선', '상에', '존재하는', \"무기체계'라며\"], ['미사일의', '가능성을', '배제할', '수', \"없다'고\", '밝혔다'], ['열병식에', '등장했던', 'KN-02', '단거리미사일의', '개량형일', '가능성을', '추정할', '수', '있으며'], ['하더라도', 'KN-09이거나', '또는', '그', '개량형일', '가능성도', '있다는', '주장이다']]\n"
          ],
          "name": "stdout"
        }
      ]
    },
    {
      "cell_type": "markdown",
      "metadata": {
        "id": "rHbAUAfFbfzR",
        "colab_type": "text"
      },
      "source": [
        "### Scoring Keyphrases\n",
        "\n",
        "Scoring the phrases (candidate keyphrases) and building up a list of keyphrases\\keywords\n",
        "by listing untokenized versions of tokenized phrases\\candidate-keyphrases.\n",
        "Phrases are scored by adding the score of their members (words\\text-units that were ranked by the graph algorithm)\n"
      ]
    },
    {
      "cell_type": "code",
      "metadata": {
        "id": "R4DP76OsbfzR",
        "colab_type": "code",
        "outputId": "c63c459c-d8b0-4d8a-e244-69325e9e10cb",
        "colab": {
          "base_uri": "https://localhost:8080/",
          "height": 883
        }
      },
      "source": [
        "phrase_scores = []\n",
        "keywords = []\n",
        "for phrase in unique_phrases:\n",
        "    phrase_score=0\n",
        "    keyword = ''\n",
        "    for word in phrase:\n",
        "        keyword += str(word)\n",
        "        keyword += \" \"\n",
        "        phrase_score+=score[vocabulary.index(word)]\n",
        "    phrase_scores.append(phrase_score)\n",
        "    keywords.append(keyword.strip())\n",
        "\n",
        "i=0\n",
        "for keyword in keywords:\n",
        "    print(\"Keyword: '\"+str(keyword)+\"', Score: \"+str(phrase_scores[i]))\n",
        "    i+=1"
      ],
      "execution_count": 73,
      "outputs": [
        {
          "output_type": "stream",
          "text": [
            "Keyword: '오전 강원도 원산 호도반도 일대에서 여러 발의 단거리 미사일을 발사한 가운데 탄도미사일이 아닌 방사포', Score: 18.59939581155777\n",
            "Keyword: '전술 로켓일 가능성이 제기된다', Score: 4.263720273971558\n",
            "Keyword: '이날 '북한이 오전', Score: 2.977706551551819\n",
            "Keyword: '원산북방 호도반도 일대에서 북동쪽 방향으로 불상 단거리 발사체 수발을 발사했다'고 밝혔다', Score: 14.819874942302704\n",
            "Keyword: '발사체는 동해상까지 약', Score: 2.5923511385917664\n",
            "Keyword: '비행했으며 미사일', Score: 2.387024223804474\n",
            "Keyword: '의도와 기종 등 추가정보에 대해서는 한미가 정밀분석 중에 있다', Score: 9.945255756378174\n",
            "Keyword: '합참은', Score: 0.8144996166229248\n",
            "Keyword: '미사일'을 발사했다고', Score: 1.649080514907837\n",
            "Keyword: '발사체'로 수정 발표했다', Score: 2.581561803817749\n",
            "Keyword: '보기 어렵다는 분석을 담은 것으로 보여진다', Score: 6.516274154186249\n",
            "Keyword: '제재는 모든 탄도미사일 발사를 금지하고 있다', Score: 9.545214354991913\n",
            "Keyword: '지난달', Score: 0.7699190974235535\n",
            "Keyword: '전술유도무기'라는 표현으로 단거리 발사체를 발사한 바 있다', Score: 13.090409815311432\n",
            "Keyword: '군은 이에 대해', Score: 2.5699865221977234\n",
            "Keyword: '유도무기'로 분석했다', Score: 1.808154284954071\n",
            "Keyword: '날아가는 순항미사일이 아닌', Score: 3.2142947912216187\n",
            "Keyword: '수준의 단거리 발사체로 본 셈이다', Score: 7.86907160282135\n",
            "Keyword: '정확히', Score: 0.8068521618843079\n",
            "Keyword: '만에 단거리 발사체를 발사했는데 전문가들에 따르면 이번', Score: 11.467990279197693\n",
            "Keyword: '방사포와', Score: 0.8374680876731873\n",
            "Keyword: '방사포일 것으로 추정된다', Score: 3.326589345932007\n",
            "Keyword: '수와 비행거리를 고려했을', Score: 2.8260502219200134\n",
            "Keyword: '함께 가지고 나와 최대사거리를 뽐내는 실발사훈련을 했을 가능성이 높아보인다는 분석이다', Score: 10.209661900997162\n",
            "Keyword: '경남대 극동문제연구소 교수는', Score: 2.823560059070587\n",
            "Keyword: '장사정포', Score: 0.9158790707588196\n",
            "Keyword: '일명 다연장로켓', Score: 2.4901946783065796\n",
            "Keyword: '북한에선 방사포라고 하는 것의 실제훈련을 한 것이 아닐까 한다'고 말했다', Score: 9.755107164382935\n",
            "Keyword: '\\방사포를 탄도미사일로 볼 것인가는 해석의 차이가 있겠지만 일단', Score: 8.072770655155182\n",
            "Keyword: '방식상 탄도지만 미사일로까지 보기는 어렵다는 점에서 이번 북한의 행동을 모든 탄도미사일 발사를 금지하고 있는 유엔제재 위반으로 보기는 어려울 듯 하다'고 부연했다', Score: 23.557423949241638\n",
            "Keyword: '통일연구원 북한연구실장은', Score: 1.852725327014923\n",
            "Keyword: '같은 대구경 방사포 또는 신형 함대함 미사일일 수 있다'고 말했다', Score: 13.013490915298462\n",
            "Keyword: '신형 함대함 미사일', Score: 4.286511540412903\n",
            "Keyword: '훈련을 호도반도에서 진행한 바 있다', Score: 6.5701295137405396\n",
            "Keyword: '일각에선', Score: 0.7883214950561523\n",
            "Keyword: '나온 것에 비춰볼', Score: 2.3888492584228516\n",
            "Keyword: '단거리 미사일의 가능성을 배제할 수 없다는 주장도 나온다', Score: 14.363354206085205\n",
            "Keyword: '한국국방안보포럼 센터장은', Score: 1.8280632495880127\n",
            "Keyword: '방사포란 것은 탄도미사일로 보아도 무방한', Score: 5.141529381275177\n",
            "Keyword: '즉 SRBM', Score: 1.621428668498993\n",
            "Keyword: '단거리 탄도미사일', Score: 6.604174256324768\n",
            "Keyword: 'MLRS', Score: 0.7914093732833862\n",
            "Keyword: '다연장 로켓', Score: 1.7150626182556152\n",
            "Keyword: '경계선 상에 존재하는 무기체계'라며', Score: 3.397429585456848\n",
            "Keyword: '미사일의 가능성을 배제할 수 없다'고 밝혔다', Score: 9.485876441001892\n",
            "Keyword: '열병식에 등장했던 KN-02 단거리미사일의 개량형일 가능성을 추정할 수 있으며', Score: 10.979526996612549\n",
            "Keyword: '하더라도 KN-09이거나 또는 그 개량형일 가능성도 있다는 주장이다', Score: 6.886244684457779\n"
          ],
          "name": "stdout"
        }
      ]
    },
    {
      "cell_type": "markdown",
      "metadata": {
        "id": "0fw0Je8EbfzU",
        "colab_type": "text"
      },
      "source": [
        "### Ranking Keyphrases\n",
        "\n",
        "Ranking keyphrases based on their calculated scores. Displaying top keywords_num no. of keyphrases."
      ]
    },
    {
      "cell_type": "code",
      "metadata": {
        "id": "wpdzhcBBbfzV",
        "colab_type": "code",
        "outputId": "73c99f2b-c519-42bd-9586-1245a5570fe8",
        "colab": {
          "base_uri": "https://localhost:8080/",
          "height": 233
        }
      },
      "source": [
        "sorted_index = np.flip(np.argsort(phrase_scores),0)\n",
        "\n",
        "keywords_num = 10\n",
        "\n",
        "print(\"Keywords:\\n\")\n",
        "\n",
        "for i in range(0,keywords_num):\n",
        "    print(str(keywords[sorted_index[i]])+\", \")"
      ],
      "execution_count": 74,
      "outputs": [
        {
          "output_type": "stream",
          "text": [
            "Keywords:\n",
            "\n",
            "방식상 탄도지만 미사일로까지 보기는 어렵다는 점에서 이번 북한의 행동을 모든 탄도미사일 발사를 금지하고 있는 유엔제재 위반으로 보기는 어려울 듯 하다'고 부연했다, \n",
            "오전 강원도 원산 호도반도 일대에서 여러 발의 단거리 미사일을 발사한 가운데 탄도미사일이 아닌 방사포, \n",
            "원산북방 호도반도 일대에서 북동쪽 방향으로 불상 단거리 발사체 수발을 발사했다'고 밝혔다, \n",
            "단거리 미사일의 가능성을 배제할 수 없다는 주장도 나온다, \n",
            "전술유도무기'라는 표현으로 단거리 발사체를 발사한 바 있다, \n",
            "같은 대구경 방사포 또는 신형 함대함 미사일일 수 있다'고 말했다, \n",
            "만에 단거리 발사체를 발사했는데 전문가들에 따르면 이번, \n",
            "열병식에 등장했던 KN-02 단거리미사일의 개량형일 가능성을 추정할 수 있으며, \n",
            "함께 가지고 나와 최대사거리를 뽐내는 실발사훈련을 했을 가능성이 높아보인다는 분석이다, \n",
            "의도와 기종 등 추가정보에 대해서는 한미가 정밀분석 중에 있다, \n"
          ],
          "name": "stdout"
        }
      ]
    },
    {
      "cell_type": "markdown",
      "metadata": {
        "id": "r9geecghbfzW",
        "colab_type": "text"
      },
      "source": [
        "# Input:\n",
        "\n",
        "Compatibility of systems of linear constraints over the set of natural numbers. Criteria of compatibility of a system of linear Diophantine equations, strict inequations, and nonstrict inequations are considered. Upper bounds for components of a minimal set of solutions and algorithms of construction of minimal generating sets of solutions for all types of systems are given. These criteria and the corresponding algorithms for constructing a minimal supporting set of solutions can be used in solving all the considered types of systems and systems of mixed types.\n",
        "\n",
        "# Extracted Keywords:\n",
        "\n",
        "* minimal supporting set,  \n",
        "* minimal generating set,  \n",
        "* minimal set,  \n",
        "* linear diophantine equation,  \n",
        "* nonstrict inequations,  \n",
        "* strict inequations,  \n",
        "* system,  \n",
        "* linear constraint,  \n",
        "* solution,  \n",
        "* upper bound, \n"
      ]
    },
    {
      "cell_type": "code",
      "metadata": {
        "id": "w6dzxDQ9bfzX",
        "colab_type": "code",
        "colab": {}
      },
      "source": [
        ""
      ],
      "execution_count": 0,
      "outputs": []
    },
    {
      "cell_type": "code",
      "metadata": {
        "id": "MdkiSMcObfzY",
        "colab_type": "code",
        "colab": {}
      },
      "source": [
        ""
      ],
      "execution_count": 0,
      "outputs": []
    }
  ]
}