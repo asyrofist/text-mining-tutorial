{
  "nbformat": 4,
  "nbformat_minor": 0,
  "metadata": {
    "colab": {
      "name": "3_핵심 키워드 추출_Keyword Extraction.ipynb",
      "version": "0.3.2",
      "provenance": [],
      "include_colab_link": true
    },
    "kernelspec": {
      "name": "python3",
      "display_name": "Python 3"
    }
  },
  "cells": [
    {
      "cell_type": "markdown",
      "metadata": {
        "id": "view-in-github",
        "colab_type": "text"
      },
      "source": [
        "<a href=\"https://colab.research.google.com/github/fininsight/text-mining-tutorial/blob/master/3_%ED%95%B5%EC%8B%AC_%ED%82%A4%EC%9B%8C%EB%93%9C_%EC%B6%94%EC%B6%9C_Keyword_Extraction.ipynb\" target=\"_parent\"><img src=\"https://colab.research.google.com/assets/colab-badge.svg\" alt=\"Open In Colab\"/></a>"
      ]
    },
    {
      "metadata": {
        "id": "q1Q9mWDrgMUn",
        "colab_type": "text"
      },
      "cell_type": "markdown",
      "source": [
        "# 핵심 키워드 추출 (Keyword Extraction)"
      ]
    },
    {
      "metadata": {
        "id": "jxsBfWirA9ao",
        "colab_type": "text"
      },
      "cell_type": "markdown",
      "source": [
        "# 1 TF-IDF"
      ]
    },
    {
      "metadata": {
        "id": "mfekkYshBAVS",
        "colab_type": "text"
      },
      "cell_type": "markdown",
      "source": [
        "# 2 Textrank"
      ]
    },
    {
      "metadata": {
        "id": "xUOOmfhngBnb",
        "colab_type": "text"
      },
      "cell_type": "markdown",
      "source": [
        "## Textrank"
      ]
    },
    {
      "metadata": {
        "id": "Nk8aTtxrf78d",
        "colab_type": "code",
        "colab": {}
      },
      "cell_type": "code",
      "source": [
        "df1 = pd.read_csv('preprocessing_실리콘벨리기사.csv')\n",
        "\n",
        "df1.rename(columns={'0':'raw','1':'tuned'},inplace=True)\n",
        "\n",
        "doc = df1['raw'].tolist()\n",
        "sentences = doc[0].split(\".\")"
      ],
      "execution_count": 0,
      "outputs": []
    },
    {
      "metadata": {
        "id": "KEfbJPpEf78g",
        "colab_type": "code",
        "colab": {}
      },
      "cell_type": "code",
      "source": [
        "import networkx as nx\n",
        "import numpy as np\n",
        "import pandas as pd\n",
        "from konlpy.tag import Okt\n",
        "okt = Okt()\n",
        "\n",
        "from sklearn.feature_extraction.text import TfidfTransformer"
      ],
      "execution_count": 0,
      "outputs": []
    },
    {
      "metadata": {
        "id": "SwpCjmObf78i",
        "colab_type": "code",
        "colab": {}
      },
      "cell_type": "code",
      "source": [
        "def textrank(document):\n",
        "    sentences = document[0].split('.')\n",
        "    tuned_sentences = []\n",
        "\n",
        "    for idx in range(len(sentences)) : \n",
        "        tuned_sentences.append(okt.nouns(sentences[idx]))\n",
        "\n",
        "    tuned_sentences = [','.join(tuned_sentences[idx]).replace(',',' ') for idx in range(len(tuned_sentences))]\n",
        "    vectorizer = TfidfVectorizer()\n",
        "    tfidf_vector = vectorizer.fit_transform(tuned_sentences).toarray()\n",
        "    similarity_graph = tfidf_vector * tfidf_vector\n",
        " \n",
        "    nx_graph = nx.from_scipy_sparse_matrix(similarity_graph)\n",
        "\n",
        "    scores = nx.pagerank(nx_graph)\n",
        "    return sorted(((scores[i],s) for i,s in enumerate(sentences)),\n",
        "                  reverse=True)"
      ],
      "execution_count": 0,
      "outputs": []
    },
    {
      "metadata": {
        "id": "3ZkR90Eff78k",
        "colab_type": "code",
        "colab": {}
      },
      "cell_type": "code",
      "source": [
        "def textrank(document):\n",
        "    sentences = document.split('.') # 문서를 문장으로 split\n",
        "    tuned_sentences = []\n",
        "    \n",
        "    for idx in range(len(sentences)) : \n",
        "        tuned_sentences.append(okt.nouns(sentences[idx]))\n",
        "\n",
        "    tuned_sentences = [','.join(tuned_sentences[idx]).replace(',',' ') for idx in range(len(tuned_sentences))]\n",
        "    \n",
        "    # 위에까지 문장에서 명사만 추출한 후, 명사의 나열로 각각의 문장을 대체한다.\n",
        "    \n",
        "    convert_to_binary_ls = CountVectorizer().fit_transform(tuned_sentences)\n",
        "    tfidf_vetorized_ls = TfidfTransformer().fit_transform(convert_to_binary_ls)\n",
        "    \n",
        "    # 위의 두 줄의 코드 ( countervectorizer -> tf-idf transformer) 는 tf-idf vectorizer 과 같은 효과를 가진다.\n",
        "\n",
        "    similarity_graph = tfidf_vetorized_ls * tfidf_vetorized_ls.T # 벡터의 내적을 통해 코사인 유사도 계산\n",
        " \n",
        "    nx_graph = nx.from_scipy_sparse_matrix(similarity_graph) # 그래프 위에 벡터를 올린다.\n",
        "\n",
        "    scores = nx.pagerank(nx_graph) # 페이지 랭크 알고리즘으로 노드의 가중치를 업데이트 시켜준다.\n",
        "    \n",
        "    return sorted(((scores[i],s) for i,s in enumerate(sentences)),\n",
        "                  reverse=True)"
      ],
      "execution_count": 0,
      "outputs": []
    },
    {
      "metadata": {
        "scrolled": true,
        "id": "_snzYVr5f78l",
        "colab_type": "code",
        "outputId": "3d6a83b3-51be-4964-a875-6ed34948aa18",
        "colab": {}
      },
      "cell_type": "code",
      "source": [
        "textrank(doc[0])"
      ],
      "execution_count": 0,
      "outputs": [
        {
          "output_type": "execute_result",
          "data": {
            "text/plain": [
              "[(0.040816762831927554, ' 창업자들의 세부 전공을 보면 37%만 공학·컴퓨터 기술이며, 수학 전공자는 2%뿐이었다'),\n",
              " (0.03487320736779421,\n",
              "  ' 요즘 실리콘밸리에서 확인되는 것은 4차 산업혁명 시대에는 예술과 인문학이 의학·공학만큼 중요하다는 사실이다'),\n",
              " (0.03339024696666714, ' 기술 관련 제품의 성공에 가장 중요한 것은 디자인\"이라고 답했다'),\n",
              " (0.03282283236060363,\n",
              "  ' 자녀의 직업적 성공을 위해 대학 전공으로 의학과 이공계를 우선적으로 고려하는 일은 한국이 산업화 중이던 상황에선 올바른 선택이었다'),\n",
              " (0.03272401428499746,\n",
              "  '기술을 통해 놀라운 미래를 창조하고 새로운 산업혁명 시대에 리더가 되기 위해 한국에서는 공학자들과 손잡고 일할 음악가와 화가가 더 많이 필요하다'),\n",
              " (0.032391493195152554,\n",
              "  ' 여기에는 컴퓨터와 인공지능, 디지털 의술, 로봇공학, 합성생물학 등 광범위한 기술이 활용된다'),\n",
              " (0.032023279817589984,\n",
              "  '교육을 삶의 최우선 순위로 두고 있는 한국의 부모들은 대학 전공 가운데 의학과 공학·과학을 중시한다'),\n",
              " (0.03060327736966526, ' 이는 인문학 전공자들이 가장 잘 훈련받은 분야이다'),\n",
              " (0.02977677825410388,\n",
              "  ' 교양과 인문학이 결합한 기술이야말로 가슴 벅찬 결과를 낳을 것\"이라며 예술과 디자인의 중요성을 강조했다'),\n",
              " (0.029744919107691305,\n",
              "  \" 초소형 물질의 발전은 모든 사람이 충분히 이용할 수 있는 '태양열 저장 기술'의 새 시대를 열 것이다\"),\n",
              " (0.02924623343757161,\n",
              "  ' 최근 내가 그에게 \"어떻게 5년여 만에 회사 주가를 450% 올릴 수 있었느냐\"고 물었더니 그는 \"우리 회사가 만드는 모든 제품의 디자인을 쉼 없이 고민했기 때문에 가능했다'),\n",
              " (0.028901992422112152, '실리콘밸리에서 최근 뜨고 있는 스타 기업인 중에는 인문학 전공자들이 제법 많다'),\n",
              " (0.028525957482825496, ' 이들의 전공은 경영·회계·보건·예술·인문학 등 매우 다양했다'),\n",
              " (0.028103206353949195,\n",
              "  '스티브 잡스는 자신이 대학 시절 수강했던 서체(書體) 수업이 매킨토시(애플이 1984년 발표한 개인용 컴퓨터) 개발 성공에 큰 영향을 미쳤다고 말했다'),\n",
              " (0.02770638318663611, ' 이제는 과학·공학·의학뿐 아니라 창의성과 디자인에도 진정한 관심을 쏟아야 한다'),\n",
              " (0.027369347935136564,\n",
              "  ' 구인·구직 소셜 네트워킹 서비스 기업인 링크드인(LinkedIn) 창업자 리드 호프만은 철학 석사 학위 소지자이며, 수잔 보이치키 유튜브 CEO는 역사와 문학을 전공했다'),\n",
              " (0.027112340498288666,\n",
              "  \" 의학·인공지능과 센서를 융합하면 인간의 건강을 진단하고 질병을 예방하는 '디지털 의사'를 만들 수 있다\"),\n",
              " (0.027024899818793958,\n",
              "  ' 메신저 개발 업체 슬랙(Slack)의 창업자 스튜어트 버터필드는 철학, 세계 최대 숙박 공유 기업인 에어비앤비의 설립자 브라이언 체스키는 미술을 전공했다'),\n",
              " (0.026958045843884632,\n",
              "  ' 우리가 처한 거대한 사회·기술적 도전에 대처하려면 인류를 둘러싼 다양한 배경과 맥락에 대해 비판적 사고 능력이 필수적이다'),\n",
              " (0.025956428255251546, ' 그는 2011년 아이패드 2를 공개하면서 \"애플의 DNA는 기술만으로는 충분하지 않다'),\n",
              " (0.025903351274121723,\n",
              "  ' 심리학 전공자는 사람에게 동기(動機)부여가 무엇이며, 사용자들이 원하는 게 무엇인지를 공학 한 분야에서만 일해온 엔지니어들보다 잘 이해할 수 있다'),\n",
              " (0.02576800283193175, '일례로 음악·예술·문학과 심리학에서 비롯한 공감(共感) 능력은 디자인에 큰 장점이 된다'),\n",
              " (0.025610276314751837,\n",
              "  \" 과거 우리 부모들이 우리에게 공부를 강요해서 학습을 '억지로 해야 하는 따분한 일'로 여기게 했던 방식을 따라 해선 안 된다\"),\n",
              " (0.02549233110436119,\n",
              "  ' 로마제국의 흥망성쇠와 계몽주의를 공부한 역사학도는 기술의 인간적 요소와 유용성에 대한 통찰력을 가질 수 있다'),\n",
              " (0.025246387855089935,\n",
              "  ' 이런 관점을 바탕으로 잡스는 세계 최고 가치를 인정받는 기업을 만들었고, 기술 산업의 새로운 표준까지 정했다'),\n",
              " (0.025048884712211287, '컴퓨터 주변기기 제조 업체 로지텍의 브랙큰 대럴 CEO도 영문학을 전공했다'),\n",
              " (0.02477859525274787, ' 우리가 상상하는 물건을 3D로 만들 수 있게 되면 음악가나 화가들의 세상이 될지도 모른다'),\n",
              " (0.024573123138203354, \" 인공지능 로봇을 사용해 노인들을 위한 '디지털 친구'도 가능하다\"),\n",
              " (0.024233463196052345,\n",
              "  '\"자녀가 미래에 어떤 직업을 택하면 좋겠는가\"라는 질문을 받을 때 나는 \"아이들이 스스로 하고 싶은 것을 선택하도록 내버려 두는 게 최선\"이라고 답한다'),\n",
              " (0.023988485460726797,\n",
              "  '이런 해결책을 이끌어내는 데는 생물학·교육·의료·인간행동 등 여러 분야에 대한 지식이 필요하다'),\n",
              " (0.02392836888025162,\n",
              "  '내가 속해 있는 하버드대·듀크대 연구팀은 미국 IT 기업 창업자들의 92%가 학사 학위를, 47%는 석사 학위 이상을 갖고 있음을 밝혀냈다'),\n",
              " (0.023514893193890926, ' 그 대신 자녀가 자신의 열정을 추구하고 배우는 걸 즐길 수 있도록 북돋아야 한다'),\n",
              " (0.023265399490764303,\n",
              "  ' 유전체학과 유전자 편집을 이용해 가뭄에 강하고 인류 전체를 먹여 살릴 새 식물을 개발할 수 있다'),\n",
              " (0.02320489742794718, ' 하지만 지금은 모든 것이 달라졌다'),\n",
              " (0.022842191414227896, ' 중국 알리바바그룹의 마윈 회장의 학부 전공은 영어였다'),\n",
              " (0.022380324068716248, \"4차 산업혁명은 '혁신의 규칙'을 바꾸는 일이다\"),\n",
              " (0.004149377593360997, '')]"
            ]
          },
          "metadata": {
            "tags": []
          },
          "execution_count": 57
        }
      ]
    },
    {
      "metadata": {
        "id": "zgRZMPYBf78q",
        "colab_type": "code",
        "outputId": "5ec28332-e54f-40cf-8cb9-cf170869a1f4",
        "colab": {}
      },
      "cell_type": "code",
      "source": [
        "from gensim.summarization import summarize\n",
        "summarize(doc[0])"
      ],
      "execution_count": 0,
      "outputs": [
        {
          "output_type": "execute_result",
          "data": {
            "text/plain": [
              "'요즘 실리콘밸리에서 확인되는 것은 4차 산업혁명 시대에는 예술과 인문학이 의학·공학만큼 중요하다는 사실이다.스티브 잡스는 자신이 대학 시절 수강했던 서체(書體) 수업이 매킨토시(애플이 1984년 발표한 개인용 컴퓨터) 개발 성공에 큰 영향을 미쳤다고 말했다.\\n이런 관점을 바탕으로 잡스는 세계 최고 가치를 인정받는 기업을 만들었고, 기술 산업의 새로운 표준까지 정했다.실리콘밸리에서 최근 뜨고 있는 스타 기업인 중에는 인문학 전공자들이 제법 많다.\\n구인·구직 소셜 네트워킹 서비스 기업인 링크드인(LinkedIn) 창업자 리드 호프만은 철학 석사 학위 소지자이며, 수잔 보이치키 유튜브 CEO는 역사와 문학을 전공했다.\\n메신저 개발 업체 슬랙(Slack)의 창업자 스튜어트 버터필드는 철학, 세계 최대 숙박 공유 기업인 에어비앤비의 설립자 브라이언 체스키는 미술을 전공했다.\\n이들의 전공은 경영·회계·보건·예술·인문학 등 매우 다양했다.컴퓨터 주변기기 제조 업체 로지텍의 브랙큰 대럴 CEO도 영문학을 전공했다.'"
            ]
          },
          "metadata": {
            "tags": []
          },
          "execution_count": 62
        }
      ]
    },
    {
      "metadata": {
        "id": "4-GdO7EigEg2",
        "colab_type": "code",
        "colab": {}
      },
      "cell_type": "code",
      "source": [
        ""
      ],
      "execution_count": 0,
      "outputs": []
    },
    {
      "metadata": {
        "id": "rLAJTRQEgJjm",
        "colab_type": "code",
        "colab": {}
      },
      "cell_type": "code",
      "source": [
        ""
      ],
      "execution_count": 0,
      "outputs": []
    },
    {
      "metadata": {
        "id": "VyYBEIOJf9XI",
        "colab_type": "code",
        "colab": {}
      },
      "cell_type": "code",
      "source": [
        "import pandas as pd\n",
        "from konlpy.tag import Okt\n",
        "okt = Okt()\n",
        "\n",
        "from sklearn.feature_extraction.text import TfidfVectorizer"
      ],
      "execution_count": 0,
      "outputs": []
    },
    {
      "metadata": {
        "id": "Z-5YFnJ0f9XL",
        "colab_type": "code",
        "colab": {}
      },
      "cell_type": "code",
      "source": [
        "df1 = pd.read_csv('preprocessing_실리콘벨리기사.csv')"
      ],
      "execution_count": 0,
      "outputs": []
    },
    {
      "metadata": {
        "id": "9as82nzpf9XN",
        "colab_type": "code",
        "colab": {}
      },
      "cell_type": "code",
      "source": [
        "df1.rename(columns={'0':'raw','1':'tuned'},inplace=True)"
      ],
      "execution_count": 0,
      "outputs": []
    },
    {
      "metadata": {
        "id": "Tgo0vfnXf9XO",
        "colab_type": "code",
        "outputId": "afcb5efa-7a2c-4747-d340-54658e29d5e3",
        "colab": {}
      },
      "cell_type": "code",
      "source": [
        "print(df1['raw'].tolist())"
      ],
      "execution_count": 0,
      "outputs": [
        {
          "output_type": "stream",
          "text": [
            "['교육을 삶의 최우선 순위로 두고 있는 한국의 부모들은 대학 전공 가운데 의학과 공학·과학을 중시한다. 자녀의 직업적 성공을 위해 대학 전공으로 의학과 이공계를 우선적으로 고려하는 일은 한국이 산업화 중이던 상황에선 올바른 선택이었다. 하지만 지금은 모든 것이 달라졌다. 요즘 실리콘밸리에서 확인되는 것은 4차 산업혁명 시대에는 예술과 인문학이 의학·공학만큼 중요하다는 사실이다.스티브 잡스는 자신이 대학 시절 수강했던 서체(書體) 수업이 매킨토시(애플이 1984년 발표한 개인용 컴퓨터) 개발 성공에 큰 영향을 미쳤다고 말했다. 그는 2011년 아이패드 2를 공개하면서 \"애플의 DNA는 기술만으로는 충분하지 않다. 교양과 인문학이 결합한 기술이야말로 가슴 벅찬 결과를 낳을 것\"이라며 예술과 디자인의 중요성을 강조했다. 이런 관점을 바탕으로 잡스는 세계 최고 가치를 인정받는 기업을 만들었고, 기술 산업의 새로운 표준까지 정했다.실리콘밸리에서 최근 뜨고 있는 스타 기업인 중에는 인문학 전공자들이 제법 많다. 구인·구직 소셜 네트워킹 서비스 기업인 링크드인(LinkedIn) 창업자 리드 호프만은 철학 석사 학위 소지자이며, 수잔 보이치키 유튜브 CEO는 역사와 문학을 전공했다. 메신저 개발 업체 슬랙(Slack)의 창업자 스튜어트 버터필드는 철학, 세계 최대 숙박 공유 기업인 에어비앤비의 설립자 브라이언 체스키는 미술을 전공했다. 중국 알리바바그룹의 마윈 회장의 학부 전공은 영어였다.내가 속해 있는 하버드대·듀크대 연구팀은 미국 IT 기업 창업자들의 92%가 학사 학위를, 47%는 석사 학위 이상을 갖고 있음을 밝혀냈다. 창업자들의 세부 전공을 보면 37%만 공학·컴퓨터 기술이며, 수학 전공자는 2%뿐이었다. 이들의 전공은 경영·회계·보건·예술·인문학 등 매우 다양했다.컴퓨터 주변기기 제조 업체 로지텍의 브랙큰 대럴 CEO도 영문학을 전공했다. 최근 내가 그에게 \"어떻게 5년여 만에 회사 주가를 450% 올릴 수 있었느냐\"고 물었더니 그는 \"우리 회사가 만드는 모든 제품의 디자인을 쉼 없이 고민했기 때문에 가능했다. 기술 관련 제품의 성공에 가장 중요한 것은 디자인\"이라고 답했다.4차 산업혁명은 \\'혁신의 규칙\\'을 바꾸는 일이다. 여기에는 컴퓨터와 인공지능, 디지털 의술, 로봇공학, 합성생물학 등 광범위한 기술이 활용된다. 의학·인공지능과 센서를 융합하면 인간의 건강을 진단하고 질병을 예방하는 \\'디지털 의사\\'를 만들 수 있다. 유전체학과 유전자 편집을 이용해 가뭄에 강하고 인류 전체를 먹여 살릴 새 식물을 개발할 수 있다. 인공지능 로봇을 사용해 노인들을 위한 \\'디지털 친구\\'도 가능하다. 초소형 물질의 발전은 모든 사람이 충분히 이용할 수 있는 \\'태양열 저장 기술\\'의 새 시대를 열 것이다.이런 해결책을 이끌어내는 데는 생물학·교육·의료·인간행동 등 여러 분야에 대한 지식이 필요하다. 우리가 처한 거대한 사회·기술적 도전에 대처하려면 인류를 둘러싼 다양한 배경과 맥락에 대해 비판적 사고 능력이 필수적이다. 이는 인문학 전공자들이 가장 잘 훈련받은 분야이다.일례로 음악·예술·문학과 심리학에서 비롯한 공감(共感) 능력은 디자인에 큰 장점이 된다. 로마제국의 흥망성쇠와 계몽주의를 공부한 역사학도는 기술의 인간적 요소와 유용성에 대한 통찰력을 가질 수 있다. 심리학 전공자는 사람에게 동기(動機)부여가 무엇이며, 사용자들이 원하는 게 무엇인지를 공학 한 분야에서만 일해온 엔지니어들보다 잘 이해할 수 있다. 우리가 상상하는 물건을 3D로 만들 수 있게 되면 음악가나 화가들의 세상이 될지도 모른다.\"자녀가 미래에 어떤 직업을 택하면 좋겠는가\"라는 질문을 받을 때 나는 \"아이들이 스스로 하고 싶은 것을 선택하도록 내버려 두는 게 최선\"이라고 답한다. 과거 우리 부모들이 우리에게 공부를 강요해서 학습을 \\'억지로 해야 하는 따분한 일\\'로 여기게 했던 방식을 따라 해선 안 된다. 그 대신 자녀가 자신의 열정을 추구하고 배우는 걸 즐길 수 있도록 북돋아야 한다.기술을 통해 놀라운 미래를 창조하고 새로운 산업혁명 시대에 리더가 되기 위해 한국에서는 공학자들과 손잡고 일할 음악가와 화가가 더 많이 필요하다. 이제는 과학·공학·의학뿐 아니라 창의성과 디자인에도 진정한 관심을 쏟아야 한다.']\n"
          ],
          "name": "stdout"
        }
      ]
    },
    {
      "metadata": {
        "id": "s1HOF6Brf9XS",
        "colab_type": "code",
        "outputId": "68e33ff3-9b43-4173-8957-e53c2b09fe43",
        "colab": {}
      },
      "cell_type": "code",
      "source": [
        "doc = df1['raw'].tolist()\n",
        "sentences = doc[0].split(\".\")\n",
        "sentences"
      ],
      "execution_count": 0,
      "outputs": [
        {
          "output_type": "execute_result",
          "data": {
            "text/plain": [
              "['교육을 삶의 최우선 순위로 두고 있는 한국의 부모들은 대학 전공 가운데 의학과 공학·과학을 중시한다',\n",
              " ' 자녀의 직업적 성공을 위해 대학 전공으로 의학과 이공계를 우선적으로 고려하는 일은 한국이 산업화 중이던 상황에선 올바른 선택이었다',\n",
              " ' 하지만 지금은 모든 것이 달라졌다',\n",
              " ' 요즘 실리콘밸리에서 확인되는 것은 4차 산업혁명 시대에는 예술과 인문학이 의학·공학만큼 중요하다는 사실이다',\n",
              " '스티브 잡스는 자신이 대학 시절 수강했던 서체(書體) 수업이 매킨토시(애플이 1984년 발표한 개인용 컴퓨터) 개발 성공에 큰 영향을 미쳤다고 말했다',\n",
              " ' 그는 2011년 아이패드 2를 공개하면서 \"애플의 DNA는 기술만으로는 충분하지 않다',\n",
              " ' 교양과 인문학이 결합한 기술이야말로 가슴 벅찬 결과를 낳을 것\"이라며 예술과 디자인의 중요성을 강조했다',\n",
              " ' 이런 관점을 바탕으로 잡스는 세계 최고 가치를 인정받는 기업을 만들었고, 기술 산업의 새로운 표준까지 정했다',\n",
              " '실리콘밸리에서 최근 뜨고 있는 스타 기업인 중에는 인문학 전공자들이 제법 많다',\n",
              " ' 구인·구직 소셜 네트워킹 서비스 기업인 링크드인(LinkedIn) 창업자 리드 호프만은 철학 석사 학위 소지자이며, 수잔 보이치키 유튜브 CEO는 역사와 문학을 전공했다',\n",
              " ' 메신저 개발 업체 슬랙(Slack)의 창업자 스튜어트 버터필드는 철학, 세계 최대 숙박 공유 기업인 에어비앤비의 설립자 브라이언 체스키는 미술을 전공했다',\n",
              " ' 중국 알리바바그룹의 마윈 회장의 학부 전공은 영어였다',\n",
              " '내가 속해 있는 하버드대·듀크대 연구팀은 미국 IT 기업 창업자들의 92%가 학사 학위를, 47%는 석사 학위 이상을 갖고 있음을 밝혀냈다',\n",
              " ' 창업자들의 세부 전공을 보면 37%만 공학·컴퓨터 기술이며, 수학 전공자는 2%뿐이었다',\n",
              " ' 이들의 전공은 경영·회계·보건·예술·인문학 등 매우 다양했다',\n",
              " '컴퓨터 주변기기 제조 업체 로지텍의 브랙큰 대럴 CEO도 영문학을 전공했다',\n",
              " ' 최근 내가 그에게 \"어떻게 5년여 만에 회사 주가를 450% 올릴 수 있었느냐\"고 물었더니 그는 \"우리 회사가 만드는 모든 제품의 디자인을 쉼 없이 고민했기 때문에 가능했다',\n",
              " ' 기술 관련 제품의 성공에 가장 중요한 것은 디자인\"이라고 답했다',\n",
              " \"4차 산업혁명은 '혁신의 규칙'을 바꾸는 일이다\",\n",
              " ' 여기에는 컴퓨터와 인공지능, 디지털 의술, 로봇공학, 합성생물학 등 광범위한 기술이 활용된다',\n",
              " \" 의학·인공지능과 센서를 융합하면 인간의 건강을 진단하고 질병을 예방하는 '디지털 의사'를 만들 수 있다\",\n",
              " ' 유전체학과 유전자 편집을 이용해 가뭄에 강하고 인류 전체를 먹여 살릴 새 식물을 개발할 수 있다',\n",
              " \" 인공지능 로봇을 사용해 노인들을 위한 '디지털 친구'도 가능하다\",\n",
              " \" 초소형 물질의 발전은 모든 사람이 충분히 이용할 수 있는 '태양열 저장 기술'의 새 시대를 열 것이다\",\n",
              " '이런 해결책을 이끌어내는 데는 생물학·교육·의료·인간행동 등 여러 분야에 대한 지식이 필요하다',\n",
              " ' 우리가 처한 거대한 사회·기술적 도전에 대처하려면 인류를 둘러싼 다양한 배경과 맥락에 대해 비판적 사고 능력이 필수적이다',\n",
              " ' 이는 인문학 전공자들이 가장 잘 훈련받은 분야이다',\n",
              " '일례로 음악·예술·문학과 심리학에서 비롯한 공감(共感) 능력은 디자인에 큰 장점이 된다',\n",
              " ' 로마제국의 흥망성쇠와 계몽주의를 공부한 역사학도는 기술의 인간적 요소와 유용성에 대한 통찰력을 가질 수 있다',\n",
              " ' 심리학 전공자는 사람에게 동기(動機)부여가 무엇이며, 사용자들이 원하는 게 무엇인지를 공학 한 분야에서만 일해온 엔지니어들보다 잘 이해할 수 있다',\n",
              " ' 우리가 상상하는 물건을 3D로 만들 수 있게 되면 음악가나 화가들의 세상이 될지도 모른다',\n",
              " '\"자녀가 미래에 어떤 직업을 택하면 좋겠는가\"라는 질문을 받을 때 나는 \"아이들이 스스로 하고 싶은 것을 선택하도록 내버려 두는 게 최선\"이라고 답한다',\n",
              " \" 과거 우리 부모들이 우리에게 공부를 강요해서 학습을 '억지로 해야 하는 따분한 일'로 여기게 했던 방식을 따라 해선 안 된다\",\n",
              " ' 그 대신 자녀가 자신의 열정을 추구하고 배우는 걸 즐길 수 있도록 북돋아야 한다',\n",
              " '기술을 통해 놀라운 미래를 창조하고 새로운 산업혁명 시대에 리더가 되기 위해 한국에서는 공학자들과 손잡고 일할 음악가와 화가가 더 많이 필요하다',\n",
              " ' 이제는 과학·공학·의학뿐 아니라 창의성과 디자인에도 진정한 관심을 쏟아야 한다',\n",
              " '']"
            ]
          },
          "metadata": {
            "tags": []
          },
          "execution_count": 133
        }
      ]
    },
    {
      "metadata": {
        "id": "oD81MWFAf9XU",
        "colab_type": "code",
        "outputId": "52ebe7ff-3858-4096-e817-a1c5d54acb57",
        "colab": {}
      },
      "cell_type": "code",
      "source": [
        "tuned_sentences = []\n",
        "\n",
        "for idx in range(len(sentences)) : \n",
        "    tuned_sentences.append(okt.nouns(sentences[idx]))\n",
        "tuned_sentences[0]"
      ],
      "execution_count": 0,
      "outputs": [
        {
          "output_type": "execute_result",
          "data": {
            "text/plain": [
              "['교육',\n",
              " '삶',\n",
              " '최',\n",
              " '우선',\n",
              " '순위',\n",
              " '한국',\n",
              " '부모',\n",
              " '대학',\n",
              " '전공',\n",
              " '가운데',\n",
              " '의학과',\n",
              " '공학',\n",
              " '과학',\n",
              " '중시']"
            ]
          },
          "metadata": {
            "tags": []
          },
          "execution_count": 134
        }
      ]
    },
    {
      "metadata": {
        "id": "3NaQgzp9f9XX",
        "colab_type": "code",
        "outputId": "40229bb9-8fe4-43db-97f6-2139f08fbf34",
        "colab": {}
      },
      "cell_type": "code",
      "source": [
        "tuned_sentences = [','.join(tuned_sentences[idx]).replace(',',' ') for idx in range(len(tuned_sentences))]\n",
        "tuned_sentences"
      ],
      "execution_count": 0,
      "outputs": [
        {
          "output_type": "execute_result",
          "data": {
            "text/plain": [
              "['교육 삶 최 우선 순위 한국 부모 대학 전공 가운데 의학과 공학 과학 중시',\n",
              " '자녀 직업 성공 위해 대학 전공 의학과 이공 우선 고려 일 한국 산업화 중 상황 선택',\n",
              " '지금 모든 것',\n",
              " '요즘 실리콘밸리 확인 것 차 산업혁명 시대 예술 인문학 의학 공학 사실',\n",
              " '스티브 잡스 자신 대학 시절 수강 서체 수업 매킨토시 애플 발표 개인 용 컴퓨터 개발 성공 영향 말',\n",
              " '그 아이패드 를 공개 애플 기술',\n",
              " '교양 인문학 결합 기술 가슴 결과 낳을 것 라며 예술 디자인 중요성 강조',\n",
              " '관점 바탕 잡스 세계 최고 가치 기업 기술 산업 표준 정',\n",
              " '실리콘밸리 최근 스타 기업인 중 인문학 전공자 제법',\n",
              " '구인 구직 소셜 네트워킹 서비스 기업인 링크드인 창업 리드 호프 철학 석사 학위 소지 잔 보이 유튜브 역사 문학 전공',\n",
              " '메신저 개발 업체 슬랙 의 창업 스튜어트 버터 필드 철학 세계 최대 숙박 공유 기업인 에어비앤비 설립 브라이언 체 스키 미술 전공',\n",
              " '중국 알리바바 그룹 마윈 회장 학부 전공 영어',\n",
              " '내 해 하버드대 듀크 팀 미국 기업 창업 자 학사 학위 석사 학위 이상 음',\n",
              " '창업 자 세부 전공 만 공학 컴퓨터 기술 수학 전공자',\n",
              " '이 전공 경영 회계 보건 예술 인문학 등 매우',\n",
              " '컴퓨터 주변기기 제조 업체 로지텍 브랙큰 대럴 도 영문학 전공',\n",
              " '최근 내 그 회사 주가 수 고 그 우리 회사 모든 제품 디자인 고민 때문',\n",
              " '기술 관련 제품 성공 가장 것 디자인 답',\n",
              " '차 산업혁명 혁신 규칙 일이',\n",
              " '여기 컴퓨터 인공 지능 디지털 의술 로봇공학 합성생물학 등 기술 활용',\n",
              " '의학 인공 지능 센서 융합 인간 건강 진단 질병 예방 디지털 의사 를 수',\n",
              " '유전체학 유전자 편집 이용 가뭄 인류 전체 새 식물 개발 수',\n",
              " '인공 지능 로봇 사용 노인 위 디지털 친구 도',\n",
              " '초소 물질 발전 모든 사람 이용 수 태양열 저장 기술 의 새 시대 열 것',\n",
              " '해결 책 데 생물학 교육 의료 인간 행동 등 여러 분야 대한 지식',\n",
              " '우리 처 사회 기술 도전 대처 인류 배경 맥락 대해 비판 사고 능력 필수',\n",
              " '인문학 전공자 가장 훈련 분야',\n",
              " '일례 음악 예술 문학 심리학 비롯 공감 능력 디자인 장점',\n",
              " '로마제국 흥망 성쇠 계몽 주의 공부 역사학도 기술 인간 요소 유용성 대한 통찰 수',\n",
              " '심리학 전공자 사람 동기 부여 무엇 사용자 게 무엇 인지 공학 분야 일 엔지니어 이해 수',\n",
              " '우리 상상 물건 로 수 음악가 화가 세상',\n",
              " '자녀 미래 직업 택하 질문 때 나 아이 스스로 것 선택 게 최선 답',\n",
              " '과거 우리 부모 우리 공부 강요 학습 억지로 일 로 여기 방식 해선 안',\n",
              " '그 대신 자녀 자신 열정 추구 걸 수 북',\n",
              " '기술 통해 미래 창조 산업혁명 시대 리더 위해 한국 공학자 일 음악가 화가 더',\n",
              " '이제 과학 공학 의학 창의성 디자인 관심',\n",
              " '']"
            ]
          },
          "metadata": {
            "tags": []
          },
          "execution_count": 135
        }
      ]
    },
    {
      "metadata": {
        "id": "8Z8KrKYAf9XZ",
        "colab_type": "code",
        "colab": {}
      },
      "cell_type": "code",
      "source": [
        "vectorizer = TfidfVectorizer()\n",
        "tfidf_vector = vectorizer.fit_transform(tuned_sentences).toarray()"
      ],
      "execution_count": 0,
      "outputs": []
    },
    {
      "metadata": {
        "id": "hbhr2X9qf9Xb",
        "colab_type": "code",
        "outputId": "683a6baa-88e4-497b-c27a-e5f34df0b4f3",
        "colab": {}
      },
      "cell_type": "code",
      "source": [
        "luhn_importance = []\n",
        "\n",
        "for idx in range(len(tfidf_vector)) : \n",
        "    luhn_importance.append(sum(tfidf_vector[idx]) / len([i for i in tfidf_vector[idx] if i != 0]))\n",
        "luhn_importance[:5]"
      ],
      "execution_count": 0,
      "outputs": [
        {
          "output_type": "stream",
          "text": [
            "/home/hskimim/anaconda3/envs/dss_env/lib/python3.6/site-packages/ipykernel_launcher.py:4: RuntimeWarning: invalid value encountered in double_scalars\n",
            "  after removing the cwd from sys.path.\n"
          ],
          "name": "stderr"
        },
        {
          "output_type": "execute_result",
          "data": {
            "text/plain": [
              "[0.2864330566455741,\n",
              " 0.2655826626486411,\n",
              " 0.703848815311294,\n",
              " 0.3138733801351376,\n",
              " 0.24904542659640516]"
            ]
          },
          "metadata": {
            "tags": []
          },
          "execution_count": 115
        }
      ]
    },
    {
      "metadata": {
        "id": "LlrJU4Z3f9Xd",
        "colab_type": "code",
        "outputId": "9ceff0cd-78a9-465c-df34-df8b3886d7fc",
        "colab": {}
      },
      "cell_type": "code",
      "source": [
        "final_df = pd.DataFrame(columns=['sentence','luhn_importance'])\n",
        "final_df['sentence'] = sentences\n",
        "final_df['luhn_importance'] = luhn_importance\n",
        "final_df.sort_values('luhn_importance',ascending=False).head()"
      ],
      "execution_count": 0,
      "outputs": [
        {
          "output_type": "execute_result",
          "data": {
            "text/html": [
              "<div>\n",
              "<style scoped>\n",
              "    .dataframe tbody tr th:only-of-type {\n",
              "        vertical-align: middle;\n",
              "    }\n",
              "\n",
              "    .dataframe tbody tr th {\n",
              "        vertical-align: top;\n",
              "    }\n",
              "\n",
              "    .dataframe thead th {\n",
              "        text-align: right;\n",
              "    }\n",
              "</style>\n",
              "<table border=\"1\" class=\"dataframe\">\n",
              "  <thead>\n",
              "    <tr style=\"text-align: right;\">\n",
              "      <th></th>\n",
              "      <th>sentence</th>\n",
              "      <th>luhn_importance</th>\n",
              "    </tr>\n",
              "  </thead>\n",
              "  <tbody>\n",
              "    <tr>\n",
              "      <th>2</th>\n",
              "      <td>하지만 지금은 모든 것이 달라졌다</td>\n",
              "      <td>0.703849</td>\n",
              "    </tr>\n",
              "    <tr>\n",
              "      <th>18</th>\n",
              "      <td>4차 산업혁명은 '혁신의 규칙'을 바꾸는 일이다</td>\n",
              "      <td>0.498424</td>\n",
              "    </tr>\n",
              "    <tr>\n",
              "      <th>5</th>\n",
              "      <td>그는 2011년 아이패드 2를 공개하면서 \"애플의 DNA는 기술만으로는 충분하지 않다</td>\n",
              "      <td>0.489840</td>\n",
              "    </tr>\n",
              "    <tr>\n",
              "      <th>33</th>\n",
              "      <td>그 대신 자녀가 자신의 열정을 추구하고 배우는 걸 즐길 수 있도록 북돋아야 한다</td>\n",
              "      <td>0.445919</td>\n",
              "    </tr>\n",
              "    <tr>\n",
              "      <th>26</th>\n",
              "      <td>이는 인문학 전공자들이 가장 잘 훈련받은 분야이다</td>\n",
              "      <td>0.444194</td>\n",
              "    </tr>\n",
              "  </tbody>\n",
              "</table>\n",
              "</div>"
            ],
            "text/plain": [
              "                                            sentence  luhn_importance\n",
              "2                                 하지만 지금은 모든 것이 달라졌다         0.703849\n",
              "18                        4차 산업혁명은 '혁신의 규칙'을 바꾸는 일이다         0.498424\n",
              "5    그는 2011년 아이패드 2를 공개하면서 \"애플의 DNA는 기술만으로는 충분하지 않다         0.489840\n",
              "33      그 대신 자녀가 자신의 열정을 추구하고 배우는 걸 즐길 수 있도록 북돋아야 한다         0.445919\n",
              "26                       이는 인문학 전공자들이 가장 잘 훈련받은 분야이다         0.444194"
            ]
          },
          "metadata": {
            "tags": []
          },
          "execution_count": 120
        }
      ]
    }
  ]
}