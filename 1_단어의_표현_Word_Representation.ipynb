{
  "nbformat": 4,
  "nbformat_minor": 0,
  "metadata": {
    "colab": {
      "name": "1_단어의 표현_Word Representation.ipynb",
      "version": "0.3.2",
      "provenance": [],
      "include_colab_link": true
    },
    "kernelspec": {
      "name": "python3",
      "display_name": "Python 3"
    }
  },
  "cells": [
    {
      "cell_type": "markdown",
      "metadata": {
        "id": "view-in-github",
        "colab_type": "text"
      },
      "source": [
        "<a href=\"https://colab.research.google.com/github/fininsight/text-mining-tutorial/blob/master/1_%EB%8B%A8%EC%96%B4%EC%9D%98_%ED%91%9C%ED%98%84_Word_Representation.ipynb\" target=\"_parent\"><img src=\"https://colab.research.google.com/assets/colab-badge.svg\" alt=\"Open In Colab\"/></a>"
      ]
    },
    {
      "metadata": {
        "id": "I_TVhSXBJk2g",
        "colab_type": "text"
      },
      "cell_type": "markdown",
      "source": [
        "# 단어의 표현 (Word Representation)"
      ]
    },
    {
      "metadata": {
        "id": "tvwJYK2WJp3e",
        "colab_type": "text"
      },
      "cell_type": "markdown",
      "source": [
        "## 1 원-핫 인코딩 (One-Hot Encoding)"
      ]
    },
    {
      "metadata": {
        "id": "64_tK53CLEAw",
        "colab_type": "text"
      },
      "cell_type": "markdown",
      "source": [
        "### \"원숭이, 바나나, 사과\" 로 원-핫 인코딩을 한다면"
      ]
    },
    {
      "metadata": {
        "id": "DtPpS_EkFmpg",
        "colab_type": "code",
        "colab": {}
      },
      "cell_type": "code",
      "source": [
        "# 인코딩 대상 단어들을 담은 리스트\n",
        "word_ls = ['원숭이','바나나','사과']"
      ],
      "execution_count": 0,
      "outputs": []
    },
    {
      "metadata": {
        "id": "4TPATy0HFqCi",
        "colab_type": "code",
        "colab": {}
      },
      "cell_type": "code",
      "source": [
        "from collections import defaultdict\n",
        "import numpy as np \n",
        "\n",
        "def one_hot_encode(word_ls):\n",
        "    # 고유 단어와 인덱스를 매칭시켜주는 사전 생성\n",
        "    word2idx_dic = defaultdict(lambda:len(word2idx_dic)) \n",
        "    \n",
        "    # {단어 : 인덱스} 사전 구축\n",
        "    for word in word_ls:\n",
        "        word2idx_dic[word]\n",
        "    \n",
        "    n_unique_words = len(word2idx_dic) # 고유한 단어의 갯수\n",
        "    one_hot_vectors = np.zeros((len(word_ls), n_unique_words)) # 원핫-벡터를 만들기 위해 비어있는 벡터 생성\n",
        "    \n",
        "    for i,word in enumerate(word_ls):\n",
        "        index = word2idx_dic[word] # 해당 단어의 고유 인덱스\n",
        "        one_hot_vectors[i, index] += 1 # 해당 단어의 고유 인덱스에만 1을 더해줌\n",
        "        \n",
        "    return one_hot_vectors"
      ],
      "execution_count": 0,
      "outputs": []
    },
    {
      "metadata": {
        "id": "hCH7j4onKvzt",
        "colab_type": "code",
        "colab": {
          "base_uri": "https://localhost:8080/",
          "height": 71
        },
        "outputId": "4dd2d91c-ce56-4125-cee7-5fdebee5ed25"
      },
      "cell_type": "code",
      "source": [
        "one_hot_vectors = one_hot_encode(word_ls)\n",
        "one_hot_vectors"
      ],
      "execution_count": 4,
      "outputs": [
        {
          "output_type": "execute_result",
          "data": {
            "text/plain": [
              "array([[1., 0., 0.],\n",
              "       [0., 1., 0.],\n",
              "       [0., 0., 1.]])"
            ]
          },
          "metadata": {
            "tags": []
          },
          "execution_count": 4
        }
      ]
    },
    {
      "metadata": {
        "id": "jSozqBtyLKnP",
        "colab_type": "text"
      },
      "cell_type": "markdown",
      "source": [
        "### \"코끼리\"라는 단어가 추가된다면?"
      ]
    },
    {
      "metadata": {
        "id": "SVITUcpOKxLy",
        "colab_type": "code",
        "colab": {}
      },
      "cell_type": "code",
      "source": [
        "word_ls = ['원숭이','바나나','사과','코끼리']"
      ],
      "execution_count": 0,
      "outputs": []
    },
    {
      "metadata": {
        "id": "-GNKR6CDLiy6",
        "colab_type": "code",
        "colab": {
          "base_uri": "https://localhost:8080/",
          "height": 89
        },
        "outputId": "44070abf-a1f8-4e96-a340-913e468411ed"
      },
      "cell_type": "code",
      "source": [
        "one_hot_vectors = one_hot_encode(word_ls)\n",
        "one_hot_vectors"
      ],
      "execution_count": 6,
      "outputs": [
        {
          "output_type": "execute_result",
          "data": {
            "text/plain": [
              "array([[1., 0., 0., 0.],\n",
              "       [0., 1., 0., 0.],\n",
              "       [0., 0., 1., 0.],\n",
              "       [0., 0., 0., 1.]])"
            ]
          },
          "metadata": {
            "tags": []
          },
          "execution_count": 6
        }
      ]
    },
    {
      "metadata": {
        "id": "Gdm32Ea8Lka9",
        "colab_type": "code",
        "colab": {}
      },
      "cell_type": "code",
      "source": [
        ""
      ],
      "execution_count": 0,
      "outputs": []
    }
  ]
}