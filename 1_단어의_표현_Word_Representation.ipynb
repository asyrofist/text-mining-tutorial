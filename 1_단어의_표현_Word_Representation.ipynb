{
  "nbformat": 4,
  "nbformat_minor": 0,
  "metadata": {
    "colab": {
      "name": "1_단어의 표현_Word Representation.ipynb",
      "version": "0.3.2",
      "provenance": [],
      "toc_visible": true,
      "include_colab_link": true
    },
    "kernelspec": {
      "name": "python3",
      "display_name": "Python 3"
    }
  },
  "cells": [
    {
      "cell_type": "markdown",
      "metadata": {
        "id": "view-in-github",
        "colab_type": "text"
      },
      "source": [
        "<a href=\"https://colab.research.google.com/github/fininsight/text-mining-tutorial/blob/master/1_%EB%8B%A8%EC%96%B4%EC%9D%98_%ED%91%9C%ED%98%84_Word_Representation.ipynb\" target=\"_parent\"><img src=\"https://colab.research.google.com/assets/colab-badge.svg\" alt=\"Open In Colab\"/></a>"
      ]
    },
    {
      "metadata": {
        "id": "I_TVhSXBJk2g",
        "colab_type": "text"
      },
      "cell_type": "markdown",
      "source": [
        "# 단어의 표현 (Word Representation)\n",
        "\n",
        "\n",
        "*   기계는 문자를 그대로 인식할 수 없기때문에 숫자로 변환\n",
        "\n"
      ]
    },
    {
      "metadata": {
        "id": "tvwJYK2WJp3e",
        "colab_type": "text"
      },
      "cell_type": "markdown",
      "source": [
        "# 1 원-핫 인코딩 (One-Hot Encoding)\n",
        "* 단어 집합 갯수 만큼 "
      ]
    },
    {
      "metadata": {
        "id": "64_tK53CLEAw",
        "colab_type": "text"
      },
      "cell_type": "markdown",
      "source": [
        "## 1.1 \"원숭이, 바나나, 사과\" 로 원-핫 인코딩을 한다면"
      ]
    },
    {
      "metadata": {
        "id": "DtPpS_EkFmpg",
        "colab_type": "code",
        "colab": {}
      },
      "cell_type": "code",
      "source": [
        "# 인코딩 대상 단어들을 담은 리스트\n",
        "word_ls = ['원숭이','바나나','사과']"
      ],
      "execution_count": 0,
      "outputs": []
    },
    {
      "metadata": {
        "id": "4TPATy0HFqCi",
        "colab_type": "code",
        "colab": {}
      },
      "cell_type": "code",
      "source": [
        "from collections import defaultdict\n",
        "import numpy as np \n",
        "\n",
        "def one_hot_encode(word_ls):\n",
        "    # 고유 단어와 인덱스를 매칭시켜주는 사전 생성\n",
        "    word2idx_dic = defaultdict(lambda:len(word2idx_dic)) \n",
        "    \n",
        "    # {단어 : 인덱스} 사전 구축\n",
        "    for word in word_ls:\n",
        "        word2idx_dic[word]\n",
        "    \n",
        "    n_unique_words = len(word2idx_dic) # 고유한 단어의 갯수\n",
        "    one_hot_vectors = np.zeros((len(word_ls), n_unique_words)) # 원핫-벡터를 만들기 위해 비어있는 벡터 생성\n",
        "    \n",
        "    for i,word in enumerate(word_ls):\n",
        "        index = word2idx_dic[word] # 해당 단어의 고유 인덱스\n",
        "        one_hot_vectors[i, index] += 1 # 해당 단어의 고유 인덱스에만 1을 더해줌\n",
        "        \n",
        "    return one_hot_vectors"
      ],
      "execution_count": 0,
      "outputs": []
    },
    {
      "metadata": {
        "id": "hCH7j4onKvzt",
        "colab_type": "code",
        "outputId": "497f7b5c-beba-4a72-f91d-bb78b4cbc012",
        "colab": {
          "base_uri": "https://localhost:8080/",
          "height": 71
        }
      },
      "cell_type": "code",
      "source": [
        "one_hot_vectors = one_hot_encode(word_ls)\n",
        "one_hot_vectors"
      ],
      "execution_count": 29,
      "outputs": [
        {
          "output_type": "execute_result",
          "data": {
            "text/plain": [
              "array([[1., 0., 0.],\n",
              "       [0., 1., 0.],\n",
              "       [0., 0., 1.]])"
            ]
          },
          "metadata": {
            "tags": []
          },
          "execution_count": 29
        }
      ]
    },
    {
      "metadata": {
        "id": "jSozqBtyLKnP",
        "colab_type": "text"
      },
      "cell_type": "markdown",
      "source": [
        "## 1.2 \"코끼리\"라는 단어가 추가된다면?"
      ]
    },
    {
      "metadata": {
        "id": "SVITUcpOKxLy",
        "colab_type": "code",
        "colab": {}
      },
      "cell_type": "code",
      "source": [
        "word_ls = ['원숭이','바나나','사과','코끼리']"
      ],
      "execution_count": 0,
      "outputs": []
    },
    {
      "metadata": {
        "id": "-GNKR6CDLiy6",
        "colab_type": "code",
        "outputId": "fc792c4b-795b-454b-a636-9f5579b5f9b6",
        "colab": {
          "base_uri": "https://localhost:8080/",
          "height": 89
        }
      },
      "cell_type": "code",
      "source": [
        "one_hot_vectors = one_hot_encode(word_ls)\n",
        "one_hot_vectors"
      ],
      "execution_count": 31,
      "outputs": [
        {
          "output_type": "execute_result",
          "data": {
            "text/plain": [
              "array([[1., 0., 0., 0.],\n",
              "       [0., 1., 0., 0.],\n",
              "       [0., 0., 1., 0.],\n",
              "       [0., 0., 0., 1.]])"
            ]
          },
          "metadata": {
            "tags": []
          },
          "execution_count": 31
        }
      ]
    },
    {
      "metadata": {
        "id": "0zuG3Gj3dLkK",
        "colab_type": "text"
      },
      "cell_type": "markdown",
      "source": [
        "## 1.3 sklearn을 활용한 one-hot encoding"
      ]
    },
    {
      "metadata": {
        "id": "apagu5-2VDkF",
        "colab_type": "text"
      },
      "cell_type": "markdown",
      "source": [
        "\n",
        "함수명 | 설명\n",
        "--|--\n",
        "fit(X[, y])\t| Fit OneHotEncoder to X.\n",
        "fit_transform(X[, y])\t| Fit OneHotEncoder to X, then transform X.\n",
        "inverse_transform(X)\t| Convert the back data to the original representation.\n",
        "transform(X)\t| Transform X using one-hot encoding."
      ]
    },
    {
      "metadata": {
        "id": "b7I0OUJkTVKK",
        "colab_type": "code",
        "colab": {
          "base_uri": "https://localhost:8080/",
          "height": 235
        },
        "outputId": "5c4655d3-53d2-4b80-87a9-454b5047cb09"
      },
      "cell_type": "code",
      "source": [
        "# sklearn을 활용한 one-hot encoding\n",
        "from numpy import array\n",
        "from numpy import argmax\n",
        "from sklearn.preprocessing import LabelEncoder\n",
        "from sklearn.preprocessing import OneHotEncoder\n",
        "\n",
        "# 예제 데이터 배열\n",
        "values = array(word_ls)\n",
        "print(values)\n",
        "\n",
        "# 문자열에 숫자를 붙임\n",
        "label_enc = LabelEncoder()\n",
        "int_enc = label_enc.fit_transform(values)\n",
        "print(int_enc)\n",
        "\n",
        "# binary encode\n",
        "onehot_enc = OneHotEncoder(sparse=False)\n",
        "int_enc = int_enc.reshape(len(int_enc), 1) # n:1 matrix로 변환\n",
        "onehot_enc = onehot_enc.fit_transform(int_enc)\n",
        "print(onehot_enc)\n",
        "\n",
        "# one-hot encoding 의 첫번째 배열을 값을 역으로 산출\n",
        "inverted = label_enc.inverse_transform([argmax(onehot_enc[0, :])])\n",
        "print(inverted)"
      ],
      "execution_count": 32,
      "outputs": [
        {
          "output_type": "stream",
          "text": [
            "['원숭이' '바나나' '사과' '코끼리']\n",
            "[2 0 1 3]\n",
            "[[0. 0. 1. 0.]\n",
            " [1. 0. 0. 0.]\n",
            " [0. 1. 0. 0.]\n",
            " [0. 0. 0. 1.]]\n",
            "['원숭이']\n"
          ],
          "name": "stdout"
        },
        {
          "output_type": "stream",
          "text": [
            "/usr/local/lib/python3.6/dist-packages/sklearn/preprocessing/_encoders.py:371: FutureWarning: The handling of integer data will change in version 0.22. Currently, the categories are determined based on the range [0, max(values)], while in the future they will be determined based on the unique values.\n",
            "If you want the future behaviour and silence this warning, you can specify \"categories='auto'\".\n",
            "In case you used a LabelEncoder before this OneHotEncoder to convert the categories to integers, then you can now use the OneHotEncoder directly.\n",
            "  warnings.warn(msg, FutureWarning)\n"
          ],
          "name": "stderr"
        }
      ]
    },
    {
      "metadata": {
        "id": "Po0GZDQziryi",
        "colab_type": "text"
      },
      "cell_type": "markdown",
      "source": [
        "\n",
        "\n",
        "---\n",
        "\n"
      ]
    },
    {
      "metadata": {
        "id": "BG0cSbZRMUK5",
        "colab_type": "text"
      },
      "cell_type": "markdown",
      "source": [
        "# 2 밀집 벡터 (Dense Vector)"
      ]
    },
    {
      "metadata": {
        "id": "jN24SjnVMaFg",
        "colab_type": "code",
        "colab": {}
      },
      "cell_type": "code",
      "source": [
        "word_embedding_dic = {\n",
        "    '사과' : [1.0, 0.5],\n",
        "    '바나나' : [0.9, 1.2],\n",
        "    '원숭이' : [0.5, 1.5]\n",
        "}"
      ],
      "execution_count": 0,
      "outputs": []
    },
    {
      "metadata": {
        "id": "2P8l6m5aisxt",
        "colab_type": "text"
      },
      "cell_type": "markdown",
      "source": [
        "\n",
        "\n",
        "---\n",
        "\n"
      ]
    },
    {
      "metadata": {
        "id": "K9zOKu3Hd49Q",
        "colab_type": "text"
      },
      "cell_type": "markdown",
      "source": [
        "# 3 유사도 계산"
      ]
    },
    {
      "metadata": {
        "id": "oaHlpji5epCE",
        "colab_type": "text"
      },
      "cell_type": "markdown",
      "source": [
        "## 3.1 유클리디언 거리(Euclidean distance)\n",
        "두 벡터사이의 직선 거리. 피타고라스 정리를 생각하면 이해하기 쉬움"
      ]
    },
    {
      "metadata": {
        "id": "kLqyanO4ggNv",
        "colab_type": "text"
      },
      "cell_type": "markdown",
      "source": [
        "<img src=\"https://upload.wikimedia.org/wikipedia/commons/thumb/5/55/Euclidean_distance_2d.svg/220px-Euclidean_distance_2d.svg.png\"  width=\"200\"/>\n",
        "\n",
        "<img src=\"https://wikimedia.org/api/rest_v1/media/math/render/svg/795b967db2917cdde7c2da2d1ee327eb673276c0\" width=\"350\"/>\n",
        "\n",
        "https://en.wikipedia.org/wiki/Euclidean_distance"
      ]
    },
    {
      "metadata": {
        "id": "MuK3qKuCfQZN",
        "colab_type": "code",
        "colab": {
          "base_uri": "https://localhost:8080/",
          "height": 35
        },
        "outputId": "402ebf3b-d3b8-4921-cea8-7c43e0ee1e65"
      },
      "cell_type": "code",
      "source": [
        "import numpy as np\n",
        "def euclidean_dist(x,y):   \n",
        "    x = np.array(x)\n",
        "    y = np.array(y)\n",
        "    return np.sqrt(np.sum(x-y)**2)\n",
        "  \n",
        "# 사과와 바나나의 코사인 유사도\n",
        "euclidean_dist(word_embedding_dic['사과'], word_embedding_dic['바나나'])"
      ],
      "execution_count": 50,
      "outputs": [
        {
          "output_type": "execute_result",
          "data": {
            "text/plain": [
              "0.6"
            ]
          },
          "metadata": {
            "tags": []
          },
          "execution_count": 50
        }
      ]
    },
    {
      "metadata": {
        "id": "tgDBpcUlewCn",
        "colab_type": "text"
      },
      "cell_type": "markdown",
      "source": [
        "## 3.2 자카드 유사도(Jaccard index)"
      ]
    },
    {
      "metadata": {
        "id": "3GrLhpFGksn3",
        "colab_type": "text"
      },
      "cell_type": "markdown",
      "source": [
        "<img src=\"https://upload.wikimedia.org/wikipedia/commons/thumb/1/1f/Intersection_of_sets_A_and_B.svg/200px-Intersection_of_sets_A_and_B.svg.png\" />\n",
        "\n",
        "<img src=\"https://wikimedia.org/api/rest_v1/media/math/render/svg/eaef5aa86949f49e7dc6b9c8c3dd8b233332c9e7\" />\n",
        "\n",
        "https://en.wikipedia.org/wiki/Jaccard_index"
      ]
    },
    {
      "metadata": {
        "id": "uBhzYo5Slphr",
        "colab_type": "code",
        "colab": {
          "base_uri": "https://localhost:8080/",
          "height": 71
        },
        "outputId": "07efb547-3cff-4099-86cb-61ce798989ff"
      },
      "cell_type": "code",
      "source": [
        "s1 = '대부분 원숭이는 바나나를 좋아합니다.'\n",
        "s2 = '코주부 원숭이는 바나나를 싫어합니다.'\n",
        "\n",
        "# 토큰화를 수행합니다.\n",
        "token_s1 = s1.split()\n",
        "token_s2 = s2.split()\n",
        "\n",
        "union = set(token_s1).union(set(token_s2))\n",
        "print(union)\n",
        "\n",
        "intersection = set(token_s1).intersection(set(token_s2))\n",
        "print(intersection)\n",
        "\n",
        "print(len(intersection)/len(union)) # 2를 6로 나눔."
      ],
      "execution_count": 64,
      "outputs": [
        {
          "output_type": "stream",
          "text": [
            "{'코주부', '대부분', '좋아합니다.', '싫어합니다.', '바나나를', '원숭이는'}\n",
            "{'바나나를', '원숭이는'}\n",
            "0.3333333333333333\n"
          ],
          "name": "stdout"
        }
      ]
    },
    {
      "metadata": {
        "id": "Eq3OT71-Mho1",
        "colab_type": "text"
      },
      "cell_type": "markdown",
      "source": [
        "## 3.3 코사인 유사도(Cosine Similarity) 계산\n",
        "\n",
        "*  두 벡터간의 유사도를 측정하는 방법 중 하나\n",
        "*  두 벡터 사이의 코사인을 측정\n",
        "*  0도 = 1, 90도 = 0, 180도 = -1   ==> 1에 가까울수록 유사도가 높음\n",
        "\n",
        "\n"
      ]
    },
    {
      "metadata": {
        "id": "j0_kplkjool0",
        "colab_type": "text"
      },
      "cell_type": "markdown",
      "source": [
        "<img src=\"https://www.oreilly.com/library/view/statistics-for-machine/9781788295758/assets/2b4a7a82-ad4c-4b2a-b808-e423a334de6f.png\" width=\"300\"/>\n",
        "\n",
        "<img src=\"https://wikimedia.org/api/rest_v1/media/math/render/svg/1d94e5903f7936d3c131e040ef2c51b473dd071d\" width='350'/>\n",
        "\n",
        "https://en.wikipedia.org/wiki/Cosine_similarity"
      ]
    },
    {
      "metadata": {
        "id": "B0KdUJ2sMaOZ",
        "colab_type": "code",
        "colab": {}
      },
      "cell_type": "code",
      "source": [
        "def cosine_similarity(x, y):\n",
        "    # x와 y, 두 벡터의 코사인 유사도를 계산하는 함수\n",
        "    nominator = np.dot(x, y)    # 분자\n",
        "    denominator = np.linalg.norm(x)*np.linalg.norm(y)  # 분모\n",
        "    return nominator/denominator"
      ],
      "execution_count": 0,
      "outputs": []
    },
    {
      "metadata": {
        "id": "EIHKQr1JMnt3",
        "colab_type": "code",
        "outputId": "356bd14e-795e-46a9-dfef-b3b320400ec5",
        "colab": {
          "base_uri": "https://localhost:8080/",
          "height": 53
        }
      },
      "cell_type": "code",
      "source": [
        "# 사과와 바나나의 코사인 유사도\n",
        "print(cosine_similarity(word_embedding_dic['사과'], word_embedding_dic['바나나']))\n",
        "print(euclidean_dist(word_embedding_dic['사과'], word_embedding_dic['바나나']))"
      ],
      "execution_count": 54,
      "outputs": [
        {
          "output_type": "stream",
          "text": [
            "0.8944271909999159\n",
            "0.6\n"
          ],
          "name": "stdout"
        }
      ]
    },
    {
      "metadata": {
        "id": "3AR90MO-Mn25",
        "colab_type": "code",
        "outputId": "cea9ecd5-1042-4e8b-8c13-f74aba63c0e2",
        "colab": {
          "base_uri": "https://localhost:8080/",
          "height": 53
        }
      },
      "cell_type": "code",
      "source": [
        "\n",
        "# 사과와 원숭이의 코사인 유사도\n",
        "print(cosine_similarity(word_embedding_dic['사과'], word_embedding_dic['원숭이']))\n",
        "print(euclidean_dist(word_embedding_dic['사과'], word_embedding_dic['원숭이']))"
      ],
      "execution_count": 57,
      "outputs": [
        {
          "output_type": "stream",
          "text": [
            "0.7071067811865475\n",
            "0.5\n"
          ],
          "name": "stdout"
        }
      ]
    },
    {
      "metadata": {
        "id": "1MSy0DYTMoDy",
        "colab_type": "code",
        "outputId": "43e717e6-5347-4fe2-f388-8cc2a7d4ced6",
        "colab": {
          "base_uri": "https://localhost:8080/",
          "height": 53
        }
      },
      "cell_type": "code",
      "source": [
        "# 바나나와 원숭이의 코사인 유사도\n",
        "print(cosine_similarity(word_embedding_dic['바나나'], word_embedding_dic['원숭이']))\n",
        "print(euclidean_dist(word_embedding_dic['바나나'], word_embedding_dic['원숭이']))"
      ],
      "execution_count": 58,
      "outputs": [
        {
          "output_type": "stream",
          "text": [
            "0.9486832980505138\n",
            "0.09999999999999998\n"
          ],
          "name": "stdout"
        }
      ]
    },
    {
      "metadata": {
        "id": "fUQAqKS4it74",
        "colab_type": "text"
      },
      "cell_type": "markdown",
      "source": [
        "\n",
        "\n",
        "---\n",
        "\n"
      ]
    },
    {
      "metadata": {
        "id": "XkP27WGfMLuf",
        "colab_type": "text"
      },
      "cell_type": "markdown",
      "source": [
        "# 4 단어 임베딩 (Word Embedding)"
      ]
    },
    {
      "metadata": {
        "id": "tb3sj-bdOl9e",
        "colab_type": "text"
      },
      "cell_type": "markdown",
      "source": [
        "## 4.1 구글드라이브 내 파일 읽어오기"
      ]
    },
    {
      "metadata": {
        "id": "Qj8NIvyFMRNr",
        "colab_type": "code",
        "colab": {
          "base_uri": "https://localhost:8080/",
          "height": 53
        },
        "outputId": "a358dbf2-ebe8-4f20-d4c7-6bd62dacc492"
      },
      "cell_type": "code",
      "source": [
        "# 구글 드라이브에서 csv 파일을 읽어오기 위해 gauth 인증을 합니다.\n",
        "!pip install -U -q PyDrive\n",
        "from pydrive.auth import GoogleAuth\n",
        "from pydrive.drive import GoogleDrive\n",
        "from google.colab import auth\n",
        "from oauth2client.client import GoogleCredentials\n",
        "# Authenticate and create the PyDrive client.\n",
        "auth.authenticate_user()\n",
        "gauth = GoogleAuth()\n",
        "gauth.credentials = GoogleCredentials.get_application_default()\n",
        "drive = GoogleDrive(gauth)"
      ],
      "execution_count": 68,
      "outputs": [
        {
          "output_type": "stream",
          "text": [
            "\u001b[?25l\r\u001b[K    1% |▎                               | 10kB 16.7MB/s eta 0:00:01\r\u001b[K    2% |▋                               | 20kB 3.5MB/s eta 0:00:01\r\u001b[K    3% |█                               | 30kB 5.0MB/s eta 0:00:01\r\u001b[K    4% |█▎                              | 40kB 3.1MB/s eta 0:00:01\r\u001b[K    5% |█▋                              | 51kB 3.8MB/s eta 0:00:01\r\u001b[K    6% |██                              | 61kB 4.5MB/s eta 0:00:01\r\u001b[K    7% |██▎                             | 71kB 5.2MB/s eta 0:00:01\r\u001b[K    8% |██▋                             | 81kB 5.8MB/s eta 0:00:01\r\u001b[K    9% |███                             | 92kB 6.5MB/s eta 0:00:01\r\u001b[K    10% |███▎                            | 102kB 5.1MB/s eta 0:00:01\r\u001b[K    11% |███▋                            | 112kB 5.2MB/s eta 0:00:01\r\u001b[K    12% |████                            | 122kB 6.9MB/s eta 0:00:01\r\u001b[K    13% |████▎                           | 133kB 6.9MB/s eta 0:00:01\r\u001b[K    14% |████▋                           | 143kB 12.6MB/s eta 0:00:01\r\u001b[K    15% |█████                           | 153kB 12.9MB/s eta 0:00:01\r\u001b[K    16% |█████▎                          | 163kB 12.9MB/s eta 0:00:01\r\u001b[K    17% |█████▋                          | 174kB 13.0MB/s eta 0:00:01\r\u001b[K    18% |██████                          | 184kB 13.2MB/s eta 0:00:01\r\u001b[K    19% |██████▎                         | 194kB 13.2MB/s eta 0:00:01\r\u001b[K    20% |██████▋                         | 204kB 40.7MB/s eta 0:00:01\r\u001b[K    21% |███████                         | 215kB 15.1MB/s eta 0:00:01\r\u001b[K    22% |███████▎                        | 225kB 15.2MB/s eta 0:00:01\r\u001b[K    23% |███████▋                        | 235kB 15.5MB/s eta 0:00:01\r\u001b[K    24% |████████                        | 245kB 15.3MB/s eta 0:00:01\r\u001b[K    25% |████████▎                       | 256kB 15.3MB/s eta 0:00:01\r\u001b[K    26% |████████▋                       | 266kB 14.7MB/s eta 0:00:01\r\u001b[K    27% |█████████                       | 276kB 14.9MB/s eta 0:00:01\r\u001b[K    29% |█████████▎                      | 286kB 14.9MB/s eta 0:00:01\r\u001b[K    30% |█████████▋                      | 296kB 14.8MB/s eta 0:00:01\r\u001b[K    31% |██████████                      | 307kB 15.5MB/s eta 0:00:01\r\u001b[K    32% |██████████▎                     | 317kB 47.6MB/s eta 0:00:01\r\u001b[K    33% |██████████▋                     | 327kB 48.0MB/s eta 0:00:01\r\u001b[K    34% |███████████                     | 337kB 49.3MB/s eta 0:00:01\r\u001b[K    35% |███████████▎                    | 348kB 47.5MB/s eta 0:00:01\r\u001b[K    36% |███████████▋                    | 358kB 47.4MB/s eta 0:00:01\r\u001b[K    37% |████████████                    | 368kB 55.4MB/s eta 0:00:01\r\u001b[K    38% |████████████▎                   | 378kB 55.5MB/s eta 0:00:01\r\u001b[K    39% |████████████▋                   | 389kB 55.6MB/s eta 0:00:01\r\u001b[K    40% |█████████████                   | 399kB 19.2MB/s eta 0:00:01\r\u001b[K    41% |█████████████▎                  | 409kB 18.9MB/s eta 0:00:01\r\u001b[K    42% |█████████████▋                  | 419kB 18.9MB/s eta 0:00:01\r\u001b[K    43% |██████████████                  | 430kB 18.8MB/s eta 0:00:01\r\u001b[K    44% |██████████████▎                 | 440kB 18.7MB/s eta 0:00:01\r\u001b[K    45% |██████████████▋                 | 450kB 18.8MB/s eta 0:00:01\r\u001b[K    46% |███████████████                 | 460kB 18.7MB/s eta 0:00:01\r\u001b[K    47% |███████████████▎                | 471kB 18.7MB/s eta 0:00:01\r\u001b[K    48% |███████████████▋                | 481kB 18.8MB/s eta 0:00:01\r\u001b[K    49% |████████████████                | 491kB 18.8MB/s eta 0:00:01\r\u001b[K    50% |████████████████▎               | 501kB 52.9MB/s eta 0:00:01\r\u001b[K    51% |████████████████▋               | 512kB 50.6MB/s eta 0:00:01\r\u001b[K    52% |█████████████████               | 522kB 50.6MB/s eta 0:00:01\r\u001b[K    53% |█████████████████▎              | 532kB 52.1MB/s eta 0:00:01\r\u001b[K    54% |█████████████████▋              | 542kB 15.4MB/s eta 0:00:01\r\u001b[K    55% |██████████████████              | 552kB 15.4MB/s eta 0:00:01\r\u001b[K    57% |██████████████████▎             | 563kB 15.4MB/s eta 0:00:01\r\u001b[K    58% |██████████████████▋             | 573kB 15.3MB/s eta 0:00:01\r\u001b[K    59% |███████████████████             | 583kB 15.2MB/s eta 0:00:01\r\u001b[K    60% |███████████████████▎            | 593kB 15.2MB/s eta 0:00:01\r\u001b[K    61% |███████████████████▋            | 604kB 15.2MB/s eta 0:00:01\r\u001b[K    62% |████████████████████            | 614kB 15.6MB/s eta 0:00:01\r\u001b[K    63% |████████████████████▎           | 624kB 15.6MB/s eta 0:00:01\r\u001b[K    64% |████████████████████▋           | 634kB 15.6MB/s eta 0:00:01\r\u001b[K    65% |█████████████████████           | 645kB 55.1MB/s eta 0:00:01\r\u001b[K    66% |█████████████████████▎          | 655kB 61.2MB/s eta 0:00:01\r\u001b[K    67% |█████████████████████▋          | 665kB 47.1MB/s eta 0:00:01\r\u001b[K    68% |██████████████████████          | 675kB 47.3MB/s eta 0:00:01\r\u001b[K    69% |██████████████████████▎         | 686kB 48.1MB/s eta 0:00:01\r\u001b[K    70% |██████████████████████▋         | 696kB 48.5MB/s eta 0:00:01\r\u001b[K    71% |███████████████████████         | 706kB 48.2MB/s eta 0:00:01\r\u001b[K    72% |███████████████████████▎        | 716kB 49.0MB/s eta 0:00:01\r\u001b[K    73% |███████████████████████▋        | 727kB 49.0MB/s eta 0:00:01\r\u001b[K    74% |████████████████████████        | 737kB 48.5MB/s eta 0:00:01\r\u001b[K    75% |████████████████████████▎       | 747kB 49.0MB/s eta 0:00:01\r\u001b[K    76% |████████████████████████▋       | 757kB 49.0MB/s eta 0:00:01\r\u001b[K    77% |████████████████████████▉       | 768kB 66.7MB/s eta 0:00:01\r\u001b[K    78% |█████████████████████████▏      | 778kB 67.3MB/s eta 0:00:01\r\u001b[K    79% |█████████████████████████▌      | 788kB 66.4MB/s eta 0:00:01\r\u001b[K    80% |█████████████████████████▉      | 798kB 65.8MB/s eta 0:00:01\r\u001b[K    81% |██████████████████████████▏     | 808kB 65.5MB/s eta 0:00:01\r\u001b[K    82% |██████████████████████████▌     | 819kB 64.6MB/s eta 0:00:01\r\u001b[K    83% |██████████████████████████▉     | 829kB 65.5MB/s eta 0:00:01\r\u001b[K    85% |███████████████████████████▏    | 839kB 66.5MB/s eta 0:00:01\r\u001b[K    86% |███████████████████████████▌    | 849kB 67.2MB/s eta 0:00:01\r\u001b[K    87% |███████████████████████████▉    | 860kB 56.9MB/s eta 0:00:01\r\u001b[K    88% |████████████████████████████▏   | 870kB 55.8MB/s eta 0:00:01\r\u001b[K    89% |████████████████████████████▌   | 880kB 56.9MB/s eta 0:00:01\r\u001b[K    90% |████████████████████████████▉   | 890kB 57.2MB/s eta 0:00:01\r\u001b[K    91% |█████████████████████████████▏  | 901kB 57.3MB/s eta 0:00:01\r\u001b[K    92% |█████████████████████████████▌  | 911kB 57.8MB/s eta 0:00:01\r\u001b[K    93% |█████████████████████████████▉  | 921kB 57.7MB/s eta 0:00:01\r\u001b[K    94% |██████████████████████████████▏ | 931kB 57.6MB/s eta 0:00:01\r\u001b[K    95% |██████████████████████████████▌ | 942kB 58.0MB/s eta 0:00:01\r\u001b[K    96% |██████████████████████████████▉ | 952kB 57.5MB/s eta 0:00:01\r\u001b[K    97% |███████████████████████████████▏| 962kB 68.3MB/s eta 0:00:01\r\u001b[K    98% |███████████████████████████████▌| 972kB 69.3MB/s eta 0:00:01\r\u001b[K    99% |███████████████████████████████▉| 983kB 67.8MB/s eta 0:00:01\r\u001b[K    100% |████████████████████████████████| 993kB 20.7MB/s \n",
            "\u001b[?25h  Building wheel for PyDrive (setup.py) ... \u001b[?25ldone\n",
            "\u001b[?25h"
          ],
          "name": "stdout"
        }
      ]
    },
    {
      "metadata": {
        "id": "Iqwd7sTVO0I9",
        "colab_type": "code",
        "outputId": "2e21360e-ce65-4534-c73d-dca3ad226dcc",
        "colab": {
          "base_uri": "https://localhost:8080/",
          "height": 53
        }
      },
      "cell_type": "code",
      "source": [
        "url_it ='https://drive.google.com/open?id=1Yj9sJ-E_ZiOmEcHpsHI7-iIvs08HEVNN'\n",
        "id_it = url_it.split('=')[1]\n",
        "print(id_it)\n",
        "\n",
        "url_culture ='https://drive.google.com/open?id=1eG0Tdh3b27Su5Zt45LXdBS3sHe2kDb7x'\n",
        "id_culture = url_culture.split('=')[1]\n",
        "print(id_culture)"
      ],
      "execution_count": 69,
      "outputs": [
        {
          "output_type": "stream",
          "text": [
            "1Yj9sJ-E_ZiOmEcHpsHI7-iIvs08HEVNN\n",
            "1eG0Tdh3b27Su5Zt45LXdBS3sHe2kDb7x\n"
          ],
          "name": "stdout"
        }
      ]
    },
    {
      "metadata": {
        "id": "dfO2JFdyPZuN",
        "colab_type": "code",
        "outputId": "7ba1926e-1360-4316-ac56-8e8873f217c9",
        "colab": {
          "base_uri": "https://localhost:8080/",
          "height": 35
        }
      },
      "cell_type": "code",
      "source": [
        "%ls"
      ],
      "execution_count": 70,
      "outputs": [
        {
          "output_type": "stream",
          "text": [
            "adc.json  \u001b[0m\u001b[01;34msample_data\u001b[0m/\n"
          ],
          "name": "stdout"
        }
      ]
    },
    {
      "metadata": {
        "id": "DSHfjbKaPGZk",
        "colab_type": "code",
        "colab": {}
      },
      "cell_type": "code",
      "source": [
        "# 크롤링해 온 국민청원 데이터를 판다스를 통해 읽어온다.\n",
        "downloaded = drive.CreateFile({'id':id_it}) \n",
        "downloaded.GetContentFile('2_word_embedding_it.csv')  \n",
        "\n",
        "# 크롤링해 온 국민청원 데이터를 판다스를 통해 읽어온다.\n",
        "downloaded = drive.CreateFile({'id':id_culture}) \n",
        "downloaded.GetContentFile('2_word_embedding_culture.csv')  "
      ],
      "execution_count": 0,
      "outputs": []
    },
    {
      "metadata": {
        "id": "EnR-gpSTPkYy",
        "colab_type": "code",
        "outputId": "a95cde3f-96ad-44ae-d85e-9482cbad1d4f",
        "colab": {
          "base_uri": "https://localhost:8080/",
          "height": 35
        }
      },
      "cell_type": "code",
      "source": [
        "%ls"
      ],
      "execution_count": 72,
      "outputs": [
        {
          "output_type": "stream",
          "text": [
            "2_word_embedding_culture.csv  2_word_embedding_it.csv  adc.json  \u001b[0m\u001b[01;34msample_data\u001b[0m/\n"
          ],
          "name": "stdout"
        }
      ]
    },
    {
      "metadata": {
        "id": "wVj6AxV3PqAc",
        "colab_type": "code",
        "colab": {}
      },
      "cell_type": "code",
      "source": [
        "import pandas as pd\n",
        "it_df = pd.read_csv('2_word_embedding_it.csv').dropna()\n",
        "culture_df = pd.read_csv('2_word_embedding_culture.csv').dropna()"
      ],
      "execution_count": 0,
      "outputs": []
    },
    {
      "metadata": {
        "id": "Da4NhLFtSeLZ",
        "colab_type": "text"
      },
      "cell_type": "markdown",
      "source": [
        "## 4.2 Word2Vec"
      ]
    },
    {
      "metadata": {
        "id": "qzIJUXX1sPwt",
        "colab_type": "text"
      },
      "cell_type": "markdown",
      "source": [
        "<img src=\"https://www.tensorflow.org/images/linear-relationships.png\" />\n",
        "\n",
        "https://en.wikipedia.org/wiki/Word2vec"
      ]
    },
    {
      "metadata": {
        "id": "mz0_Q2cGRPMf",
        "colab_type": "code",
        "colab": {}
      },
      "cell_type": "code",
      "source": [
        "it_token_ls = list(it_df.loc[:,'1'])\n",
        "culture_token_ls = list(culture_df.loc[:,'1'])\n",
        "total_token_ls = it_token_ls + culture_token_ls"
      ],
      "execution_count": 0,
      "outputs": []
    },
    {
      "metadata": {
        "id": "p2BLibWsP2-K",
        "colab_type": "code",
        "outputId": "79d4d640-471b-4395-d69f-3ea956325283",
        "colab": {
          "base_uri": "https://localhost:8080/",
          "height": 55
        }
      },
      "cell_type": "code",
      "source": [
        "total_token_ls[0]"
      ],
      "execution_count": 3,
      "outputs": [
        {
          "output_type": "execute_result",
          "data": {
            "text/plain": [
              "'배,정회,신임,과학기술,일자리,진흥,원장,아시아,경제,이민,우,배,정회,전,국립,중앙,과학,관,전시,연구,단장,과학기술,일자리,진흥,제,원장,취임,과학기술,정보,통신,같은,인사,발표,임기,날,동안,배,신임,원장,행정,고등고시,공직,입문,교육,과학기술,부,융합,기술,과장,중앙대,경영,경제,초빙교수,과기,정통부,연구,성과,활용,정책,과장,연구,성과,혁신,기획,과장,과학기술,정책,수립,정부,연구개발,연구,기술,이전,사업,두루,경험,보유,평가,배,신임,원장,날,환담,회,새로운,임무,조직,신속히,성하고,직원,역량,강화하겠다,며,실험실,유망,기술,전,문,기업,연결하며,기술,이전,효과,지원,신,기술,창업,통한,미래,일자리,많이,창,고,이민,우,네이버,홈,아시아,경제,뉴스,확인,재미,신기,과학,꿀,잼,인,기,만화,경제,눈,세계,창,아시아,경제,전,재'"
            ]
          },
          "metadata": {
            "tags": []
          },
          "execution_count": 3
        }
      ]
    },
    {
      "metadata": {
        "id": "O_-SQ_HtSViD",
        "colab_type": "code",
        "colab": {}
      },
      "cell_type": "code",
      "source": [
        "total_token_ls = [tokens.split(',') for tokens in total_token_ls]"
      ],
      "execution_count": 0,
      "outputs": []
    },
    {
      "metadata": {
        "id": "3pxHfshKSVq1",
        "colab_type": "code",
        "outputId": "5e960b04-3049-43e6-e1db-dcb4d7263752",
        "colab": {
          "base_uri": "https://localhost:8080/",
          "height": 35
        }
      },
      "cell_type": "code",
      "source": [
        "total_token_ls[0][:10]"
      ],
      "execution_count": 5,
      "outputs": [
        {
          "output_type": "execute_result",
          "data": {
            "text/plain": [
              "['배', '정회', '신임', '과학기술', '일자리', '진흥', '원장', '아시아', '경제', '이민']"
            ]
          },
          "metadata": {
            "tags": []
          },
          "execution_count": 5
        }
      ]
    },
    {
      "metadata": {
        "id": "hyfZAvB6SVyE",
        "colab_type": "code",
        "outputId": "e3c33e1b-78c9-4705-a140-913afb7b5460",
        "colab": {
          "base_uri": "https://localhost:8080/",
          "height": 199
        }
      },
      "cell_type": "code",
      "source": [
        "!pip install paramiko\n",
        "from gensim.models import Word2Vec"
      ],
      "execution_count": 6,
      "outputs": [
        {
          "output_type": "stream",
          "text": [
            "Requirement already satisfied: paramiko in /usr/local/lib/python3.6/dist-packages (2.4.2)\n",
            "Requirement already satisfied: bcrypt>=3.1.3 in /usr/local/lib/python3.6/dist-packages (from paramiko) (3.1.6)\n",
            "Requirement already satisfied: pyasn1>=0.1.7 in /usr/local/lib/python3.6/dist-packages (from paramiko) (0.4.5)\n",
            "Requirement already satisfied: pynacl>=1.0.1 in /usr/local/lib/python3.6/dist-packages (from paramiko) (1.3.0)\n",
            "Requirement already satisfied: cryptography>=1.5 in /usr/local/lib/python3.6/dist-packages (from paramiko) (2.6.1)\n",
            "Requirement already satisfied: cffi>=1.1 in /usr/local/lib/python3.6/dist-packages (from bcrypt>=3.1.3->paramiko) (1.12.3)\n",
            "Requirement already satisfied: six>=1.4.1 in /usr/local/lib/python3.6/dist-packages (from bcrypt>=3.1.3->paramiko) (1.12.0)\n",
            "Requirement already satisfied: asn1crypto>=0.21.0 in /usr/local/lib/python3.6/dist-packages (from cryptography>=1.5->paramiko) (0.24.0)\n",
            "Requirement already satisfied: pycparser in /usr/local/lib/python3.6/dist-packages (from cffi>=1.1->bcrypt>=3.1.3->paramiko) (2.19)\n"
          ],
          "name": "stdout"
        }
      ]
    },
    {
      "metadata": {
        "id": "iyGN3IpqSuMY",
        "colab_type": "code",
        "colab": {}
      },
      "cell_type": "code",
      "source": [
        "word2vec = Word2Vec(\n",
        "    sentences = total_token_ls,  # 학습시킬 문장\n",
        "    size = 30,                  # 임베딩된 단어 벡터의 차원 크기\n",
        "    alpha = 0.025,               # 학습률(Learning rate)\n",
        "    min_count=2,                 # 1번 미만 등장한 단어는 제외\n",
        "    window = 8,                  # 문맥의 크기 (window_size)\n",
        "    sample = 0.001,              # sub-sampling\n",
        "    sg = 1,                      # 0: CBOW, 1: Skip-gram\n",
        "    iter = 10,                    # 전체 문장 반복학습 횟수(epoch)\n",
        "    )"
      ],
      "execution_count": 0,
      "outputs": []
    },
    {
      "metadata": {
        "id": "eAOzEl5CSx4l",
        "colab_type": "code",
        "outputId": "f47d3157-4282-4fda-8567-64daf59e52c3",
        "colab": {
          "base_uri": "https://localhost:8080/",
          "height": 143
        }
      },
      "cell_type": "code",
      "source": [
        "word2vec.wv.__getitem__('문화')"
      ],
      "execution_count": 8,
      "outputs": [
        {
          "output_type": "execute_result",
          "data": {
            "text/plain": [
              "array([-0.38023725,  0.08235244,  0.6087531 , -0.7054662 , -0.5288843 ,\n",
              "        0.57676905,  0.42988518, -0.5838525 , -1.1006514 ,  0.14880407,\n",
              "       -0.41242316,  0.12570927,  0.93079644, -0.9023541 , -0.09681659,\n",
              "        0.87425816,  0.12221109, -0.63660115, -0.5278069 ,  0.8849759 ,\n",
              "       -0.11252485, -0.8479934 , -0.47526526, -0.04466126, -0.10835234,\n",
              "        0.5308488 , -0.19399619,  0.21700986,  1.1068195 ,  0.17998295],\n",
              "      dtype=float32)"
            ]
          },
          "metadata": {
            "tags": []
          },
          "execution_count": 8
        }
      ]
    },
    {
      "metadata": {
        "id": "VKaDi6dxSzmA",
        "colab_type": "code",
        "outputId": "bf988ef1-b640-47df-f2b3-e3bc67ad8b89",
        "colab": {
          "base_uri": "https://localhost:8080/",
          "height": 253
        }
      },
      "cell_type": "code",
      "source": [
        "word2vec.wv.most_similar('인공')"
      ],
      "execution_count": 9,
      "outputs": [
        {
          "output_type": "stream",
          "text": [
            "/usr/local/lib/python3.6/dist-packages/gensim/matutils.py:737: FutureWarning: Conversion of the second argument of issubdtype from `int` to `np.signedinteger` is deprecated. In future, it will be treated as `np.int64 == np.dtype(int).type`.\n",
            "  if np.issubdtype(vec.dtype, np.int):\n"
          ],
          "name": "stderr"
        },
        {
          "output_type": "execute_result",
          "data": {
            "text/plain": [
              "[('지능', 0.9601393938064575),\n",
              " ('학습', 0.8375533819198608),\n",
              " ('유전자', 0.8331709504127502),\n",
              " ('결합', 0.8100515007972717),\n",
              " ('정확성', 0.8024963736534119),\n",
              " ('의료', 0.7967638373374939),\n",
              " ('핀란드', 0.7851952910423279),\n",
              " ('스피커', 0.7851660847663879),\n",
              " ('커뮤니티', 0.7837557792663574),\n",
              " ('프로젝트', 0.7785829901695251)]"
            ]
          },
          "metadata": {
            "tags": []
          },
          "execution_count": 9
        }
      ]
    },
    {
      "metadata": {
        "id": "DVTSk48hS1ln",
        "colab_type": "code",
        "outputId": "16083717-930a-4533-abfe-51a2d54646bb",
        "colab": {
          "base_uri": "https://localhost:8080/",
          "height": 253
        }
      },
      "cell_type": "code",
      "source": [
        "word2vec.wv.most_similar('공연')"
      ],
      "execution_count": 10,
      "outputs": [
        {
          "output_type": "stream",
          "text": [
            "/usr/local/lib/python3.6/dist-packages/gensim/matutils.py:737: FutureWarning: Conversion of the second argument of issubdtype from `int` to `np.signedinteger` is deprecated. In future, it will be treated as `np.int64 == np.dtype(int).type`.\n",
            "  if np.issubdtype(vec.dtype, np.int):\n"
          ],
          "name": "stderr"
        },
        {
          "output_type": "execute_result",
          "data": {
            "text/plain": [
              "[('회관', 0.9273419976234436),\n",
              " ('평양', 0.9197524189949036),\n",
              " ('국악', 0.9182810187339783),\n",
              " ('관현악단', 0.9150010347366333),\n",
              " ('예술', 0.9145097732543945),\n",
              " ('극장', 0.8925732374191284),\n",
              " ('기원', 0.8835269212722778),\n",
              " ('클래식', 0.881685197353363),\n",
              " ('연주', 0.8762198686599731),\n",
              " ('그림', 0.8752867579460144)]"
            ]
          },
          "metadata": {
            "tags": []
          },
          "execution_count": 10
        }
      ]
    },
    {
      "metadata": {
        "id": "bnIzj6_ES2up",
        "colab_type": "code",
        "outputId": "6a2c942c-3120-4256-cb8e-f794f0f39e60",
        "colab": {
          "base_uri": "https://localhost:8080/",
          "height": 1969
        }
      },
      "cell_type": "code",
      "source": [
        "culture_df"
      ],
      "execution_count": 0,
      "outputs": [
        {
          "output_type": "execute_result",
          "data": {
            "text/html": [
              "<div>\n",
              "<style scoped>\n",
              "    .dataframe tbody tr th:only-of-type {\n",
              "        vertical-align: middle;\n",
              "    }\n",
              "\n",
              "    .dataframe tbody tr th {\n",
              "        vertical-align: top;\n",
              "    }\n",
              "\n",
              "    .dataframe thead th {\n",
              "        text-align: right;\n",
              "    }\n",
              "</style>\n",
              "<table border=\"1\" class=\"dataframe\">\n",
              "  <thead>\n",
              "    <tr style=\"text-align: right;\">\n",
              "      <th></th>\n",
              "      <th>Unnamed: 0</th>\n",
              "      <th>0</th>\n",
              "      <th>1</th>\n",
              "    </tr>\n",
              "  </thead>\n",
              "  <tbody>\n",
              "    <tr>\n",
              "      <th>0</th>\n",
              "      <td>0</td>\n",
              "      <td>\"[안성완 인턴기자 asw0727@imaeil.com] 사진=위메프 홈페이지 캡쳐위...</td>\n",
              "      <td>안성,완,인턴,사진,위,메,프,홈페이지,캡쳐,위메프,반값,특,밤,네티즌,관심,위,메...</td>\n",
              "    </tr>\n",
              "    <tr>\n",
              "      <th>1</th>\n",
              "      <td>1</td>\n",
              "      <td>\"울산과 경남, 경북, 강원, 제주 등 5개 시도에서 공공 부문 중심 미세먼지 비상...</td>\n",
              "      <td>울산,경남,경북,강원,제주,개,시도,공공,부문,중심,미세,먼지,비상,감,조치,환경부...</td>\n",
              "    </tr>\n",
              "    <tr>\n",
              "      <th>2</th>\n",
              "      <td>2</td>\n",
              "      <td>\"한국방송통신대학교(총장 류수노/이하 방송대)가 1월19일 ‘제 1회 KNOU 글로...</td>\n",
              "      <td>한국,방송통신,대학교,총장,류,노,이하,방송,제,글로벌,봉사,단,고엽제,피해자,수용...</td>\n",
              "    </tr>\n",
              "    <tr>\n",
              "      <th>3</th>\n",
              "      <td>3</td>\n",
              "      <td>\"배우 박환희. [사진 박환희 인스타그램]      배우 박환희(29)가 섬유근육통...</td>\n",
              "      <td>배우,박,환희,사진,박,환희,인스타,그램,배우,박,환희,섬유,근육통,있다고,박,환희...</td>\n",
              "    </tr>\n",
              "    <tr>\n",
              "      <th>4</th>\n",
              "      <td>4</td>\n",
              "      <td>\"ㆍ두 얼굴의 문명, 그 너머를 위해이탈리아 로마 근교 아피아 가도에는 아직도 수레...</td>\n",
              "      <td>두,얼굴,문명,너머,위해,이탈리아,로마,근교,아피아,가도,아직도,수레바퀴,자국,선명...</td>\n",
              "    </tr>\n",
              "    <tr>\n",
              "      <th>5</th>\n",
              "      <td>5</td>\n",
              "      <td>\"(서울=연합뉴스) 서울 종로구 부암동 서울미술관이 22일 기자간담회를 열고 신관을...</td>\n",
              "      <td>서울,연합,서울,종로구,부암동,서울,미술관,간담,회,신관,공개,신관,지하,층,지상,...</td>\n",
              "    </tr>\n",
              "    <tr>\n",
              "      <th>6</th>\n",
              "      <td>6</td>\n",
              "      <td>\"(서울=연합뉴스) 국립중앙박물관은 22일 손혜원 의원 관련 의혹을 해명하면서 작년...</td>\n",
              "      <td>서울,연합,국립,중앙,박물관,손,혜,원,의원,관련,의혹,해명,작년,구매,현대,금속,...</td>\n",
              "    </tr>\n",
              "    <tr>\n",
              "      <th>7</th>\n",
              "      <td>7</td>\n",
              "      <td>\"동영상 뉴스</td>\n",
              "      <td>동,영상</td>\n",
              "    </tr>\n",
              "    <tr>\n",
              "      <th>8</th>\n",
              "      <td>8</td>\n",
              "      <td>\\t지난 20일 &lt;SBS스페셜&gt;을 통해 소개된 단식모방식단 FMD(Fasting-M...</td>\n",
              "      <td>지난,스페셜,통해,소개,단식,모방,식단,대한,대중,관심,뜨겁습니다,달,제한,식단,섭...</td>\n",
              "    </tr>\n",
              "    <tr>\n",
              "      <th>9</th>\n",
              "      <td>9</td>\n",
              "      <td>\"자료로 짚어본 한글과 여성“국문(한글)이 생긴 후 제일가는 명필”이란 극찬을 받은...</td>\n",
              "      <td>자료,한글,여성,국문,한글,후,제,일가,명필,이란,극찬,서기,씨,여성,조선말,최고,...</td>\n",
              "    </tr>\n",
              "    <tr>\n",
              "      <th>10</th>\n",
              "      <td>10</td>\n",
              "      <td>\"\"작년 6월 손 의원이 '추천'…검토했으나 하지는 않아\"\"나전칠기도 구입 검토했지...</td>\n",
              "      <td>작년,손,의원,추천,검토,나전,칠기,구입,검토,압력,목포,문화재,투어,논란,서울,용...</td>\n",
              "    </tr>\n",
              "    <tr>\n",
              "      <th>11</th>\n",
              "      <td>11</td>\n",
              "      <td>\"동영상 뉴스</td>\n",
              "      <td>동,영상</td>\n",
              "    </tr>\n",
              "    <tr>\n",
              "      <th>12</th>\n",
              "      <td>12</td>\n",
              "      <td>\\t오늘(22일) 소양강에 올겨울 첫 상고대가 피어났습니다.상고대는 서리가 얼어붙는...</td>\n",
              "      <td>오늘,일,소양강,올,겨울,첫,상고대,피어,상고대,서리,거,여서,습한,조건,올,겨울,...</td>\n",
              "    </tr>\n",
              "    <tr>\n",
              "      <th>13</th>\n",
              "      <td>13</td>\n",
              "      <td>\"권용집 홍콩관광청 지사장【서울=뉴시스】신효령 기자 = \"50대가 해외여행 주류로 ...</td>\n",
              "      <td>권용,집,홍,콩,관광,청,지,사장,서울,뉴,시스,신효,령,대가,해외여행,주류,자리매...</td>\n",
              "    </tr>\n",
              "    <tr>\n",
              "      <th>14</th>\n",
              "      <td>14</td>\n",
              "      <td>\"국립무용단 '북의 시나위' 중 '진도북' ⓒ국립극장 【서울=뉴시스】 이재훈 기자 ...</td>\n",
              "      <td>국립,무용단,북,시나위,중,진도,북,국립극장,서울,뉴,시스,이재훈,국립극장,전속,단...</td>\n",
              "    </tr>\n",
              "    <tr>\n",
              "      <th>15</th>\n",
              "      <td>15</td>\n",
              "      <td>\"울산시, 가족 추정 6마리 관측울산 태화강을 찾는 겨울 철새가 꾸준히 늘고 있는 ...</td>\n",
              "      <td>울,산시,가족,추정,마리,관측,울산,태화강,겨울,철새,꾸준히,늘,가운데,멸종위기,종...</td>\n",
              "    </tr>\n",
              "    <tr>\n",
              "      <th>16</th>\n",
              "      <td>16</td>\n",
              "      <td>\"(세종=연합뉴스) SM상선 신임 대표에 박기훈 부사장. 2019.1.22 [SM상...</td>\n",
              "      <td>세종,연합,상선,신임,대표,훈,부사,상선,제공,photoyna.co,연합,채널,구독...</td>\n",
              "    </tr>\n",
              "    <tr>\n",
              "      <th>17</th>\n",
              "      <td>17</td>\n",
              "      <td>\"동영상 뉴스</td>\n",
              "      <td>동,영상</td>\n",
              "    </tr>\n",
              "    <tr>\n",
              "      <th>18</th>\n",
              "      <td>18</td>\n",
              "      <td>\\t아카데미 오늘 후보 발표…'버닝' 본선 갈까[앵커]지난해 최고의 영화를 뽑는 아...</td>\n",
              "      <td>아카데미,오늘,후보,발표,버닝,본선,앵커,지난해,최고,영화,아카데미,시상식,최종,후...</td>\n",
              "    </tr>\n",
              "    <tr>\n",
              "      <th>19</th>\n",
              "      <td>19</td>\n",
              "      <td>\"(세종=연합뉴스) 김동규 기자 = SM상선 신임 대표이사로 박기훈 부사장이 선임됐...</td>\n",
              "      <td>세종,연합,김,동,규,상선,신임,대표이사,훈,부사,선임,상선,주주총회,박,부사,대표...</td>\n",
              "    </tr>\n",
              "    <tr>\n",
              "      <th>20</th>\n",
              "      <td>20</td>\n",
              "      <td>\"[원불교 제공](서울=연합뉴스) 강종훈 기자 = 원불교 은산 김장원 원정사가 지난...</td>\n",
              "      <td>원,불교,제공,서울,연합,강,종,훈,원,불교,은산,김,장원,원정,사가,지난,원불교,...</td>\n",
              "    </tr>\n",
              "    <tr>\n",
              "      <th>21</th>\n",
              "      <td>21</td>\n",
              "      <td>\"낮부터 포근…미세먼지 주의 (CG)[연합뉴스TV 제공](서울=연합뉴스) 정래원 기...</td>\n",
              "      <td>낮,포,근,미,세,먼지,주의,연합,제공,서울,연합,정,원,수요일,평년,기온,도,높아...</td>\n",
              "    </tr>\n",
              "    <tr>\n",
              "      <th>22</th>\n",
              "      <td>22</td>\n",
              "      <td>\"북한과 영국, 벨기에의 합작영화 ‘김동무는 하늘을 난다’의 한 장면. 연합뉴스부산...</td>\n",
              "      <td>북한,영국,벨기에,합작,영화,김,동무,하늘,의,장면,연합,부산,북한,문화,교류,아직...</td>\n",
              "    </tr>\n",
              "    <tr>\n",
              "      <th>23</th>\n",
              "      <td>23</td>\n",
              "      <td>\"개성 만월대 발굴 대상지 모습. 연합뉴스남북 문화교류 분야에서 문화유산 분야의 지...</td>\n",
              "      <td>개성,만월대,발굴,대상,모습,연합,남북,문화,교류,분야,문화유산,분야,지,속성,가장...</td>\n",
              "    </tr>\n",
              "    <tr>\n",
              "      <th>24</th>\n",
              "      <td>24</td>\n",
              "      <td>\"손혜원 의원이 다른 기관에 근무하는 특정 학예직 인사를 국립중앙박물관(국박)에서 ...</td>\n",
              "      <td>손,혜,원,의원,다른,기관,근무,특정,학예,직,인사,국립,중앙,박물관,국,박,일,한...</td>\n",
              "    </tr>\n",
              "    <tr>\n",
              "      <th>25</th>\n",
              "      <td>25</td>\n",
              "      <td>\"행맨(23일 개봉)◆ 영화행맨(23일 개봉)감독: 자니 마틴출연: 알 파치노, 칼...</td>\n",
              "      <td>행,맨,일,개봉,영화,행,맨,일,개봉,감독,마,틴,출연,알,노,칼,어,번,브리타니,...</td>\n",
              "    </tr>\n",
              "    <tr>\n",
              "      <th>26</th>\n",
              "      <td>26</td>\n",
              "      <td>\"동영상 뉴스</td>\n",
              "      <td>동,영상</td>\n",
              "    </tr>\n",
              "    <tr>\n",
              "      <th>27</th>\n",
              "      <td>27</td>\n",
              "      <td>[앵커] 손혜원 의원 관련 의혹의 핵심중 하나는 법률을 고치거나 만들 수 있는 국...</td>\n",
              "      <td>앵커,손,혜,원,의원,관련,의혹,핵심,중,하나,법률,국회의원,지위,손,의원,사적,이...</td>\n",
              "    </tr>\n",
              "    <tr>\n",
              "      <th>28</th>\n",
              "      <td>28</td>\n",
              "      <td>\"[일간스포츠 이승한기자]  강남 ANC지상직학원이  오는 3월부터 시작되는 상반기...</td>\n",
              "      <td>일간,스포츠,이승한,강남,지상,직,학원,시작,상반기,국내,항공사,대졸,공채,대비,공...</td>\n",
              "    </tr>\n",
              "    <tr>\n",
              "      <th>29</th>\n",
              "      <td>29</td>\n",
              "      <td>\"박물관 세가지 의혹에 대해 해명했지만 논란은 여전 \"손혜원 학예사 인사 요구 있었...</td>\n",
              "      <td>박물관,세,가지,의혹,대해,해명,논란,여전,손,혜,원,학예,사,인사,요구,있었다,공...</td>\n",
              "    </tr>\n",
              "    <tr>\n",
              "      <th>...</th>\n",
              "      <td>...</td>\n",
              "      <td>...</td>\n",
              "      <td>...</td>\n",
              "    </tr>\n",
              "    <tr>\n",
              "      <th>77</th>\n",
              "      <td>77</td>\n",
              "      <td>\"ⓒ동작구청서울 동작구(구청장 이창우)가 관내 저소득층 여성청소년의 건강한 성장을 ...</td>\n",
              "      <td>동작,구청,서울,동작구,구,청장,창,우,관내,소득,층,여성,청소년,건강한,성장,지원...</td>\n",
              "    </tr>\n",
              "    <tr>\n",
              "      <th>78</th>\n",
              "      <td>78</td>\n",
              "      <td>\"[일간스포츠 온라인]  성장기 어린이들에게 장 건강은 매우 중요하다. 장 운동이 ...</td>\n",
              "      <td>일간,스포츠,온라인,성장기,어린이,장,건강,매우,중요하다,장,운동,원활하지,못,체내...</td>\n",
              "    </tr>\n",
              "    <tr>\n",
              "      <th>79</th>\n",
              "      <td>79</td>\n",
              "      <td>\"21일 '킹덤' 제작보고회배우 배두나가 21일 서울 삼성동 코엑스인터컨티넨탈호텔에...</td>\n",
              "      <td>일,킹,덤,제작,보고,회,배우,배,서울,삼성동,코,엑스,인터,컨,티,넨,탈,호텔,넷...</td>\n",
              "    </tr>\n",
              "    <tr>\n",
              "      <th>80</th>\n",
              "      <td>80</td>\n",
              "      <td>\"▶매경 뉴스레터 '매콤달콤'을 지금 구독하세요▶뉴스 이상의 무궁무진한 프리미엄 읽...</td>\n",
              "      <td>매,경,레터,매콤,달콤,지금,구독,이상,무궁무진,프리미엄,거리,매일,경제,mk.co...</td>\n",
              "    </tr>\n",
              "    <tr>\n",
              "      <th>81</th>\n",
              "      <td>81</td>\n",
              "      <td>\"강민혁씨 철학책 서평집 '자기배려의 책읽기' 출간[교보문고 홈페이지](서울=연합뉴...</td>\n",
              "      <td>강,민,혁,씨,철학,책,평집,자기,배려,책,간,교보,문고,홈페이지,서울,연합,정아,...</td>\n",
              "    </tr>\n",
              "    <tr>\n",
              "      <th>82</th>\n",
              "      <td>82</td>\n",
              "      <td>\"\"강원 영동 제외 이달 말까지 눈 안 와\"작년 12월~이달 21일, 평균 적설 적...</td>\n",
              "      <td>강원,영동,제외,달,말,눈,안,작년,달,평균,적설,강릉,광주,울산,부산,하루,안,서...</td>\n",
              "    </tr>\n",
              "    <tr>\n",
              "      <th>83</th>\n",
              "      <td>83</td>\n",
              "      <td>\"정신우 셰프가 16일 서울 강남구 한 카페에서 최근 출간한 에세이집 ‘먹으면서 먹...</td>\n",
              "      <td>정신,우,셰프,서울,강남구,카페,최근,간,에세이,집,얘기,때,제일,좋아,대해,설명,...</td>\n",
              "    </tr>\n",
              "    <tr>\n",
              "      <th>84</th>\n",
              "      <td>84</td>\n",
              "      <td>\"첫 작품에 유광수 작가의 '싱글몰트 사나이 1, 2'유광수 작가(서울=연합뉴스) ...</td>\n",
              "      <td>첫,작품,유,광수,작가,싱글,몰트,사나이,유,광수,작가,서울,연합,김,경,한국,대형...</td>\n",
              "    </tr>\n",
              "    <tr>\n",
              "      <th>85</th>\n",
              "      <td>85</td>\n",
              "      <td>\"메디힐 ‘올리브영 헬스&amp;뷰티 어워즈’서 2년 연속 1위 수상 © 뉴스1(서울=뉴스...</td>\n",
              "      <td>힐,올리브,영,헬스,뷰티,어,워,즈,연속,위,수상,서울,정혜,민,마스크,팩,브랜드,...</td>\n",
              "    </tr>\n",
              "    <tr>\n",
              "      <th>86</th>\n",
              "      <td>86</td>\n",
              "      <td>\"━   [더,오래] 전구~욱 손주자랑(35)      눈에 넣어도 아프지 않은 손...</td>\n",
              "      <td>더,오래,전구,욱,손주,자랑,눈,아프지,손주,중앙,일보,더,오래,마,음껏,손주,자랑...</td>\n",
              "    </tr>\n",
              "    <tr>\n",
              "      <th>87</th>\n",
              "      <td>87</td>\n",
              "      <td>\"목포 수산도시 조성사업 정부차원 적극 지원 밝혀\"근대역사문화공원 사업 논란 법대로...</td>\n",
              "      <td>목,포,수산,도시,조성,사업,정부,차원,적극,지원,근,대,역사,문,화공,사업,논란,...</td>\n",
              "    </tr>\n",
              "    <tr>\n",
              "      <th>88</th>\n",
              "      <td>88</td>\n",
              "      <td>\"[조두진 기자 earful@imaeil.com] 다행히도 재주 없어 책 표지고려시...</td>\n",
              "      <td>조,다행히도,재주,없어,책,표지,고려시대,세기,우리나라,시인,빼어난,한시,편,번역,...</td>\n",
              "    </tr>\n",
              "    <tr>\n",
              "      <th>89</th>\n",
              "      <td>89</td>\n",
              "      <td>\"긍정 한국이미지 동남아선 90%, 일본선 20% 해외문화홍보원 국가이미지 조사…외...</td>\n",
              "      <td>긍정,한국,이미지,동남아,선,일본,선,해외,문화,홍보,국가,이미지,조사,외국인,한국...</td>\n",
              "    </tr>\n",
              "    <tr>\n",
              "      <th>90</th>\n",
              "      <td>90</td>\n",
              "      <td>\"광주·강릉 등은 적설량 '0'…가뭄 우려는 없어최근 한반도에 눈이 적은 원인[기상...</td>\n",
              "      <td>광주,강릉,적설량,가뭄,우려,없어,최근,한반도,눈,원인,기상,청,제공,서울,연합,김...</td>\n",
              "    </tr>\n",
              "    <tr>\n",
              "      <th>91</th>\n",
              "      <td>91</td>\n",
              "      <td>\"(서울=연합뉴스) 남편 동생은 도련님 혹은 아가씨로 부르고, 부인 동생은 처남 혹...</td>\n",
              "      <td>서울,연합,남편,동생,도련님,혹은,아가씨,부인,동생,처남,혹은,처제,남성,중심,가족...</td>\n",
              "    </tr>\n",
              "    <tr>\n",
              "      <th>92</th>\n",
              "      <td>92</td>\n",
              "      <td>\"▲ 오산시청 전경. / 사진제공=오산시보건복지부 선정 보육정책 우수 지자체인 오산...</td>\n",
              "      <td>오산시청,전경,사진,제공,오산시,보건,복지,부,선정,보육,정책,우수,지자체,오산시,...</td>\n",
              "    </tr>\n",
              "    <tr>\n",
              "      <th>93</th>\n",
              "      <td>93</td>\n",
              "      <td>\"이낙연 국무총리가 22일 오후 전남 목포시 수산식품지원센터에서 발언하고 있다.20...</td>\n",
              "      <td>낙,연,국무총리,오후,남,목포시,수산,식품,지원,센터,발언,산,목,포,박,영,한산,...</td>\n",
              "    </tr>\n",
              "    <tr>\n",
              "      <th>94</th>\n",
              "      <td>94</td>\n",
              "      <td>\"[머니투데이 함혜강 에디터] 화실과공방 앱 /사진제공=에프피에이주식회사 에프피에이...</td>\n",
              "      <td>머니,투데이,함,혜,강,에디터,화,실과,공,방,앱,사진,제공,에프,피,에이,주식회사...</td>\n",
              "    </tr>\n",
              "    <tr>\n",
              "      <th>95</th>\n",
              "      <td>95</td>\n",
              "      <td>\"(서울=연합뉴스) 강성철 기자 = \"식당에서 왜 고기를 가위로 자르나요?\"    ...</td>\n",
              "      <td>서울,연합,강,성철,식당,왜,고기,가위,한강,고수부지,배달,앱,치,맥,있나요,팝,스...</td>\n",
              "    </tr>\n",
              "    <tr>\n",
              "      <th>96</th>\n",
              "      <td>96</td>\n",
              "      <td>\"(서울=연합뉴스) 설을 전후한 다음달 4~6일 전국 고속도로 통행료가 면제되고 역...</td>\n",
              "      <td>서울,연합,설,전후,다음,달,일,전국,고속도로,통행료,면제,역,귀성,승객,최대,티켓...</td>\n",
              "    </tr>\n",
              "    <tr>\n",
              "      <th>97</th>\n",
              "      <td>97</td>\n",
              "      <td>\"10세기 제작, 전기 불교조각 지방양식 보여줘명문으로 985년 조성 확실…고려 전...</td>\n",
              "      <td>세기,제작,전기,불교,조각,지방,양식,명문,조성,확실,고려,전기,불상,연구,자료,이...</td>\n",
              "    </tr>\n",
              "    <tr>\n",
              "      <th>98</th>\n",
              "      <td>98</td>\n",
              "      <td>\"곡성 죽동농악 주제로 전시회[곡성군 제공]    (곡성=연합뉴스) 박철홍 기자 =...</td>\n",
              "      <td>곡성,죽,동,농악,주제,전시회,곡성군,제공,곡성,연합,박,철,홍,남,곡성군,옥,미술...</td>\n",
              "    </tr>\n",
              "    <tr>\n",
              "      <th>99</th>\n",
              "      <td>99</td>\n",
              "      <td>\"한국문화재재단 진옥섭 이사장(왼쪽)과 국립국악원 임재원 원장[한국문화재재단 제공]...</td>\n",
              "      <td>한국,문화재,재단,진,옥섭,이사장,왼쪽,과,국립,국악원,임,재원,원장,한국,문화재,...</td>\n",
              "    </tr>\n",
              "    <tr>\n",
              "      <th>100</th>\n",
              "      <td>100</td>\n",
              "      <td>\"구세군 설맞이 사랑의 쌀 나눔 활동[구세군 제공]    ▲ 구세군은 설을 맞아 소...</td>\n",
              "      <td>구세군,설,맞이,사랑,쌀,나눔,활동,구세군,제공,구세군,설,소외,이웃,쌀,구호,식량...</td>\n",
              "    </tr>\n",
              "    <tr>\n",
              "      <th>101</th>\n",
              "      <td>101</td>\n",
              "      <td>\"미세먼지를 잡아먹는 해초로 알려진 곰피가 화제다. 청정지역 충남 태안의 앞바다에서...</td>\n",
              "      <td>미세,먼지,해초,진,곰,피,화제,청정,지역,충남,태안,앞바다,채취,한창,곰,반지,르...</td>\n",
              "    </tr>\n",
              "    <tr>\n",
              "      <th>102</th>\n",
              "      <td>102</td>\n",
              "      <td>\"[서울신문]에버랜드 제공에버랜드가 개학·입학·입사 등 새로운 출발을 앞둔 사람들을...</td>\n",
              "      <td>서울,신문,에버랜드,제공,에버랜드,개학,입학,입사,새로운,출발,사람,응원,축제,연,...</td>\n",
              "    </tr>\n",
              "    <tr>\n",
              "      <th>103</th>\n",
              "      <td>103</td>\n",
              "      <td>\"경남수목원 10여 그루 중 한 그루, 풍년화도 피어 봄 재촉납매 개화[경남도산림환...</td>\n",
              "      <td>경남,수목원,여,그루,중,그루,풍년,화도,피어,봄,재촉,개화,경남,산림,환경,연구원...</td>\n",
              "    </tr>\n",
              "    <tr>\n",
              "      <th>104</th>\n",
              "      <td>104</td>\n",
              "      <td>\"(창원=연합뉴스) 경남수목원에 봄을 재촉하는 풍년화가 꽃을 피워 눈길을 끌고 있다...</td>\n",
              "      <td>창,원,연합,경남,수목원,봄,재촉,풍년,화가,꽃,눈길,끌,경남,산림,환경,연구원,제...</td>\n",
              "    </tr>\n",
              "    <tr>\n",
              "      <th>105</th>\n",
              "      <td>105</td>\n",
              "      <td>\"(창원=연합뉴스) 경남수목원에 봄 전령사로 통하는 납매(臘梅)가 꽃을 피워 이른 ...</td>\n",
              "      <td>창,원,연합,경남,수목원,봄,전령,사,통,꽃,봄,소식,전하,경남,산림,환경,연구원,...</td>\n",
              "    </tr>\n",
              "    <tr>\n",
              "      <th>106</th>\n",
              "      <td>106</td>\n",
              "      <td>\"(창원=연합뉴스) 경남수목원에 봄 전령사로 통하는 납매(臘梅)가 꽃을 피워 이른 ...</td>\n",
              "      <td>창,원,연합,경남,수목원,봄,전령,사,통,꽃,봄,소식,전하,경남,산림,환경,연구원,...</td>\n",
              "    </tr>\n",
              "  </tbody>\n",
              "</table>\n",
              "<p>105 rows × 3 columns</p>\n",
              "</div>"
            ],
            "text/plain": [
              "     Unnamed: 0                                                  0  \\\n",
              "0             0  \"[안성완 인턴기자 asw0727@imaeil.com] 사진=위메프 홈페이지 캡쳐위...   \n",
              "1             1  \"울산과 경남, 경북, 강원, 제주 등 5개 시도에서 공공 부문 중심 미세먼지 비상...   \n",
              "2             2  \"한국방송통신대학교(총장 류수노/이하 방송대)가 1월19일 ‘제 1회 KNOU 글로...   \n",
              "3             3  \"배우 박환희. [사진 박환희 인스타그램]      배우 박환희(29)가 섬유근육통...   \n",
              "4             4  \"ㆍ두 얼굴의 문명, 그 너머를 위해이탈리아 로마 근교 아피아 가도에는 아직도 수레...   \n",
              "5             5  \"(서울=연합뉴스) 서울 종로구 부암동 서울미술관이 22일 기자간담회를 열고 신관을...   \n",
              "6             6  \"(서울=연합뉴스) 국립중앙박물관은 22일 손혜원 의원 관련 의혹을 해명하면서 작년...   \n",
              "7             7                                            \"동영상 뉴스   \n",
              "8             8  \\t지난 20일 <SBS스페셜>을 통해 소개된 단식모방식단 FMD(Fasting-M...   \n",
              "9             9  \"자료로 짚어본 한글과 여성“국문(한글)이 생긴 후 제일가는 명필”이란 극찬을 받은...   \n",
              "10           10  \"\"작년 6월 손 의원이 '추천'…검토했으나 하지는 않아\"\"나전칠기도 구입 검토했지...   \n",
              "11           11                                            \"동영상 뉴스   \n",
              "12           12  \\t오늘(22일) 소양강에 올겨울 첫 상고대가 피어났습니다.상고대는 서리가 얼어붙는...   \n",
              "13           13  \"권용집 홍콩관광청 지사장【서울=뉴시스】신효령 기자 = \"50대가 해외여행 주류로 ...   \n",
              "14           14  \"국립무용단 '북의 시나위' 중 '진도북' ⓒ국립극장 【서울=뉴시스】 이재훈 기자 ...   \n",
              "15           15  \"울산시, 가족 추정 6마리 관측울산 태화강을 찾는 겨울 철새가 꾸준히 늘고 있는 ...   \n",
              "16           16  \"(세종=연합뉴스) SM상선 신임 대표에 박기훈 부사장. 2019.1.22 [SM상...   \n",
              "17           17                                            \"동영상 뉴스   \n",
              "18           18  \\t아카데미 오늘 후보 발표…'버닝' 본선 갈까[앵커]지난해 최고의 영화를 뽑는 아...   \n",
              "19           19  \"(세종=연합뉴스) 김동규 기자 = SM상선 신임 대표이사로 박기훈 부사장이 선임됐...   \n",
              "20           20  \"[원불교 제공](서울=연합뉴스) 강종훈 기자 = 원불교 은산 김장원 원정사가 지난...   \n",
              "21           21  \"낮부터 포근…미세먼지 주의 (CG)[연합뉴스TV 제공](서울=연합뉴스) 정래원 기...   \n",
              "22           22  \"북한과 영국, 벨기에의 합작영화 ‘김동무는 하늘을 난다’의 한 장면. 연합뉴스부산...   \n",
              "23           23  \"개성 만월대 발굴 대상지 모습. 연합뉴스남북 문화교류 분야에서 문화유산 분야의 지...   \n",
              "24           24  \"손혜원 의원이 다른 기관에 근무하는 특정 학예직 인사를 국립중앙박물관(국박)에서 ...   \n",
              "25           25  \"행맨(23일 개봉)◆ 영화행맨(23일 개봉)감독: 자니 마틴출연: 알 파치노, 칼...   \n",
              "26           26                                            \"동영상 뉴스   \n",
              "27           27   [앵커] 손혜원 의원 관련 의혹의 핵심중 하나는 법률을 고치거나 만들 수 있는 국...   \n",
              "28           28  \"[일간스포츠 이승한기자]  강남 ANC지상직학원이  오는 3월부터 시작되는 상반기...   \n",
              "29           29  \"박물관 세가지 의혹에 대해 해명했지만 논란은 여전 \"손혜원 학예사 인사 요구 있었...   \n",
              "..          ...                                                ...   \n",
              "77           77  \"ⓒ동작구청서울 동작구(구청장 이창우)가 관내 저소득층 여성청소년의 건강한 성장을 ...   \n",
              "78           78  \"[일간스포츠 온라인]  성장기 어린이들에게 장 건강은 매우 중요하다. 장 운동이 ...   \n",
              "79           79  \"21일 '킹덤' 제작보고회배우 배두나가 21일 서울 삼성동 코엑스인터컨티넨탈호텔에...   \n",
              "80           80  \"▶매경 뉴스레터 '매콤달콤'을 지금 구독하세요▶뉴스 이상의 무궁무진한 프리미엄 읽...   \n",
              "81           81  \"강민혁씨 철학책 서평집 '자기배려의 책읽기' 출간[교보문고 홈페이지](서울=연합뉴...   \n",
              "82           82  \"\"강원 영동 제외 이달 말까지 눈 안 와\"작년 12월~이달 21일, 평균 적설 적...   \n",
              "83           83  \"정신우 셰프가 16일 서울 강남구 한 카페에서 최근 출간한 에세이집 ‘먹으면서 먹...   \n",
              "84           84  \"첫 작품에 유광수 작가의 '싱글몰트 사나이 1, 2'유광수 작가(서울=연합뉴스) ...   \n",
              "85           85  \"메디힐 ‘올리브영 헬스&뷰티 어워즈’서 2년 연속 1위 수상 © 뉴스1(서울=뉴스...   \n",
              "86           86  \"━   [더,오래] 전구~욱 손주자랑(35)      눈에 넣어도 아프지 않은 손...   \n",
              "87           87  \"목포 수산도시 조성사업 정부차원 적극 지원 밝혀\"근대역사문화공원 사업 논란 법대로...   \n",
              "88           88  \"[조두진 기자 earful@imaeil.com] 다행히도 재주 없어 책 표지고려시...   \n",
              "89           89  \"긍정 한국이미지 동남아선 90%, 일본선 20% 해외문화홍보원 국가이미지 조사…외...   \n",
              "90           90  \"광주·강릉 등은 적설량 '0'…가뭄 우려는 없어최근 한반도에 눈이 적은 원인[기상...   \n",
              "91           91  \"(서울=연합뉴스) 남편 동생은 도련님 혹은 아가씨로 부르고, 부인 동생은 처남 혹...   \n",
              "92           92  \"▲ 오산시청 전경. / 사진제공=오산시보건복지부 선정 보육정책 우수 지자체인 오산...   \n",
              "93           93  \"이낙연 국무총리가 22일 오후 전남 목포시 수산식품지원센터에서 발언하고 있다.20...   \n",
              "94           94  \"[머니투데이 함혜강 에디터] 화실과공방 앱 /사진제공=에프피에이주식회사 에프피에이...   \n",
              "95           95  \"(서울=연합뉴스) 강성철 기자 = \"식당에서 왜 고기를 가위로 자르나요?\"    ...   \n",
              "96           96  \"(서울=연합뉴스) 설을 전후한 다음달 4~6일 전국 고속도로 통행료가 면제되고 역...   \n",
              "97           97  \"10세기 제작, 전기 불교조각 지방양식 보여줘명문으로 985년 조성 확실…고려 전...   \n",
              "98           98  \"곡성 죽동농악 주제로 전시회[곡성군 제공]    (곡성=연합뉴스) 박철홍 기자 =...   \n",
              "99           99  \"한국문화재재단 진옥섭 이사장(왼쪽)과 국립국악원 임재원 원장[한국문화재재단 제공]...   \n",
              "100         100  \"구세군 설맞이 사랑의 쌀 나눔 활동[구세군 제공]    ▲ 구세군은 설을 맞아 소...   \n",
              "101         101  \"미세먼지를 잡아먹는 해초로 알려진 곰피가 화제다. 청정지역 충남 태안의 앞바다에서...   \n",
              "102         102  \"[서울신문]에버랜드 제공에버랜드가 개학·입학·입사 등 새로운 출발을 앞둔 사람들을...   \n",
              "103         103  \"경남수목원 10여 그루 중 한 그루, 풍년화도 피어 봄 재촉납매 개화[경남도산림환...   \n",
              "104         104  \"(창원=연합뉴스) 경남수목원에 봄을 재촉하는 풍년화가 꽃을 피워 눈길을 끌고 있다...   \n",
              "105         105  \"(창원=연합뉴스) 경남수목원에 봄 전령사로 통하는 납매(臘梅)가 꽃을 피워 이른 ...   \n",
              "106         106  \"(창원=연합뉴스) 경남수목원에 봄 전령사로 통하는 납매(臘梅)가 꽃을 피워 이른 ...   \n",
              "\n",
              "                                                     1  \n",
              "0    안성,완,인턴,사진,위,메,프,홈페이지,캡쳐,위메프,반값,특,밤,네티즌,관심,위,메...  \n",
              "1    울산,경남,경북,강원,제주,개,시도,공공,부문,중심,미세,먼지,비상,감,조치,환경부...  \n",
              "2    한국,방송통신,대학교,총장,류,노,이하,방송,제,글로벌,봉사,단,고엽제,피해자,수용...  \n",
              "3    배우,박,환희,사진,박,환희,인스타,그램,배우,박,환희,섬유,근육통,있다고,박,환희...  \n",
              "4    두,얼굴,문명,너머,위해,이탈리아,로마,근교,아피아,가도,아직도,수레바퀴,자국,선명...  \n",
              "5    서울,연합,서울,종로구,부암동,서울,미술관,간담,회,신관,공개,신관,지하,층,지상,...  \n",
              "6    서울,연합,국립,중앙,박물관,손,혜,원,의원,관련,의혹,해명,작년,구매,현대,금속,...  \n",
              "7                                                 동,영상  \n",
              "8    지난,스페셜,통해,소개,단식,모방,식단,대한,대중,관심,뜨겁습니다,달,제한,식단,섭...  \n",
              "9    자료,한글,여성,국문,한글,후,제,일가,명필,이란,극찬,서기,씨,여성,조선말,최고,...  \n",
              "10   작년,손,의원,추천,검토,나전,칠기,구입,검토,압력,목포,문화재,투어,논란,서울,용...  \n",
              "11                                                동,영상  \n",
              "12   오늘,일,소양강,올,겨울,첫,상고대,피어,상고대,서리,거,여서,습한,조건,올,겨울,...  \n",
              "13   권용,집,홍,콩,관광,청,지,사장,서울,뉴,시스,신효,령,대가,해외여행,주류,자리매...  \n",
              "14   국립,무용단,북,시나위,중,진도,북,국립극장,서울,뉴,시스,이재훈,국립극장,전속,단...  \n",
              "15   울,산시,가족,추정,마리,관측,울산,태화강,겨울,철새,꾸준히,늘,가운데,멸종위기,종...  \n",
              "16   세종,연합,상선,신임,대표,훈,부사,상선,제공,photoyna.co,연합,채널,구독...  \n",
              "17                                                동,영상  \n",
              "18   아카데미,오늘,후보,발표,버닝,본선,앵커,지난해,최고,영화,아카데미,시상식,최종,후...  \n",
              "19   세종,연합,김,동,규,상선,신임,대표이사,훈,부사,선임,상선,주주총회,박,부사,대표...  \n",
              "20   원,불교,제공,서울,연합,강,종,훈,원,불교,은산,김,장원,원정,사가,지난,원불교,...  \n",
              "21   낮,포,근,미,세,먼지,주의,연합,제공,서울,연합,정,원,수요일,평년,기온,도,높아...  \n",
              "22   북한,영국,벨기에,합작,영화,김,동무,하늘,의,장면,연합,부산,북한,문화,교류,아직...  \n",
              "23   개성,만월대,발굴,대상,모습,연합,남북,문화,교류,분야,문화유산,분야,지,속성,가장...  \n",
              "24   손,혜,원,의원,다른,기관,근무,특정,학예,직,인사,국립,중앙,박물관,국,박,일,한...  \n",
              "25   행,맨,일,개봉,영화,행,맨,일,개봉,감독,마,틴,출연,알,노,칼,어,번,브리타니,...  \n",
              "26                                                동,영상  \n",
              "27   앵커,손,혜,원,의원,관련,의혹,핵심,중,하나,법률,국회의원,지위,손,의원,사적,이...  \n",
              "28   일간,스포츠,이승한,강남,지상,직,학원,시작,상반기,국내,항공사,대졸,공채,대비,공...  \n",
              "29   박물관,세,가지,의혹,대해,해명,논란,여전,손,혜,원,학예,사,인사,요구,있었다,공...  \n",
              "..                                                 ...  \n",
              "77   동작,구청,서울,동작구,구,청장,창,우,관내,소득,층,여성,청소년,건강한,성장,지원...  \n",
              "78   일간,스포츠,온라인,성장기,어린이,장,건강,매우,중요하다,장,운동,원활하지,못,체내...  \n",
              "79   일,킹,덤,제작,보고,회,배우,배,서울,삼성동,코,엑스,인터,컨,티,넨,탈,호텔,넷...  \n",
              "80   매,경,레터,매콤,달콤,지금,구독,이상,무궁무진,프리미엄,거리,매일,경제,mk.co...  \n",
              "81   강,민,혁,씨,철학,책,평집,자기,배려,책,간,교보,문고,홈페이지,서울,연합,정아,...  \n",
              "82   강원,영동,제외,달,말,눈,안,작년,달,평균,적설,강릉,광주,울산,부산,하루,안,서...  \n",
              "83   정신,우,셰프,서울,강남구,카페,최근,간,에세이,집,얘기,때,제일,좋아,대해,설명,...  \n",
              "84   첫,작품,유,광수,작가,싱글,몰트,사나이,유,광수,작가,서울,연합,김,경,한국,대형...  \n",
              "85   힐,올리브,영,헬스,뷰티,어,워,즈,연속,위,수상,서울,정혜,민,마스크,팩,브랜드,...  \n",
              "86   더,오래,전구,욱,손주,자랑,눈,아프지,손주,중앙,일보,더,오래,마,음껏,손주,자랑...  \n",
              "87   목,포,수산,도시,조성,사업,정부,차원,적극,지원,근,대,역사,문,화공,사업,논란,...  \n",
              "88   조,다행히도,재주,없어,책,표지,고려시대,세기,우리나라,시인,빼어난,한시,편,번역,...  \n",
              "89   긍정,한국,이미지,동남아,선,일본,선,해외,문화,홍보,국가,이미지,조사,외국인,한국...  \n",
              "90   광주,강릉,적설량,가뭄,우려,없어,최근,한반도,눈,원인,기상,청,제공,서울,연합,김...  \n",
              "91   서울,연합,남편,동생,도련님,혹은,아가씨,부인,동생,처남,혹은,처제,남성,중심,가족...  \n",
              "92   오산시청,전경,사진,제공,오산시,보건,복지,부,선정,보육,정책,우수,지자체,오산시,...  \n",
              "93   낙,연,국무총리,오후,남,목포시,수산,식품,지원,센터,발언,산,목,포,박,영,한산,...  \n",
              "94   머니,투데이,함,혜,강,에디터,화,실과,공,방,앱,사진,제공,에프,피,에이,주식회사...  \n",
              "95   서울,연합,강,성철,식당,왜,고기,가위,한강,고수부지,배달,앱,치,맥,있나요,팝,스...  \n",
              "96   서울,연합,설,전후,다음,달,일,전국,고속도로,통행료,면제,역,귀성,승객,최대,티켓...  \n",
              "97   세기,제작,전기,불교,조각,지방,양식,명문,조성,확실,고려,전기,불상,연구,자료,이...  \n",
              "98   곡성,죽,동,농악,주제,전시회,곡성군,제공,곡성,연합,박,철,홍,남,곡성군,옥,미술...  \n",
              "99   한국,문화재,재단,진,옥섭,이사장,왼쪽,과,국립,국악원,임,재원,원장,한국,문화재,...  \n",
              "100  구세군,설,맞이,사랑,쌀,나눔,활동,구세군,제공,구세군,설,소외,이웃,쌀,구호,식량...  \n",
              "101  미세,먼지,해초,진,곰,피,화제,청정,지역,충남,태안,앞바다,채취,한창,곰,반지,르...  \n",
              "102  서울,신문,에버랜드,제공,에버랜드,개학,입학,입사,새로운,출발,사람,응원,축제,연,...  \n",
              "103  경남,수목원,여,그루,중,그루,풍년,화도,피어,봄,재촉,개화,경남,산림,환경,연구원...  \n",
              "104  창,원,연합,경남,수목원,봄,재촉,풍년,화가,꽃,눈길,끌,경남,산림,환경,연구원,제...  \n",
              "105  창,원,연합,경남,수목원,봄,전령,사,통,꽃,봄,소식,전하,경남,산림,환경,연구원,...  \n",
              "106  창,원,연합,경남,수목원,봄,전령,사,통,꽃,봄,소식,전하,경남,산림,환경,연구원,...  \n",
              "\n",
              "[105 rows x 3 columns]"
            ]
          },
          "metadata": {
            "tags": []
          },
          "execution_count": 49
        }
      ]
    },
    {
      "metadata": {
        "id": "HdQh4Ts8TG1q",
        "colab_type": "text"
      },
      "cell_type": "markdown",
      "source": [
        "## 4.3 차원축소 활용 시각화"
      ]
    },
    {
      "metadata": {
        "id": "CMlMcvGExXRf",
        "colab_type": "code",
        "colab": {
          "base_uri": "https://localhost:8080/",
          "height": 1153
        },
        "outputId": "975a489e-b24a-43f2-aec1-e73f51db6705"
      },
      "cell_type": "code",
      "source": [
        "similar_words = {search_term: [item[0] for item in word2vec.wv.most_similar([search_term], topn=20)]\n",
        "                  for search_term in ['문화','인공','공연']}\n",
        "similar_words"
      ],
      "execution_count": 28,
      "outputs": [
        {
          "output_type": "stream",
          "text": [
            "/usr/local/lib/python3.6/dist-packages/gensim/matutils.py:737: FutureWarning: Conversion of the second argument of issubdtype from `int` to `np.signedinteger` is deprecated. In future, it will be treated as `np.int64 == np.dtype(int).type`.\n",
            "  if np.issubdtype(vec.dtype, np.int):\n"
          ],
          "name": "stderr"
        },
        {
          "output_type": "execute_result",
          "data": {
            "text/plain": [
              "{'공연': ['회관',\n",
              "  '평양',\n",
              "  '국악',\n",
              "  '관현악단',\n",
              "  '예술',\n",
              "  '극장',\n",
              "  '기원',\n",
              "  '클래식',\n",
              "  '연주',\n",
              "  '그림',\n",
              "  '사물놀이',\n",
              "  '초청',\n",
              "  '남',\n",
              "  '부산',\n",
              "  '단',\n",
              "  '베토벤',\n",
              "  '개최',\n",
              "  '영화인',\n",
              "  '안무',\n",
              "  '올림픽'],\n",
              " '문화': ['체육',\n",
              "  '예술',\n",
              "  '평화',\n",
              "  '우영',\n",
              "  '회관',\n",
              "  '교류',\n",
              "  '대학교',\n",
              "  '남북',\n",
              "  '올림픽',\n",
              "  '금강산',\n",
              "  '북한',\n",
              "  '확산',\n",
              "  '무용',\n",
              "  '특위',\n",
              "  '문화유산',\n",
              "  '꼽았다',\n",
              "  '정규',\n",
              "  '공연',\n",
              "  '홍보',\n",
              "  '남북정상회담'],\n",
              " '인공': ['지능',\n",
              "  '학습',\n",
              "  '유전자',\n",
              "  '결합',\n",
              "  '정확성',\n",
              "  '의료',\n",
              "  '핀란드',\n",
              "  '스피커',\n",
              "  '커뮤니티',\n",
              "  '프로젝트',\n",
              "  '접목',\n",
              "  '높아',\n",
              "  '러닝',\n",
              "  '물론',\n",
              "  '체인',\n",
              "  '기반',\n",
              "  '가상',\n",
              "  '블록',\n",
              "  '지니',\n",
              "  '강우']}"
            ]
          },
          "metadata": {
            "tags": []
          },
          "execution_count": 28
        }
      ]
    },
    {
      "metadata": {
        "id": "TKEe7l3v6pIV",
        "colab_type": "code",
        "colab": {
          "base_uri": "https://localhost:8080/",
          "height": 71
        },
        "outputId": "2aa178ad-7549-4eb6-8fb2-477efd0fbe00"
      },
      "cell_type": "code",
      "source": [
        "# 그래프에 retina display 적용\n",
        "%config InlineBackend.figure_format = 'retina'\n",
        "\n",
        "# 나눔고딕 설치\n",
        "!apt -qq -y install fonts-nanum > /dev/null\n",
        "import matplotlib.font_manager as fm\n",
        "fontpath = '/usr/share/fonts/truetype/nanum/NanumBarunGothic.ttf'\n",
        "font = fm.FontProperties(fname=fontpath, size=9)"
      ],
      "execution_count": 29,
      "outputs": [
        {
          "output_type": "stream",
          "text": [
            "\n",
            "WARNING: apt does not have a stable CLI interface. Use with caution in scripts.\n",
            "\n"
          ],
          "name": "stdout"
        }
      ]
    },
    {
      "metadata": {
        "id": "PKwZSJAc8hYj",
        "colab_type": "code",
        "colab": {}
      },
      "cell_type": "code",
      "source": [
        "# 기본 글꼴 변경\n",
        "import matplotlib as mpl\n",
        "mpl.font_manager._rebuild()\n",
        "mpl.pyplot.rc('font', family='NanumBarunGothic')"
      ],
      "execution_count": 0,
      "outputs": []
    },
    {
      "metadata": {
        "id": "-OyYQhwtvRGj",
        "colab_type": "code",
        "colab": {
          "base_uri": "https://localhost:8080/",
          "height": 506
        },
        "outputId": "6902540d-59e8-4cb9-9f6f-b5b6d6dde814"
      },
      "cell_type": "code",
      "source": [
        "from sklearn.manifold import TSNE\n",
        "import numpy as np\n",
        "\n",
        "words = sum([[k] + v for k, v in similar_words.items()], [])\n",
        "wvs = word2vec.wv[words]\n",
        "\n",
        "tsne = TSNE(n_components=2, random_state=0, n_iter=10000, perplexity=2)\n",
        "np.set_printoptions(suppress=True)\n",
        "T = tsne.fit_transform(wvs)\n",
        "labels = words\n",
        "\n",
        "plt.figure(figsize=(14, 8))\n",
        "plt.scatter(T[:, 0], T[:, 1], c='orange', edgecolors='r')\n",
        "for label, x, y in zip(labels, T[:, 0], T[:, 1]):\n",
        "    plt.annotate(label, xy=(x+1, y+1), xytext=(0, 0), textcoords='offset points')"
      ],
      "execution_count": 31,
      "outputs": [
        {
          "output_type": "display_data",
          "data": {
            "image/png": "[encoded data removed]",
            "text/plain": [
              "<Figure size 1008x576 with 1 Axes>"
            ]
          },
          "metadata": {
            "tags": [],
            "image/png": {
              "width": 832,
              "height": 469
            }
          }
        }
      ]
    },
    {
      "metadata": {
        "id": "nzKaEuaP80zK",
        "colab_type": "code",
        "colab": {}
      },
      "cell_type": "code",
      "source": [
        ""
      ],
      "execution_count": 0,
      "outputs": []
    }
  ]
}