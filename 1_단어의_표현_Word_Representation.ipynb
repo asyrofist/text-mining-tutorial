{
  "nbformat": 4,
  "nbformat_minor": 0,
  "metadata": {
    "colab": {
      "name": "1_단어의 표현_Word Representation.ipynb",
      "version": "0.3.2",
      "provenance": [],
      "include_colab_link": true
    },
    "kernelspec": {
      "name": "python3",
      "display_name": "Python 3"
    }
  },
  "cells": [
    {
      "cell_type": "markdown",
      "metadata": {
        "id": "view-in-github",
        "colab_type": "text"
      },
      "source": [
        "<a href=\"https://colab.research.google.com/github/fininsight/text-mining-tutorial/blob/master/1_%EB%8B%A8%EC%96%B4%EC%9D%98_%ED%91%9C%ED%98%84_Word_Representation.ipynb\" target=\"_parent\"><img src=\"https://colab.research.google.com/assets/colab-badge.svg\" alt=\"Open In Colab\"/></a>"
      ]
    },
    {
      "metadata": {
        "id": "I_TVhSXBJk2g",
        "colab_type": "text"
      },
      "cell_type": "markdown",
      "source": [
        "# 단어의 표현 (Word Representation)"
      ]
    },
    {
      "metadata": {
        "id": "tvwJYK2WJp3e",
        "colab_type": "text"
      },
      "cell_type": "markdown",
      "source": [
        "## 1 원-핫 인코딩 (One-Hot Encoding)"
      ]
    },
    {
      "metadata": {
        "id": "64_tK53CLEAw",
        "colab_type": "text"
      },
      "cell_type": "markdown",
      "source": [
        "### \"원숭이, 바나나, 사과\" 로 원-핫 인코딩을 한다면"
      ]
    },
    {
      "metadata": {
        "id": "DtPpS_EkFmpg",
        "colab_type": "code",
        "colab": {}
      },
      "cell_type": "code",
      "source": [
        "# 인코딩 대상 단어들을 담은 리스트\n",
        "word_ls = ['원숭이','바나나','사과']"
      ],
      "execution_count": 0,
      "outputs": []
    },
    {
      "metadata": {
        "id": "4TPATy0HFqCi",
        "colab_type": "code",
        "colab": {}
      },
      "cell_type": "code",
      "source": [
        "from collections import defaultdict\n",
        "import numpy as np \n",
        "\n",
        "def one_hot_encode(word_ls):\n",
        "    # 고유 단어와 인덱스를 매칭시켜주는 사전 생성\n",
        "    word2idx_dic = defaultdict(lambda:len(word2idx_dic)) \n",
        "    \n",
        "    # {단어 : 인덱스} 사전 구축\n",
        "    for word in word_ls:\n",
        "        word2idx_dic[word]\n",
        "    \n",
        "    n_unique_words = len(word2idx_dic) # 고유한 단어의 갯수\n",
        "    one_hot_vectors = np.zeros((len(word_ls), n_unique_words)) # 원핫-벡터를 만들기 위해 비어있는 벡터 생성\n",
        "    \n",
        "    for i,word in enumerate(word_ls):\n",
        "        index = word2idx_dic[word] # 해당 단어의 고유 인덱스\n",
        "        one_hot_vectors[i, index] += 1 # 해당 단어의 고유 인덱스에만 1을 더해줌\n",
        "        \n",
        "    return one_hot_vectors"
      ],
      "execution_count": 0,
      "outputs": []
    },
    {
      "metadata": {
        "id": "hCH7j4onKvzt",
        "colab_type": "code",
        "outputId": "4dd2d91c-ce56-4125-cee7-5fdebee5ed25",
        "colab": {
          "base_uri": "https://localhost:8080/",
          "height": 71
        }
      },
      "cell_type": "code",
      "source": [
        "one_hot_vectors = one_hot_encode(word_ls)\n",
        "one_hot_vectors"
      ],
      "execution_count": 0,
      "outputs": [
        {
          "output_type": "execute_result",
          "data": {
            "text/plain": [
              "array([[1., 0., 0.],\n",
              "       [0., 1., 0.],\n",
              "       [0., 0., 1.]])"
            ]
          },
          "metadata": {
            "tags": []
          },
          "execution_count": 4
        }
      ]
    },
    {
      "metadata": {
        "id": "jSozqBtyLKnP",
        "colab_type": "text"
      },
      "cell_type": "markdown",
      "source": [
        "### \"코끼리\"라는 단어가 추가된다면?"
      ]
    },
    {
      "metadata": {
        "id": "SVITUcpOKxLy",
        "colab_type": "code",
        "colab": {}
      },
      "cell_type": "code",
      "source": [
        "word_ls = ['원숭이','바나나','사과','코끼리']"
      ],
      "execution_count": 0,
      "outputs": []
    },
    {
      "metadata": {
        "id": "-GNKR6CDLiy6",
        "colab_type": "code",
        "outputId": "44070abf-a1f8-4e96-a340-913e468411ed",
        "colab": {
          "base_uri": "https://localhost:8080/",
          "height": 89
        }
      },
      "cell_type": "code",
      "source": [
        "one_hot_vectors = one_hot_encode(word_ls)\n",
        "one_hot_vectors"
      ],
      "execution_count": 0,
      "outputs": [
        {
          "output_type": "execute_result",
          "data": {
            "text/plain": [
              "array([[1., 0., 0., 0.],\n",
              "       [0., 1., 0., 0.],\n",
              "       [0., 0., 1., 0.],\n",
              "       [0., 0., 0., 1.]])"
            ]
          },
          "metadata": {
            "tags": []
          },
          "execution_count": 6
        }
      ]
    },
    {
      "metadata": {
        "id": "BG0cSbZRMUK5",
        "colab_type": "text"
      },
      "cell_type": "markdown",
      "source": [
        "## 2 밀집 벡터 (Dense Vector)"
      ]
    },
    {
      "metadata": {
        "id": "7Fru_gDAMZ7b",
        "colab_type": "code",
        "colab": {}
      },
      "cell_type": "code",
      "source": [
        "import numpy as np"
      ],
      "execution_count": 0,
      "outputs": []
    },
    {
      "metadata": {
        "id": "jN24SjnVMaFg",
        "colab_type": "code",
        "colab": {}
      },
      "cell_type": "code",
      "source": [
        "word_embedding_dic = {\n",
        "    '사과' : [1.0, 0.5],\n",
        "    '바나나' : [0.9, 1.2],\n",
        "    '원숭이' : [0.5, 1.5]\n",
        "}"
      ],
      "execution_count": 0,
      "outputs": []
    },
    {
      "metadata": {
        "id": "Eq3OT71-Mho1",
        "colab_type": "text"
      },
      "cell_type": "markdown",
      "source": [
        "### 2.1 코사인 유사도(Cosine Similarity) 계산"
      ]
    },
    {
      "metadata": {
        "id": "B0KdUJ2sMaOZ",
        "colab_type": "code",
        "colab": {}
      },
      "cell_type": "code",
      "source": [
        "def cal_cosine_similarity(x, y):\n",
        "    # x와 y, 두 벡터의 코사인 유사도를 계산하는 함수\n",
        "    nominator = np.dot(x, y)    # 분자\n",
        "    denominator = np.linalg.norm(x)*np.linalg.norm(y)  # 분모\n",
        "    return nominator/denominator"
      ],
      "execution_count": 0,
      "outputs": []
    },
    {
      "metadata": {
        "id": "EIHKQr1JMnt3",
        "colab_type": "code",
        "outputId": "76c7527b-2769-4a5c-bb6f-e004e7fe61c3",
        "colab": {
          "base_uri": "https://localhost:8080/",
          "height": 35
        }
      },
      "cell_type": "code",
      "source": [
        "# 사과와 바나나의 코사인 유사도\n",
        "cal_cosine_similarity(word_embedding_dic['사과'], word_embedding_dic['바나나'])"
      ],
      "execution_count": 0,
      "outputs": [
        {
          "output_type": "execute_result",
          "data": {
            "text/plain": [
              "0.8944271909999159"
            ]
          },
          "metadata": {
            "tags": []
          },
          "execution_count": 11
        }
      ]
    },
    {
      "metadata": {
        "id": "3AR90MO-Mn25",
        "colab_type": "code",
        "outputId": "9e0042f1-71e8-4c6e-cac5-52b4dcb846cc",
        "colab": {
          "base_uri": "https://localhost:8080/",
          "height": 35
        }
      },
      "cell_type": "code",
      "source": [
        "\n",
        "# 사과와 원숭이의 코사인 유사도\n",
        "cal_cosine_similarity(word_embedding_dic['사과'], word_embedding_dic['원숭이'])"
      ],
      "execution_count": 0,
      "outputs": [
        {
          "output_type": "execute_result",
          "data": {
            "text/plain": [
              "0.7071067811865475"
            ]
          },
          "metadata": {
            "tags": []
          },
          "execution_count": 12
        }
      ]
    },
    {
      "metadata": {
        "id": "1MSy0DYTMoDy",
        "colab_type": "code",
        "outputId": "3896e3e2-be27-486f-9e92-0d59d21a67f9",
        "colab": {
          "base_uri": "https://localhost:8080/",
          "height": 35
        }
      },
      "cell_type": "code",
      "source": [
        "# 바나나와 원숭이의 코사인 유사도\n",
        "cal_cosine_similarity(word_embedding_dic['바나나'], word_embedding_dic['원숭이'])"
      ],
      "execution_count": 0,
      "outputs": [
        {
          "output_type": "execute_result",
          "data": {
            "text/plain": [
              "0.9486832980505138"
            ]
          },
          "metadata": {
            "tags": []
          },
          "execution_count": 13
        }
      ]
    },
    {
      "metadata": {
        "id": "XkP27WGfMLuf",
        "colab_type": "text"
      },
      "cell_type": "markdown",
      "source": [
        "## 3 단어 임베딩 (Word Embedding)"
      ]
    },
    {
      "metadata": {
        "id": "tb3sj-bdOl9e",
        "colab_type": "text"
      },
      "cell_type": "markdown",
      "source": [
        "### 3.1 구글드라이브 내 파일 읽어오기"
      ]
    },
    {
      "metadata": {
        "id": "Qj8NIvyFMRNr",
        "colab_type": "code",
        "colab": {}
      },
      "cell_type": "code",
      "source": [
        "# 구글 드라이브에서 csv 파일을 읽어오기 위해 gauth 인증을 합니다.\n",
        "!pip install -U -q PyDrive\n",
        "from pydrive.auth import GoogleAuth\n",
        "from pydrive.drive import GoogleDrive\n",
        "from google.colab import auth\n",
        "from oauth2client.client import GoogleCredentials\n",
        "# Authenticate and create the PyDrive client.\n",
        "auth.authenticate_user()\n",
        "gauth = GoogleAuth()\n",
        "gauth.credentials = GoogleCredentials.get_application_default()\n",
        "drive = GoogleDrive(gauth)"
      ],
      "execution_count": 0,
      "outputs": []
    },
    {
      "metadata": {
        "id": "Iqwd7sTVO0I9",
        "colab_type": "code",
        "outputId": "a36f8437-b647-4466-9e4c-39f3dd19d516",
        "colab": {
          "base_uri": "https://localhost:8080/",
          "height": 53
        }
      },
      "cell_type": "code",
      "source": [
        "url_it ='https://drive.google.com/open?id=1Yj9sJ-E_ZiOmEcHpsHI7-iIvs08HEVNN'\n",
        "id_it = url_it.split('=')[1]\n",
        "print(id_it)\n",
        "\n",
        "url_culture ='https://drive.google.com/open?id=1eG0Tdh3b27Su5Zt45LXdBS3sHe2kDb7x'\n",
        "id_culture = url_culture.split('=')[1]\n",
        "print(id_culture)"
      ],
      "execution_count": 0,
      "outputs": [
        {
          "output_type": "stream",
          "text": [
            "1Yj9sJ-E_ZiOmEcHpsHI7-iIvs08HEVNN\n",
            "1eG0Tdh3b27Su5Zt45LXdBS3sHe2kDb7x\n"
          ],
          "name": "stdout"
        }
      ]
    },
    {
      "metadata": {
        "id": "dfO2JFdyPZuN",
        "colab_type": "code",
        "outputId": "ddfebcd7-e32b-413a-ef0b-beba18997dc0",
        "colab": {
          "base_uri": "https://localhost:8080/",
          "height": 35
        }
      },
      "cell_type": "code",
      "source": [
        "%ls"
      ],
      "execution_count": 0,
      "outputs": [
        {
          "output_type": "stream",
          "text": [
            "adc.json  실리콘벨리기사_전처리.csv  \u001b[0m\u001b[01;34msample_data\u001b[0m/\n"
          ],
          "name": "stdout"
        }
      ]
    },
    {
      "metadata": {
        "id": "DSHfjbKaPGZk",
        "colab_type": "code",
        "colab": {}
      },
      "cell_type": "code",
      "source": [
        "# 크롤링해 온 국민청원 데이터를 판다스를 통해 읽어온다.\n",
        "downloaded = drive.CreateFile({'id':id_it}) \n",
        "downloaded.GetContentFile('2_word_embedding_it.csv')  \n",
        "\n",
        "# 크롤링해 온 국민청원 데이터를 판다스를 통해 읽어온다.\n",
        "downloaded = drive.CreateFile({'id':id_culture}) \n",
        "downloaded.GetContentFile('2_word_embedding_culture.csv')  "
      ],
      "execution_count": 0,
      "outputs": []
    },
    {
      "metadata": {
        "id": "EnR-gpSTPkYy",
        "colab_type": "code",
        "outputId": "1d09188a-3594-48c8-d10f-194a1fb1a711",
        "colab": {
          "base_uri": "https://localhost:8080/",
          "height": 53
        }
      },
      "cell_type": "code",
      "source": [
        "%ls"
      ],
      "execution_count": 0,
      "outputs": [
        {
          "output_type": "stream",
          "text": [
            "'2_word embedding_culture.csv'  '2_word embedding_it.csv'   adc.json\n",
            " 2_word_embedding_culture.csv    2_word_embedding_it.csv    \u001b[0m\u001b[01;34msample_data\u001b[0m/\n"
          ],
          "name": "stdout"
        }
      ]
    },
    {
      "metadata": {
        "id": "wVj6AxV3PqAc",
        "colab_type": "code",
        "outputId": "23209db2-0ea4-4108-d90d-a047283ea741",
        "colab": {
          "base_uri": "https://localhost:8080/",
          "height": 894
        }
      },
      "cell_type": "code",
      "source": [
        "import pandas as pd\n",
        "it_df = pd.read_csv('2_word_embedding_it.csv').dropna()\n",
        "culture_df = pd.read_csv('2_word_embedding_culture.csv').dropna()"
      ],
      "execution_count": 0,
      "outputs": [
        {
          "output_type": "error",
          "ename": "ParserError",
          "evalue": "ignored",
          "traceback": [
            "\u001b[0;31m---------------------------------------------------------------------------\u001b[0m",
            "\u001b[0;31mParserError\u001b[0m                               Traceback (most recent call last)",
            "\u001b[0;32m<ipython-input-35-cdabb777023d>\u001b[0m in \u001b[0;36m<module>\u001b[0;34m()\u001b[0m\n\u001b[1;32m      1\u001b[0m \u001b[0;32mimport\u001b[0m \u001b[0mpandas\u001b[0m \u001b[0;32mas\u001b[0m \u001b[0mpd\u001b[0m\u001b[0;34m\u001b[0m\u001b[0;34m\u001b[0m\u001b[0m\n\u001b[0;32m----> 2\u001b[0;31m \u001b[0mit_df\u001b[0m \u001b[0;34m=\u001b[0m \u001b[0mpd\u001b[0m\u001b[0;34m.\u001b[0m\u001b[0mread_csv\u001b[0m\u001b[0;34m(\u001b[0m\u001b[0;34m'2_word_embedding_it.csv'\u001b[0m\u001b[0;34m)\u001b[0m\u001b[0;34m.\u001b[0m\u001b[0mdropna\u001b[0m\u001b[0;34m(\u001b[0m\u001b[0;34m)\u001b[0m\u001b[0;34m\u001b[0m\u001b[0;34m\u001b[0m\u001b[0m\n\u001b[0m",
            "\u001b[0;32m/usr/local/lib/python3.6/dist-packages/pandas/io/parsers.py\u001b[0m in \u001b[0;36mparser_f\u001b[0;34m(filepath_or_buffer, sep, delimiter, header, names, index_col, usecols, squeeze, prefix, mangle_dupe_cols, dtype, engine, converters, true_values, false_values, skipinitialspace, skiprows, nrows, na_values, keep_default_na, na_filter, verbose, skip_blank_lines, parse_dates, infer_datetime_format, keep_date_col, date_parser, dayfirst, iterator, chunksize, compression, thousands, decimal, lineterminator, quotechar, quoting, escapechar, comment, encoding, dialect, tupleize_cols, error_bad_lines, warn_bad_lines, skipfooter, doublequote, delim_whitespace, low_memory, memory_map, float_precision)\u001b[0m\n\u001b[1;32m    676\u001b[0m                     skip_blank_lines=skip_blank_lines)\n\u001b[1;32m    677\u001b[0m \u001b[0;34m\u001b[0m\u001b[0m\n\u001b[0;32m--> 678\u001b[0;31m         \u001b[0;32mreturn\u001b[0m \u001b[0m_read\u001b[0m\u001b[0;34m(\u001b[0m\u001b[0mfilepath_or_buffer\u001b[0m\u001b[0;34m,\u001b[0m \u001b[0mkwds\u001b[0m\u001b[0;34m)\u001b[0m\u001b[0;34m\u001b[0m\u001b[0;34m\u001b[0m\u001b[0m\n\u001b[0m\u001b[1;32m    679\u001b[0m \u001b[0;34m\u001b[0m\u001b[0m\n\u001b[1;32m    680\u001b[0m     \u001b[0mparser_f\u001b[0m\u001b[0;34m.\u001b[0m\u001b[0m__name__\u001b[0m \u001b[0;34m=\u001b[0m \u001b[0mname\u001b[0m\u001b[0;34m\u001b[0m\u001b[0;34m\u001b[0m\u001b[0m\n",
            "\u001b[0;32m/usr/local/lib/python3.6/dist-packages/pandas/io/parsers.py\u001b[0m in \u001b[0;36m_read\u001b[0;34m(filepath_or_buffer, kwds)\u001b[0m\n\u001b[1;32m    444\u001b[0m \u001b[0;34m\u001b[0m\u001b[0m\n\u001b[1;32m    445\u001b[0m     \u001b[0;32mtry\u001b[0m\u001b[0;34m:\u001b[0m\u001b[0;34m\u001b[0m\u001b[0;34m\u001b[0m\u001b[0m\n\u001b[0;32m--> 446\u001b[0;31m         \u001b[0mdata\u001b[0m \u001b[0;34m=\u001b[0m \u001b[0mparser\u001b[0m\u001b[0;34m.\u001b[0m\u001b[0mread\u001b[0m\u001b[0;34m(\u001b[0m\u001b[0mnrows\u001b[0m\u001b[0;34m)\u001b[0m\u001b[0;34m\u001b[0m\u001b[0;34m\u001b[0m\u001b[0m\n\u001b[0m\u001b[1;32m    447\u001b[0m     \u001b[0;32mfinally\u001b[0m\u001b[0;34m:\u001b[0m\u001b[0;34m\u001b[0m\u001b[0;34m\u001b[0m\u001b[0m\n\u001b[1;32m    448\u001b[0m         \u001b[0mparser\u001b[0m\u001b[0;34m.\u001b[0m\u001b[0mclose\u001b[0m\u001b[0;34m(\u001b[0m\u001b[0;34m)\u001b[0m\u001b[0;34m\u001b[0m\u001b[0;34m\u001b[0m\u001b[0m\n",
            "\u001b[0;32m/usr/local/lib/python3.6/dist-packages/pandas/io/parsers.py\u001b[0m in \u001b[0;36mread\u001b[0;34m(self, nrows)\u001b[0m\n\u001b[1;32m   1034\u001b[0m                 \u001b[0;32mraise\u001b[0m \u001b[0mValueError\u001b[0m\u001b[0;34m(\u001b[0m\u001b[0;34m'skipfooter not supported for iteration'\u001b[0m\u001b[0;34m)\u001b[0m\u001b[0;34m\u001b[0m\u001b[0;34m\u001b[0m\u001b[0m\n\u001b[1;32m   1035\u001b[0m \u001b[0;34m\u001b[0m\u001b[0m\n\u001b[0;32m-> 1036\u001b[0;31m         \u001b[0mret\u001b[0m \u001b[0;34m=\u001b[0m \u001b[0mself\u001b[0m\u001b[0;34m.\u001b[0m\u001b[0m_engine\u001b[0m\u001b[0;34m.\u001b[0m\u001b[0mread\u001b[0m\u001b[0;34m(\u001b[0m\u001b[0mnrows\u001b[0m\u001b[0;34m)\u001b[0m\u001b[0;34m\u001b[0m\u001b[0;34m\u001b[0m\u001b[0m\n\u001b[0m\u001b[1;32m   1037\u001b[0m \u001b[0;34m\u001b[0m\u001b[0m\n\u001b[1;32m   1038\u001b[0m         \u001b[0;31m# May alter columns / col_dict\u001b[0m\u001b[0;34m\u001b[0m\u001b[0;34m\u001b[0m\u001b[0;34m\u001b[0m\u001b[0m\n",
            "\u001b[0;32m/usr/local/lib/python3.6/dist-packages/pandas/io/parsers.py\u001b[0m in \u001b[0;36mread\u001b[0;34m(self, nrows)\u001b[0m\n\u001b[1;32m   1846\u001b[0m     \u001b[0;32mdef\u001b[0m \u001b[0mread\u001b[0m\u001b[0;34m(\u001b[0m\u001b[0mself\u001b[0m\u001b[0;34m,\u001b[0m \u001b[0mnrows\u001b[0m\u001b[0;34m=\u001b[0m\u001b[0;32mNone\u001b[0m\u001b[0;34m)\u001b[0m\u001b[0;34m:\u001b[0m\u001b[0;34m\u001b[0m\u001b[0;34m\u001b[0m\u001b[0m\n\u001b[1;32m   1847\u001b[0m         \u001b[0;32mtry\u001b[0m\u001b[0;34m:\u001b[0m\u001b[0;34m\u001b[0m\u001b[0;34m\u001b[0m\u001b[0m\n\u001b[0;32m-> 1848\u001b[0;31m             \u001b[0mdata\u001b[0m \u001b[0;34m=\u001b[0m \u001b[0mself\u001b[0m\u001b[0;34m.\u001b[0m\u001b[0m_reader\u001b[0m\u001b[0;34m.\u001b[0m\u001b[0mread\u001b[0m\u001b[0;34m(\u001b[0m\u001b[0mnrows\u001b[0m\u001b[0;34m)\u001b[0m\u001b[0;34m\u001b[0m\u001b[0;34m\u001b[0m\u001b[0m\n\u001b[0m\u001b[1;32m   1849\u001b[0m         \u001b[0;32mexcept\u001b[0m \u001b[0mStopIteration\u001b[0m\u001b[0;34m:\u001b[0m\u001b[0;34m\u001b[0m\u001b[0;34m\u001b[0m\u001b[0m\n\u001b[1;32m   1850\u001b[0m             \u001b[0;32mif\u001b[0m \u001b[0mself\u001b[0m\u001b[0;34m.\u001b[0m\u001b[0m_first_chunk\u001b[0m\u001b[0;34m:\u001b[0m\u001b[0;34m\u001b[0m\u001b[0;34m\u001b[0m\u001b[0m\n",
            "\u001b[0;32mpandas/_libs/parsers.pyx\u001b[0m in \u001b[0;36mpandas._libs.parsers.TextReader.read\u001b[0;34m()\u001b[0m\n",
            "\u001b[0;32mpandas/_libs/parsers.pyx\u001b[0m in \u001b[0;36mpandas._libs.parsers.TextReader._read_low_memory\u001b[0;34m()\u001b[0m\n",
            "\u001b[0;32mpandas/_libs/parsers.pyx\u001b[0m in \u001b[0;36mpandas._libs.parsers.TextReader._read_rows\u001b[0;34m()\u001b[0m\n",
            "\u001b[0;32mpandas/_libs/parsers.pyx\u001b[0m in \u001b[0;36mpandas._libs.parsers.TextReader._tokenize_rows\u001b[0;34m()\u001b[0m\n",
            "\u001b[0;32mpandas/_libs/parsers.pyx\u001b[0m in \u001b[0;36mpandas._libs.parsers.raise_parser_error\u001b[0;34m()\u001b[0m\n",
            "\u001b[0;31mParserError\u001b[0m: Error tokenizing data. C error: Expected 1 fields in line 76, saw 8\n"
          ]
        }
      ]
    },
    {
      "metadata": {
        "id": "Da4NhLFtSeLZ",
        "colab_type": "text"
      },
      "cell_type": "markdown",
      "source": [
        "### 3.2 Word2Vec"
      ]
    },
    {
      "metadata": {
        "id": "mz0_Q2cGRPMf",
        "colab_type": "code",
        "colab": {}
      },
      "cell_type": "code",
      "source": [
        "it_token_ls = list(it_df.loc[:,'1'])\n",
        "culture_token_ls = list(culture_df.loc[:,'1'])\n",
        "total_token_ls = it_token_ls + culture_token_ls"
      ],
      "execution_count": 0,
      "outputs": []
    },
    {
      "metadata": {
        "id": "p2BLibWsP2-K",
        "colab_type": "code",
        "colab": {}
      },
      "cell_type": "code",
      "source": [
        "total_token_ls[0]"
      ],
      "execution_count": 0,
      "outputs": []
    },
    {
      "metadata": {
        "id": "O_-SQ_HtSViD",
        "colab_type": "code",
        "colab": {}
      },
      "cell_type": "code",
      "source": [
        "total_token_ls = [tokens.split(',') for tokens in total_token_ls]"
      ],
      "execution_count": 0,
      "outputs": []
    },
    {
      "metadata": {
        "id": "3pxHfshKSVq1",
        "colab_type": "code",
        "colab": {}
      },
      "cell_type": "code",
      "source": [
        "total_token_ls[0][:10]"
      ],
      "execution_count": 0,
      "outputs": []
    },
    {
      "metadata": {
        "id": "hyfZAvB6SVyE",
        "colab_type": "code",
        "colab": {}
      },
      "cell_type": "code",
      "source": [
        "\n",
        "from gensim.models import Word2Vec"
      ],
      "execution_count": 0,
      "outputs": []
    },
    {
      "metadata": {
        "id": "iyGN3IpqSuMY",
        "colab_type": "code",
        "colab": {}
      },
      "cell_type": "code",
      "source": [
        "\n",
        "word2vec = Word2Vec(\n",
        "    sentences = total_token_ls,  # 학습시킬 문장\n",
        "    size = 30,                  # 임베딩된 단어 벡터의 차원 크기\n",
        "    alpha = 0.025,               # 학습률(Learning rate)\n",
        "    min_count=2,                 # 1번 미만 등장한 단어는 제외\n",
        "    window = 8,                  # 문맥의 크기 (window_size)\n",
        "    sample = 0.001,              # sub-sampling\n",
        "    sg = 1,                      # 0: CBOW, 1: Skip-gram\n",
        "    iter = 10,                    # 전체 문장 반복학습 횟수(epoch)\n",
        "    )"
      ],
      "execution_count": 0,
      "outputs": []
    },
    {
      "metadata": {
        "id": "eAOzEl5CSx4l",
        "colab_type": "code",
        "colab": {}
      },
      "cell_type": "code",
      "source": [
        "word2vec.wv.__getitem__('문화')"
      ],
      "execution_count": 0,
      "outputs": []
    },
    {
      "metadata": {
        "id": "VKaDi6dxSzmA",
        "colab_type": "code",
        "colab": {}
      },
      "cell_type": "code",
      "source": [
        "word2vec.wv.most_similar('인공')"
      ],
      "execution_count": 0,
      "outputs": []
    },
    {
      "metadata": {
        "id": "DVTSk48hS1ln",
        "colab_type": "code",
        "colab": {}
      },
      "cell_type": "code",
      "source": [
        "word2vec.wv.most_similar('공연')"
      ],
      "execution_count": 0,
      "outputs": []
    },
    {
      "metadata": {
        "id": "bnIzj6_ES2up",
        "colab_type": "code",
        "colab": {}
      },
      "cell_type": "code",
      "source": [
        "culture_df"
      ],
      "execution_count": 0,
      "outputs": []
    },
    {
      "metadata": {
        "id": "HdQh4Ts8TG1q",
        "colab_type": "text"
      },
      "cell_type": "markdown",
      "source": [
        "### 3.3 차원축소 활용 시각화"
      ]
    },
    {
      "metadata": {
        "id": "jvjQubT-TQDB",
        "colab_type": "code",
        "colab": {}
      },
      "cell_type": "code",
      "source": [
        ""
      ],
      "execution_count": 0,
      "outputs": []
    }
  ]
}