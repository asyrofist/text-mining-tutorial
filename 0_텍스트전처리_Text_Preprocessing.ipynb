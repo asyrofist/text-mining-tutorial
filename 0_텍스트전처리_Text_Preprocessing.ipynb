{
  "nbformat": 4,
  "nbformat_minor": 0,
  "metadata": {
    "colab": {
      "name": "0_텍스트전처리_Text Preprocessing.ipynb",
      "version": "0.3.2",
      "provenance": [],
      "include_colab_link": true
    },
    "kernelspec": {
      "name": "python3",
      "display_name": "Python 3"
    }
  },
  "cells": [
    {
      "cell_type": "markdown",
      "metadata": {
        "id": "view-in-github",
        "colab_type": "text"
      },
      "source": [
        "<a href=\"https://colab.research.google.com/github/fininsight/text-mining-tutorial/blob/master/0_%ED%85%8D%EC%8A%A4%ED%8A%B8%EC%A0%84%EC%B2%98%EB%A6%AC_Text_Preprocessing.ipynb\" target=\"_parent\"><img src=\"https://colab.research.google.com/assets/colab-badge.svg\" alt=\"Open In Colab\"/></a>"
      ]
    },
    {
      "metadata": {
        "id": "rLGhbEiOoAR7",
        "colab_type": "text"
      },
      "cell_type": "markdown",
      "source": [
        "# 텍스트 전처리 (Text Preprocessing)"
      ]
    },
    {
      "metadata": {
        "id": "iyUOgHjOeyQU",
        "colab_type": "code",
        "outputId": "e6f46426-8ff5-4574-d5e3-a30e6c392b1b",
        "colab": {
          "base_uri": "https://localhost:8080/",
          "height": 53
        }
      },
      "cell_type": "code",
      "source": [
        "# pandas, numpy import\n",
        "import pandas as pd\n",
        "import numpy as np\n",
        "\n",
        "# pandas, numpy 버젼 확인\n",
        "print(pd.__version__)\n",
        "print(np.__version__)"
      ],
      "execution_count": 0,
      "outputs": [
        {
          "output_type": "stream",
          "text": [
            "0.23.4\n",
            "1.16.2\n"
          ],
          "name": "stdout"
        }
      ]
    },
    {
      "metadata": {
        "id": "KysKAL3VlgQN",
        "colab_type": "text"
      },
      "cell_type": "markdown",
      "source": [
        "## 1 영문 토큰화\n",
        "영문의 경우 띄어쓰기를 기준으로 단어를 구분지을 수 있기 때문에, 공백으로 토큰화가 가능하다.\n",
        "\n",
        "NLTK lib (https://www.nltk.org/) 사용"
      ]
    },
    {
      "metadata": {
        "id": "mND0us3Jppcu",
        "colab_type": "text"
      },
      "cell_type": "markdown",
      "source": [
        "### 1.1 실습용 영문기사 수집\n",
        "온라인 기사를 바로 수집하여 실습데이터로 사용\n",
        "\n",
        "https://www.macworld.co.uk/news/apple/airpods-2-3672580/"
      ]
    },
    {
      "metadata": {
        "id": "F4pcegjEqewF",
        "colab_type": "code",
        "colab": {}
      },
      "cell_type": "code",
      "source": [
        "import requests\n",
        "from bs4 import BeautifulSoup"
      ],
      "execution_count": 0,
      "outputs": []
    },
    {
      "metadata": {
        "id": "wFUHpRU3qhLu",
        "colab_type": "code",
        "colab": {}
      },
      "cell_type": "code",
      "source": [
        "url = 'https://www.forbes.com/sites/adrianbridgwater/2019/04/15/what-drove-the-ai-renaissance/?ss=ai-big-data#45dd5dd61f25'\n",
        "response = requests.get(url)\n",
        "soup = BeautifulSoup(response.text,'html.parser')"
      ],
      "execution_count": 0,
      "outputs": []
    },
    {
      "metadata": {
        "id": "VlX5zJweqn-B",
        "colab_type": "code",
        "colab": {}
      },
      "cell_type": "code",
      "source": [
        "eng_news = soup.select('p[class=\"speakable-paragraph\"]')\n",
        "eng_text = eng_news[0].get_text()"
      ],
      "execution_count": 0,
      "outputs": []
    },
    {
      "metadata": {
        "id": "urFWZplwq5My",
        "colab_type": "code",
        "outputId": "45c00a6a-a7c0-45e5-e6aa-36f4ce22584c",
        "colab": {
          "base_uri": "https://localhost:8080/",
          "height": 55
        }
      },
      "cell_type": "code",
      "source": [
        "eng_text"
      ],
      "execution_count": 0,
      "outputs": [
        {
          "output_type": "execute_result",
          "data": {
            "text/plain": [
              "'It is the present-day darling of the tech world. The current renaissance of Artificial Intelligence (AI) with its sister discipline Machine Learning (ML) has led every IT firm worth its salt to engineer some form of AI onto its platform, into its toolsets and throughout its software applications.'"
            ]
          },
          "metadata": {
            "tags": []
          },
          "execution_count": 73
        }
      ]
    },
    {
      "metadata": {
        "id": "yv0ASXb8qa6H",
        "colab_type": "text"
      },
      "cell_type": "markdown",
      "source": [
        "### 1.2 영문 토큰화\n",
        "공백을 기준으로 토큰을 분리한다"
      ]
    },
    {
      "metadata": {
        "id": "VrvBRJqJlitx",
        "colab_type": "code",
        "colab": {}
      },
      "cell_type": "code",
      "source": [
        "import nltk\n",
        "from nltk.tokenize import TreebankWordTokenizer"
      ],
      "execution_count": 0,
      "outputs": []
    },
    {
      "metadata": {
        "id": "8ecl0DtolnEc",
        "colab_type": "code",
        "outputId": "242f0a7d-9d7b-48a9-a4ed-7e54d83db30c",
        "colab": {
          "base_uri": "https://localhost:8080/",
          "height": 55
        }
      },
      "cell_type": "code",
      "source": [
        "token = TreebankWordTokenizer().tokenize(eng_text)\n",
        "print(token)"
      ],
      "execution_count": 0,
      "outputs": [
        {
          "output_type": "stream",
          "text": [
            "['It', 'is', 'the', 'present-day', 'darling', 'of', 'the', 'tech', 'world.', 'The', 'current', 'renaissance', 'of', 'Artificial', 'Intelligence', '(', 'AI', ')', 'with', 'its', 'sister', 'discipline', 'Machine', 'Learning', '(', 'ML', ')', 'has', 'led', 'every', 'IT', 'firm', 'worth', 'its', 'salt', 'to', 'engineer', 'some', 'form', 'of', 'AI', 'onto', 'its', 'platform', ',', 'into', 'its', 'toolsets', 'and', 'throughout', 'its', 'software', 'applications', '.']\n"
          ],
          "name": "stdout"
        }
      ]
    },
    {
      "metadata": {
        "id": "8-Z-0Nnysqnq",
        "colab_type": "text"
      },
      "cell_type": "markdown",
      "source": [
        "### 1.3 영문 품사 부착 (PoS Tagging)\n",
        "분리한 토큰마다 품사를 부착한다\n",
        "\n",
        "https://www.nltk.org/book/ch05.html"
      ]
    },
    {
      "metadata": {
        "id": "mHWVrEmTlosg",
        "colab_type": "code",
        "outputId": "242b28d6-d4c0-4a1a-8c83-6e63c33fd0a7",
        "colab": {
          "base_uri": "https://localhost:8080/",
          "height": 107
        }
      },
      "cell_type": "code",
      "source": [
        "from nltk import pos_tag\n",
        "nltk.download('averaged_perceptron_tagger')"
      ],
      "execution_count": 0,
      "outputs": [
        {
          "output_type": "stream",
          "text": [
            "[nltk_data] Downloading package averaged_perceptron_tagger to\n",
            "[nltk_data]     /root/nltk_data...\n",
            "[nltk_data]   Package averaged_perceptron_tagger is already up-to-\n",
            "[nltk_data]       date!\n"
          ],
          "name": "stdout"
        },
        {
          "output_type": "execute_result",
          "data": {
            "text/plain": [
              "True"
            ]
          },
          "metadata": {
            "tags": []
          },
          "execution_count": 76
        }
      ]
    },
    {
      "metadata": {
        "id": "jwtt2LxqlrVS",
        "colab_type": "code",
        "outputId": "bc7462f1-6810-4d5c-884d-22ddba5bd0bb",
        "colab": {
          "base_uri": "https://localhost:8080/",
          "height": 55
        }
      },
      "cell_type": "code",
      "source": [
        "taggedToken = pos_tag(token)\n",
        "print(taggedToken)"
      ],
      "execution_count": 0,
      "outputs": [
        {
          "output_type": "stream",
          "text": [
            "[('It', 'PRP'), ('is', 'VBZ'), ('the', 'DT'), ('present-day', 'JJ'), ('darling', 'NN'), ('of', 'IN'), ('the', 'DT'), ('tech', 'NN'), ('world.', 'VBD'), ('The', 'DT'), ('current', 'JJ'), ('renaissance', 'NN'), ('of', 'IN'), ('Artificial', 'JJ'), ('Intelligence', 'NNP'), ('(', '('), ('AI', 'NNP'), (')', ')'), ('with', 'IN'), ('its', 'PRP$'), ('sister', 'NN'), ('discipline', 'NN'), ('Machine', 'NNP'), ('Learning', 'NNP'), ('(', '('), ('ML', 'NNP'), (')', ')'), ('has', 'VBZ'), ('led', 'VBN'), ('every', 'DT'), ('IT', 'NNP'), ('firm', 'NN'), ('worth', 'VBD'), ('its', 'PRP$'), ('salt', 'NN'), ('to', 'TO'), ('engineer', 'VB'), ('some', 'DT'), ('form', 'NN'), ('of', 'IN'), ('AI', 'NNP'), ('onto', 'IN'), ('its', 'PRP$'), ('platform', 'NN'), (',', ','), ('into', 'IN'), ('its', 'PRP$'), ('toolsets', 'NNS'), ('and', 'CC'), ('throughout', 'IN'), ('its', 'PRP$'), ('software', 'NN'), ('applications', 'NNS'), ('.', '.')]\n"
          ],
          "name": "stdout"
        }
      ]
    },
    {
      "metadata": {
        "id": "lDo-5-khs5Oz",
        "colab_type": "text"
      },
      "cell_type": "markdown",
      "source": [
        "### 1.4 개체명 인식 (NER, Named Entity Recognition)"
      ]
    },
    {
      "metadata": {
        "id": "Clj4X6Gilsi9",
        "colab_type": "code",
        "outputId": "50f0feae-8147-462d-bdf7-235048a234b3",
        "colab": {
          "base_uri": "https://localhost:8080/",
          "height": 125
        }
      },
      "cell_type": "code",
      "source": [
        "nltk.download('words')\n",
        "nltk.download('maxent_ne_chunker')"
      ],
      "execution_count": 0,
      "outputs": [
        {
          "output_type": "stream",
          "text": [
            "[nltk_data] Downloading package words to /root/nltk_data...\n",
            "[nltk_data]   Package words is already up-to-date!\n",
            "[nltk_data] Downloading package maxent_ne_chunker to\n",
            "[nltk_data]     /root/nltk_data...\n",
            "[nltk_data]   Package maxent_ne_chunker is already up-to-date!\n"
          ],
          "name": "stdout"
        },
        {
          "output_type": "execute_result",
          "data": {
            "text/plain": [
              "True"
            ]
          },
          "metadata": {
            "tags": []
          },
          "execution_count": 78
        }
      ]
    },
    {
      "metadata": {
        "id": "PaM69WbLl_Ps",
        "colab_type": "code",
        "colab": {}
      },
      "cell_type": "code",
      "source": [
        "from nltk import ne_chunk"
      ],
      "execution_count": 0,
      "outputs": []
    },
    {
      "metadata": {
        "id": "VdkMJHO7mBgi",
        "colab_type": "code",
        "outputId": "aedf3215-e828-445c-f9c0-52db0bca09e1",
        "colab": {
          "base_uri": "https://localhost:8080/",
          "height": 971
        }
      },
      "cell_type": "code",
      "source": [
        "neToken = ne_chunk(taggedToken)\n",
        "print(neToken)"
      ],
      "execution_count": 0,
      "outputs": [
        {
          "output_type": "stream",
          "text": [
            "(S\n",
            "  It/PRP\n",
            "  is/VBZ\n",
            "  the/DT\n",
            "  present-day/JJ\n",
            "  darling/NN\n",
            "  of/IN\n",
            "  the/DT\n",
            "  tech/NN\n",
            "  world./VBD\n",
            "  The/DT\n",
            "  current/JJ\n",
            "  renaissance/NN\n",
            "  of/IN\n",
            "  (ORGANIZATION Artificial/JJ Intelligence/NNP)\n",
            "  (/(\n",
            "  AI/NNP\n",
            "  )/)\n",
            "  with/IN\n",
            "  its/PRP$\n",
            "  sister/NN\n",
            "  discipline/NN\n",
            "  (PERSON Machine/NNP Learning/NNP)\n",
            "  (/(\n",
            "  ML/NNP\n",
            "  )/)\n",
            "  has/VBZ\n",
            "  led/VBN\n",
            "  every/DT\n",
            "  IT/NNP\n",
            "  firm/NN\n",
            "  worth/VBD\n",
            "  its/PRP$\n",
            "  salt/NN\n",
            "  to/TO\n",
            "  engineer/VB\n",
            "  some/DT\n",
            "  form/NN\n",
            "  of/IN\n",
            "  (ORGANIZATION AI/NNP)\n",
            "  onto/IN\n",
            "  its/PRP$\n",
            "  platform/NN\n",
            "  ,/,\n",
            "  into/IN\n",
            "  its/PRP$\n",
            "  toolsets/NNS\n",
            "  and/CC\n",
            "  throughout/IN\n",
            "  its/PRP$\n",
            "  software/NN\n",
            "  applications/NNS\n",
            "  ./.)\n"
          ],
          "name": "stdout"
        }
      ]
    },
    {
      "metadata": {
        "id": "aHjV0h0ZtM-t",
        "colab_type": "text"
      },
      "cell_type": "markdown",
      "source": [
        "#### 5) 원형 복원\n",
        "각 토큰의 원형을 복원하여 표준화 한다. "
      ]
    },
    {
      "metadata": {
        "id": "r2eCnbChtXjo",
        "colab_type": "text"
      },
      "cell_type": "markdown",
      "source": [
        "##### 어간추출 (Stemming)"
      ]
    },
    {
      "metadata": {
        "id": "n-AvZXHLmCy2",
        "colab_type": "code",
        "outputId": "a8bb3a51-0a3a-4a21-b751-95f996c28a34",
        "colab": {
          "base_uri": "https://localhost:8080/",
          "height": 143
        }
      },
      "cell_type": "code",
      "source": [
        "from nltk.stem import PorterStemmer\n",
        "ps = PorterStemmer()\n",
        "\n",
        "print(\"running -> \" + ps.stem(\"running\"))\n",
        "print(\"beautiful -> \" + ps.stem(\"beautiful\"))\n",
        "print(\"believes -> \" + ps.stem(\"believes\"))\n",
        "print(\"using -> \" + ps.stem(\"using\"))\n",
        "print(\"conversation -> \" + ps.stem(\"conversation\"))\n",
        "print(\"organization -> \" + ps.stem(\"organization\"))\n",
        "print(\"studies -> \" + ps.stem(\"studies\"))"
      ],
      "execution_count": 0,
      "outputs": [
        {
          "output_type": "stream",
          "text": [
            "running -> run\n",
            "beautiful -> beauti\n",
            "believes -> believ\n",
            "using -> use\n",
            "conversation -> convers\n",
            "organization -> organ\n",
            "studies -> studi\n"
          ],
          "name": "stdout"
        }
      ]
    },
    {
      "metadata": {
        "id": "MdxBuzdymR7w",
        "colab_type": "code",
        "outputId": "b5342bcf-dcb2-4228-bc13-8bce57156c38",
        "colab": {
          "base_uri": "https://localhost:8080/",
          "height": 71
        }
      },
      "cell_type": "code",
      "source": [
        "nltk.download('wordnet')"
      ],
      "execution_count": 0,
      "outputs": [
        {
          "output_type": "stream",
          "text": [
            "[nltk_data] Downloading package wordnet to /root/nltk_data...\n",
            "[nltk_data]   Unzipping corpora/wordnet.zip.\n"
          ],
          "name": "stdout"
        },
        {
          "output_type": "execute_result",
          "data": {
            "text/plain": [
              "True"
            ]
          },
          "metadata": {
            "tags": []
          },
          "execution_count": 48
        }
      ]
    },
    {
      "metadata": {
        "id": "4haNWIcCtZza",
        "colab_type": "text"
      },
      "cell_type": "markdown",
      "source": [
        "##### 표제어 추출 (Lemmatization)"
      ]
    },
    {
      "metadata": {
        "id": "2mQSzsCZmMBd",
        "colab_type": "code",
        "outputId": "12e4681a-5a69-4a5e-9172-da1ef8597c41",
        "colab": {
          "base_uri": "https://localhost:8080/",
          "height": 143
        }
      },
      "cell_type": "code",
      "source": [
        "from nltk.stem import WordNetLemmatizer\n",
        "wl = WordNetLemmatizer()\n",
        "\n",
        "print(\"running -> \" + wl.lemmatize(\"running\"))\n",
        "print(\"beautiful -> \" + wl.lemmatize(\"beautiful\"))\n",
        "print(\"believes -> \" + wl.lemmatize(\"believes\"))\n",
        "print(\"using -> \" + wl.lemmatize(\"using\"))\n",
        "print(\"conversation -> \" + wl.lemmatize(\"conversation\"))\n",
        "print(\"organization -> \" + wl.lemmatize(\"organization\"))\n",
        "print(\"studies -> \" + wl.lemmatize(\"studies\"))"
      ],
      "execution_count": 0,
      "outputs": [
        {
          "output_type": "stream",
          "text": [
            "running -> running\n",
            "beautiful -> beautiful\n",
            "believes -> belief\n",
            "using -> using\n",
            "conversation -> conversation\n",
            "organization -> organization\n",
            "studies -> study\n"
          ],
          "name": "stdout"
        }
      ]
    },
    {
      "metadata": {
        "id": "Pbz6tLP_mNrn",
        "colab_type": "code",
        "colab": {}
      },
      "cell_type": "code",
      "source": [
        ""
      ],
      "execution_count": 0,
      "outputs": []
    },
    {
      "metadata": {
        "id": "BMErzPcbuYEa",
        "colab_type": "text"
      },
      "cell_type": "markdown",
      "source": [
        "\n",
        "\n",
        "---\n",
        "\n"
      ]
    },
    {
      "metadata": {
        "id": "C0Dhqm4zkHXl",
        "colab_type": "text"
      },
      "cell_type": "markdown",
      "source": [
        "## 2 한글 토큰화\n",
        "영문은 공백으로 토큰화가 가능하지만, 한글의 경우 품사를 고려하여 토큰화 해야한다."
      ]
    },
    {
      "metadata": {
        "id": "cIkGxDnNimek",
        "colab_type": "text"
      },
      "cell_type": "markdown",
      "source": [
        "### 2.1 실습용 한글기사 수집\n",
        "온라인 기사를 바로 수집하여 실습데이터로 사용\n",
        "\n",
        "http://news.chosun.com/site/data/html_dir/2018/07/10/2018071004121.html"
      ]
    },
    {
      "metadata": {
        "id": "K0hNPfAwhxwu",
        "colab_type": "code",
        "colab": {}
      },
      "cell_type": "code",
      "source": [
        "import requests\n",
        "from bs4 import BeautifulSoup"
      ],
      "execution_count": 0,
      "outputs": []
    },
    {
      "metadata": {
        "id": "imh_qjKTitdo",
        "colab_type": "code",
        "colab": {}
      },
      "cell_type": "code",
      "source": [
        "url = 'http://news.chosun.com/site/data/html_dir/2018/07/10/2018071004121.html'\n",
        "response = requests.get(url)\n",
        "response.encoding = 'utf-8'    # 한글이므로 encoding을 utf-8로 지정\n",
        "soup = BeautifulSoup(response.text,'html.parser')"
      ],
      "execution_count": 0,
      "outputs": []
    },
    {
      "metadata": {
        "id": "U2vMw982itqD",
        "colab_type": "code",
        "colab": {}
      },
      "cell_type": "code",
      "source": [
        "kor_news = soup.select('div[class=\"par\"]')\n",
        "kor_text = kor_news[0].get_text()"
      ],
      "execution_count": 0,
      "outputs": []
    },
    {
      "metadata": {
        "id": "d7Cl3zwiitxp",
        "colab_type": "code",
        "outputId": "0385c368-01d8-40ae-e59a-6ba9885b2667",
        "colab": {
          "base_uri": "https://localhost:8080/",
          "height": 55
        }
      },
      "cell_type": "code",
      "source": [
        "kor_text"
      ],
      "execution_count": 0,
      "outputs": [
        {
          "output_type": "execute_result",
          "data": {
            "text/plain": [
              "'교육을 삶의 최우선 순위로 두고 있는 한국의 부모들은 대학 전공 가운데 의학과 공학·과학을 중시한다. 자녀의 직업적 성공을 위해 대학 전공으로 의학과 이공계를 우선적으로 고려하는 일은 한국이 산업화 중이던 상황에선 올바른 선택이었다. 하지만 지금은 모든 것이 달라졌다. 요즘 실리콘밸리에서 확인되는 것은 4차 산업혁명 시대에는 예술과 인문학이 의학·공학만큼 중요하다는 사실이다.스티브 잡스는 자신이 대학 시절 수강했던 서체(書體) 수업이 매킨토시(애플이 1984년 발표한 개인용 컴퓨터) 개발 성공에 큰 영향을 미쳤다고 말했다. 그는 2011년 아이패드 2를 공개하면서 \"애플의 DNA는 기술만으로는 충분하지 않다. 교양과 인문학이 결합한 기술이야말로 가슴 벅찬 결과를 낳을 것\"이라며 예술과 디자인의 중요성을 강조했다. 이런 관점을 바탕으로 잡스는 세계 최고 가치를 인정받는 기업을 만들었고, 기술 산업의 새로운 표준까지 정했다.실리콘밸리에서 최근 뜨고 있는 스타 기업인 중에는 인문학 전공자들이 제법 많다. 구인·구직 소셜 네트워킹 서비스 기업인 링크드인(LinkedIn) 창업자 리드 호프만은 철학 석사 학위 소지자이며, 수잔 보이치키 유튜브 CEO는 역사와 문학을 전공했다. 메신저 개발 업체 슬랙(Slack)의 창업자 스튜어트 버터필드는 철학, 세계 최대 숙박 공유 기업인 에어비앤비의 설립자 브라이언 체스키는 미술을 전공했다. 중국 알리바바그룹의 마윈 회장의 학부 전공은 영어였다.내가 속해 있는 하버드대·듀크대 연구팀은 미국 IT 기업 창업자들의 92%가 학사 학위를, 47%는 석사 학위 이상을 갖고 있음을 밝혀냈다. 창업자들의 세부 전공을 보면 37%만 공학·컴퓨터 기술이며, 수학 전공자는 2%뿐이었다. 이들의 전공은 경영·회계·보건·예술·인문학 등 매우 다양했다.컴퓨터 주변기기 제조 업체 로지텍의 브랙큰 대럴 CEO도 영문학을 전공했다. 최근 내가 그에게 \"어떻게 5년여 만에 회사 주가를 450% 올릴 수 있었느냐\"고 물었더니 그는 \"우리 회사가 만드는 모든 제품의 디자인을 쉼 없이 고민했기 때문에 가능했다. 기술 관련 제품의 성공에 가장 중요한 것은 디자인\"이라고 답했다.4차 산업혁명은 \\'혁신의 규칙\\'을 바꾸는 일이다. 여기에는 컴퓨터와 인공지능, 디지털 의술, 로봇공학, 합성생물학 등 광범위한 기술이 활용된다. 의학·인공지능과 센서를 융합하면 인간의 건강을 진단하고 질병을 예방하는 \\'디지털 의사\\'를 만들 수 있다. 유전체학과 유전자 편집을 이용해 가뭄에 강하고 인류 전체를 먹여 살릴 새 식물을 개발할 수 있다. 인공지능 로봇을 사용해 노인들을 위한 \\'디지털 친구\\'도 가능하다. 초소형 물질의 발전은 모든 사람이 충분히 이용할 수 있는 \\'태양열 저장 기술\\'의 새 시대를 열 것이다.이런 해결책을 이끌어내는 데는 생물학·교육·의료·인간행동 등 여러 분야에 대한 지식이 필요하다. 우리가 처한 거대한 사회·기술적 도전에 대처하려면 인류를 둘러싼 다양한 배경과 맥락에 대해 비판적 사고 능력이 필수적이다. 이는 인문학 전공자들이 가장 잘 훈련받은 분야이다.일례로 음악·예술·문학과 심리학에서 비롯한 공감(共感) 능력은 디자인에 큰 장점이 된다. 로마제국의 흥망성쇠와 계몽주의를 공부한 역사학도는 기술의 인간적 요소와 유용성에 대한 통찰력을 가질 수 있다. 심리학 전공자는 사람에게 동기(動機)부여가 무엇이며, 사용자들이 원하는 게 무엇인지를 공학 한 분야에서만 일해온 엔지니어들보다 잘 이해할 수 있다. 우리가 상상하는 물건을 3D로 만들 수 있게 되면 음악가나 화가들의 세상이 될지도 모른다.\"자녀가 미래에 어떤 직업을 택하면 좋겠는가\"라는 질문을 받을 때 나는 \"아이들이 스스로 하고 싶은 것을 선택하도록 내버려 두는 게 최선\"이라고 답한다. 과거 우리 부모들이 우리에게 공부를 강요해서 학습을 \\'억지로 해야 하는 따분한 일\\'로 여기게 했던 방식을 따라 해선 안 된다. 그 대신 자녀가 자신의 열정을 추구하고 배우는 걸 즐길 수 있도록 북돋아야 한다.기술을 통해 놀라운 미래를 창조하고 새로운 산업혁명 시대에 리더가 되기 위해 한국에서는 공학자들과 손잡고 일할 음악가와 화가가 더 많이 필요하다. 이제는 과학·공학·의학뿐 아니라 창의성과 디자인에도 진정한 관심을 쏟아야 한다.'"
            ]
          },
          "metadata": {
            "tags": []
          },
          "execution_count": 85
        }
      ]
    },
    {
      "metadata": {
        "id": "w09FHRgIphw5",
        "colab_type": "text"
      },
      "cell_type": "markdown",
      "source": [
        "### 2.2 한글 토큰화 및 형태소 분석"
      ]
    },
    {
      "metadata": {
        "id": "Xj3gdRSzhC8n",
        "colab_type": "code",
        "outputId": "a4ec0daf-3694-42a3-ec24-ea40807ebab1",
        "colab": {
          "base_uri": "https://localhost:8080/",
          "height": 253
        }
      },
      "cell_type": "code",
      "source": [
        "#konlpy 설치\n",
        "!pip install konlpy"
      ],
      "execution_count": 0,
      "outputs": [
        {
          "output_type": "stream",
          "text": [
            "Collecting konlpy\n",
            "\u001b[?25l  Downloading https://files.pythonhosted.org/packages/e5/3d/4e983cd98d87b50b2ab0387d73fa946f745aa8164e8888a714d5129f9765/konlpy-0.5.1-py2.py3-none-any.whl (19.4MB)\n",
            "\u001b[K    100% |████████████████████████████████| 19.4MB 1.7MB/s \n",
            "\u001b[?25hCollecting JPype1>=0.5.7 (from konlpy)\n",
            "\u001b[?25l  Downloading https://files.pythonhosted.org/packages/c4/4b/60a3e63d51714d4d7ef1b1efdf84315d118a0a80a5b085bb52a7e2428cdc/JPype1-0.6.3.tar.gz (168kB)\n",
            "\u001b[K    100% |████████████████████████████████| 174kB 31.2MB/s \n",
            "\u001b[?25hBuilding wheels for collected packages: JPype1\n",
            "  Building wheel for JPype1 (setup.py) ... \u001b[?25ldone\n",
            "\u001b[?25h  Stored in directory: /root/.cache/pip/wheels/0e/2b/e8/c0b818ac4b3d35104d35e48cdc7afe27fc06ea277feed2831a\n",
            "Successfully built JPype1\n",
            "Installing collected packages: JPype1, konlpy\n",
            "Successfully installed JPype1-0.6.3 konlpy-0.5.1\n"
          ],
          "name": "stdout"
        }
      ]
    },
    {
      "metadata": {
        "id": "IP9Zj-WxwAtE",
        "colab_type": "code",
        "colab": {}
      },
      "cell_type": "code",
      "source": [
        "#출력을 위해서 임시 class \n",
        "class List(list): \n",
        "    def __str__(self): \n",
        "        return \"[\" + \", \".join([\"%s\" % x for x in self]) + \"]\""
      ],
      "execution_count": 0,
      "outputs": []
    },
    {
      "metadata": {
        "id": "5IZWN4xX4HXW",
        "colab_type": "text"
      },
      "cell_type": "markdown",
      "source": [
        "한글 자연어처리기 비교\n",
        "\n",
        "https://blog.naver.com/PostView.nhn?blogId=wideeyed&logNo=221337575742"
      ]
    },
    {
      "metadata": {
        "id": "__e0d_9Svzor",
        "colab_type": "code",
        "outputId": "88f94737-188a-42e8-9df3-a7557c437edd",
        "colab": {
          "base_uri": "https://localhost:8080/",
          "height": 109
        }
      },
      "cell_type": "code",
      "source": [
        "# 코모란(Komoran) 토큰화\n",
        "from konlpy.tag import Komoran\n",
        "komoran= Komoran()\n",
        "komoran_tokens = komoran.morphs(kor_text)\n",
        "print(List(komoran_tokens))\n",
        "\n",
        "# 한나눔(Hannanum) 토큰화\n",
        "from konlpy.tag import Hannanum\n",
        "hannanum= Hannanum()\n",
        "hannanum_tokens = hannanum.morphs(kor_text)\n",
        "print(List(hannanum_tokens))\n",
        "\n",
        "# Okt 토큰화\n",
        "from konlpy.tag import Okt\n",
        "okt= Okt()\n",
        "okt_tokens = okt.morphs(kor_text)\n",
        "print(List(okt_tokens))\n",
        "\n",
        "# Kkma 토큰화\n",
        "from konlpy.tag import Kkma\n",
        "kkma= Kkma()\n",
        "kkma_tokens = kkma.morphs(kor_text)\n",
        "print(List(kkma_tokens))"
      ],
      "execution_count": 0,
      "outputs": [
        {
          "output_type": "stream",
          "text": [
            "[교육, 을, 삶, 의, 최, 우선, 순위, 로, 두, 고, 있, 는, 한국, 의, 부모, 들, 은, 대학, 전공, 가운데, 의학, 과, 공학, ·, 과학, 을, 중시, 하, ㄴ다, ., 자녀, 의, 직업, 적, 성공, 을, 위하, 아, 대학, 전공, 으로, 의학, 과, 이공, 계, 를, 우선, 적, 으로, 고려, 하, 는, 일, 은, 한국, 이, 산업화, 중, 이, 던, 상황, 에서, ㄴ, 올바르, ㄴ, 선택, 이, 었, 다, ., 하지만, 지금, 은, 모든, 것, 이, 달라지, 었, 다, ., 요즘, 실리콘밸리, 에서, 확인, 되, 는, 것, 은, 4, 차, 산업, 혁명, 시대, 에, 는, 예술, 과, 인문학, 이, 의학, ·, 공학, 만큼, 중요, 하, 다는, 사실, 이, 다, ., 스티브 잡스, 는, 자신, 이, 대학, 시절, 수강, 하, 았, 던, 서, 체, (, 書體, ), 수업, 이, 매킨토시, (, 애플, 이, 1984, 년, 발표, 하, ㄴ, 개인용 컴퓨터, ), 개발, 성공, 에, 크, ㄴ, 영향, 을, 미치, 었, 다고, 말, 하, 았, 다, ., 그, 는, 2011, 년, 아이패드 2, 를, 공개, 하, 면서, \", 애플, 의, DNA, 는, 기술, 만, 으로, 는, 충분, 하, 지, 않, 다, ., 교양, 과, 인문학, 이, 결합, 하, ㄴ, 기술, 이야말로, 가슴, 벅차, ㄴ, 결과, 를, 낳, 을, 것, \", 이, 라며, 예술, 과, 디자인, 의, 중요, 성, 을, 강조, 하, 았, 다, ., 이런, 관점, 을, 바탕, 으로, 잡스, 는, 세계, 최고, 가치, 를, 인정받, 는, 기업, 을, 만들, 었, 고, ,, 기술, 산업, 의, 새롭, ㄴ, 표준, 까지, 정하, 았, 다, ., 실리콘밸리, 에서, 최근, 뜨, 고, 있, 는, 스타, 기업인, 중, 에, 는, 인문학, 전공자, 들, 이, 제법, 많, 다, ., 구인, ·, 구직, 소, 시, 어, ㄹ, 네트, 워킹, 서비스, 기업인, 링크, 드, 인, (, LinkedIn, ), 창업자, 리드, 호프만, 은, 철학, 석사, 학위, 소지자, 이, 며, ,, 수잔, 보이, 치, 하, 기, 유튜브, CEO, 는, 역사, 와, 문학, 을, 전공, 하, 았, 다, ., 메신저, 개발, 업체, 슬랙(Slack)의, 창업자, 스튜어트, 버터필드, 는, 철학, ,, 세계, 최대, 숙박, 공유, 기업인, 에어비앤비, 의, 설립자, 브라이언, 체, 스키, 는, 미술, 을, 전공, 하, 았, 다, ., 중국, 알리바바, 그룹, 의, 마윈, 회장, 의, 학부, 전공, 은, 영어, 이, 었, 다, ., 내, 가, 속하, 아, 있, 는, 하버드대, ·, 듀크, 대, 연구, 팀, 은, 미국, IT, 기업, 창업자, 들, 의, 92, %, 가, 학사, 학위, 를, ,, 47, %, 는, 석사, 학위, 이상, 을, 갖, 고, 있, 음, 을, 밝혀내, 었, 다, ., 창업자, 들, 의, 세부, 전공, 을, 보, 면, 37, %, 만, 공학, ·, 컴퓨터, 기술, 이, 며, ,, 수학, 전공자, 는, 2, %, 뿐, 이, 었, 다, ., 이, 들, 의, 전공, 은, 경영, ·, 회계, ·, 보건, ·, 예술, ·, 인문학, 등, 매우, 다양, 하, 었, 다, ., 컴퓨터, 주변기기, 제조, 업체, 로지텍, 의, 브랙큰, 대, 러, ㄹ, CEO, 도, 영문학, 을, 전공, 하, 았, 다, ., 최근, 내, 가, 그, 에게, \", 어떻, 게, 5, 년, 이, 어, 만, 에, 회사, 주가, 를, 450, %, 올리, ㄹ, 수, 있, 었, 느냐, \", 고, 묻, 었, 더니, 그, 는, \", 우리, 회사, 가, 만들, 는, 모든, 제품, 의, 디자인, 을, 쉬, ㅁ, 없이, 고민, 하, 았, 기, 때문, 에, 가능, 하, 었, 다, ., 기술, 관련, 제품, 의, 성공, 에, 가장, 중요, 하, ㄴ, 것, 은, 디자인, \", 이라고, 답, 하, 았, 다, ., 4, 차, 산업, 혁명, 은, ', 혁신, 의, 규칙, ', 을, 바꾸, 는, 일, 이, 다, ., 여기, 에, 는, 컴퓨터, 와, 인공지능, ,, 디지털, 의술, ,, 로봇공학, ,, 합성생물학, 등, 광범위, 하, ㄴ, 기술, 이, 활용, 되, ㄴ다, ., 의학, ·, 인공지능, 과, 센서, 를, 융합, 하, 면, 인간, 의, 건강, 을, 진단, 하, 고, 질병, 을, 예방, 하, 는, ', 디지털, 의사, ', 를, 만들, ㄹ, 수, 있, 다, ., 유전체학, 과, 유전자, 편집, 을, 이용, 하, 아, 가뭄, 에, 강하, 고, 인류, 전체, 를, 먹이, 어, 살리, ㄹ, 새, 식물, 을, 개발, 하, ㄹ, 수, 있, 다, ., 인공지능, 로봇, 을, 사용, 하, 아, 노인, 들, 을, 위하, ㄴ, ', 디지털, 친구, ', 도, 가능, 하, 다, ., 초소, 형, 물질, 의, 발전, 은, 모든, 사람, 이, 충분히, 이용, 하, ㄹ, 수, 있, 는, ', 태양열, 저장, 기술, ', 의, 새 시대, 를, 열, 것, 이, 다, ., 이런, 해결책, 을, 이끌, 어, 내, 는, 데, 는, 생물학, ·, 교육, ·, 의료, ·, 인간, 행동, 등, 여러, 분야, 에, 대하, ㄴ, 지식, 이, 필요, 하, 다, ., 우리, 가, 처하, ㄴ, 거대, 하, ㄴ, 사회, ·, 기술, 적, 도전, 에, 대처, 하, 려면, 인류, 를, 둘러싸, ㄴ, 다양, 하, ㄴ, 배경, 과, 맥락, 에, 대하, 아, 비판적 사고, 능력, 이, 필수, 적, 이, 다, ., 이, 는, 인문학, 전공자, 들, 이, 가장, 잘, 훈련, 받, 은, 분야, 이, 다, ., 일례, 로, 음악, ·, 예술, ·, 문학, 과, 심리학, 에서, 비롯, 하, ㄴ, 공감, (, 共感, ), 능력, 은, 디자인, 에, 크, ㄴ, 장점, 이, 되, ㄴ다, ., 로마제국, 의, 흥망성쇠, 와, 계몽주의, 를, 공부, 하, ㄴ, 역사학도, 는, 기술, 의, 인간, 적, 요소, 와, 유용성, 에, 대하, ㄴ, 통찰력, 을, 가지, ㄹ, 수, 있, 다, ., 심리학, 전공자, 는, 사람, 에게, 동기, (, 動機, ), 부여, 가, 무엇, 이, 며, ,, 사용자, 들, 이, 원하, 는, 게, 무엇, 인지, 를, 공학, 한, 분야, 에서, 만, 일, 하, 아, 오, ㄴ, 엔지니어, 들, 보다, 잘, 이해, 하, ㄹ, 수, 있, 다, ., 우리, 가, 상상, 하, 는, 물건, 을, 3D, 로, 만들, ㄹ, 수, 있, 게, 되, 면, 음악가, 나, 화가, 들, 의, 세상, 이, 되, ㄹ지, 도, 모르, ㄴ다, ., \", 자녀, 가, 미래, 에, 어떤, 직업, 을, 택하, 면, 좋, 겠, 는가, \", 이, 라는, 질문, 을, 받, 을, 때, 나, 는, \", 아이들, 이, 스스로, 하, 고, 싶, 은, 것, 을, 선택, 하, 도록, 내버리, 어, 두, 는, 게, 최선, \", 이라고, 답하, ㄴ다, ., 과거, 우리, 부모, 들, 이, 우리, 에게, 공부, 를, 강요, 하, 아서, 학습, 을, ', 억지로, 하, 아야, 하, 는, 따분, 하, ㄴ, 일, ', 로, 여기, 게, 하, 았, 던, 방식, 을, 따르, 아, 하, 아서, ㄴ, 안, 되, ㄴ다, ., 그, 대신, 자녀, 가, 자신, 의, 열정, 을, 추구, 하, 고, 배우, 는, 걸, ㄹ, 즐기, ㄹ, 수, 있, 도록, 북돋, 아야, 하, ㄴ다, ., 기술, 을, 통하, 아, 놀랍, ㄴ, 미래, 를, 창조, 하, 고, 새롭, ㄴ, 산업, 혁명, 시대, 에, 리더, 가, 되, 기, 위하, 아, 한국, 에서, 는, 공학자, 들, 과, 손잡, 고, 일, 하, ㄹ, 음악가, 와, 화가, 가, 더, 많이, 필요, 하, 다, ., 이제, 는, 과학, ·, 공학, ·, 의학, 뿐, 아니, 라, 창의성, 과, 디자인, 에, 도, 진정, 하, ㄴ, 관심, 을, 쏟, 아야, 하, ㄴ다, .]\n",
            "[교육, 을, 삶, 의, 최우선, 순위, 로, 두, 고, 있, 는, 한국의, 부모들, 은, 대학, 전공, 가운데, 의학, 과, 공학·과학, 을, 중시, 하, ㄴ다, ., 자녀, 의, 직업적, 성공, 을, 위하, 어, 대학, 전공, 으로, 의학, 과, 이공계, 를, 우선적, 으로, 고, 려, 하, 는, 일, 은, 한국, 이, 산업화, 중, 이, 던, 상황, 에선, 올바르, ㄴ, 선택, 이, 었다, ., 하, 지만, 지금, 은, 모든, 것, 이, 다르, 아, 지, 었다, ., 요즘, 실리콘밸리, 에서, 확인, 되, 는, 것, 은, 4차, 산업혁명, 시대, 에는, 예술, 과, 인문학, 이, 의학·공학만큼, 중요, 하, 다는, 사실, 이, 다, ., 스티브, 잡스, 는, 자신, 이, 대학, 시절, 수강, 하, 었던, 서체(書體), 수업, 이, 매킨토시(애플, 이, 1984년, 발표, 하, ㄴ, 개인용, 컴퓨터, ), 개발, 성공, 에, 크, ㄴ, 영향, 을, 미치, 었다, 고, 말, 하, 었다, ., 그, 는, 2011년, 아이패드, 2, 를, 공개, 하, 면서, \", 애플, 의, DNA, 는, 기술만, 으로는, 충분, 하, 지, 않, 다, ., 교양, 과, 인문학, 이, 결합, 하, ㄴ, 기술, 이야말로, 가슴, 벅차, ㄴ, 결과, 를, 낳, 을, 것, \", 이, 라며, 예술, 과, 디자인, 의, 중요성, 을, 강조, 하, 었다, ., 이런, 관점, 을, 바탕, 으로, 잡스, 는, 세계, 최고, 가치, 를, 인정, 받, 는, 기업, 을, 만들, 었고, ,, 기술, 산업, 의, 새롭, 은, 표준, 까지, 정하, 었다, ., 실리콘밸리, 에서, 최근, 뜨, 고, 있, 는, 스타, 기업, 이, ㄴ, 중, 에는, 인문학, 전공자들, 이, 제법, 많, 다, ., 구인·구직, 소셜, 네트워킹, 서비스, 기업, 이, ㄴ, 링크드인(LinkedIn), 창업자, 리드, 호프, 만은, 철학, 석사, 학위, 소지자, 이, 며, ,, 수잔, 보이치키, 유튜브, CEO, 는, 역사, 와, 문학, 을, 전공, 하, 었다, ., 메신저, 개발, 업체, 슬랙(Slack), 의, 창업자, 스튜어트, 버터필드, 는, 철학, ,, 세계, 최대, 숙박, 공유, 기업, 이, ㄴ, 에어비앤비, 의, 설립자, 브라이언, 체스키, 는, 미술, 을, 전공, 하, 었다, ., 중국, 알리바바그룹, 의, 마윈, 회장, 의, 학부, 전공, 은, 영어, 이, 었다, ., 나, 가, 속하, 어, 있, 는, 하버드대·듀크대, 연구팀, 은, 미국, IT, 기업, 창업자들, 의, 92, %, 가, 학사, 학위, 를, ,, 47, %, 는, 석사, 학위, 이상, 을, 갖, 고, 있, 음, 을, 밝히, 어, 내, 었다, ., 창업자들, 의, 세부, 전공, 을, 보, 면, 37, %, 만, 공학·컴퓨터, 기술, 이, 며, ,, 수학, 전공자, 는, 2, %, 뿐, 이, 었다, ., 이, 들, 의, 전공, 은, 경영·회계·보건·예술·인문학, 등, 매우, 다양, 하, 었다, ., 컴퓨터, 주변기, 이, 기, 제조, 업체, 로지텍, 의, 브랙큰, 대럴, CEO, 도, 영문학, 을, 전공, 하, 었다, ., 최근, 나, 가, 그, 에게, \", 어떻, 게, 5년여, 만, 에, 회사, 주가, 를, 450, %, 올리, ㄹ, 수, 있, 었느냐, \", 고, 묻, 었더니, 그, 는, \", 우리, 회사, 가, 만들, 는, 모든, 제품, 의, 디자인, 을, 쉬, ㅁ, 없이, 고민, 하, 었기, 때문, 에, 가능, 하, 었다, ., 기술, 관련, 제품, 의, 성공, 에, 가장, 중요, 하, ㄴ, 것, 은, 디자인, \", 이, 라, 고, 답, 하, 었다, ., 4차, 산업혁명, 은, ', 혁신, 의, 규칙, ', 을, 바꾸, 는, 일, 이, 다, ., 여기, 에는, 컴퓨터, 와, 인공지능, ,, 디지털, 의술, ,, 로봇공학, ,, 합성생물학, 등, 광범위, 하, ㄴ, 기술, 이, 활용, 되, ㄴ다, ., 의학·인공지능, 과, 센서, 를, 융합, 하, 면, 인간, 의, 건강, 을, 진단, 하고, 질병, 을, 예방, 하, 는, ', 디지털, 의사, ', 를, 만들, ㄹ, 수, 있, 다, ., 유전체학, 과, 유전자, 편집, 을, 이용, 하, 어, 가뭄, 에, 강하, 고, 인류, 전체, 를, 먹이, 어, 살리, ㄹ, 새, 식물, 을, 개발, 하, ㄹ, 수, 있, 다, ., 인공지능, 로봇, 을, 사용, 하, 어, 노인들, 을, 위하, ㄴ, ', 디지털, 친구, ', 도, 가능, 하, 다, ., 초소형, 물질, 의, 발전, 은, 모든, 사람, 이, 충분히, 이용, 하, ㄹ, 수, 있, 는, ', 태양열, 저장, 기술, ', 의, 새, 시대, 를, 열, ㄹ, 것, 이, 다, ., 이런, 해결책, 을, 이끌, 어, 내, 는, 데, 는, 생물학·교육·의료·인간행동, 등, 여러, 분야, 에, 대하, ㄴ, 지식, 이, 필요, 하, 다, ., 우리, 가, 처하, ㄴ, 거대, 하, ㄴ, 사회·기술적, 도전, 에, 대처, 하, 려면, 인류, 를, 둘러싸, ㄴ, 다양한, 배경, 과, 맥락, 에, 대, 어, 하, 어, 비판적, 사, 고, 능력, 이, 필수적, 이, 다, ., 이, 는, 인문학, 전공자들, 이, 가장, 잘, 훈련, 받, 은, 분야, 이, 다, ., 일례, 로, 음악·예술·문학, 과, 심리학, 에서, 비롯, 하, ㄴ, 공감(共感), 능력, 은, 디자인, 에, 크, ㄴ, 장점, 이, 되, ㄴ다, ., 로마제국, 의, 흥망성쇠, 와, 계몽주의, 를, 공부, 하, ㄴ, 역사학도, 는, 기술, 의, 인간적, 요소, 와, 유용성, 에, 대하, ㄴ, 통찰력, 을, 가, 아, 지, ㄹ, 수, 있, 다, ., 심리학, 전공자, 는, 사람, 에게, 동기(動機)부여, 가, 무엇, 이, 며, ,, 사용자들, 이, 원하, 는, 것, 이, 무엇, 이, ㄴ, 지, 를, 공학, 하, ㄴ, 분야, 에서만, 일, 하, 어, 오, ㄴ, 엔지니어들보, 이, 다, 잘, 이해, 하, ㄹ, 수, 있, 다, ., 우리, 가, 상상, 하, 는, 물건, 을, 3D, 로, 만들, ㄹ, 수, 있, 게, 되, 면, 음악, 가나, 화가들, 의, 세상, 이, 되, ㄹ지, 도, 모르, ㄴ다, .\", 자녀, 가, 미래, 에, 어떤, 직업, 을, 택하, 면, 좋, 겠는가, \", 라는, 질문, 을, 받, 을, 때, 나, 는, \", 아이들, 이, 스스로, 하, 고, 싶, 은, 것, 을, 선택, 하, 도록, 내, 어, 버리, 어, 두, 는, 것, 이, 최선, \", 이, 라, 고, 답, 하, ㄴ다, ., 과거, 우리, 부모들, 이, 우리, 에게, 공부, 를, 강요, 하, 어서, 학습, 을, ', 억지로, 하, 어야, 하, 는, 따분한, 일, ', 로, 여기, 이, 게, 하, 었던, 방식, 을, 따르, 아, 하, 어선, 안, 되, ㄴ다, ., 그, 대, 이, 시ㄴ, 자녀, 가, 자신, 의, 열정, 을, 추구, 하고, 배우, 는, 거, ㄹ, 즐기, ㄹ, 수, 있, 도록, 북돋, 아, 하, ㄴ다, ., 기술, 을, 통하, 어, 놀랍, 은, 미래, 를, 창조, 하고, 새롭, 은, 산업혁명, 시대, 에, 리, 이, 더어, 가, 아, 되, 기, 위하, 어, 한국에서, 는, 공학자들, 과, 손잡, 고, 일할, 음악가, 와, 화가, 가, 더, 많, 이, 필요, 하, 다, ., 이제, 는, 과학·공학·의학뿐, 아니, 라, 창의성, 과, 디자인, 에도, 진정한, 관심, 을, 쏟, 아, 하, ㄴ다, .]\n",
            "[교육, 을, 삶, 의, 최, 우선, 순위, 로, 두고, 있는, 한국, 의, 부모, 들, 은, 대학, 전공, 가운데, 의학과, 공학, ·, 과학, 을, 중시, 한다, ., 자녀, 의, 직업, 적, 성공, 을, 위해, 대학, 전공, 으로, 의학과, 이공, 계, 를, 우선, 적, 으로, 고려, 하는, 일, 은, 한국, 이, 산업화, 중, 이던, 상황, 에선, 올바른, 선택, 이었다, ., 하지만, 지금, 은, 모든, 것, 이, 달라졌다, ., 요즘, 실리콘밸리, 에서, 확인, 되는, 것, 은, 4, 차, 산업혁명, 시대, 에는, 예술, 과, 인문학, 이, 의학, ·, 공학, 만큼, 중요하다는, 사실, 이다, ., 스티브, 잡스, 는, 자신, 이, 대학, 시절, 수강, 했던, 서체, (, 書體, ), 수업, 이, 매킨토시, (, 애플, 이, 1984년, 발표, 한, 개인, 용, 컴퓨터, ), 개발, 성공, 에, 큰, 영향, 을, 미쳤다고, 말, 했다, ., 그, 는, 2011년, 아이패드, 2, 를, 공개, 하면서, \", 애플, 의, DNA, 는, 기술, 만으로는, 충분하지, 않다, ., 교양, 과, 인문학, 이, 결합, 한, 기술, 이야말로, 가슴, 벅찬, 결과, 를, 낳을, 것, \", 이, 라며, 예술, 과, 디자인, 의, 중요성, 을, 강조, 했다, ., 이런, 관점, 을, 바탕, 으로, 잡스, 는, 세계, 최고, 가치, 를, 인정받는, 기업, 을, 만들었고, ,, 기술, 산업, 의, 새로운, 표준, 까지, 정, 했다, ., 실리콘밸리, 에서, 최근, 뜨고, 있는, 스타, 기업인, 중, 에는, 인문학, 전공자, 들, 이, 제법, 많다, ., 구인, ·, 구직, 소셜, 네트워킹, 서비스, 기업인, 링크드인, (, LinkedIn, ), 창업, 자, 리드, 호프, 만은, 철학, 석사, 학위, 소지, 자, 이며, ,, 수, 잔, 보이, 치키, 유튜브, CEO, 는, 역사, 와, 문학, 을, 전공, 했다, ., 메신저, 개발, 업체, 슬랙, (, Slack, ), 의, 창업, 자, 스튜어트, 버터, 필드, 는, 철학, ,, 세계, 최대, 숙박, 공유, 기업인, 에어비앤비, 의, 설립, 자, 브라이언, 체, 스키, 는, 미술, 을, 전공, 했다, ., 중국, 알리바바, 그룹, 의, 마윈, 회장, 의, 학부, 전공, 은, 영어, 였다, ., 내, 가, 속, 해, 있는, 하버드대, ·, 듀크, 대, 연, 구, 팀, 은, 미국, IT, 기업, 창업, 자, 들, 의, 92%, 가, 학사, 학위, 를, ,, 47%, 는, 석사, 학위, 이상, 을, 갖고, 있, 음, 을, 밝혀냈다, ., 창업, 자, 들, 의, 세부, 전공, 을, 보면, 37%, 만, 공학, ·, 컴퓨터, 기술, 이며, ,, 수학, 전공자, 는, 2%, 뿐이었다, ., 이, 들, 의, 전공, 은, 경영, ·, 회계, ·, 보건, ·, 예술, ·, 인문학, 등, 매우, 다양했다, ., 컴퓨터, 주변기기, 제조, 업체, 로지텍, 의, 브랙큰, 대럴, CEO, 도, 영문학, 을, 전공, 했다, ., 최근, 내, 가, 그, 에게, \", 어떻게, 5년, 여, 만에, 회사, 주가, 를, 450%, 올릴, 수, 있었느냐, \", 고, 물었더니, 그, 는, \", 우리, 회사, 가, 만드는, 모든, 제품, 의, 디자인, 을, 쉼, 없이, 고민, 했기, 때문, 에, 가능했다, ., 기술, 관련, 제품, 의, 성공, 에, 가장, 중요한, 것, 은, 디자인, \", 이라고, 답, 했다, ., 4, 차, 산업혁명, 은, ', 혁신, 의, 규칙, ', 을, 바꾸는, 일이, 다, ., 여기, 에는, 컴퓨터, 와, 인공, 지능, ,, 디지털, 의술, ,, 로봇공학, ,, 합성생물학, 등, 광범위한, 기술, 이, 활용, 된다, ., 의학, ·, 인공, 지능, 과, 센서, 를, 융합, 하면, 인간, 의, 건강, 을, 진단, 하고, 질병, 을, 예방, 하는, ', 디지털, 의사, ', 를, 만들, 수, 있다, ., 유전체학, 과, 유전자, 편집, 을, 이용, 해, 가뭄, 에, 강하고, 인류, 전체, 를, 먹여, 살릴, 새, 식물, 을, 개발, 할, 수, 있다, ., 인공, 지능, 로봇, 을, 사용, 해, 노인, 들, 을, 위, 한, ', 디지털, 친구, ', 도, 가능하다, ., 초소, 형, 물질, 의, 발전, 은, 모든, 사람, 이, 충분히, 이용, 할, 수, 있는, ', 태양열, 저장, 기술, ', 의, 새, 시대, 를, 열, 것, 이다, ., 이런, 해결, 책, 을, 이끌어내는, 데, 는, 생물학, ·, 교육, ·, 의료, ·, 인간, 행동, 등, 여러, 분야, 에, 대한, 지식, 이, 필요하다, ., 우리, 가, 처, 한, 거대한, 사회, ·, 기술, 적, 도전, 에, 대처, 하려면, 인류, 를, 둘러싼, 다양한, 배경, 과, 맥락, 에, 대해, 비판, 적, 사고, 능력, 이, 필수, 적, 이다, ., 이는, 인문학, 전공자, 들, 이, 가장, 잘, 훈련, 받은, 분야, 이다, ., 일례, 로, 음악, ·, 예술, ·, 문학, 과, 심리학, 에서, 비롯, 한, 공감, (, 共感, ), 능력, 은, 디자인, 에, 큰, 장점, 이, 된다, ., 로마제국, 의, 흥망, 성쇠, 와, 계몽, 주의, 를, 공부, 한, 역사학도, 는, 기술, 의, 인간, 적, 요소, 와, 유용성, 에, 대한, 통찰, 력, 을, 가질, 수, 있다, ., 심리학, 전공자, 는, 사람, 에게, 동기, (, 動機, ), 부여, 가, 무엇, 이며, ,, 사용자, 들, 이, 원하는, 게, 무엇, 인지, 를, 공학, 한, 분야, 에서만, 일, 해온, 엔지니어, 들, 보다, 잘, 이해, 할, 수, 있다, ., 우리, 가, 상상, 하는, 물건, 을, 3, D, 로, 만들, 수, 있게, 되면, 음악가, 나, 화가, 들, 의, 세상, 이, 될지도, 모른다, .\", 자녀, 가, 미래, 에, 어떤, 직업, 을, 택하, 면, 좋겠는가, \", 라는, 질문, 을, 받을, 때, 나, 는, \", 아이, 들, 이, 스스로, 하고, 싶은, 것, 을, 선택, 하도록, 내버려, 두는, 게, 최선, \", 이라고, 답, 한다, ., 과거, 우리, 부모, 들, 이, 우리, 에게, 공부, 를, 강요, 해서, 학습, 을, ', 억지로, 해야, 하는, 따분한, 일, ', 로, 여기, 게, 했던, 방식, 을, 따라, 해선, 안, 된다, ., 그, 대신, 자녀, 가, 자신, 의, 열정, 을, 추구, 하고, 배우는, 걸, 즐길, 수, 있도록, 북, 돋아야, 한다, ., 기술, 을, 통해, 놀라운, 미래, 를, 창조, 하고, 새로운, 산업혁명, 시대, 에, 리더, 가, 되기, 위해, 한국, 에서는, 공학자, 들, 과, 손잡고, 일, 할, 음악가, 와, 화가, 가, 더, 많이, 필요하다, ., 이제, 는, 과학, ·, 공학, ·, 의학, 뿐, 아니라, 창의성, 과, 디자인, 에도, 진정한, 관심, 을, 쏟아야, 한다, .]\n",
            "[교육, 을, 삶, 의, 최, 우선, 순위, 로, 두, 고, 있, 는, 한국, 의, 부모, 들, 은, 대학, 전공, 가운데, 의학, 과, 공학, ·, 과학, 을, 중시, 하, ㄴ다, ., 자녀, 의, 직업적, 성공, 을, 위하, 어, 대학, 전공, 으로, 의학, 과, 이공계, 를, 우선적, 으로, 고려, 하, 는, 일, 은, 한국, 이, 산업화, 중이, 덜, ㄴ, 상황, 에서, 는, 올바르, ㄴ, 선택, 이, 었, 다, ., 하지만, 지금, 은, 모든, 것, 이, 달라지, 었, 다, ., 요즘, 실리콘밸리, 에서, 확인, 되, 는, 것, 은, 4, 차, 산업, 혁명, 시대, 에, 는, 예술, 과, 인문학, 이, 의학, ·, 공학, 만큼, 중요, 하다, 는, 사실, 이, 다, ., 스티브, 잡스, 는, 자신, 이, 대학, 시절, 수강, 하, 었, 더, ㄴ, 서체, (, 書體, ), 수업, 이, 매킨토시, (, 애플, 이, 1984, 년, 발표, 하, ㄴ, 개인용, 컴퓨터, ), 개발, 성공, 에, 크, ㄴ, 영향, 을, 미치, 었, 다고, 말하, 었, 다, ., 그, 는, 2011, 년, 아이, 패드, 2, 를, 공개, 하, 면서, \", 애플, 의, DNA, 는, 기술, 만, 으로, 는, 충분, 하, 지, 않, 다, ., 교양, 과, 인문학, 이, 결합, 하, ㄴ, 기술, 이야말로, 가슴, 벅차, ㄴ, 결과, 를, 낳, 을, 것, \", 이, 라며, 예술과, 디자인, 의, 중요성, 을, 강조, 하, 었, 다, ., 이런, 관점, 을, 바탕, 으로, 잡스, 는, 세계, 최고, 가치, 를, 인정받, 는, 기업, 을, 만들, 었, 고, ,, 기술, 산업, 의, 새롭, ㄴ, 표준, 까지, 정하, 었, 다, ., 실리콘, 밸리, 에서, 최근, 뜨, 고, 있, 는, 스타, 기업인, 중, 에, 는, 인문학, 전공자, 들, 이, 제법, 많, 다, ., 구인, ·, 구직, 소, 셜, 네트, 워킹, 서비스, 기업인, 링크, 드이, ㄴ, (, LinkedIn, ), 창, 업자, 리드, 호프만, 은, 철학, 석사, 학위, 소지자, 이, 며, ,, 수, 잔, 보이, 하, 지, 키, 유, 튜브, CEO, 는, 역사, 와, 문학, 을, 전공, 하, 었, 다, ., 메신저, 개발, 업체, 슬, ㄹ, 랙, (, Slack, ), 의, 창업자, 스튜, 어트, 버터, 필드, 는, 철학, ,, 세계, 최대, 숙박, 공유, 기업인, 에어, 비, 앤, 비의, 설립자, 브라, 이언, 체, 스키, 는, 미술, 을, 전공, 하, 었, 다, ., 중국, 알, 리, 바, 바, 그룹, 의, 마, 윈, 회장, 의, 학부, 전공, 은, 영어, 이, 었, 다, ., 내, 가, 속하, 어, 있, 는, 하버드, 대, ·, 듀, 크, 대, 연구, 팀, 은, 미국, IT, 기업, 창업자, 들, 의, 92, %, 가, 아, 학사, 학위, 를, ,, 47, %, 늘, ㄴ, 석사, 학위, 이상, 을, 갖, 고, 있음, 을, 밝혀내, 었, 다, ., 창업자, 들, 의, 세부, 전공, 을, 보, 면, 37, %, 만, 공학, ·, 컴퓨터, 기술, 이, 며, ,, 수학, 전공자, 는, 2, %, 뿐, 이, 었, 다, ., 이, 들, 의, 전공, 은, 경영, ·, 회계, ·, 보건, ·, 예술, ·, 인문학, 등, 매우, 다양, 하, 었, 다, ., 컴퓨터, 주변, 기기, 제조, 업체, 로지텍, 의, 브랙, 크, ㄴ, 대, 럴, CEO, 도, 영문학, 을, 전공, 하, 었, 다, ., 최근, 내가, 그, 에게, \", 어떻, 게, 5, 년, 여, 만, 에, 회사, 주가, 를, 450, %, 올리, ㄹ, 수, 있, 었, 느냐, \", 고, 묻, 었, 더니, 그, 는, \", 우리, 회사, 가, 만들, 는, 모든, 제품, 의, 디자인, 을, 쉼, 없이, 고민, 하, 었, 기, 때문, 에, 가능, 하, 었, 다, ., 기술, 관련, 제품, 의, 성공, 에, 가장, 중요, 하, ㄴ, 것, 은, 디자인, \", 이, 라고, 답하, 었, 다, ., 4, 차, 산업, 혁명, 은, ', 혁신, 의, 규칙, ', 을, 바꾸, 는, 일, 이, 다, ., 여기, 에, 는, 컴퓨터, 와, 인공지능, ,, 디지털, 의술, ,, 로봇, 공학, ,, 합성, 생물학, 등, 광범위, 하, ㄴ, 기술, 이, 활용, 되, ㄴ다, ., 의학, ·, 인공지능, 과, 센서, 를, 융합, 하, 면, 인간, 의, 건강, 을, 진단, 하, 고, 질병, 을, 예방, 하, 는, ', 디지털, 의사, ', 를, 만들, ㄹ, 수, 있, 다, ., 유전체, 학과, 유전자, 편집, 을, 이용, 하, 어, 가뭄, 에, 강하, 고, 인류, 전체, 를, 먹이, 어, 살리, ㄹ, 새, 식물, 을, 개발, 하, ㄹ, 수, 있, 다, ., 인공지능, 로봇, 을, 사용하, 어, 노인, 들, 을, 위하, ㄴ, ', 디지털, 친구, ', 도, 가능, 하, 다, ., 초소형, 물질, 의, 발전, 은, 모든, 사람, 이, 충분히, 이용, 하, ㄹ, 수, 있, 는, ', 태양, 열, 저장, 기술, ', 의, 새, 시대, 를, 열, ㄹ, 것, 이, 다, ., 이런, 해결책, 을, 이끌어내, 는, 데는, 생물학, ·, 교육, ·, 의료, ·, 인간, 행동, 등, 여러, 분야, 에, 대하, ㄴ, 지식, 이, 필요, 하, 다, ., 우리, 가, 처하, ㄴ, 거대, 하, ㄴ, 사회, ·, 기술적, 도전, 에, 대처, 하, 려면, 인류, 를, 둘러싸, ㄴ, 다양, 하, ㄴ, 배경, 과, 맥락, 에, 대하, 어, 비판적, 사고, 능력, 이, 필수적, 이, 다, ., 일, 는, 인문학, 전공자, 들, 이, 가장, 잘, 훈련, 받, 은, 분야, 이, 다, ., 일례, 로, 음악, ·, 예술, ·, 문, 학과, 심리학, 에서, 비롯, 하, ㄴ, 공감, (, 共感, ), 능력, 은, 디자인, 에, 크, ㄴ, 장점, 이, 되, ㄴ다, ., 로마, 제국, 의, 흥망성쇠, 와, 계몽, 주의, 를, 공부, 하, ㄴ, 역사, 학도, 는, 기술, 의, 인간적, 요소, 와, 유용성, 에, 대하, ㄴ, 통찰력, 을, 가지, ㄹ, 수, 있, 다, ., 심리학, 전공자, 는, 사람, 에게, 동기, (, 動機, ), 부여, 가, 무엇, 이, 며, ,, 사용자, 들, 이, 원하, 는, 것, 이, 무엇, 이, ㄴ지, 를, 공학, 한, 분야, 에서, 만, 일하, 어, 오, ㄴ, 엔지니어, 들, 보다, 잘, 이해, 하, ㄹ, 수, 있, 다, ., 우리, 가, 상상, 하, 는, 물건, 을, 3, D, 로, 만들, ㄹ, 수, 있, 게, 되, 면, 음악가, 나, 아, 화가, 들, 의, 세상, 이, 되, ㄹ지, 도, 모르, ㄴ다, ., \", 자녀, 가, 미래, 에, 어떤, 직업, 을, 택하, 면, 좋, 겠, 는, 가, 아, \", 이, 라는, 질문, 을, 받, 을, 때, 나, 는, \", 아이, 들, 이, 스스로, 하, 고, 싶, 은, 것, 을, 선택, 하, 도록, 내버리, 어, 두, 는, 것, 이, 최선, \", 이, 라고, 답하, ㄴ다, ., 과거, 우리, 부모, 들, 이, 우리, 에게, 공부, 를, 강요, 하, 어서, 학습, 을, ', 억지로, 하, 어야, 하, 는, 따분, 하, ㄴ, 일, ', 로, 여기, 게, 하, 었, 더, ㄴ, 방식, 을, 따르, 아, 해선, 안, 되, ㄴ다, ., 그, 대신, 자녀, 가, 자신, 의, 열정, 을, 추구, 하, 고, 배우, 는, 것, 을, 즐기, ㄹ, 수, 있, 도록, 북돋, 아야, 하, ㄴ다, ., 기술, 을, 통하, 어, 놀랍, ㄴ, 미래, 를, 창조, 하, 고, 새롭, ㄴ, 산업, 혁명, 시대, 에, 리더, 가, 되, 기, 위하, 어, 한국, 에서, 는, 공학자, 들, 과, 손잡, 고, 일하, ㄹ, 음악가, 와, 화가, 가, 더, 많이, 필요, 하, 다, ., 이제, 는, 과학, ·, 공학, ·, 의학, 뿐, 아니, 라, 창, 의, 성과, 디자인, 에, 도, 진정하, ㄴ, 관심, 을, 쏟, 아야, 하, ㄴ다, .]\n"
          ],
          "name": "stdout"
        }
      ]
    },
    {
      "metadata": {
        "id": "2M7nyptjunTG",
        "colab_type": "text"
      },
      "cell_type": "markdown",
      "source": [
        "### 2.3 한글 품사 부착 (PoS Tagging)\n",
        "\n",
        "PoS Tag 목록\n",
        "\n",
        "https://docs.google.com/spreadsheets/u/1/d/1OGAjUvalBuX-oZvZ_-9tEfYD2gQe7hTGsgUpiiBSXI8/edit#gid=0"
      ]
    },
    {
      "metadata": {
        "id": "2t6txrctj8nC",
        "colab_type": "code",
        "outputId": "58931421-4d2a-43e9-ae4b-278a1b9d93e6",
        "colab": {
          "base_uri": "https://localhost:8080/",
          "height": 109
        }
      },
      "cell_type": "code",
      "source": [
        "# 코모란(Komoran) 품사 태깅\n",
        "komoranTag = []\n",
        "for token in komoran_tokens:\n",
        "    komoranTag += komoran.pos(token)\n",
        "print(komoranTag)\n",
        "\n",
        "# 한나눔(Hannanum) 품사 태깅\n",
        "hannanumTag = []\n",
        "for token in hannanum_tokens:\n",
        "    hannanumTag += hannanum.pos(token)\n",
        "print(hannanumTag)\n",
        "\n",
        "# Okt 품사 태깅\n",
        "oktTag = []\n",
        "for token in okt_tokens:\n",
        "    oktTag += okt.pos(token)\n",
        "print(oktTag)\n",
        "\n",
        "# Kkma 품사 태깅\n",
        "kkmaTag = []\n",
        "for token in kkma_tokens:\n",
        "    kkmaTag += kkma.pos(token)\n",
        "print(kkmaTag)"
      ],
      "execution_count": 0,
      "outputs": [
        {
          "output_type": "stream",
          "text": [
            "[('교육', 'NNG'), ('을', 'NNG'), ('삶', 'NNG'), ('의', 'NNG'), ('최', 'NNP'), ('우선', 'MAG'), ('순위', 'NNP'), ('로', 'NNG'), ('두', 'MM'), ('고', 'MM'), ('있', 'VV'), ('늘', 'VV'), ('ㄴ', 'ETM'), ('한국', 'NNP'), ('의', 'NNG'), ('부모', 'NNG'), ('들', 'VV'), ('ㄹ', 'ETM'), ('은', 'NNP'), ('대학', 'NNG'), ('전공', 'NNG'), ('가운데', 'NNG'), ('의학', 'NNP'), ('과', 'NNG'), ('공학', 'NNP'), ('·', 'SP'), ('과학', 'NNG'), ('을', 'NNG'), ('중시', 'NNG'), ('하', 'NNG'), ('ㄴ다', 'EC'), ('.', 'SF'), ('자녀', 'NNG'), ('의', 'NNG'), ('직업', 'NNG'), ('적', 'NNB'), ('성공', 'NNG'), ('을', 'NNG'), ('위하', 'VV'), ('아', 'IC'), ('대학', 'NNG'), ('전공', 'NNG'), ('으로', 'JKB'), ('의학', 'NNP'), ('과', 'NNG'), ('이공', 'NNP'), ('계', 'NNG'), ('를', 'JKO'), ('우선', 'MAG'), ('적', 'NNB'), ('으로', 'JKB'), ('고려', 'NNP'), ('하', 'NNG'), ('늘', 'VV'), ('ㄴ', 'ETM'), ('일', 'NNB'), ('은', 'NNP'), ('한국', 'NNP'), ('이', 'MM'), ('산업화', 'NNP'), ('중', 'NNB'), ('이', 'MM'), ('덜', 'VV'), ('ㄴ', 'ETM'), ('상황', 'NNG'), ('에서', 'JKB'), ('ㄴ', 'JX'), ('올', 'MM'), ('바르', 'NNP'), ('ㄴ', 'JX'), ('선택', 'NNG'), ('이', 'MM'), ('었', 'EP'), ('다', 'MAG'), ('.', 'SF'), ('하지만', 'MAJ'), ('지금', 'MAG'), ('은', 'NNP'), ('모든', 'MM'), ('것', 'NNB'), ('이', 'MM'), ('달라', 'VV'), ('지', 'EC'), ('었', 'EP'), ('다', 'MAG'), ('.', 'SF'), ('요즘', 'NNG'), ('실리콘밸리', 'NNP'), ('에서', 'JKB'), ('확인', 'NNG'), ('되', 'NNB'), ('늘', 'VV'), ('ㄴ', 'ETM'), ('것', 'NNB'), ('은', 'NNP'), ('4', 'SN'), ('차', 'NNB'), ('산업', 'NNG'), ('혁명', 'NNG'), ('시대', 'NNG'), ('에', 'JKB'), ('늘', 'VV'), ('ㄴ', 'ETM'), ('예술', 'NNG'), ('과', 'NNG'), ('인문학', 'NNP'), ('이', 'MM'), ('의학', 'NNP'), ('·', 'SP'), ('공학', 'NNP'), ('만큼', 'NNB'), ('중요', 'XR'), ('하', 'NNG'), ('달', 'VV'), ('는', 'ETM'), ('사실', 'NNG'), ('이', 'MM'), ('다', 'MAG'), ('.', 'SF'), ('스티브 잡스', 'NNP'), ('늘', 'VV'), ('ㄴ', 'ETM'), ('자신', 'NNG'), ('이', 'MM'), ('대학', 'NNG'), ('시절', 'NNG'), ('수강', 'NNG'), ('하', 'NNG'), ('오', 'VX'), ('았', 'EP'), ('덜', 'VV'), ('ㄴ', 'ETM'), ('서', 'VV'), ('어', 'EC'), ('체', 'NNB'), ('(', 'SS'), ('書體', 'SH'), (')', 'SS'), ('수업', 'NNG'), ('이', 'MM'), ('매킨토시', 'NNP'), ('(', 'SS'), ('애플', 'NNP'), ('이', 'MM'), ('1984', 'SN'), ('년', 'NNB'), ('발표', 'NNG'), ('하', 'NNG'), ('ㄴ', 'JX'), ('개인용 컴퓨터', 'NNP'), (')', 'SS'), ('개발', 'NNG'), ('성공', 'NNG'), ('에', 'JKB'), ('크', 'VV'), ('ㄴ', 'JX'), ('영향', 'NNG'), ('을', 'NNG'), ('미', 'NNG'), ('하', 'XSV'), ('지', 'EC'), ('었', 'EP'), ('다', 'MAG'), ('이', 'VCP'), ('고', 'EC'), ('말', 'NNG'), ('하', 'NNG'), ('오', 'VX'), ('았', 'EP'), ('다', 'MAG'), ('.', 'SF'), ('그', 'MM'), ('늘', 'VV'), ('ㄴ', 'ETM'), ('2011', 'SN'), ('년', 'NNB'), ('아이패드 2', 'NNP'), ('를', 'JKO'), ('공개', 'NNG'), ('하', 'NNG'), ('면', 'NNG'), ('서', 'JKB'), ('\"', 'SS'), ('애플', 'NNP'), ('의', 'NNG'), ('DNA', 'SL'), ('늘', 'VV'), ('ㄴ', 'ETM'), ('기술', 'NNG'), ('만', 'NR'), ('으로', 'JKB'), ('늘', 'VV'), ('ㄴ', 'ETM'), ('충분', 'XR'), ('하', 'NNG'), ('지', 'NNB'), ('않', 'VV'), ('다', 'MAG'), ('.', 'SF'), ('교양', 'NNG'), ('과', 'NNG'), ('인문학', 'NNP'), ('이', 'MM'), ('결합', 'NNG'), ('하', 'NNG'), ('ㄴ', 'JX'), ('기술', 'NNG'), ('이', 'NP'), ('야말로', 'JX'), ('가슴', 'NNG'), ('벅차', 'NNP'), ('ㄴ', 'JX'), ('결과', 'NNG'), ('를', 'JKO'), ('낳', 'VV'), ('을', 'NNG'), ('것', 'NNB'), ('\"', 'SS'), ('이', 'MM'), ('이', 'VCP'), ('라며', 'EC'), ('예술', 'NNG'), ('과', 'NNG'), ('디자인', 'NNP'), ('의', 'NNG'), ('중요', 'XR'), ('성', 'NNG'), ('을', 'NNG'), ('강조', 'NNG'), ('하', 'NNG'), ('오', 'VX'), ('았', 'EP'), ('다', 'MAG'), ('.', 'SF'), ('이런', 'MM'), ('관점', 'NNG'), ('을', 'NNG'), ('바탕', 'NNG'), ('으로', 'JKB'), ('잡스', 'NNP'), ('늘', 'VV'), ('ㄴ', 'ETM'), ('세계', 'NNG'), ('최고', 'NNG'), ('가치', 'NNG'), ('를', 'JKO'), ('인정받', 'VV'), ('늘', 'VV'), ('ㄴ', 'ETM'), ('기업', 'NNG'), ('을', 'NNG'), ('만들', 'VV'), ('ㄹ', 'ETM'), ('었', 'EP'), ('고', 'MM'), (',', 'SP'), ('기술', 'NNG'), ('산업', 'NNG'), ('의', 'NNG'), ('새', 'MM'), ('롭', 'NNP'), ('ㄴ', 'JX'), ('표준', 'NNP'), ('까', 'VV'), ('지', 'EC'), ('정', 'NNP'), ('하', 'NNP'), ('오', 'VX'), ('았', 'EP'), ('다', 'MAG'), ('.', 'SF'), ('실리콘밸리', 'NNP'), ('에서', 'JKB'), ('최근', 'NNG'), ('뜨', 'VV'), ('고', 'MM'), ('있', 'VV'), ('늘', 'VV'), ('ㄴ', 'ETM'), ('스타', 'NNP'), ('기업인', 'NNG'), ('중', 'NNB'), ('에', 'JKB'), ('늘', 'VV'), ('ㄴ', 'ETM'), ('인문학', 'NNP'), ('전공자', 'NNG'), ('들', 'VV'), ('ㄹ', 'ETM'), ('이', 'MM'), ('제법', 'MAG'), ('많', 'NA'), ('다', 'MAG'), ('.', 'SF'), ('구인', 'NNP'), ('·', 'SP'), ('구직', 'NNP'), ('소', 'NNP'), ('시', 'NNB'), ('어', 'IC'), ('ㄹ', 'NA'), ('네트', 'NNP'), ('워킹', 'NNP'), ('서비스', 'NNG'), ('기업인', 'NNG'), ('링크', 'NNP'), ('드', 'NNP'), ('인', 'NNG'), ('(', 'SS'), ('LinkedIn', 'SL'), (')', 'SS'), ('창업자', 'NNG'), ('리드', 'NNP'), ('호프만', 'NNP'), ('은', 'NNP'), ('철학', 'NNG'), ('석사', 'NNP'), ('학위', 'NNP'), ('소지자', 'NNG'), ('이', 'MM'), ('이', 'VCP'), ('며', 'EC'), (',', 'SP'), ('수잔', 'NNP'), ('보이', 'NNP'), ('치', 'NNB'), ('하', 'NNG'), ('기', 'NNG'), ('유튜브', 'NNP'), ('CEO', 'SL'), ('늘', 'VV'), ('ㄴ', 'ETM'), ('역사', 'NNG'), ('오', 'VV'), ('아', 'EC'), ('문학', 'NNG'), ('을', 'NNG'), ('전공', 'NNG'), ('하', 'NNG'), ('오', 'VX'), ('았', 'EP'), ('다', 'MAG'), ('.', 'SF'), ('메신저', 'NNP'), ('개발', 'NNG'), ('업체', 'NNG'), ('슬랙(Slack)의', 'NA'), ('창업자', 'NNG'), ('스튜어트', 'NNP'), ('버터필드', 'NNP'), ('늘', 'VV'), ('ㄴ', 'ETM'), ('철학', 'NNG'), (',', 'SP'), ('세계', 'NNG'), ('최대', 'NNG'), ('숙박', 'NNP'), ('공유', 'NNP'), ('기업인', 'NNG'), ('에어비앤비', 'NNP'), ('의', 'NNG'), ('설립자', 'NNG'), ('브라이언', 'NNP'), ('체', 'NNB'), ('스키', 'NNP'), ('늘', 'VV'), ('ㄴ', 'ETM'), ('미술', 'NNP'), ('을', 'NNG'), ('전공', 'NNG'), ('하', 'NNG'), ('오', 'VX'), ('았', 'EP'), ('다', 'MAG'), ('.', 'SF'), ('중국', 'NNP'), ('알리바바', 'NNP'), ('그룹', 'NNG'), ('의', 'NNG'), ('마윈', 'NNP'), ('회장', 'NNG'), ('의', 'NNG'), ('학부', 'NNP'), ('전공', 'NNG'), ('은', 'NNP'), ('영어', 'NNP'), ('이', 'MM'), ('었', 'EP'), ('다', 'MAG'), ('.', 'SF'), ('내', 'NP'), ('가', 'VV'), ('아', 'EC'), ('속', 'NNG'), ('하', 'NNG'), ('아', 'IC'), ('있', 'VV'), ('늘', 'VV'), ('ㄴ', 'ETM'), ('하버드대', 'NNP'), ('·', 'SP'), ('듀크', 'NNP'), ('대', 'NNB'), ('연구', 'NNG'), ('팀', 'NNG'), ('은', 'NNP'), ('미국', 'NNP'), ('IT', 'SL'), ('기업', 'NNG'), ('창업자', 'NNG'), ('들', 'VV'), ('ㄹ', 'ETM'), ('의', 'NNG'), ('92', 'SN'), ('%', 'SW'), ('가', 'VV'), ('아', 'EC'), ('학사', 'NNP'), ('학위', 'NNP'), ('를', 'JKO'), (',', 'SP'), ('47', 'SN'), ('%', 'SW'), ('늘', 'VV'), ('ㄴ', 'ETM'), ('석사', 'NNP'), ('학위', 'NNP'), ('이상', 'NNG'), ('을', 'NNG'), ('갖', 'VV'), ('고', 'MM'), ('있', 'VV'), ('음', 'NNG'), ('을', 'NNG'), ('밝혀내', 'VV'), ('어', 'EC'), ('었', 'EP'), ('다', 'MAG'), ('.', 'SF'), ('창업자', 'NNG'), ('들', 'VV'), ('ㄹ', 'ETM'), ('의', 'NNG'), ('세부', 'NNP'), ('전공', 'NNG'), ('을', 'NNG'), ('보', 'NNB'), ('면', 'NNG'), ('37', 'SN'), ('%', 'SW'), ('만', 'NR'), ('공학', 'NNP'), ('·', 'SP'), ('컴퓨터', 'NNG'), ('기술', 'NNG'), ('이', 'MM'), ('이', 'VCP'), ('며', 'EC'), (',', 'SP'), ('수학', 'NNG'), ('전공자', 'NNG'), ('늘', 'VV'), ('ㄴ', 'ETM'), ('2', 'SN'), ('%', 'SW'), ('뿐', 'NNB'), ('이', 'MM'), ('었', 'EP'), ('다', 'MAG'), ('.', 'SF'), ('이', 'MM'), ('들', 'VV'), ('ㄹ', 'ETM'), ('의', 'NNG'), ('전공', 'NNG'), ('은', 'NNP'), ('경영', 'NNG'), ('·', 'SP'), ('회계', 'NNP'), ('·', 'SP'), ('보건', 'NNP'), ('·', 'SP'), ('예술', 'NNG'), ('·', 'SP'), ('인문학', 'NNP'), ('등', 'NNB'), ('매우', 'MAG'), ('다양', 'XR'), ('하', 'NNG'), ('었', 'EP'), ('다', 'MAG'), ('.', 'SF'), ('컴퓨터', 'NNG'), ('주변기기', 'NNP'), ('제조', 'NNG'), ('업체', 'NNG'), ('로지텍', 'NNP'), ('의', 'NNG'), ('브랙큰', 'NA'), ('대', 'NNB'), ('러', 'NNP'), ('ㄹ', 'NA'), ('CEO', 'SL'), ('도', 'NNG'), ('영문학', 'NNP'), ('을', 'NNG'), ('전공', 'NNG'), ('하', 'NNG'), ('오', 'VX'), ('았', 'EP'), ('다', 'MAG'), ('.', 'SF'), ('최근', 'NNG'), ('내', 'NP'), ('가', 'VV'), ('아', 'EC'), ('그', 'MM'), ('에게', 'JKB'), ('\"', 'SS'), ('어떻', 'NA'), ('게', 'NNG'), ('5', 'SN'), ('년', 'NNB'), ('이', 'MM'), ('어', 'IC'), ('만', 'NR'), ('에', 'JKB'), ('회사', 'NNG'), ('주가', 'NNP'), ('를', 'JKO'), ('450', 'SN'), ('%', 'SW'), ('올', 'MM'), ('리', 'NNP'), ('ㄹ', 'NA'), ('수', 'NNB'), ('있', 'VV'), ('었', 'EP'), ('늘', 'VV'), ('냐', 'EC'), ('\"', 'SS'), ('고', 'MM'), ('묻', 'VV'), ('었', 'EP'), ('덜', 'VV'), ('니', 'EC'), ('그', 'MM'), ('늘', 'VV'), ('ㄴ', 'ETM'), ('\"', 'SS'), ('우리', 'NP'), ('회사', 'NNG'), ('가', 'VV'), ('아', 'EC'), ('만들', 'VV'), ('ㄹ', 'ETM'), ('늘', 'VV'), ('ㄴ', 'ETM'), ('모든', 'MM'), ('제품', 'NNG'), ('의', 'NNG'), ('디자인', 'NNP'), ('을', 'NNG'), ('쉬', 'MAG'), ('ㅁ', 'NA'), ('없이', 'MAG'), ('고민', 'NNG'), ('하', 'NNG'), ('오', 'VX'), ('았', 'EP'), ('기', 'NNG'), ('때문', 'NNB'), ('에', 'JKB'), ('가능', 'XR'), ('하', 'NNG'), ('었', 'EP'), ('다', 'MAG'), ('.', 'SF'), ('기술', 'NNG'), ('관련', 'NNG'), ('제품', 'NNG'), ('의', 'NNG'), ('성공', 'NNG'), ('에', 'JKB'), ('가장', 'MAG'), ('중요', 'XR'), ('하', 'NNG'), ('ㄴ', 'JX'), ('것', 'NNB'), ('은', 'NNP'), ('디자인', 'NNP'), ('\"', 'SS'), ('이', 'NP'), ('이', 'VCP'), ('라고', 'EC'), ('답', 'NNG'), ('하', 'NNG'), ('오', 'VX'), ('았', 'EP'), ('다', 'MAG'), ('.', 'SF'), ('4', 'SN'), ('차', 'NNB'), ('산업', 'NNG'), ('혁명', 'NNG'), ('은', 'NNP'), (\"'\", 'SS'), ('혁신', 'NNP'), ('의', 'NNG'), ('규칙', 'NNP'), (\"'\", 'SS'), ('을', 'NNG'), ('바꾸', 'VV'), ('늘', 'VV'), ('ㄴ', 'ETM'), ('일', 'NNB'), ('이', 'MM'), ('다', 'MAG'), ('.', 'SF'), ('여기', 'NP'), ('에', 'JKB'), ('늘', 'VV'), ('ㄴ', 'ETM'), ('컴퓨터', 'NNG'), ('오', 'VV'), ('아', 'EC'), ('인공지능', 'NNP'), (',', 'SP'), ('디지털', 'NNP'), ('의술', 'NNG'), (',', 'SP'), ('로봇공학', 'NNP'), (',', 'SP'), ('합성생물학', 'NNP'), ('등', 'NNB'), ('광범위', 'NNG'), ('하', 'NNG'), ('ㄴ', 'JX'), ('기술', 'NNG'), ('이', 'MM'), ('활용', 'NNG'), ('되', 'NNB'), ('ㄴ다', 'EC'), ('.', 'SF'), ('의학', 'NNP'), ('·', 'SP'), ('인공지능', 'NNP'), ('과', 'NNG'), ('센서', 'NNP'), ('를', 'JKO'), ('융합', 'NNG'), ('하', 'NNG'), ('면', 'NNG'), ('인간', 'NNG'), ('의', 'NNG'), ('건강', 'NNG'), ('을', 'NNG'), ('진단', 'NNP'), ('하', 'NNG'), ('고', 'MM'), ('질병', 'NNP'), ('을', 'NNG'), ('예방', 'NNP'), ('하', 'NNG'), ('늘', 'VV'), ('ㄴ', 'ETM'), (\"'\", 'SS'), ('디지털', 'NNP'), ('의사', 'NNG'), (\"'\", 'SS'), ('를', 'JKO'), ('만들', 'VV'), ('ㄹ', 'ETM'), ('ㄹ', 'NA'), ('수', 'NNB'), ('있', 'VV'), ('다', 'MAG'), ('.', 'SF'), ('유전체학', 'NNP'), ('과', 'NNG'), ('유전자', 'NNP'), ('편집', 'NNP'), ('을', 'NNG'), ('이용', 'NNG'), ('하', 'NNG'), ('아', 'IC'), ('가뭄', 'NNP'), ('에', 'JKB'), ('강하', 'NNG'), ('고', 'MM'), ('인류', 'NNG'), ('전체', 'NNG'), ('를', 'JKO'), ('먹이', 'NNP'), ('어', 'IC'), ('살', 'VV'), ('리', 'EC'), ('ㄹ', 'NA'), ('새', 'MM'), ('식물', 'NNP'), ('을', 'NNG'), ('개발', 'NNG'), ('하', 'NNG'), ('ㄹ', 'NA'), ('수', 'NNB'), ('있', 'VV'), ('다', 'MAG'), ('.', 'SF'), ('인공지능', 'NNP'), ('로봇', 'NNP'), ('을', 'NNG'), ('사용', 'NNG'), ('하', 'NNG'), ('아', 'IC'), ('노인', 'NNG'), ('들', 'VV'), ('ㄹ', 'ETM'), ('을', 'NNG'), ('위하', 'VV'), ('ㄴ', 'JX'), (\"'\", 'SS'), ('디지털', 'NNP'), ('친구', 'NNG'), (\"'\", 'SS'), ('도', 'NNG'), ('가능', 'XR'), ('하', 'NNG'), ('다', 'MAG'), ('.', 'SF'), ('초소', 'NNG'), ('형', 'NNG'), ('물질', 'NNG'), ('의', 'NNG'), ('발전', 'NNG'), ('은', 'NNP'), ('모든', 'MM'), ('사람', 'NNG'), ('이', 'MM'), ('충분히', 'MAG'), ('이용', 'NNG'), ('하', 'NNG'), ('ㄹ', 'NA'), ('수', 'NNB'), ('있', 'VV'), ('늘', 'VV'), ('ㄴ', 'ETM'), (\"'\", 'SS'), ('태양열', 'NNG'), ('저장', 'NNG'), ('기술', 'NNG'), (\"'\", 'SS'), ('의', 'NNG'), ('새 시대', 'NNP'), ('를', 'JKO'), ('열', 'NR'), ('것', 'NNB'), ('이', 'MM'), ('다', 'MAG'), ('.', 'SF'), ('이런', 'MM'), ('해결책', 'NNG'), ('을', 'NNG'), ('이끌', 'VV'), ('ㄹ', 'ETM'), ('어', 'IC'), ('내', 'NP'), ('늘', 'VV'), ('ㄴ', 'ETM'), ('데', 'NNB'), ('늘', 'VV'), ('ㄴ', 'ETM'), ('생물학', 'NNP'), ('·', 'SP'), ('교육', 'NNG'), ('·', 'SP'), ('의료', 'NNP'), ('·', 'SP'), ('인간', 'NNG'), ('행동', 'NNG'), ('등', 'NNB'), ('여러', 'MM'), ('분야', 'NNG'), ('에', 'JKB'), ('대하', 'NNP'), ('ㄴ', 'JX'), ('지식', 'NNG'), ('이', 'MM'), ('필요', 'NNG'), ('하', 'NNG'), ('다', 'MAG'), ('.', 'SF'), ('우리', 'NP'), ('가', 'VV'), ('아', 'EC'), ('처하', 'VV'), ('ㄴ', 'JX'), ('거대', 'XR'), ('하', 'NNG'), ('ㄴ', 'JX'), ('사회', 'NNG'), ('·', 'SP'), ('기술', 'NNG'), ('적', 'NNB'), ('도전', 'NNP'), ('에', 'JKB'), ('대처', 'NNG'), ('하', 'NNG'), ('려면', 'EC'), ('인류', 'NNG'), ('를', 'JKO'), ('둘러싸', 'VV'), ('ㄴ', 'JX'), ('다양', 'XR'), ('하', 'NNG'), ('ㄴ', 'JX'), ('배경', 'NNG'), ('과', 'NNG'), ('맥락', 'NNG'), ('에', 'JKB'), ('대하', 'NNP'), ('아', 'IC'), ('비판적 사고', 'NNP'), ('능력', 'NNG'), ('이', 'MM'), ('필수', 'NNP'), ('적', 'NNB'), ('이', 'MM'), ('다', 'MAG'), ('.', 'SF'), ('이', 'MM'), ('늘', 'VV'), ('ㄴ', 'ETM'), ('인문학', 'NNP'), ('전공자', 'NNG'), ('들', 'VV'), ('ㄹ', 'ETM'), ('이', 'MM'), ('가장', 'MAG'), ('잘', 'MAG'), ('훈련', 'NNG'), ('받', 'VV'), ('은', 'NNP'), ('분야', 'NNG'), ('이', 'MM'), ('다', 'MAG'), ('.', 'SF'), ('일례', 'NNG'), ('로', 'NNG'), ('음악', 'NNG'), ('·', 'SP'), ('예술', 'NNG'), ('·', 'SP'), ('문학', 'NNG'), ('과', 'NNG'), ('심리학', 'NNP'), ('에서', 'JKB'), ('비롯', 'XR'), ('하', 'NNG'), ('ㄴ', 'JX'), ('공감', 'NNG'), ('(', 'SS'), ('共感', 'SH'), (')', 'SS'), ('능력', 'NNG'), ('은', 'NNP'), ('디자인', 'NNP'), ('에', 'JKB'), ('크', 'VV'), ('ㄴ', 'JX'), ('장점', 'NNG'), ('이', 'MM'), ('되', 'NNB'), ('ㄴ다', 'EC'), ('.', 'SF'), ('로마제국', 'NNP'), ('의', 'NNG'), ('흥망성쇠', 'NNG'), ('오', 'VV'), ('아', 'EC'), ('계몽주의', 'NNP'), ('를', 'JKO'), ('공부', 'NNG'), ('하', 'NNG'), ('ㄴ', 'JX'), ('역사학도', 'NNP'), ('늘', 'VV'), ('ㄴ', 'ETM'), ('기술', 'NNG'), ('의', 'NNG'), ('인간', 'NNG'), ('적', 'NNB'), ('요소', 'NNG'), ('오', 'VV'), ('아', 'EC'), ('유용성', 'NNP'), ('에', 'JKB'), ('대하', 'NNP'), ('ㄴ', 'JX'), ('통찰력', 'NNG'), ('을', 'NNG'), ('가지', 'NNB'), ('ㄹ', 'NA'), ('수', 'NNB'), ('있', 'VV'), ('다', 'MAG'), ('.', 'SF'), ('심리학', 'NNP'), ('전공자', 'NNG'), ('늘', 'VV'), ('ㄴ', 'ETM'), ('사람', 'NNG'), ('에게', 'JKB'), ('동기', 'NNG'), ('(', 'SS'), ('動機', 'SH'), (')', 'SS'), ('부여', 'NNP'), ('가', 'VV'), ('아', 'EC'), ('무엇', 'NP'), ('이', 'MM'), ('이', 'VCP'), ('며', 'EC'), (',', 'SP'), ('사용자', 'NNP'), ('들', 'VV'), ('ㄹ', 'ETM'), ('이', 'MM'), ('원', 'NNB'), ('하', 'NNP'), ('늘', 'VV'), ('ㄴ', 'ETM'), ('게', 'NNG'), ('무엇', 'NP'), ('인지', 'NNP'), ('를', 'JKO'), ('공학', 'NNP'), ('한', 'MM'), ('분야', 'NNG'), ('에서', 'JKB'), ('만', 'NR'), ('일', 'NNB'), ('하', 'NNG'), ('아', 'IC'), ('오', 'NNP'), ('ㄴ', 'JX'), ('엔지니어', 'NNG'), ('들', 'VV'), ('ㄹ', 'ETM'), ('보다', 'MAG'), ('잘', 'MAG'), ('이해', 'NNG'), ('하', 'NNG'), ('ㄹ', 'NA'), ('수', 'NNB'), ('있', 'VV'), ('다', 'MAG'), ('.', 'SF'), ('우리', 'NP'), ('가', 'VV'), ('아', 'EC'), ('상상', 'NNG'), ('하', 'NNG'), ('늘', 'VV'), ('ㄴ', 'ETM'), ('물건', 'NNG'), ('을', 'NNG'), ('3D', 'NNP'), ('로', 'NNG'), ('만들', 'VV'), ('ㄹ', 'ETM'), ('ㄹ', 'NA'), ('수', 'NNB'), ('있', 'VV'), ('게', 'NNG'), ('되', 'NNB'), ('면', 'NNG'), ('음악가', 'NNP'), ('나', 'NP'), ('화가', 'NNG'), ('들', 'VV'), ('ㄹ', 'ETM'), ('의', 'NNG'), ('세상', 'NNG'), ('이', 'MM'), ('되', 'NNB'), ('ㄹ지', 'EC'), ('도', 'NNG'), ('모르', 'VV'), ('ㄴ다', 'EC'), ('.', 'SF'), ('\"', 'SS'), ('자녀', 'NNG'), ('가', 'VV'), ('아', 'EC'), ('미래', 'NNG'), ('에', 'JKB'), ('어떤', 'MM'), ('직업', 'NNG'), ('을', 'NNG'), ('택하', 'VV'), ('면', 'NNG'), ('좋', 'VV'), ('하', 'VX'), ('겠', 'EP'), ('늘', 'VV'), ('ㄴ가', 'EC'), ('\"', 'SS'), ('이', 'MM'), ('이', 'VCP'), ('라는', 'ETM'), ('질문', 'NNG'), ('을', 'NNG'), ('받', 'VV'), ('을', 'NNG'), ('때', 'NNG'), ('나', 'NP'), ('늘', 'VV'), ('ㄴ', 'ETM'), ('\"', 'SS'), ('아이들', 'NNP'), ('이', 'MM'), ('스스로', 'MAG'), ('하', 'NNG'), ('고', 'MM'), ('싶', 'NA'), ('은', 'NNP'), ('것', 'NNB'), ('을', 'NNG'), ('선택', 'NNG'), ('하', 'NNG'), ('도록', 'NNG'), ('내버리', 'VV'), ('어', 'IC'), ('두', 'MM'), ('늘', 'VV'), ('ㄴ', 'ETM'), ('게', 'NNG'), ('최선', 'NNP'), ('\"', 'SS'), ('이', 'NP'), ('이', 'VCP'), ('라고', 'EC'), ('답', 'NNG'), ('하', 'NNG'), ('ㄴ다', 'EC'), ('.', 'SF'), ('과거', 'NNG'), ('우리', 'NP'), ('부모', 'NNG'), ('들', 'VV'), ('ㄹ', 'ETM'), ('이', 'MM'), ('우리', 'NP'), ('에게', 'JKB'), ('공부', 'NNG'), ('를', 'JKO'), ('강요', 'NNG'), ('하', 'NNG'), ('아서', 'NNP'), ('학습', 'NNG'), ('을', 'NNG'), (\"'\", 'SS'), ('억지로', 'MAG'), ('하', 'NNG'), ('아야', 'EC'), ('하', 'NNG'), ('늘', 'VV'), ('ㄴ', 'ETM'), ('따분', 'XR'), ('하', 'NNG'), ('ㄴ', 'JX'), ('일', 'NNB'), (\"'\", 'SS'), ('로', 'NNG'), ('여기', 'NP'), ('게', 'NNG'), ('하', 'NNG'), ('오', 'VX'), ('았', 'EP'), ('덜', 'VV'), ('ㄴ', 'ETM'), ('방식', 'NNG'), ('을', 'NNG'), ('따르', 'VV'), ('아', 'IC'), ('하', 'NNG'), ('아서', 'NNP'), ('ㄴ', 'JX'), ('안', 'MAG'), ('되', 'NNB'), ('ㄴ다', 'EC'), ('.', 'SF'), ('그', 'MM'), ('대신', 'NNG'), ('자녀', 'NNG'), ('가', 'VV'), ('아', 'EC'), ('자신', 'NNG'), ('의', 'NNG'), ('열정', 'NNP'), ('을', 'NNG'), ('추구', 'NNG'), ('하', 'NNG'), ('고', 'MM'), ('배우', 'NNP'), ('늘', 'VV'), ('ㄴ', 'ETM'), ('걸', 'VV'), ('ㄹ', 'ETM'), ('ㄹ', 'NA'), ('즐기', 'VV'), ('ㄹ', 'NA'), ('수', 'NNB'), ('있', 'VV'), ('도록', 'NNG'), ('북돋', 'VV'), ('아야', 'EC'), ('하', 'NNG'), ('ㄴ다', 'EC'), ('.', 'SF'), ('기술', 'NNG'), ('을', 'NNG'), ('통하', 'VV'), ('아', 'IC'), ('놀랍', 'NA'), ('ㄴ', 'JX'), ('미래', 'NNG'), ('를', 'JKO'), ('창조', 'NNG'), ('하', 'NNG'), ('고', 'MM'), ('새', 'MM'), ('롭', 'NNP'), ('ㄴ', 'JX'), ('산업', 'NNG'), ('혁명', 'NNG'), ('시대', 'NNG'), ('에', 'JKB'), ('리더', 'NNP'), ('가', 'VV'), ('아', 'EC'), ('되', 'NNB'), ('기', 'NNG'), ('위하', 'VV'), ('아', 'IC'), ('한국', 'NNP'), ('에서', 'JKB'), ('늘', 'VV'), ('ㄴ', 'ETM'), ('공학자', 'NNP'), ('들', 'VV'), ('ㄹ', 'ETM'), ('과', 'NNG'), ('손잡', 'VV'), ('고', 'MM'), ('일', 'NNB'), ('하', 'NNG'), ('ㄹ', 'NA'), ('음악가', 'NNP'), ('오', 'VV'), ('아', 'EC'), ('화가', 'NNG'), ('가', 'VV'), ('아', 'EC'), ('더', 'MAG'), ('많이', 'MAG'), ('필요', 'NNG'), ('하', 'NNG'), ('다', 'MAG'), ('.', 'SF'), ('이제', 'MAG'), ('늘', 'VV'), ('ㄴ', 'ETM'), ('과학', 'NNG'), ('·', 'SP'), ('공학', 'NNP'), ('·', 'SP'), ('의학', 'NNP'), ('뿐', 'NNB'), ('아니', 'MAG'), ('라', 'NNG'), ('창의성', 'NNP'), ('과', 'NNG'), ('디자인', 'NNP'), ('에', 'JKB'), ('도', 'NNG'), ('진정', 'NNP'), ('하', 'NNG'), ('ㄴ', 'JX'), ('관심', 'NNG'), ('을', 'NNG'), ('쏟', 'VV'), ('아야', 'EC'), ('하', 'NNG'), ('ㄴ다', 'EC'), ('.', 'SF')]\n",
            "[('교육', 'N'), ('을', 'N'), ('삶', 'N'), ('의', 'N'), ('최우선', 'N'), ('순위', 'N'), ('로', 'N'), ('두', 'N'), ('고', 'M'), ('있', 'N'), ('늘', 'P'), ('ㄴ', 'E'), ('한국의', 'N'), ('부모들', 'N'), ('은', 'N'), ('대학', 'N'), ('전공', 'N'), ('가운데', 'N'), ('의학', 'N'), ('과', 'N'), ('공학', 'N'), ('·', 'S'), ('과학', 'N'), ('을', 'N'), ('중시', 'N'), ('하', 'I'), ('ㄴ다', 'N'), ('.', 'S'), ('자녀', 'N'), ('의', 'N'), ('직업적', 'N'), ('성공', 'N'), ('을', 'N'), ('위하', 'P'), ('어', 'E'), ('어', 'N'), ('대학', 'N'), ('전공', 'N'), ('으', 'N'), ('로', 'J'), ('의학', 'N'), ('과', 'N'), ('이공계', 'N'), ('를', 'N'), ('우선적', 'N'), ('으', 'N'), ('로', 'J'), ('고', 'M'), ('려', 'N'), ('하', 'I'), ('늘', 'P'), ('ㄴ', 'E'), ('일', 'N'), ('은', 'N'), ('한국', 'N'), ('이', 'M'), ('산업화', 'N'), ('중', 'N'), ('이', 'M'), ('덜', 'P'), ('ㄴ', 'E'), ('상황', 'N'), ('에', 'P'), ('어선', 'E'), ('올바르', 'N'), ('ㄴ', 'N'), ('선택', 'N'), ('이', 'M'), ('었다', 'N'), ('.', 'S'), ('하', 'I'), ('지', 'N'), ('만', 'J'), ('지금', 'M'), ('은', 'N'), ('모든', 'M'), ('것', 'N'), ('이', 'M'), ('다르', 'N'), ('아', 'I'), ('지', 'N'), ('었다', 'N'), ('.', 'S'), ('요즘', 'M'), ('실리콘밸리', 'N'), ('에', 'P'), ('어서', 'E'), ('확인', 'N'), ('되', 'N'), ('늘', 'P'), ('ㄴ', 'E'), ('것', 'N'), ('은', 'N'), ('4차', 'N'), ('산업혁명', 'N'), ('시대', 'N'), ('에', 'P'), ('는', 'E'), ('예술', 'N'), ('과', 'N'), ('인문학', 'N'), ('이', 'M'), ('의학', 'N'), ('·', 'S'), ('공학', 'N'), ('만큼', 'J'), ('중요', 'N'), ('하', 'I'), ('다', 'M'), ('는', 'J'), ('사실', 'N'), ('이', 'M'), ('다', 'M'), ('.', 'S'), ('스티브', 'N'), ('잡스', 'N'), ('늘', 'P'), ('ㄴ', 'E'), ('자신', 'N'), ('이', 'M'), ('대학', 'N'), ('시절', 'N'), ('수강', 'N'), ('하', 'I'), ('었던', 'N'), ('서체', 'N'), ('(', 'S'), ('書體', 'N'), (')', 'S'), ('수업', 'N'), ('이', 'M'), ('매킨토시', 'N'), ('(', 'S'), ('애플', 'N'), ('이', 'M'), ('1984년', 'N'), ('발표', 'N'), ('하', 'I'), ('ㄴ', 'N'), ('개인용', 'N'), ('컴퓨터', 'N'), (')', 'S'), ('개발', 'N'), ('성공', 'N'), ('에', 'I'), ('크', 'P'), ('어', 'E'), ('ㄴ', 'N'), ('영향', 'N'), ('을', 'N'), ('미치', 'N'), ('었다', 'N'), ('고', 'M'), ('말', 'N'), ('하', 'I'), ('었다', 'N'), ('.', 'S'), ('그', 'M'), ('늘', 'P'), ('ㄴ', 'E'), ('2011년', 'N'), ('아이패드', 'N'), ('2', 'N'), ('를', 'N'), ('공개', 'N'), ('하', 'I'), ('면', 'N'), ('서', 'J'), ('\"', 'S'), ('애플', 'N'), ('의', 'N'), ('DNA', 'F'), ('늘', 'P'), ('ㄴ', 'E'), ('기술', 'N'), ('만', 'J'), ('으', 'N'), ('로는', 'J'), ('충분', 'N'), ('하', 'I'), ('지', 'N'), ('않', 'N'), ('다', 'M'), ('.', 'S'), ('교양', 'N'), ('과', 'N'), ('인문학', 'N'), ('이', 'M'), ('결합', 'N'), ('하', 'I'), ('ㄴ', 'N'), ('기술', 'N'), ('이', 'N'), ('야말로', 'J'), ('가슴', 'N'), ('벅차', 'P'), ('아', 'E'), ('ㄴ', 'N'), ('결과', 'N'), ('를', 'N'), ('낳', 'N'), ('을', 'N'), ('것', 'N'), ('\"', 'S'), ('이', 'M'), ('라', 'N'), ('이', 'J'), ('며', 'E'), ('예술', 'N'), ('과', 'N'), ('디자인', 'N'), ('의', 'N'), ('중요성', 'N'), ('을', 'N'), ('강조', 'N'), ('하', 'I'), ('었다', 'N'), ('.', 'S'), ('이런', 'M'), ('관점', 'N'), ('을', 'N'), ('바탕', 'N'), ('으', 'N'), ('로', 'J'), ('잡스', 'N'), ('늘', 'P'), ('ㄴ', 'E'), ('세계', 'N'), ('최고', 'N'), ('가치', 'N'), ('를', 'N'), ('인정', 'N'), ('받', 'N'), ('늘', 'P'), ('ㄴ', 'E'), ('기업', 'N'), ('을', 'N'), ('만', 'N'), ('들', 'X'), ('었', 'N'), ('고', 'J'), (',', 'S'), ('기술', 'N'), ('산업', 'N'), ('의', 'N'), ('새롭', 'N'), ('은', 'N'), ('표준', 'N'), ('까', 'P'), ('지', 'E'), ('정', 'N'), ('하', 'X'), ('어', 'E'), ('었다', 'N'), ('.', 'S'), ('실리콘밸리', 'N'), ('에', 'P'), ('어서', 'E'), ('최근', 'M'), ('뜨', 'P'), ('어', 'E'), ('고', 'M'), ('있', 'N'), ('늘', 'P'), ('ㄴ', 'E'), ('스타', 'N'), ('기업', 'N'), ('이', 'M'), ('ㄴ', 'N'), ('중', 'N'), ('에', 'P'), ('는', 'E'), ('인문학', 'N'), ('전공자들', 'N'), ('이', 'M'), ('제법', 'M'), ('많', 'N'), ('다', 'M'), ('.', 'S'), ('구인', 'N'), ('·', 'S'), ('구직', 'N'), ('소셜', 'N'), ('네트워킹', 'N'), ('서비스', 'N'), ('기업', 'N'), ('이', 'M'), ('ㄴ', 'N'), ('링크드인', 'N'), ('(', 'S'), ('LinkedIn', 'F'), (')', 'S'), ('창업자', 'N'), ('리드', 'N'), ('호프', 'N'), ('만', 'N'), ('은', 'J'), ('철학', 'N'), ('석사', 'N'), ('학위', 'N'), ('소지자', 'N'), ('이', 'M'), ('며', 'N'), (',', 'S'), ('수잔', 'N'), ('보이치키', 'N'), ('유튜브', 'N'), ('CEO', 'F'), ('늘', 'P'), ('ㄴ', 'E'), ('역사', 'N'), ('와', 'I'), ('문학', 'N'), ('을', 'N'), ('전공', 'N'), ('하', 'I'), ('었다', 'N'), ('.', 'S'), ('메신저', 'N'), ('개발', 'N'), ('업체', 'N'), ('슬랙', 'N'), ('(', 'S'), ('Slack', 'F'), (')', 'S'), ('의', 'N'), ('창업자', 'N'), ('스튜어트', 'N'), ('버터필드', 'N'), ('늘', 'P'), ('ㄴ', 'E'), ('철학', 'N'), (',', 'S'), ('세계', 'N'), ('최대', 'N'), ('숙박', 'N'), ('공유', 'N'), ('기업', 'N'), ('이', 'M'), ('ㄴ', 'N'), ('에어비앤비', 'N'), ('의', 'N'), ('설립자', 'N'), ('브라이언', 'N'), ('체스키', 'N'), ('늘', 'P'), ('ㄴ', 'E'), ('미술', 'N'), ('을', 'N'), ('전공', 'N'), ('하', 'I'), ('었다', 'N'), ('.', 'S'), ('중국', 'N'), ('알리바바그룹', 'N'), ('의', 'N'), ('마윈', 'N'), ('회장', 'N'), ('의', 'N'), ('학부', 'N'), ('전공', 'N'), ('은', 'N'), ('영어', 'N'), ('이', 'M'), ('었다', 'N'), ('.', 'S'), ('나', 'N'), ('가', 'J'), ('속하', 'P'), ('어', 'E'), ('어', 'N'), ('있', 'N'), ('늘', 'P'), ('ㄴ', 'E'), ('하버드대·듀크대', 'N'), ('연구팀', 'N'), ('은', 'N'), ('미국', 'N'), ('IT', 'F'), ('기업', 'N'), ('창업자들', 'N'), ('의', 'N'), ('92', 'N'), ('%', 'S'), ('가', 'J'), ('학사', 'N'), ('학위', 'N'), ('를', 'N'), (',', 'S'), ('47', 'N'), ('%', 'S'), ('늘', 'P'), ('ㄴ', 'E'), ('석사', 'N'), ('학위', 'N'), ('이상', 'N'), ('을', 'N'), ('갖', 'N'), ('고', 'M'), ('있', 'N'), ('음', 'N'), ('을', 'N'), ('밝히', 'N'), ('어', 'N'), ('내', 'N'), ('었다', 'N'), ('.', 'S'), ('창업자들', 'N'), ('의', 'N'), ('세부', 'N'), ('전공', 'N'), ('을', 'N'), ('보', 'N'), ('면', 'N'), ('37', 'N'), ('%', 'S'), ('만', 'N'), ('공학', 'N'), ('·', 'S'), ('컴퓨터', 'N'), ('기술', 'N'), ('이', 'M'), ('며', 'N'), (',', 'S'), ('수학', 'N'), ('전공자', 'N'), ('늘', 'P'), ('ㄴ', 'E'), ('2', 'N'), ('%', 'S'), ('뿐', 'N'), ('이', 'M'), ('었다', 'N'), ('.', 'S'), ('이', 'M'), ('들', 'N'), ('의', 'N'), ('전공', 'N'), ('은', 'N'), ('경영·회계·보건·예술', 'N'), ('·', 'S'), ('인문학', 'N'), ('등', 'N'), ('매우', 'M'), ('다양', 'N'), ('하', 'I'), ('었다', 'N'), ('.', 'S'), ('컴퓨터', 'N'), ('주변기', 'N'), ('이', 'M'), ('기', 'N'), ('제조', 'N'), ('업체', 'N'), ('로지텍', 'N'), ('의', 'N'), ('브랙큰', 'N'), ('대럴', 'N'), ('CEO', 'F'), ('도', 'N'), ('영문학', 'N'), ('을', 'N'), ('전공', 'N'), ('하', 'I'), ('었다', 'N'), ('.', 'S'), ('최근', 'M'), ('나', 'N'), ('가', 'J'), ('그', 'M'), ('에', 'P'), ('게', 'E'), ('\"', 'S'), ('어떻', 'N'), ('것', 'N'), ('이', 'J'), ('5년여', 'N'), ('만', 'N'), ('에', 'I'), ('회사', 'N'), ('주가', 'N'), ('를', 'N'), ('450', 'N'), ('%', 'S'), ('오', 'P'), ('ㄹ', 'E'), ('리', 'N'), ('ㄹ', 'N'), ('수', 'N'), ('있', 'N'), ('었느냐', 'N'), ('\"', 'S'), ('고', 'M'), ('묻', 'N'), ('었더', 'N'), ('이', 'J'), ('니', 'E'), ('그', 'M'), ('늘', 'P'), ('ㄴ', 'E'), ('\"', 'S'), ('우리', 'N'), ('회사', 'N'), ('가', 'J'), ('만', 'N'), ('들', 'X'), ('늘', 'P'), ('ㄴ', 'E'), ('모든', 'M'), ('제품', 'N'), ('의', 'N'), ('디자인', 'N'), ('을', 'N'), ('쉬', 'I'), ('ㅁ', 'N'), ('없이', 'M'), ('고민', 'N'), ('하', 'I'), ('었기', 'N'), ('때문', 'N'), ('에', 'I'), ('가능', 'N'), ('하', 'I'), ('었다', 'N'), ('.', 'S'), ('기술', 'N'), ('관련', 'N'), ('제품', 'N'), ('의', 'N'), ('성공', 'N'), ('에', 'I'), ('가장', 'M'), ('중요', 'N'), ('하', 'I'), ('ㄴ', 'N'), ('것', 'N'), ('은', 'N'), ('디자인', 'N'), ('\"', 'S'), ('이', 'M'), ('라', 'N'), ('고', 'M'), ('답', 'N'), ('하', 'I'), ('었다', 'N'), ('.', 'S'), ('4차', 'N'), ('산업혁명', 'N'), ('은', 'N'), (\"'\", 'S'), ('혁신', 'N'), ('의', 'N'), ('규칙', 'N'), (\"'\", 'S'), ('을', 'N'), ('바꾸', 'N'), ('늘', 'P'), ('ㄴ', 'E'), ('일', 'N'), ('이', 'M'), ('다', 'M'), ('.', 'S'), ('여기', 'N'), ('에', 'P'), ('는', 'E'), ('컴퓨터', 'N'), ('와', 'I'), ('인공지능', 'N'), (',', 'S'), ('디지털', 'N'), ('의술', 'N'), (',', 'S'), ('로봇공학', 'N'), (',', 'S'), ('합성생물학', 'N'), ('등', 'N'), ('광범위', 'N'), ('하', 'I'), ('ㄴ', 'N'), ('기술', 'N'), ('이', 'M'), ('활용', 'N'), ('되', 'N'), ('ㄴ다', 'N'), ('.', 'S'), ('의학', 'N'), ('·', 'S'), ('인공지능', 'N'), ('과', 'N'), ('센서', 'N'), ('를', 'N'), ('융합', 'N'), ('하', 'I'), ('면', 'N'), ('인간', 'N'), ('의', 'N'), ('건강', 'N'), ('을', 'N'), ('진단', 'N'), ('하', 'P'), ('고', 'E'), ('질병', 'N'), ('을', 'N'), ('예방', 'N'), ('하', 'I'), ('늘', 'P'), ('ㄴ', 'E'), (\"'\", 'S'), ('디지털', 'N'), ('의사', 'N'), (\"'\", 'S'), ('를', 'N'), ('만', 'N'), ('들', 'X'), ('ㄹ', 'N'), ('수', 'N'), ('있', 'N'), ('다', 'M'), ('.', 'S'), ('유전체학', 'N'), ('과', 'N'), ('유전자', 'N'), ('편집', 'N'), ('을', 'N'), ('이용', 'N'), ('하', 'I'), ('어', 'N'), ('가뭄', 'N'), ('에', 'I'), ('강하', 'N'), ('고', 'M'), ('인류', 'N'), ('전체', 'N'), ('를', 'N'), ('먹이', 'N'), ('어', 'N'), ('살', 'P'), ('ㄹ', 'E'), ('리', 'N'), ('ㄹ', 'N'), ('새', 'M'), ('식물', 'N'), ('을', 'N'), ('개발', 'N'), ('하', 'I'), ('ㄹ', 'N'), ('수', 'N'), ('있', 'N'), ('다', 'M'), ('.', 'S'), ('인공지능', 'N'), ('로봇', 'N'), ('을', 'N'), ('사용', 'N'), ('하', 'I'), ('어', 'N'), ('노인들', 'N'), ('을', 'N'), ('위하', 'P'), ('어', 'E'), ('ㄴ', 'N'), (\"'\", 'S'), ('디지털', 'N'), ('친구', 'N'), (\"'\", 'S'), ('도', 'N'), ('가능', 'N'), ('하', 'I'), ('다', 'M'), ('.', 'S'), ('초소형', 'N'), ('물질', 'N'), ('의', 'N'), ('발전', 'N'), ('은', 'N'), ('모든', 'M'), ('사람', 'N'), ('이', 'M'), ('충분히', 'M'), ('이용', 'N'), ('하', 'I'), ('ㄹ', 'N'), ('수', 'N'), ('있', 'N'), ('늘', 'P'), ('ㄴ', 'E'), (\"'\", 'S'), ('태양열', 'N'), ('저장', 'N'), ('기술', 'N'), (\"'\", 'S'), ('의', 'N'), ('새', 'M'), ('시대', 'N'), ('를', 'N'), ('열', 'N'), ('ㄹ', 'N'), ('것', 'N'), ('이', 'M'), ('다', 'M'), ('.', 'S'), ('이런', 'M'), ('해결책', 'N'), ('을', 'N'), ('이끌', 'P'), ('ㄹ', 'E'), ('어', 'N'), ('내', 'N'), ('늘', 'P'), ('ㄴ', 'E'), ('데', 'N'), ('늘', 'P'), ('ㄴ', 'E'), ('생물학·교육·의료', 'N'), ('·', 'S'), ('인간행동', 'N'), ('등', 'N'), ('여러', 'M'), ('분야', 'N'), ('에', 'I'), ('대하', 'N'), ('ㄴ', 'N'), ('지식', 'N'), ('이', 'M'), ('필요', 'N'), ('하', 'I'), ('다', 'M'), ('.', 'S'), ('우리', 'N'), ('가', 'J'), ('처하', 'P'), ('어', 'E'), ('ㄴ', 'N'), ('거대', 'N'), ('하', 'I'), ('ㄴ', 'N'), ('사회', 'N'), ('·', 'S'), ('기술적', 'N'), ('도전', 'N'), ('에', 'I'), ('대처', 'N'), ('하', 'I'), ('려', 'N'), ('이', 'J'), ('면', 'E'), ('인류', 'N'), ('를', 'N'), ('둘러싸', 'P'), ('아', 'E'), ('ㄴ', 'N'), ('다양한', 'N'), ('배경', 'N'), ('과', 'N'), ('맥락', 'N'), ('에', 'I'), ('대', 'M'), ('어', 'N'), ('하', 'I'), ('어', 'N'), ('비판적', 'N'), ('사', 'N'), ('고', 'M'), ('능력', 'N'), ('이', 'M'), ('필수적', 'N'), ('이', 'M'), ('다', 'M'), ('.', 'S'), ('이', 'M'), ('늘', 'P'), ('ㄴ', 'E'), ('인문학', 'N'), ('전공자들', 'N'), ('이', 'M'), ('가장', 'M'), ('잘', 'M'), ('훈련', 'N'), ('받', 'N'), ('은', 'N'), ('분야', 'N'), ('이', 'M'), ('다', 'M'), ('.', 'S'), ('일례', 'N'), ('로', 'N'), ('음악·예술', 'N'), ('·', 'S'), ('문학', 'N'), ('과', 'N'), ('심리학', 'N'), ('에', 'P'), ('어서', 'E'), ('비롯', 'N'), ('하', 'I'), ('ㄴ', 'N'), ('공감', 'N'), ('(', 'S'), ('共感', 'N'), (')', 'S'), ('능력', 'N'), ('은', 'N'), ('디자인', 'N'), ('에', 'I'), ('크', 'P'), ('어', 'E'), ('ㄴ', 'N'), ('장점', 'N'), ('이', 'M'), ('되', 'N'), ('ㄴ다', 'N'), ('.', 'S'), ('로마제국', 'N'), ('의', 'N'), ('흥망성쇠', 'N'), ('와', 'I'), ('계몽주의', 'N'), ('를', 'N'), ('공부', 'N'), ('하', 'I'), ('ㄴ', 'N'), ('역사학', 'N'), ('도', 'J'), ('늘', 'P'), ('ㄴ', 'E'), ('기술', 'N'), ('의', 'N'), ('인간적', 'N'), ('요소', 'N'), ('와', 'I'), ('유용성', 'N'), ('에', 'I'), ('대하', 'N'), ('ㄴ', 'N'), ('통찰력', 'N'), ('을', 'N'), ('가', 'J'), ('아', 'I'), ('지', 'N'), ('ㄹ', 'N'), ('수', 'N'), ('있', 'N'), ('다', 'M'), ('.', 'S'), ('심리학', 'N'), ('전공자', 'N'), ('늘', 'P'), ('ㄴ', 'E'), ('사람', 'N'), ('에', 'P'), ('게', 'E'), ('동기', 'N'), ('(', 'S'), ('動機', 'N'), (')', 'S'), ('부여', 'N'), ('가', 'J'), ('무엇', 'N'), ('이', 'M'), ('며', 'N'), (',', 'S'), ('사용자들', 'N'), ('이', 'M'), ('원하', 'P'), ('어', 'E'), ('늘', 'P'), ('ㄴ', 'E'), ('것', 'N'), ('이', 'M'), ('무엇', 'N'), ('이', 'M'), ('ㄴ', 'N'), ('지', 'N'), ('를', 'N'), ('공학', 'N'), ('하', 'I'), ('ㄴ', 'N'), ('분야', 'N'), ('에', 'P'), ('어서', 'E'), ('만', 'J'), ('일', 'N'), ('하', 'I'), ('어', 'N'), ('오', 'I'), ('ㄴ', 'N'), ('엔지니어들보', 'N'), ('이', 'M'), ('다', 'M'), ('잘', 'M'), ('이해', 'N'), ('하', 'I'), ('ㄹ', 'N'), ('수', 'N'), ('있', 'N'), ('다', 'M'), ('.', 'S'), ('우리', 'N'), ('가', 'J'), ('상상', 'N'), ('하', 'I'), ('늘', 'P'), ('ㄴ', 'E'), ('물건', 'N'), ('을', 'N'), ('3D', 'N'), ('로', 'N'), ('만', 'N'), ('들', 'X'), ('ㄹ', 'N'), ('수', 'N'), ('있', 'N'), ('것', 'N'), ('이', 'J'), ('되', 'N'), ('면', 'N'), ('음악', 'N'), ('가', 'P'), ('나', 'E'), ('화가들', 'N'), ('의', 'N'), ('세상', 'N'), ('이', 'M'), ('되', 'N'), ('ㄹ지', 'N'), ('도', 'N'), ('모르', 'N'), ('ㄴ다', 'N'), ('.\"', 'S'), ('자녀', 'N'), ('가', 'J'), ('미래', 'N'), ('에', 'I'), ('어떤', 'M'), ('직업', 'N'), ('을', 'N'), ('택하', 'P'), ('어', 'E'), ('면', 'N'), ('좋', 'N'), ('겠는', 'N'), ('가', 'J'), ('\"', 'S'), ('라', 'N'), ('는', 'J'), ('질문', 'N'), ('을', 'N'), ('받', 'N'), ('을', 'N'), ('때', 'N'), ('나', 'N'), ('늘', 'P'), ('ㄴ', 'E'), ('\"', 'S'), ('아이들', 'N'), ('이', 'M'), ('스스로', 'M'), ('하', 'I'), ('고', 'M'), ('싶', 'N'), ('은', 'N'), ('것', 'N'), ('을', 'N'), ('선택', 'N'), ('하', 'I'), ('도록', 'N'), ('내', 'N'), ('어', 'N'), ('버', 'N'), ('이', 'J'), ('리', 'E'), ('어', 'N'), ('두', 'N'), ('늘', 'P'), ('ㄴ', 'E'), ('것', 'N'), ('이', 'M'), ('최선', 'N'), ('\"', 'S'), ('이', 'M'), ('라', 'N'), ('고', 'M'), ('답', 'N'), ('하', 'I'), ('ㄴ다', 'N'), ('.', 'S'), ('과거', 'N'), ('우리', 'N'), ('부모들', 'N'), ('이', 'M'), ('우리', 'N'), ('에', 'P'), ('게', 'E'), ('공부', 'N'), ('를', 'N'), ('강요', 'N'), ('하', 'I'), ('어서', 'M'), ('학습', 'N'), ('을', 'N'), (\"'\", 'S'), ('억지로', 'M'), ('하', 'I'), ('어', 'N'), ('야', 'J'), ('하', 'I'), ('늘', 'P'), ('ㄴ', 'E'), ('따분한', 'N'), ('일', 'N'), (\"'\", 'S'), ('로', 'N'), ('여기', 'N'), ('이', 'M'), ('것', 'N'), ('이', 'J'), ('하', 'I'), ('었던', 'N'), ('방식', 'N'), ('을', 'N'), ('따르', 'N'), ('아', 'I'), ('하', 'I'), ('어선', 'N'), ('안', 'M'), ('되', 'N'), ('ㄴ다', 'N'), ('.', 'S'), ('그', 'M'), ('대', 'M'), ('이', 'M'), ('신', 'N'), ('자녀', 'N'), ('가', 'J'), ('자신', 'N'), ('의', 'N'), ('열정', 'N'), ('을', 'N'), ('추구', 'N'), ('하', 'P'), ('고', 'E'), ('배우', 'N'), ('늘', 'P'), ('ㄴ', 'E'), ('것', 'N'), ('ㄹ', 'N'), ('즐기', 'N'), ('ㄹ', 'N'), ('수', 'N'), ('있', 'N'), ('도록', 'N'), ('북돋', 'N'), ('아', 'I'), ('하', 'I'), ('ㄴ다', 'N'), ('.', 'S'), ('기술', 'N'), ('을', 'N'), ('통하', 'P'), ('어', 'E'), ('어', 'N'), ('놀랍', 'N'), ('은', 'N'), ('미래', 'N'), ('를', 'N'), ('창조', 'N'), ('하', 'P'), ('고', 'E'), ('새롭', 'N'), ('은', 'N'), ('산업혁명', 'N'), ('시대', 'N'), ('에', 'I'), ('리', 'N'), ('이', 'M'), ('더', 'N'), ('이', 'J'), ('어', 'E'), ('가', 'J'), ('아', 'I'), ('되', 'N'), ('기', 'N'), ('위하', 'P'), ('어', 'E'), ('어', 'N'), ('한국', 'N'), ('에서', 'J'), ('늘', 'P'), ('ㄴ', 'E'), ('공학자들', 'N'), ('과', 'N'), ('손잡', 'N'), ('고', 'M'), ('일', 'N'), ('하', 'X'), ('ㄹ', 'E'), ('음악가', 'N'), ('와', 'I'), ('화가', 'N'), ('가', 'J'), ('더', 'M'), ('많', 'N'), ('이', 'M'), ('필요', 'N'), ('하', 'I'), ('다', 'M'), ('.', 'S'), ('이제', 'M'), ('늘', 'P'), ('ㄴ', 'E'), ('과학·공학', 'N'), ('·', 'S'), ('의학', 'N'), ('뿐', 'J'), ('아니', 'I'), ('라', 'N'), ('창의성', 'N'), ('과', 'N'), ('디자인', 'N'), ('에', 'P'), ('어도', 'E'), ('진정한', 'N'), ('관심', 'N'), ('을', 'N'), ('쏟', 'N'), ('아', 'I'), ('하', 'I'), ('ㄴ다', 'N'), ('.', 'S')]\n",
            "[('교육', 'Noun'), ('을', 'Josa'), ('삶', 'Noun'), ('의', 'Noun'), ('최', 'Noun'), ('우선', 'Noun'), ('순위', 'Noun'), ('로', 'Noun'), ('두고', 'Verb'), ('있는', 'Adjective'), ('한국', 'Noun'), ('의', 'Noun'), ('부모', 'Noun'), ('들', 'Verb'), ('은', 'Noun'), ('대학', 'Noun'), ('전공', 'Noun'), ('가운데', 'Noun'), ('의학과', 'Noun'), ('공학', 'Noun'), ('·', 'Punctuation'), ('과학', 'Noun'), ('을', 'Josa'), ('중시', 'Noun'), ('한다', 'Verb'), ('.', 'Punctuation'), ('자녀', 'Noun'), ('의', 'Noun'), ('직업', 'Noun'), ('적', 'Noun'), ('성공', 'Noun'), ('을', 'Josa'), ('위해', 'Noun'), ('대학', 'Noun'), ('전공', 'Noun'), ('으로', 'Josa'), ('의학과', 'Noun'), ('이공', 'Noun'), ('계', 'Noun'), ('를', 'Noun'), ('우선', 'Noun'), ('적', 'Noun'), ('으로', 'Josa'), ('고려', 'Noun'), ('하는', 'Verb'), ('일', 'Noun'), ('은', 'Noun'), ('한국', 'Noun'), ('이', 'Noun'), ('산업화', 'Noun'), ('중', 'Noun'), ('이던', 'Josa'), ('상황', 'Noun'), ('에선', 'Josa'), ('올바른', 'Adjective'), ('선택', 'Noun'), ('이었다', 'Verb'), ('.', 'Punctuation'), ('하지만', 'Conjunction'), ('지금', 'Noun'), ('은', 'Noun'), ('모든', 'Noun'), ('것', 'Noun'), ('이', 'Noun'), ('달라졌다', 'Verb'), ('.', 'Punctuation'), ('요즘', 'Noun'), ('실리콘밸리', 'Noun'), ('에서', 'Josa'), ('확인', 'Noun'), ('되는', 'Verb'), ('것', 'Noun'), ('은', 'Noun'), ('4', 'Number'), ('차', 'Noun'), ('산업혁명', 'Noun'), ('시대', 'Noun'), ('에는', 'Josa'), ('예술', 'Noun'), ('과', 'Noun'), ('인문학', 'Noun'), ('이', 'Noun'), ('의학', 'Noun'), ('·', 'Punctuation'), ('공학', 'Noun'), ('만큼', 'Noun'), ('중요하다는', 'Adjective'), ('사실', 'Noun'), ('이다', 'Josa'), ('.', 'Punctuation'), ('스티브', 'Noun'), ('잡스', 'Noun'), ('는', 'Verb'), ('자신', 'Noun'), ('이', 'Noun'), ('대학', 'Noun'), ('시절', 'Noun'), ('수강', 'Noun'), ('했던', 'Verb'), ('서체', 'Noun'), ('(', 'Punctuation'), ('書體', 'Foreign'), (')', 'Punctuation'), ('수업', 'Noun'), ('이', 'Noun'), ('매킨토시', 'Noun'), ('(', 'Punctuation'), ('애플', 'Noun'), ('이', 'Noun'), ('1984년', 'Number'), ('발표', 'Noun'), ('한', 'Verb'), ('개인', 'Noun'), ('용', 'Noun'), ('컴퓨터', 'Noun'), (')', 'Punctuation'), ('개발', 'Noun'), ('성공', 'Noun'), ('에', 'Josa'), ('큰', 'Verb'), ('영향', 'Noun'), ('을', 'Josa'), ('미쳤다고', 'Adjective'), ('말', 'Noun'), ('했다', 'Verb'), ('.', 'Punctuation'), ('그', 'Noun'), ('는', 'Verb'), ('2011년', 'Number'), ('아이패드', 'Noun'), ('2', 'Number'), ('를', 'Noun'), ('공개', 'Noun'), ('하면서', 'Verb'), ('\"', 'Punctuation'), ('애플', 'Noun'), ('의', 'Noun'), ('DNA', 'Alpha'), ('는', 'Verb'), ('기술', 'Noun'), ('만으로는', 'Josa'), ('충분하지', 'Adjective'), ('않다', 'Verb'), ('.', 'Punctuation'), ('교양', 'Noun'), ('과', 'Noun'), ('인문학', 'Noun'), ('이', 'Noun'), ('결합', 'Noun'), ('한', 'Verb'), ('기술', 'Noun'), ('이야말로', 'Josa'), ('가슴', 'Noun'), ('벅찬', 'Adjective'), ('결과', 'Noun'), ('를', 'Noun'), ('낳을', 'Noun'), ('것', 'Noun'), ('\"', 'Punctuation'), ('이', 'Noun'), ('라며', 'Noun'), ('예술', 'Noun'), ('과', 'Noun'), ('디자인', 'Noun'), ('의', 'Noun'), ('중요성', 'Noun'), ('을', 'Josa'), ('강조', 'Noun'), ('했다', 'Verb'), ('.', 'Punctuation'), ('이런', 'Adjective'), ('관점', 'Noun'), ('을', 'Josa'), ('바탕', 'Noun'), ('으로', 'Josa'), ('잡스', 'Noun'), ('는', 'Verb'), ('세계', 'Noun'), ('최고', 'Noun'), ('가치', 'Noun'), ('를', 'Noun'), ('인정받는', 'Verb'), ('기업', 'Noun'), ('을', 'Josa'), ('만들었고', 'Verb'), (',', 'Punctuation'), ('기술', 'Noun'), ('산업', 'Noun'), ('의', 'Noun'), ('새로운', 'Adjective'), ('표준', 'Noun'), ('까지', 'Josa'), ('정', 'Noun'), ('했다', 'Verb'), ('.', 'Punctuation'), ('실리콘밸리', 'Noun'), ('에서', 'Josa'), ('최근', 'Noun'), ('뜨고', 'Verb'), ('있는', 'Adjective'), ('스타', 'Noun'), ('기업인', 'Noun'), ('중', 'Noun'), ('에는', 'Josa'), ('인문학', 'Noun'), ('전공자', 'Noun'), ('들', 'Verb'), ('이', 'Noun'), ('제법', 'Noun'), ('많다', 'Adjective'), ('.', 'Punctuation'), ('구인', 'Noun'), ('·', 'Punctuation'), ('구직', 'Noun'), ('소셜', 'Noun'), ('네트워킹', 'Noun'), ('서비스', 'Noun'), ('기업인', 'Noun'), ('링크드인', 'Noun'), ('(', 'Punctuation'), ('LinkedIn', 'Alpha'), (')', 'Punctuation'), ('창업', 'Noun'), ('자', 'Noun'), ('리드', 'Noun'), ('호프', 'Noun'), ('만은', 'Josa'), ('철학', 'Noun'), ('석사', 'Noun'), ('학위', 'Noun'), ('소지', 'Noun'), ('자', 'Noun'), ('이며', 'Josa'), (',', 'Punctuation'), ('수', 'Noun'), ('잔', 'Noun'), ('보이', 'Noun'), ('치키', 'Verb'), ('유튜브', 'Noun'), ('CEO', 'Alpha'), ('는', 'Verb'), ('역사', 'Noun'), ('와', 'Verb'), ('문학', 'Noun'), ('을', 'Josa'), ('전공', 'Noun'), ('했다', 'Verb'), ('.', 'Punctuation'), ('메신저', 'Noun'), ('개발', 'Noun'), ('업체', 'Noun'), ('슬랙', 'Noun'), ('(', 'Punctuation'), ('Slack', 'Alpha'), (')', 'Punctuation'), ('의', 'Noun'), ('창업', 'Noun'), ('자', 'Noun'), ('스튜어트', 'Noun'), ('버터', 'Noun'), ('필드', 'Noun'), ('는', 'Verb'), ('철학', 'Noun'), (',', 'Punctuation'), ('세계', 'Noun'), ('최대', 'Noun'), ('숙박', 'Noun'), ('공유', 'Noun'), ('기업인', 'Noun'), ('에어비앤비', 'Noun'), ('의', 'Noun'), ('설립', 'Noun'), ('자', 'Noun'), ('브라이언', 'Noun'), ('체', 'Noun'), ('스키', 'Noun'), ('는', 'Verb'), ('미술', 'Noun'), ('을', 'Josa'), ('전공', 'Noun'), ('했다', 'Verb'), ('.', 'Punctuation'), ('중국', 'Noun'), ('알리바바', 'Noun'), ('그룹', 'Noun'), ('의', 'Noun'), ('마윈', 'Noun'), ('회장', 'Noun'), ('의', 'Noun'), ('학부', 'Noun'), ('전공', 'Noun'), ('은', 'Noun'), ('영어', 'Noun'), ('였다', 'Verb'), ('.', 'Punctuation'), ('내', 'Noun'), ('가', 'Verb'), ('속', 'Noun'), ('해', 'Noun'), ('있는', 'Adjective'), ('하버드대', 'Noun'), ('·', 'Punctuation'), ('듀크', 'Noun'), ('대', 'Verb'), ('연', 'Noun'), ('구', 'Noun'), ('팀', 'Noun'), ('은', 'Noun'), ('미국', 'Noun'), ('IT', 'Alpha'), ('기업', 'Noun'), ('창업', 'Noun'), ('자', 'Noun'), ('들', 'Verb'), ('의', 'Noun'), ('92%', 'Number'), ('가', 'Verb'), ('학사', 'Noun'), ('학위', 'Noun'), ('를', 'Noun'), (',', 'Punctuation'), ('47%', 'Number'), ('는', 'Verb'), ('석사', 'Noun'), ('학위', 'Noun'), ('이상', 'Noun'), ('을', 'Josa'), ('갖고', 'Verb'), ('있', 'Adjective'), ('음', 'Noun'), ('을', 'Josa'), ('밝혀냈다', 'Verb'), ('.', 'Punctuation'), ('창업', 'Noun'), ('자', 'Noun'), ('들', 'Verb'), ('의', 'Noun'), ('세부', 'Noun'), ('전공', 'Noun'), ('을', 'Josa'), ('보면', 'Verb'), ('37%', 'Number'), ('만', 'Noun'), ('공학', 'Noun'), ('·', 'Punctuation'), ('컴퓨터', 'Noun'), ('기술', 'Noun'), ('이며', 'Josa'), (',', 'Punctuation'), ('수학', 'Noun'), ('전공자', 'Noun'), ('는', 'Verb'), ('2%', 'Number'), ('뿐이었다', 'Adjective'), ('.', 'Punctuation'), ('이', 'Noun'), ('들', 'Verb'), ('의', 'Noun'), ('전공', 'Noun'), ('은', 'Noun'), ('경영', 'Noun'), ('·', 'Punctuation'), ('회계', 'Noun'), ('·', 'Punctuation'), ('보건', 'Noun'), ('·', 'Punctuation'), ('예술', 'Noun'), ('·', 'Punctuation'), ('인문학', 'Noun'), ('등', 'Noun'), ('매우', 'Noun'), ('다양했다', 'Adjective'), ('.', 'Punctuation'), ('컴퓨터', 'Noun'), ('주변기기', 'Noun'), ('제조', 'Noun'), ('업체', 'Noun'), ('로지텍', 'Noun'), ('의', 'Noun'), ('브랙큰', 'Noun'), ('대럴', 'Noun'), ('CEO', 'Alpha'), ('도', 'Noun'), ('영문학', 'Noun'), ('을', 'Josa'), ('전공', 'Noun'), ('했다', 'Verb'), ('.', 'Punctuation'), ('최근', 'Noun'), ('내', 'Noun'), ('가', 'Verb'), ('그', 'Noun'), ('에게', 'Josa'), ('\"', 'Punctuation'), ('어떻게', 'Adjective'), ('5년', 'Number'), ('여', 'Noun'), ('만에', 'Josa'), ('회사', 'Noun'), ('주가', 'Noun'), ('를', 'Noun'), ('450%', 'Number'), ('올릴', 'Verb'), ('수', 'Noun'), ('있었느냐', 'Adjective'), ('\"', 'Punctuation'), ('고', 'Noun'), ('물었더니', 'Verb'), ('그', 'Noun'), ('는', 'Verb'), ('\"', 'Punctuation'), ('우리', 'Noun'), ('회사', 'Noun'), ('가', 'Verb'), ('만드는', 'Verb'), ('모든', 'Noun'), ('제품', 'Noun'), ('의', 'Noun'), ('디자인', 'Noun'), ('을', 'Josa'), ('쉼', 'Verb'), ('없이', 'Adverb'), ('고민', 'Noun'), ('했기', 'Verb'), ('때문', 'Noun'), ('에', 'Josa'), ('가능했다', 'Adjective'), ('.', 'Punctuation'), ('기술', 'Noun'), ('관련', 'Noun'), ('제품', 'Noun'), ('의', 'Noun'), ('성공', 'Noun'), ('에', 'Josa'), ('가장', 'Noun'), ('중요한', 'Adjective'), ('것', 'Noun'), ('은', 'Noun'), ('디자인', 'Noun'), ('\"', 'Punctuation'), ('이라고', 'Josa'), ('답', 'Noun'), ('했다', 'Verb'), ('.', 'Punctuation'), ('4', 'Number'), ('차', 'Noun'), ('산업혁명', 'Noun'), ('은', 'Noun'), (\"'\", 'Punctuation'), ('혁신', 'Noun'), ('의', 'Noun'), ('규칙', 'Noun'), (\"'\", 'Punctuation'), ('을', 'Josa'), ('바꾸는', 'Verb'), ('일이', 'Modifier'), ('다', 'Adverb'), ('.', 'Punctuation'), ('여기', 'Noun'), ('에는', 'Josa'), ('컴퓨터', 'Noun'), ('와', 'Verb'), ('인공', 'Noun'), ('지능', 'Noun'), (',', 'Punctuation'), ('디지털', 'Noun'), ('의술', 'Noun'), (',', 'Punctuation'), ('로봇공학', 'Noun'), (',', 'Punctuation'), ('합성생물학', 'Noun'), ('등', 'Noun'), ('광범위한', 'Adjective'), ('기술', 'Noun'), ('이', 'Noun'), ('활용', 'Noun'), ('된다', 'Verb'), ('.', 'Punctuation'), ('의학', 'Noun'), ('·', 'Punctuation'), ('인공', 'Noun'), ('지능', 'Noun'), ('과', 'Noun'), ('센서', 'Noun'), ('를', 'Noun'), ('융합', 'Noun'), ('하면', 'Verb'), ('인간', 'Noun'), ('의', 'Noun'), ('건강', 'Noun'), ('을', 'Josa'), ('진단', 'Noun'), ('하고', 'Verb'), ('질병', 'Noun'), ('을', 'Josa'), ('예방', 'Noun'), ('하는', 'Verb'), (\"'\", 'Punctuation'), ('디지털', 'Noun'), ('의사', 'Noun'), (\"'\", 'Punctuation'), ('를', 'Noun'), ('만들', 'Verb'), ('수', 'Noun'), ('있다', 'Adjective'), ('.', 'Punctuation'), ('유전체학', 'Noun'), ('과', 'Noun'), ('유전자', 'Noun'), ('편집', 'Noun'), ('을', 'Josa'), ('이용', 'Noun'), ('해', 'Noun'), ('가뭄', 'Noun'), ('에', 'Josa'), ('강하고', 'Adjective'), ('인류', 'Noun'), ('전체', 'Noun'), ('를', 'Noun'), ('먹여', 'Verb'), ('살릴', 'Verb'), ('새', 'Noun'), ('식물', 'Noun'), ('을', 'Josa'), ('개발', 'Noun'), ('할', 'Verb'), ('수', 'Noun'), ('있다', 'Adjective'), ('.', 'Punctuation'), ('인공', 'Noun'), ('지능', 'Noun'), ('로봇', 'Noun'), ('을', 'Josa'), ('사용', 'Noun'), ('해', 'Noun'), ('노인', 'Noun'), ('들', 'Verb'), ('을', 'Josa'), ('위', 'Noun'), ('한', 'Verb'), (\"'\", 'Punctuation'), ('디지털', 'Noun'), ('친구', 'Noun'), (\"'\", 'Punctuation'), ('도', 'Noun'), ('가능하다', 'Adjective'), ('.', 'Punctuation'), ('초소', 'Noun'), ('형', 'Noun'), ('물질', 'Noun'), ('의', 'Noun'), ('발전', 'Noun'), ('은', 'Noun'), ('모든', 'Noun'), ('사람', 'Noun'), ('이', 'Noun'), ('충분히', 'Adjective'), ('이용', 'Noun'), ('할', 'Verb'), ('수', 'Noun'), ('있는', 'Adjective'), (\"'\", 'Punctuation'), ('태양열', 'Noun'), ('저장', 'Noun'), ('기술', 'Noun'), (\"'\", 'Punctuation'), ('의', 'Noun'), ('새', 'Noun'), ('시대', 'Noun'), ('를', 'Noun'), ('열', 'Noun'), ('것', 'Noun'), ('이다', 'Josa'), ('.', 'Punctuation'), ('이런', 'Adjective'), ('해결', 'Noun'), ('책', 'Noun'), ('을', 'Josa'), ('이끌어내는', 'Verb'), ('데', 'Noun'), ('는', 'Verb'), ('생물학', 'Noun'), ('·', 'Punctuation'), ('교육', 'Noun'), ('·', 'Punctuation'), ('의료', 'Noun'), ('·', 'Punctuation'), ('인간', 'Noun'), ('행동', 'Noun'), ('등', 'Noun'), ('여러', 'Noun'), ('분야', 'Noun'), ('에', 'Josa'), ('대한', 'Noun'), ('지식', 'Noun'), ('이', 'Noun'), ('필요하다', 'Adjective'), ('.', 'Punctuation'), ('우리', 'Noun'), ('가', 'Verb'), ('처', 'Noun'), ('한', 'Verb'), ('거대한', 'Adjective'), ('사회', 'Noun'), ('·', 'Punctuation'), ('기술', 'Noun'), ('적', 'Noun'), ('도전', 'Noun'), ('에', 'Josa'), ('대처', 'Noun'), ('하려면', 'Verb'), ('인류', 'Noun'), ('를', 'Noun'), ('둘러싼', 'Verb'), ('다양한', 'Adjective'), ('배경', 'Noun'), ('과', 'Noun'), ('맥락', 'Noun'), ('에', 'Josa'), ('대해', 'Noun'), ('비판', 'Noun'), ('적', 'Noun'), ('사고', 'Noun'), ('능력', 'Noun'), ('이', 'Noun'), ('필수', 'Noun'), ('적', 'Noun'), ('이다', 'Josa'), ('.', 'Punctuation'), ('이는', 'Verb'), ('인문학', 'Noun'), ('전공자', 'Noun'), ('들', 'Verb'), ('이', 'Noun'), ('가장', 'Noun'), ('잘', 'Verb'), ('훈련', 'Noun'), ('받은', 'Verb'), ('분야', 'Noun'), ('이다', 'Josa'), ('.', 'Punctuation'), ('일례', 'Noun'), ('로', 'Noun'), ('음악', 'Noun'), ('·', 'Punctuation'), ('예술', 'Noun'), ('·', 'Punctuation'), ('문학', 'Noun'), ('과', 'Noun'), ('심리학', 'Noun'), ('에서', 'Josa'), ('비롯', 'Noun'), ('한', 'Verb'), ('공감', 'Noun'), ('(', 'Punctuation'), ('共感', 'Foreign'), (')', 'Punctuation'), ('능력', 'Noun'), ('은', 'Noun'), ('디자인', 'Noun'), ('에', 'Josa'), ('큰', 'Verb'), ('장점', 'Noun'), ('이', 'Noun'), ('된다', 'Verb'), ('.', 'Punctuation'), ('로마제국', 'Noun'), ('의', 'Noun'), ('흥망', 'Noun'), ('성쇠', 'Noun'), ('와', 'Verb'), ('계몽', 'Noun'), ('주의', 'Noun'), ('를', 'Noun'), ('공부', 'Noun'), ('한', 'Verb'), ('역사학도', 'Noun'), ('는', 'Verb'), ('기술', 'Noun'), ('의', 'Noun'), ('인간', 'Noun'), ('적', 'Noun'), ('요소', 'Noun'), ('와', 'Verb'), ('유용성', 'Noun'), ('에', 'Josa'), ('대한', 'Noun'), ('통찰', 'Noun'), ('력', 'Suffix'), ('을', 'Josa'), ('가질', 'Verb'), ('수', 'Noun'), ('있다', 'Adjective'), ('.', 'Punctuation'), ('심리학', 'Noun'), ('전공자', 'Noun'), ('는', 'Verb'), ('사람', 'Noun'), ('에게', 'Josa'), ('동기', 'Noun'), ('(', 'Punctuation'), ('動機', 'Foreign'), (')', 'Punctuation'), ('부여', 'Noun'), ('가', 'Verb'), ('무엇', 'Noun'), ('이며', 'Josa'), (',', 'Punctuation'), ('사용자', 'Noun'), ('들', 'Verb'), ('이', 'Noun'), ('원하는', 'Adjective'), ('게', 'Noun'), ('무엇', 'Noun'), ('인지', 'Noun'), ('를', 'Noun'), ('공학', 'Noun'), ('한', 'Verb'), ('분야', 'Noun'), ('에서만', 'Josa'), ('일', 'Noun'), ('해온', 'Verb'), ('엔지니어', 'Noun'), ('들', 'Verb'), ('보다', 'Verb'), ('잘', 'Verb'), ('이해', 'Noun'), ('할', 'Verb'), ('수', 'Noun'), ('있다', 'Adjective'), ('.', 'Punctuation'), ('우리', 'Noun'), ('가', 'Verb'), ('상상', 'Noun'), ('하는', 'Verb'), ('물건', 'Noun'), ('을', 'Josa'), ('3', 'Number'), ('D', 'Alpha'), ('로', 'Noun'), ('만들', 'Verb'), ('수', 'Noun'), ('있게', 'Adjective'), ('되면', 'Verb'), ('음악가', 'Noun'), ('나', 'Noun'), ('화가', 'Noun'), ('들', 'Verb'), ('의', 'Noun'), ('세상', 'Noun'), ('이', 'Noun'), ('될지도', 'Verb'), ('모른다', 'Verb'), ('.\"', 'Punctuation'), ('자녀', 'Noun'), ('가', 'Verb'), ('미래', 'Noun'), ('에', 'Josa'), ('어떤', 'Adjective'), ('직업', 'Noun'), ('을', 'Josa'), ('택하', 'Noun'), ('면', 'Noun'), ('좋겠는가', 'Adjective'), ('\"', 'Punctuation'), ('라는', 'Josa'), ('질문', 'Noun'), ('을', 'Josa'), ('받을', 'Verb'), ('때', 'Noun'), ('나', 'Noun'), ('는', 'Verb'), ('\"', 'Punctuation'), ('아이', 'Noun'), ('들', 'Verb'), ('이', 'Noun'), ('스스로', 'Noun'), ('하고', 'Verb'), ('싶은', 'Verb'), ('것', 'Noun'), ('을', 'Josa'), ('선택', 'Noun'), ('하도록', 'Verb'), ('내버려', 'Verb'), ('두는', 'Verb'), ('게', 'Noun'), ('최선', 'Noun'), ('\"', 'Punctuation'), ('이라고', 'Josa'), ('답', 'Noun'), ('한다', 'Verb'), ('.', 'Punctuation'), ('과거', 'Noun'), ('우리', 'Noun'), ('부모', 'Noun'), ('들', 'Verb'), ('이', 'Noun'), ('우리', 'Noun'), ('에게', 'Josa'), ('공부', 'Noun'), ('를', 'Noun'), ('강요', 'Noun'), ('해서', 'Verb'), ('학습', 'Noun'), ('을', 'Josa'), (\"'\", 'Punctuation'), ('억지로', 'Noun'), ('해야', 'Verb'), ('하는', 'Verb'), ('따분한', 'Adjective'), ('일', 'Noun'), (\"'\", 'Punctuation'), ('로', 'Noun'), ('여기', 'Noun'), ('게', 'Noun'), ('했던', 'Verb'), ('방식', 'Noun'), ('을', 'Josa'), ('따라', 'Verb'), ('해선', 'Noun'), ('안', 'Noun'), ('된다', 'Verb'), ('.', 'Punctuation'), ('그', 'Noun'), ('대신', 'Noun'), ('자녀', 'Noun'), ('가', 'Verb'), ('자신', 'Noun'), ('의', 'Noun'), ('열정', 'Noun'), ('을', 'Josa'), ('추구', 'Noun'), ('하고', 'Verb'), ('배우는', 'Verb'), ('걸', 'Noun'), ('즐길', 'Verb'), ('수', 'Noun'), ('있도록', 'Adjective'), ('북', 'Noun'), ('돋아야', 'Verb'), ('한다', 'Verb'), ('.', 'Punctuation'), ('기술', 'Noun'), ('을', 'Josa'), ('통해', 'Noun'), ('놀라운', 'Adjective'), ('미래', 'Noun'), ('를', 'Noun'), ('창조', 'Noun'), ('하고', 'Verb'), ('새로운', 'Adjective'), ('산업혁명', 'Noun'), ('시대', 'Noun'), ('에', 'Josa'), ('리더', 'Noun'), ('가', 'Verb'), ('되기', 'Verb'), ('위해', 'Noun'), ('한국', 'Noun'), ('에서는', 'Josa'), ('공학자', 'Noun'), ('들', 'Verb'), ('과', 'Noun'), ('손잡고', 'Verb'), ('일', 'Noun'), ('할', 'Verb'), ('음악가', 'Noun'), ('와', 'Verb'), ('화가', 'Noun'), ('가', 'Verb'), ('더', 'Noun'), ('많이', 'Adverb'), ('필요하다', 'Adjective'), ('.', 'Punctuation'), ('이제', 'Noun'), ('는', 'Verb'), ('과학', 'Noun'), ('·', 'Punctuation'), ('공학', 'Noun'), ('·', 'Punctuation'), ('의학', 'Noun'), ('뿐', 'Noun'), ('아니라', 'Adjective'), ('창의성', 'Noun'), ('과', 'Noun'), ('디자인', 'Noun'), ('에도', 'Josa'), ('진정한', 'Adjective'), ('관심', 'Noun'), ('을', 'Josa'), ('쏟아야', 'Verb'), ('한다', 'Verb'), ('.', 'Punctuation')]\n",
            "[('교육', 'NNG'), ('을', 'NNG'), ('삶', 'NNG'), ('의', 'NNG'), ('최', 'XPN'), ('우선', 'MAG'), ('순위', 'NNG'), ('로', 'NNG'), ('두', 'NNG'), ('고', 'NNG'), ('있', 'VA'), ('늘', 'VA'), ('ㄴ', 'ETD'), ('한국', 'NNG'), ('의', 'NNG'), ('부모', 'NNG'), ('들', 'NNG'), ('은', 'NNG'), ('대학', 'NNG'), ('전공', 'NNG'), ('가운데', 'NNG'), ('의학', 'NNG'), ('과', 'NNG'), ('공학', 'NNG'), ('·', 'SP'), ('과학', 'NNG'), ('을', 'NNG'), ('중시', 'NNG'), ('하', 'NNG'), ('ㄴ다', 'UN'), ('.', 'SF'), ('자녀', 'NNG'), ('의', 'NNG'), ('직업적', 'NNG'), ('성공', 'NNG'), ('을', 'NNG'), ('위하', 'VV'), ('어', 'NNG'), ('대학', 'NNG'), ('전공', 'NNG'), ('으', 'UN'), ('로', 'JKM'), ('의학', 'NNG'), ('과', 'NNG'), ('이공계', 'NNG'), ('를', 'UN'), ('우선적', 'NNG'), ('으', 'UN'), ('로', 'JKM'), ('고려', 'NNP'), ('하', 'NNG'), ('늘', 'VA'), ('ㄴ', 'ETD'), ('일', 'NNG'), ('은', 'NNG'), ('한국', 'NNG'), ('이', 'NNG'), ('산업화', 'NNG'), ('중이', 'NNG'), ('덜', 'VV'), ('ㄴ', 'NNG'), ('상황', 'NNG'), ('에서', 'UN'), ('늘', 'VA'), ('ㄴ', 'ETD'), ('올바르', 'VA'), ('ㄴ', 'NNG'), ('선택', 'NNG'), ('이', 'NNG'), ('어', 'VV'), ('었', 'EPT'), ('다', 'NNG'), ('.', 'SF'), ('하지만', 'MAC'), ('지금', 'NNG'), ('은', 'NNG'), ('모든', 'MDT'), ('것', 'NNB'), ('이', 'NNG'), ('달라지', 'VV'), ('어', 'VV'), ('었', 'EPT'), ('다', 'NNG'), ('.', 'SF'), ('요즘', 'NNG'), ('실리콘', 'NNG'), ('밸리', 'NNG'), ('에서', 'UN'), ('확인', 'NNG'), ('되', 'VA'), ('늘', 'VA'), ('ㄴ', 'ETD'), ('것', 'NNB'), ('은', 'NNG'), ('4', 'NR'), ('차', 'NNG'), ('산업', 'NNG'), ('혁명', 'NNG'), ('시대', 'NNG'), ('에', 'VV'), ('늘', 'VA'), ('ㄴ', 'ETD'), ('예술', 'NNG'), ('과', 'NNG'), ('인문학', 'NNG'), ('이', 'NNG'), ('의학', 'NNG'), ('·', 'SP'), ('공학', 'NNG'), ('만큼', 'NNB'), ('중요', 'NNG'), ('하다', 'NNP'), ('늘', 'VA'), ('ㄴ', 'ETD'), ('사실', 'NNG'), ('이', 'NNG'), ('다', 'NNG'), ('.', 'SF'), ('스티', 'UN'), ('블', 'VV'), ('잡스', 'UN'), ('늘', 'VA'), ('ㄴ', 'ETD'), ('자신', 'NNG'), ('이', 'NNG'), ('대학', 'NNG'), ('시절', 'NNG'), ('수강', 'NNG'), ('하', 'NNG'), ('어', 'VV'), ('었', 'EPT'), ('더', 'NNG'), ('ㄴ', 'NNG'), ('서체', 'NNG'), ('(', 'SS'), ('書體', 'OH'), (')', 'SS'), ('수업', 'NNG'), ('이', 'NNG'), ('매킨토시', 'NNG'), ('(', 'SS'), ('애플', 'NNP'), ('이', 'NNG'), ('1984', 'NR'), ('년', 'NNG'), ('발표', 'NNG'), ('하', 'NNG'), ('ㄴ', 'NNG'), ('개인용', 'NNG'), ('컴퓨터', 'NNG'), (')', 'SS'), ('개발', 'NNG'), ('성공', 'NNG'), ('에', 'VV'), ('크', 'VA'), ('ㄴ', 'NNG'), ('영향', 'NNG'), ('을', 'NNG'), ('미치', 'VV'), ('어', 'VV'), ('었', 'EPT'), ('다고', 'EFQ'), ('말하', 'VV'), ('어', 'VV'), ('었', 'EPT'), ('다', 'NNG'), ('.', 'SF'), ('그', 'VA'), ('늘', 'VA'), ('ㄴ', 'ETD'), ('2011', 'NR'), ('년', 'NNG'), ('아이', 'NNG'), ('패드', 'NNG'), ('2', 'NR'), ('를', 'UN'), ('공개', 'NNG'), ('하', 'NNG'), ('면', 'NNG'), ('서', 'JKM'), ('\"', 'SS'), ('애플', 'NNP'), ('의', 'NNG'), ('DNA', 'OL'), ('늘', 'VA'), ('ㄴ', 'ETD'), ('기술', 'NNG'), ('만', 'NNG'), ('으', 'UN'), ('로', 'JKM'), ('늘', 'VA'), ('ㄴ', 'ETD'), ('충분', 'XR'), ('하', 'NNG'), ('지', 'NNG'), ('않', 'VA'), ('다', 'NNG'), ('.', 'SF'), ('교양', 'NNG'), ('과', 'NNG'), ('인문학', 'NNG'), ('이', 'NNG'), ('결하', 'VV'), ('하', 'NNG'), ('ㄴ', 'NNG'), ('기술', 'NNG'), ('이야말로', 'MAG'), ('가슴', 'NNG'), ('벅차', 'VA'), ('ㄴ', 'NNG'), ('결과', 'NNG'), ('를', 'UN'), ('낳', 'VA'), ('을', 'NNG'), ('것', 'NNB'), ('\"', 'SS'), ('이', 'NNG'), ('라', 'NNG'), ('며', 'JC'), ('예술', 'NNG'), ('과', 'JC'), ('디자인', 'NNG'), ('의', 'NNG'), ('중요성', 'NNG'), ('을', 'NNG'), ('강조', 'NNG'), ('하', 'NNG'), ('어', 'VV'), ('었', 'EPT'), ('다', 'NNG'), ('.', 'SF'), ('이런', 'MDT'), ('관점', 'NNG'), ('을', 'NNG'), ('바탕', 'NNG'), ('으', 'UN'), ('로', 'JKM'), ('잡스', 'UN'), ('늘', 'VA'), ('ㄴ', 'ETD'), ('세계', 'NNG'), ('최고', 'NNG'), ('가치', 'NNG'), ('를', 'UN'), ('인정받', 'VV'), ('늘', 'VA'), ('ㄴ', 'ETD'), ('기업', 'NNG'), ('을', 'NNG'), ('만들', 'VV'), ('어', 'VV'), ('었', 'EPT'), ('고', 'NNG'), (',', 'SP'), ('기술', 'NNG'), ('산업', 'NNG'), ('의', 'NNG'), ('새롭', 'VA'), ('ㄴ', 'NNG'), ('표준', 'NNG'), ('까', 'VV'), ('지', 'ECD'), ('정하', 'VV'), ('어', 'VV'), ('었', 'EPT'), ('다', 'NNG'), ('.', 'SF'), ('실리콘', 'NNG'), ('밸리', 'NNG'), ('에서', 'UN'), ('최근', 'NNG'), ('뜨', 'VA'), ('고', 'NNG'), ('있', 'VA'), ('늘', 'VA'), ('ㄴ', 'ETD'), ('스타', 'NNG'), ('기업인', 'NNG'), ('중', 'NNG'), ('에', 'VV'), ('늘', 'VA'), ('ㄴ', 'ETD'), ('인문학', 'NNG'), ('전공자', 'NNG'), ('들', 'NNG'), ('이', 'NNG'), ('제법', 'MAG'), ('많', 'VA'), ('다', 'NNG'), ('.', 'SF'), ('구인', 'NNG'), ('·', 'SP'), ('구직', 'NNG'), ('소', 'NNG'), ('셜', 'UN'), ('네트', 'NNG'), ('워킹', 'NNG'), ('서비스', 'NNG'), ('기업인', 'NNG'), ('링크', 'NNG'), ('드이', 'VV'), ('ㄴ', 'NNG'), ('(', 'SS'), ('LinkedIn', 'OL'), (')', 'SS'), ('창', 'NNG'), ('업자', 'NNG'), ('리드', 'NNG'), ('호프만', 'NNG'), ('은', 'NNG'), ('철학', 'NNG'), ('석사', 'NNG'), ('학위', 'NNG'), ('소지자', 'NNG'), ('이', 'NNG'), ('며', 'UN'), (',', 'SP'), ('수', 'NNG'), ('잔', 'NNG'), ('보일', 'VV'), ('하', 'NNG'), ('지', 'NNG'), ('키', 'NNG'), ('유', 'NNG'), ('튜브', 'NNG'), ('CEO', 'OL'), ('늘', 'VA'), ('ㄴ', 'ETD'), ('역사', 'NNG'), ('오', 'VA'), ('아', 'ECS'), ('문학', 'NNG'), ('을', 'NNG'), ('전공', 'NNG'), ('하', 'NNG'), ('어', 'VV'), ('었', 'EPT'), ('다', 'NNG'), ('.', 'SF'), ('메신저', 'NNG'), ('개발', 'NNG'), ('업체', 'NNG'), ('슬', 'VA'), ('ㄹ', 'NNG'), ('랙', 'NNG'), ('(', 'SS'), ('Slack', 'OL'), (')', 'SS'), ('의', 'NNG'), ('창업자', 'NNG'), ('스튜', 'NNG'), ('어', 'VV'), ('어', 'ECS'), ('트', 'VV'), ('버터', 'NNG'), ('필드', 'NNG'), ('늘', 'VA'), ('ㄴ', 'ETD'), ('철학', 'NNG'), (',', 'SP'), ('세계', 'NNG'), ('최대', 'NNG'), ('숙박', 'NNG'), ('공유', 'NNG'), ('기업인', 'NNG'), ('에어', 'NNG'), ('비', 'NNG'), ('앤', 'NNG'), ('비의', 'NNG'), ('설립자', 'NNG'), ('브라', 'UN'), ('이언', 'NNG'), ('체', 'NNG'), ('스키', 'NNG'), ('늘', 'VA'), ('ㄴ', 'ETD'), ('미술', 'NNG'), ('을', 'NNG'), ('전공', 'NNG'), ('하', 'NNG'), ('어', 'VV'), ('었', 'EPT'), ('다', 'NNG'), ('.', 'SF'), ('중국', 'NNG'), ('알', 'NNG'), ('리', 'NNG'), ('바', 'NNG'), ('바', 'NNG'), ('그룹', 'NNG'), ('의', 'NNG'), ('마', 'NNG'), ('윈', 'UN'), ('회장', 'NNG'), ('의', 'NNG'), ('학부', 'NNG'), ('전공', 'NNG'), ('은', 'NNG'), ('영어', 'NNG'), ('이', 'NNG'), ('어', 'VV'), ('었', 'EPT'), ('다', 'NNG'), ('.', 'SF'), ('내', 'NNG'), ('가', 'NNG'), ('속하', 'VV'), ('어', 'NNG'), ('있', 'VA'), ('늘', 'VA'), ('ㄴ', 'ETD'), ('하버드', 'NNG'), ('대', 'NNG'), ('·', 'SP'), ('듀', 'UN'), ('크', 'VA'), ('대', 'NNG'), ('연구', 'NNG'), ('팀', 'NNG'), ('은', 'NNG'), ('미국', 'NNP'), ('IT', 'OL'), ('기업', 'NNG'), ('창업자', 'NNG'), ('들', 'NNG'), ('의', 'NNG'), ('92', 'NR'), ('%', 'SW'), ('가', 'NNG'), ('아', 'NNG'), ('학사', 'NNG'), ('학위', 'NNG'), ('를', 'UN'), (',', 'SP'), ('47', 'NR'), ('%', 'SW'), ('늘', 'VA'), ('ㄴ', 'NNG'), ('석사', 'NNG'), ('학위', 'NNG'), ('이상', 'NNG'), ('을', 'NNG'), ('갖', 'VA'), ('고', 'NNG'), ('있음', 'NNG'), ('을', 'NNG'), ('밝혀내', 'VV'), ('어', 'VV'), ('었', 'EPT'), ('다', 'NNG'), ('.', 'SF'), ('창업자', 'NNG'), ('들', 'NNG'), ('의', 'NNG'), ('세부', 'NNG'), ('전공', 'NNG'), ('을', 'NNG'), ('보', 'NNG'), ('면', 'NNG'), ('37', 'NR'), ('%', 'SW'), ('만', 'NNG'), ('공학', 'NNG'), ('·', 'SP'), ('컴퓨터', 'NNG'), ('기술', 'NNG'), ('이', 'NNG'), ('며', 'UN'), (',', 'SP'), ('수학', 'NNG'), ('전공자', 'NNG'), ('늘', 'VA'), ('ㄴ', 'ETD'), ('2', 'NR'), ('%', 'SW'), ('뿔', 'VV'), ('ㄴ', 'ETD'), ('이', 'NNG'), ('어', 'VV'), ('었', 'EPT'), ('다', 'NNG'), ('.', 'SF'), ('이', 'NNG'), ('들', 'NNG'), ('의', 'NNG'), ('전공', 'NNG'), ('은', 'NNG'), ('경영', 'NNG'), ('·', 'SP'), ('회계', 'NNG'), ('·', 'SP'), ('보건', 'NNG'), ('·', 'SP'), ('예술', 'NNG'), ('·', 'SP'), ('인문학', 'NNG'), ('등', 'NNG'), ('맵', 'VA'), ('다양', 'NNG'), ('하', 'NNG'), ('어', 'VV'), ('었', 'EPT'), ('다', 'NNG'), ('.', 'SF'), ('컴퓨터', 'NNG'), ('주변', 'NNG'), ('기기', 'NNG'), ('제조', 'NNG'), ('업체', 'NNG'), ('로지텍', 'NNP'), ('의', 'NNG'), ('브랙', 'UN'), ('크', 'VA'), ('ㄴ', 'NNG'), ('대', 'NNG'), ('럴', 'UN'), ('CEO', 'OL'), ('도', 'NNG'), ('영문학', 'NNG'), ('을', 'NNG'), ('전공', 'NNG'), ('하', 'NNG'), ('어', 'VV'), ('었', 'EPT'), ('다', 'NNG'), ('.', 'SF'), ('최근', 'NNG'), ('내가', 'VV'), ('그', 'VA'), ('에', 'VV'), ('게', 'ECD'), ('\"', 'SS'), ('어떻', 'VA'), ('게', 'NNG'), ('5', 'NR'), ('년', 'NNG'), ('여', 'NNG'), ('만', 'NNG'), ('에', 'VV'), ('회사', 'NNG'), ('주가', 'NNG'), ('를', 'UN'), ('450', 'NR'), ('%', 'SW'), ('올리', 'VV'), ('ㄹ', 'NNG'), ('수', 'NNG'), ('있', 'VA'), ('어', 'VV'), ('었', 'EPT'), ('늘', 'VV'), ('냐', 'EFQ'), ('\"', 'SS'), ('고', 'NNG'), ('묻', 'VV'), ('어', 'VV'), ('었', 'EPT'), ('덜', 'VV'), ('니', 'ECD'), ('그', 'VA'), ('늘', 'VA'), ('ㄴ', 'ETD'), ('\"', 'SS'), ('우리', 'NP'), ('회사', 'NNG'), ('가', 'NNG'), ('만들', 'VV'), ('늘', 'VA'), ('ㄴ', 'ETD'), ('모든', 'MDT'), ('제품', 'NNG'), ('의', 'NNG'), ('디자인', 'NNG'), ('을', 'NNG'), ('쉼', 'NNG'), ('없이', 'MAG'), ('고민', 'NNG'), ('하', 'NNG'), ('어', 'VV'), ('었', 'EPT'), ('기', 'NNG'), ('때문', 'NNB'), ('에', 'VV'), ('가능', 'NNG'), ('하', 'NNG'), ('어', 'VV'), ('었', 'EPT'), ('다', 'NNG'), ('.', 'SF'), ('기술', 'NNG'), ('관련', 'NNG'), ('제품', 'NNG'), ('의', 'NNG'), ('성공', 'NNG'), ('에', 'VV'), ('가장', 'MAG'), ('중요', 'NNG'), ('하', 'NNG'), ('ㄴ', 'NNG'), ('것', 'NNB'), ('은', 'NNG'), ('디자인', 'NNG'), ('\"', 'SS'), ('이', 'NNG'), ('라고', 'EFQ'), ('답하', 'VV'), ('어', 'VV'), ('었', 'EPT'), ('다', 'NNG'), ('.', 'SF'), ('4', 'NR'), ('차', 'NNG'), ('산업', 'NNG'), ('혁명', 'NNG'), ('은', 'NNG'), (\"'\", 'SS'), ('혁신', 'NNG'), ('의', 'NNG'), ('규칙', 'NNG'), (\"'\", 'SS'), ('을', 'NNG'), ('바꾸', 'VV'), ('늘', 'VA'), ('ㄴ', 'ETD'), ('일', 'NNG'), ('이', 'NNG'), ('다', 'NNG'), ('.', 'SF'), ('여기', 'NP'), ('에', 'VV'), ('늘', 'VA'), ('ㄴ', 'ETD'), ('컴퓨터', 'NNG'), ('오', 'VA'), ('아', 'ECS'), ('인공지능', 'NNG'), (',', 'SP'), ('디지털', 'NNG'), ('의술', 'NNG'), (',', 'SP'), ('로봇', 'NNG'), ('공학', 'NNG'), (',', 'SP'), ('합성', 'NNG'), ('생물학', 'NNG'), ('등', 'NNG'), ('광범위', 'NNG'), ('하', 'NNG'), ('ㄴ', 'NNG'), ('기술', 'NNG'), ('이', 'NNG'), ('활용', 'NNG'), ('되', 'VA'), ('ㄴ다', 'UN'), ('.', 'SF'), ('의학', 'NNG'), ('·', 'SP'), ('인공지능', 'NNG'), ('과', 'NNG'), ('센서', 'NNG'), ('를', 'UN'), ('융합', 'NNG'), ('하', 'NNG'), ('면', 'NNG'), ('인간', 'NNG'), ('의', 'NNG'), ('건강', 'NNG'), ('을', 'NNG'), ('진단', 'NNG'), ('하', 'NNG'), ('고', 'NNG'), ('질병', 'NNG'), ('을', 'NNG'), ('예방', 'NNG'), ('하', 'NNG'), ('늘', 'VA'), ('ㄴ', 'ETD'), (\"'\", 'SS'), ('디지털', 'NNG'), ('의사', 'NNG'), (\"'\", 'SS'), ('를', 'UN'), ('만들', 'VV'), ('ㄹ', 'NNG'), ('수', 'NNG'), ('있', 'VA'), ('다', 'NNG'), ('.', 'SF'), ('유전체', 'NNG'), ('학과', 'NNG'), ('유전자', 'NNG'), ('편집', 'NNG'), ('을', 'NNG'), ('이용', 'NNG'), ('하', 'NNG'), ('어', 'NNG'), ('가뭄', 'NNG'), ('에', 'VV'), ('강하', 'VA'), ('고', 'NNG'), ('인류', 'NNG'), ('전체', 'NNG'), ('를', 'UN'), ('먹이', 'VV'), ('어', 'NNG'), ('살리', 'VV'), ('ㄹ', 'NNG'), ('새', 'NNG'), ('식물', 'NNG'), ('을', 'NNG'), ('개발', 'NNG'), ('하', 'NNG'), ('ㄹ', 'NNG'), ('수', 'NNG'), ('있', 'VA'), ('다', 'NNG'), ('.', 'SF'), ('인공지능', 'NNG'), ('로봇', 'NNG'), ('을', 'NNG'), ('사용', 'NNG'), ('하', 'XSV'), ('어', 'NNG'), ('노인', 'NNG'), ('들', 'NNG'), ('을', 'NNG'), ('위하', 'VV'), ('ㄴ', 'NNG'), (\"'\", 'SS'), ('디지털', 'NNG'), ('친구', 'NNG'), (\"'\", 'SS'), ('도', 'NNG'), ('가능', 'NNG'), ('하', 'NNG'), ('다', 'NNG'), ('.', 'SF'), ('초소형', 'NNG'), ('물질', 'NNG'), ('의', 'NNG'), ('발전', 'NNG'), ('은', 'NNG'), ('모든', 'MDT'), ('사람', 'NNG'), ('이', 'NNG'), ('충분히', 'MAG'), ('이용', 'NNG'), ('하', 'NNG'), ('ㄹ', 'NNG'), ('수', 'NNG'), ('있', 'VA'), ('늘', 'VA'), ('ㄴ', 'ETD'), (\"'\", 'SS'), ('태양', 'NNG'), ('열', 'NNG'), ('저장', 'NNG'), ('기술', 'NNG'), (\"'\", 'SS'), ('의', 'NNG'), ('새', 'NNG'), ('시대', 'NNG'), ('를', 'UN'), ('열', 'NNG'), ('ㄹ', 'NNG'), ('것', 'NNB'), ('이', 'NNG'), ('다', 'NNG'), ('.', 'SF'), ('이런', 'MDT'), ('해결책', 'NNG'), ('을', 'NNG'), ('이끌어내', 'VV'), ('늘', 'VA'), ('ㄴ', 'ETD'), ('데는', 'NNG'), ('생물학', 'NNG'), ('·', 'SP'), ('교육', 'NNG'), ('·', 'SP'), ('의료', 'NNG'), ('·', 'SP'), ('인간', 'NNG'), ('행동', 'NNG'), ('등', 'NNG'), ('여러', 'MDT'), ('분야', 'NNG'), ('에', 'VV'), ('대하', 'VV'), ('ㄴ', 'NNG'), ('지식', 'NNG'), ('이', 'NNG'), ('필요', 'NNG'), ('하', 'NNG'), ('다', 'NNG'), ('.', 'SF'), ('우리', 'NP'), ('가', 'NNG'), ('처하', 'VV'), ('ㄴ', 'NNG'), ('거대', 'NNG'), ('하', 'NNG'), ('ㄴ', 'NNG'), ('사회', 'NNG'), ('·', 'SP'), ('기술적', 'NNG'), ('도전', 'NNG'), ('에', 'VV'), ('대처', 'NNG'), ('하', 'NNG'), ('려', 'ECD'), ('면', 'XR'), ('인류', 'NNG'), ('를', 'UN'), ('둘러쌓', 'VV'), ('ㄴ', 'NNG'), ('다양', 'NNG'), ('하', 'NNG'), ('ㄴ', 'NNG'), ('배경', 'NNG'), ('과', 'NNG'), ('맥락', 'NNG'), ('에', 'VV'), ('대하', 'VV'), ('어', 'NNG'), ('비판적', 'NNG'), ('사고', 'NNG'), ('능력', 'NNG'), ('이', 'NNG'), ('필수적', 'NNG'), ('이', 'NNG'), ('다', 'NNG'), ('.', 'SF'), ('일', 'NNG'), ('늘', 'VA'), ('ㄴ', 'ETD'), ('인문학', 'NNG'), ('전공자', 'NNG'), ('들', 'NNG'), ('이', 'NNG'), ('가장', 'MAG'), ('자', 'VA'), ('ㄹ', 'ETD'), ('훈련', 'NNG'), ('받', 'VA'), ('은', 'NNG'), ('분야', 'NNG'), ('이', 'NNG'), ('다', 'NNG'), ('.', 'SF'), ('일례', 'NNG'), ('로', 'NNG'), ('음악', 'NNG'), ('·', 'SP'), ('예술', 'NNG'), ('·', 'SP'), ('문', 'NNG'), ('학과', 'NNG'), ('심리학', 'NNG'), ('에서', 'UN'), ('비롯', 'XR'), ('하', 'NNG'), ('ㄴ', 'NNG'), ('공감', 'NNG'), ('(', 'SS'), ('共感', 'OH'), (')', 'SS'), ('능력', 'NNG'), ('은', 'NNG'), ('디자인', 'NNG'), ('에', 'VV'), ('크', 'VA'), ('ㄴ', 'NNG'), ('장점', 'NNG'), ('이', 'NNG'), ('되', 'VA'), ('ㄴ다', 'UN'), ('.', 'SF'), ('로마', 'NNG'), ('제국', 'NNG'), ('의', 'NNG'), ('흥망성쇠', 'NNG'), ('오', 'VA'), ('아', 'ECS'), ('계몽', 'NNG'), ('주의', 'NNG'), ('를', 'UN'), ('공부', 'NNG'), ('하', 'NNG'), ('ㄴ', 'NNG'), ('역사', 'NNG'), ('학도', 'NNG'), ('늘', 'VA'), ('ㄴ', 'ETD'), ('기술', 'NNG'), ('의', 'NNG'), ('인간적', 'NNG'), ('요소', 'NNG'), ('오', 'VA'), ('아', 'ECS'), ('유용성', 'NNG'), ('에', 'VV'), ('대하', 'VV'), ('ㄴ', 'NNG'), ('통찰력', 'NNG'), ('을', 'NNG'), ('가지', 'VV'), ('ㄹ', 'NNG'), ('수', 'NNG'), ('있', 'VA'), ('다', 'NNG'), ('.', 'SF'), ('심리학', 'NNG'), ('전공자', 'NNG'), ('늘', 'VA'), ('ㄴ', 'ETD'), ('사람', 'NNG'), ('에', 'VV'), ('게', 'ECD'), ('동기', 'NNG'), ('(', 'SS'), ('動機', 'OH'), (')', 'SS'), ('부옇', 'VA'), ('가', 'NNG'), ('무엇', 'NP'), ('이', 'NNG'), ('며', 'UN'), (',', 'SP'), ('사용자', 'NNG'), ('들', 'NNG'), ('이', 'NNG'), ('원하', 'VV'), ('늘', 'VA'), ('ㄴ', 'ETD'), ('것', 'NNB'), ('이', 'NNG'), ('무엇', 'NP'), ('이', 'NNG'), ('ㄴ', 'NNG'), ('짓', 'VV'), ('를', 'UN'), ('공학', 'NNG'), ('한', 'NNG'), ('분야', 'NNG'), ('에서', 'UN'), ('만', 'NNG'), ('일하', 'VV'), ('어', 'NNG'), ('오', 'NNG'), ('ㄴ', 'NNG'), ('엔지니어', 'NNG'), ('들', 'NNG'), ('보다', 'MAG'), ('자', 'VA'), ('ㄹ', 'ETD'), ('이해', 'NNG'), ('하', 'NNG'), ('ㄹ', 'NNG'), ('수', 'NNG'), ('있', 'VA'), ('다', 'NNG'), ('.', 'SF'), ('우리', 'NP'), ('가', 'NNG'), ('상상', 'NNG'), ('하', 'NNG'), ('늘', 'VA'), ('ㄴ', 'ETD'), ('물건', 'NNG'), ('을', 'NNG'), ('3', 'NR'), ('D', 'OL'), ('로', 'NNG'), ('만들', 'VV'), ('ㄹ', 'NNG'), ('수', 'NNG'), ('있', 'VA'), ('게', 'NNG'), ('되', 'VA'), ('면', 'NNG'), ('음악가', 'NNG'), ('나', 'NNG'), ('아', 'NNG'), ('화가', 'NNG'), ('들', 'NNG'), ('의', 'NNG'), ('세상', 'NNG'), ('이', 'NNG'), ('되', 'VA'), ('ㄹ지', 'UN'), ('도', 'NNG'), ('모르', 'VV'), ('ㄴ다', 'UN'), ('.', 'SF'), ('\"', 'SS'), ('자녀', 'NNG'), ('가', 'NNG'), ('미래', 'NNG'), ('에', 'VV'), ('어떤', 'MDT'), ('직업', 'NNG'), ('을', 'NNG'), ('택하', 'VV'), ('면', 'NNG'), ('좋', 'VA'), ('이', 'VCP'), ('겠', 'EPT'), ('늘', 'VA'), ('ㄴ', 'ETD'), ('가', 'NNG'), ('아', 'NNG'), ('\"', 'SS'), ('이', 'NNG'), ('라', 'NNG'), ('는', 'JX'), ('질문', 'NNG'), ('을', 'NNG'), ('받', 'VA'), ('을', 'NNG'), ('때', 'NNG'), ('나', 'NNG'), ('늘', 'VA'), ('ㄴ', 'ETD'), ('\"', 'SS'), ('아이', 'NNG'), ('들', 'NNG'), ('이', 'NNG'), ('스스로', 'MAG'), ('하', 'NNG'), ('고', 'NNG'), ('싶', 'VA'), ('은', 'NNG'), ('것', 'NNB'), ('을', 'NNG'), ('선택', 'NNG'), ('하', 'NNG'), ('도록', 'NNG'), ('내버리', 'VV'), ('어', 'NNG'), ('두', 'NNG'), ('늘', 'VA'), ('ㄴ', 'ETD'), ('것', 'NNB'), ('이', 'NNG'), ('최선', 'NNG'), ('\"', 'SS'), ('이', 'NNG'), ('라고', 'EFQ'), ('답하', 'VV'), ('ㄴ다', 'UN'), ('.', 'SF'), ('과거', 'NNG'), ('우리', 'NP'), ('부모', 'NNG'), ('들', 'NNG'), ('이', 'NNG'), ('우리', 'NP'), ('에', 'VV'), ('게', 'ECD'), ('공부', 'NNG'), ('를', 'UN'), ('강요', 'NNG'), ('하', 'NNG'), ('어', 'VV'), ('어서', 'ECD'), ('학습', 'NNG'), ('을', 'NNG'), (\"'\", 'SS'), ('억지로', 'MAG'), ('하', 'NNG'), ('어', 'VV'), ('어야', 'ECD'), ('하', 'NNG'), ('늘', 'VA'), ('ㄴ', 'ETD'), ('따분', 'XR'), ('하', 'NNG'), ('ㄴ', 'NNG'), ('일', 'NNG'), (\"'\", 'SS'), ('로', 'NNG'), ('여기', 'NP'), ('게', 'NNG'), ('하', 'NNG'), ('어', 'VV'), ('었', 'EPT'), ('더', 'NNG'), ('ㄴ', 'NNG'), ('방식', 'NNG'), ('을', 'NNG'), ('따르', 'VV'), ('아', 'NNG'), ('해선', 'NNG'), ('안', 'NNG'), ('되', 'VA'), ('ㄴ다', 'UN'), ('.', 'SF'), ('그', 'VA'), ('대신', 'NNP'), ('자녀', 'NNG'), ('가', 'NNG'), ('자신', 'NNG'), ('의', 'NNG'), ('열정', 'NNG'), ('을', 'NNG'), ('추구', 'NNG'), ('하', 'NNG'), ('고', 'NNG'), ('배우', 'VV'), ('늘', 'VA'), ('ㄴ', 'ETD'), ('것', 'NNB'), ('을', 'NNG'), ('즐기', 'VV'), ('ㄹ', 'NNG'), ('수', 'NNG'), ('있', 'VA'), ('도록', 'NNG'), ('북돋', 'VV'), ('아', 'VV'), ('아야', 'ECD'), ('하', 'NNG'), ('ㄴ다', 'UN'), ('.', 'SF'), ('기술', 'NNG'), ('을', 'NNG'), ('통하', 'VV'), ('어', 'NNG'), ('놀라', 'VV'), ('ㄴ', 'NNG'), ('미래', 'NNG'), ('를', 'UN'), ('창조', 'NNG'), ('하', 'NNG'), ('고', 'NNG'), ('새롭', 'VA'), ('ㄴ', 'NNG'), ('산업', 'NNG'), ('혁명', 'NNG'), ('시대', 'NNG'), ('에', 'VV'), ('리더', 'NNG'), ('가', 'NNG'), ('되', 'VA'), ('기', 'NNG'), ('위하', 'VV'), ('어', 'NNG'), ('한국', 'NNG'), ('에서', 'UN'), ('늘', 'VA'), ('ㄴ', 'ETD'), ('공학자', 'NNG'), ('들', 'NNG'), ('과', 'NNG'), ('손잡', 'VV'), ('고', 'NNG'), ('일하', 'VV'), ('ㄹ', 'NNG'), ('음악가', 'NNG'), ('오', 'VA'), ('아', 'ECS'), ('화가', 'NNG'), ('가', 'NNG'), ('더', 'NNG'), ('많이', 'MAG'), ('필요', 'NNG'), ('하', 'NNG'), ('다', 'NNG'), ('.', 'SF'), ('이제', 'MAG'), ('늘', 'VA'), ('ㄴ', 'ETD'), ('과학', 'NNG'), ('·', 'SP'), ('공학', 'NNG'), ('·', 'SP'), ('의학', 'NNG'), ('뿔', 'VV'), ('ㄴ', 'ETD'), ('아니', 'VCN'), ('라', 'NNG'), ('창', 'NNG'), ('의', 'NNG'), ('성과', 'NNG'), ('디자인', 'NNG'), ('에', 'VV'), ('도', 'NNG'), ('진정하', 'VA'), ('ㄴ', 'NNG'), ('관심', 'NNG'), ('을', 'NNG'), ('쏟', 'VV'), ('아', 'VV'), ('아야', 'ECD'), ('하', 'NNG'), ('ㄴ다', 'UN'), ('.', 'SF')]\n"
          ],
          "name": "stdout"
        }
      ]
    },
    {
      "metadata": {
        "id": "VZY4s8tbuuXP",
        "colab_type": "text"
      },
      "cell_type": "markdown",
      "source": [
        "### 2.4 불용어(Stopword) 처리\n",
        "분석에 불필요한 품사를 제거하고, 불필요한 단어(불용어)를 제거한다"
      ]
    },
    {
      "metadata": {
        "id": "Nvjk1yIYkCfj",
        "colab_type": "code",
        "colab": {}
      },
      "cell_type": "code",
      "source": [
        "#불용어 처리\n",
        "stopPos = ['Suffix','Punctuation','Josa','Foreign','Alpha','Number']"
      ],
      "execution_count": 0,
      "outputs": []
    },
    {
      "metadata": {
        "id": "573iqrTFkcJ3",
        "colab_type": "code",
        "outputId": "812b2f42-168c-4479-b80e-e54b849d3bca",
        "colab": {
          "base_uri": "https://localhost:8080/",
          "height": 7973
        }
      },
      "cell_type": "code",
      "source": [
        "# 최빈어 조회. 최빈어를 조회하여 불용어 제거 대상을 선정\n",
        "from collections import Counter\n",
        "Counter(oktTag).most_common()"
      ],
      "execution_count": 0,
      "outputs": [
        {
          "output_type": "execute_result",
          "data": {
            "text/plain": [
              "[(('.', 'Punctuation'), 35),\n",
              " (('을', 'Josa'), 32),\n",
              " (('의', 'Noun'), 24),\n",
              " (('이', 'Noun'), 20),\n",
              " (('·', 'Punctuation'), 18),\n",
              " (('를', 'Noun'), 15),\n",
              " (('는', 'Verb'), 15),\n",
              " (('들', 'Verb'), 13),\n",
              " (('은', 'Noun'), 11),\n",
              " (('에', 'Josa'), 11),\n",
              " (('가', 'Verb'), 11),\n",
              " (('기술', 'Noun'), 10),\n",
              " ((\"'\", 'Punctuation'), 10),\n",
              " (('과', 'Noun'), 9),\n",
              " (('\"', 'Punctuation'), 9),\n",
              " ((',', 'Punctuation'), 9),\n",
              " (('수', 'Noun'), 9),\n",
              " (('전공', 'Noun'), 8),\n",
              " (('한', 'Verb'), 7),\n",
              " (('했다', 'Verb'), 7),\n",
              " (('적', 'Noun'), 6),\n",
              " (('것', 'Noun'), 6),\n",
              " (('(', 'Punctuation'), 6),\n",
              " ((')', 'Punctuation'), 6),\n",
              " (('자', 'Noun'), 6),\n",
              " (('공학', 'Noun'), 5),\n",
              " (('인문학', 'Noun'), 5),\n",
              " (('디자인', 'Noun'), 5),\n",
              " (('와', 'Verb'), 5),\n",
              " (('우리', 'Noun'), 5),\n",
              " (('로', 'Noun'), 4),\n",
              " (('있는', 'Adjective'), 4),\n",
              " (('한다', 'Verb'), 4),\n",
              " (('하는', 'Verb'), 4),\n",
              " (('일', 'Noun'), 4),\n",
              " (('예술', 'Noun'), 4),\n",
              " (('이다', 'Josa'), 4),\n",
              " (('컴퓨터', 'Noun'), 4),\n",
              " (('그', 'Noun'), 4),\n",
              " (('전공자', 'Noun'), 4),\n",
              " (('창업', 'Noun'), 4),\n",
              " (('하고', 'Verb'), 4),\n",
              " (('있다', 'Adjective'), 4),\n",
              " (('할', 'Verb'), 4),\n",
              " (('한국', 'Noun'), 3),\n",
              " (('대학', 'Noun'), 3),\n",
              " (('자녀', 'Noun'), 3),\n",
              " (('성공', 'Noun'), 3),\n",
              " (('으로', 'Josa'), 3),\n",
              " (('모든', 'Noun'), 3),\n",
              " (('에서', 'Josa'), 3),\n",
              " (('산업혁명', 'Noun'), 3),\n",
              " (('시대', 'Noun'), 3),\n",
              " (('에는', 'Josa'), 3),\n",
              " (('의학', 'Noun'), 3),\n",
              " (('개발', 'Noun'), 3),\n",
              " (('기업인', 'Noun'), 3),\n",
              " (('학위', 'Noun'), 3),\n",
              " (('이며', 'Josa'), 3),\n",
              " (('해', 'Noun'), 3),\n",
              " (('등', 'Noun'), 3),\n",
              " (('에게', 'Josa'), 3),\n",
              " (('인공', 'Noun'), 3),\n",
              " (('지능', 'Noun'), 3),\n",
              " (('디지털', 'Noun'), 3),\n",
              " (('된다', 'Verb'), 3),\n",
              " (('인간', 'Noun'), 3),\n",
              " (('분야', 'Noun'), 3),\n",
              " (('게', 'Noun'), 3),\n",
              " (('교육', 'Noun'), 2),\n",
              " (('우선', 'Noun'), 2),\n",
              " (('부모', 'Noun'), 2),\n",
              " (('의학과', 'Noun'), 2),\n",
              " (('과학', 'Noun'), 2),\n",
              " (('직업', 'Noun'), 2),\n",
              " (('위해', 'Noun'), 2),\n",
              " (('중', 'Noun'), 2),\n",
              " (('선택', 'Noun'), 2),\n",
              " (('실리콘밸리', 'Noun'), 2),\n",
              " (('4', 'Number'), 2),\n",
              " (('차', 'Noun'), 2),\n",
              " (('잡스', 'Noun'), 2),\n",
              " (('자신', 'Noun'), 2),\n",
              " (('했던', 'Verb'), 2),\n",
              " (('애플', 'Noun'), 2),\n",
              " (('큰', 'Verb'), 2),\n",
              " (('이런', 'Adjective'), 2),\n",
              " (('세계', 'Noun'), 2),\n",
              " (('기업', 'Noun'), 2),\n",
              " (('새로운', 'Adjective'), 2),\n",
              " (('최근', 'Noun'), 2),\n",
              " (('철학', 'Noun'), 2),\n",
              " (('석사', 'Noun'), 2),\n",
              " (('CEO', 'Alpha'), 2),\n",
              " (('문학', 'Noun'), 2),\n",
              " (('업체', 'Noun'), 2),\n",
              " (('내', 'Noun'), 2),\n",
              " (('도', 'Noun'), 2),\n",
              " (('회사', 'Noun'), 2),\n",
              " (('제품', 'Noun'), 2),\n",
              " (('가장', 'Noun'), 2),\n",
              " (('이라고', 'Josa'), 2),\n",
              " (('답', 'Noun'), 2),\n",
              " (('여기', 'Noun'), 2),\n",
              " (('만들', 'Verb'), 2),\n",
              " (('이용', 'Noun'), 2),\n",
              " (('인류', 'Noun'), 2),\n",
              " (('새', 'Noun'), 2),\n",
              " (('사람', 'Noun'), 2),\n",
              " (('대한', 'Noun'), 2),\n",
              " (('필요하다', 'Adjective'), 2),\n",
              " (('능력', 'Noun'), 2),\n",
              " (('잘', 'Verb'), 2),\n",
              " (('심리학', 'Noun'), 2),\n",
              " (('공부', 'Noun'), 2),\n",
              " (('무엇', 'Noun'), 2),\n",
              " (('음악가', 'Noun'), 2),\n",
              " (('나', 'Noun'), 2),\n",
              " (('화가', 'Noun'), 2),\n",
              " (('미래', 'Noun'), 2),\n",
              " (('삶', 'Noun'), 1),\n",
              " (('최', 'Noun'), 1),\n",
              " (('순위', 'Noun'), 1),\n",
              " (('두고', 'Verb'), 1),\n",
              " (('가운데', 'Noun'), 1),\n",
              " (('중시', 'Noun'), 1),\n",
              " (('이공', 'Noun'), 1),\n",
              " (('계', 'Noun'), 1),\n",
              " (('고려', 'Noun'), 1),\n",
              " (('산업화', 'Noun'), 1),\n",
              " (('이던', 'Josa'), 1),\n",
              " (('상황', 'Noun'), 1),\n",
              " (('에선', 'Josa'), 1),\n",
              " (('올바른', 'Adjective'), 1),\n",
              " (('이었다', 'Verb'), 1),\n",
              " (('하지만', 'Conjunction'), 1),\n",
              " (('지금', 'Noun'), 1),\n",
              " (('달라졌다', 'Verb'), 1),\n",
              " (('요즘', 'Noun'), 1),\n",
              " (('확인', 'Noun'), 1),\n",
              " (('되는', 'Verb'), 1),\n",
              " (('만큼', 'Noun'), 1),\n",
              " (('중요하다는', 'Adjective'), 1),\n",
              " (('사실', 'Noun'), 1),\n",
              " (('스티브', 'Noun'), 1),\n",
              " (('시절', 'Noun'), 1),\n",
              " (('수강', 'Noun'), 1),\n",
              " (('서체', 'Noun'), 1),\n",
              " (('書體', 'Foreign'), 1),\n",
              " (('수업', 'Noun'), 1),\n",
              " (('매킨토시', 'Noun'), 1),\n",
              " (('1984년', 'Number'), 1),\n",
              " (('발표', 'Noun'), 1),\n",
              " (('개인', 'Noun'), 1),\n",
              " (('용', 'Noun'), 1),\n",
              " (('영향', 'Noun'), 1),\n",
              " (('미쳤다고', 'Adjective'), 1),\n",
              " (('말', 'Noun'), 1),\n",
              " (('2011년', 'Number'), 1),\n",
              " (('아이패드', 'Noun'), 1),\n",
              " (('2', 'Number'), 1),\n",
              " (('공개', 'Noun'), 1),\n",
              " (('하면서', 'Verb'), 1),\n",
              " (('DNA', 'Alpha'), 1),\n",
              " (('만으로는', 'Josa'), 1),\n",
              " (('충분하지', 'Adjective'), 1),\n",
              " (('않다', 'Verb'), 1),\n",
              " (('교양', 'Noun'), 1),\n",
              " (('결합', 'Noun'), 1),\n",
              " (('이야말로', 'Josa'), 1),\n",
              " (('가슴', 'Noun'), 1),\n",
              " (('벅찬', 'Adjective'), 1),\n",
              " (('결과', 'Noun'), 1),\n",
              " (('낳을', 'Noun'), 1),\n",
              " (('라며', 'Noun'), 1),\n",
              " (('중요성', 'Noun'), 1),\n",
              " (('강조', 'Noun'), 1),\n",
              " (('관점', 'Noun'), 1),\n",
              " (('바탕', 'Noun'), 1),\n",
              " (('최고', 'Noun'), 1),\n",
              " (('가치', 'Noun'), 1),\n",
              " (('인정받는', 'Verb'), 1),\n",
              " (('만들었고', 'Verb'), 1),\n",
              " (('산업', 'Noun'), 1),\n",
              " (('표준', 'Noun'), 1),\n",
              " (('까지', 'Josa'), 1),\n",
              " (('정', 'Noun'), 1),\n",
              " (('뜨고', 'Verb'), 1),\n",
              " (('스타', 'Noun'), 1),\n",
              " (('제법', 'Noun'), 1),\n",
              " (('많다', 'Adjective'), 1),\n",
              " (('구인', 'Noun'), 1),\n",
              " (('구직', 'Noun'), 1),\n",
              " (('소셜', 'Noun'), 1),\n",
              " (('네트워킹', 'Noun'), 1),\n",
              " (('서비스', 'Noun'), 1),\n",
              " (('링크드인', 'Noun'), 1),\n",
              " (('LinkedIn', 'Alpha'), 1),\n",
              " (('리드', 'Noun'), 1),\n",
              " (('호프', 'Noun'), 1),\n",
              " (('만은', 'Josa'), 1),\n",
              " (('소지', 'Noun'), 1),\n",
              " (('잔', 'Noun'), 1),\n",
              " (('보이', 'Noun'), 1),\n",
              " (('치키', 'Verb'), 1),\n",
              " (('유튜브', 'Noun'), 1),\n",
              " (('역사', 'Noun'), 1),\n",
              " (('메신저', 'Noun'), 1),\n",
              " (('슬랙', 'Noun'), 1),\n",
              " (('Slack', 'Alpha'), 1),\n",
              " (('스튜어트', 'Noun'), 1),\n",
              " (('버터', 'Noun'), 1),\n",
              " (('필드', 'Noun'), 1),\n",
              " (('최대', 'Noun'), 1),\n",
              " (('숙박', 'Noun'), 1),\n",
              " (('공유', 'Noun'), 1),\n",
              " (('에어비앤비', 'Noun'), 1),\n",
              " (('설립', 'Noun'), 1),\n",
              " (('브라이언', 'Noun'), 1),\n",
              " (('체', 'Noun'), 1),\n",
              " (('스키', 'Noun'), 1),\n",
              " (('미술', 'Noun'), 1),\n",
              " (('중국', 'Noun'), 1),\n",
              " (('알리바바', 'Noun'), 1),\n",
              " (('그룹', 'Noun'), 1),\n",
              " (('마윈', 'Noun'), 1),\n",
              " (('회장', 'Noun'), 1),\n",
              " (('학부', 'Noun'), 1),\n",
              " (('영어', 'Noun'), 1),\n",
              " (('였다', 'Verb'), 1),\n",
              " (('속', 'Noun'), 1),\n",
              " (('하버드대', 'Noun'), 1),\n",
              " (('듀크', 'Noun'), 1),\n",
              " (('대', 'Verb'), 1),\n",
              " (('연', 'Noun'), 1),\n",
              " (('구', 'Noun'), 1),\n",
              " (('팀', 'Noun'), 1),\n",
              " (('미국', 'Noun'), 1),\n",
              " (('IT', 'Alpha'), 1),\n",
              " (('92%', 'Number'), 1),\n",
              " (('학사', 'Noun'), 1),\n",
              " (('47%', 'Number'), 1),\n",
              " (('이상', 'Noun'), 1),\n",
              " (('갖고', 'Verb'), 1),\n",
              " (('있', 'Adjective'), 1),\n",
              " (('음', 'Noun'), 1),\n",
              " (('밝혀냈다', 'Verb'), 1),\n",
              " (('세부', 'Noun'), 1),\n",
              " (('보면', 'Verb'), 1),\n",
              " (('37%', 'Number'), 1),\n",
              " (('만', 'Noun'), 1),\n",
              " (('수학', 'Noun'), 1),\n",
              " (('2%', 'Number'), 1),\n",
              " (('뿐이었다', 'Adjective'), 1),\n",
              " (('경영', 'Noun'), 1),\n",
              " (('회계', 'Noun'), 1),\n",
              " (('보건', 'Noun'), 1),\n",
              " (('매우', 'Noun'), 1),\n",
              " (('다양했다', 'Adjective'), 1),\n",
              " (('주변기기', 'Noun'), 1),\n",
              " (('제조', 'Noun'), 1),\n",
              " (('로지텍', 'Noun'), 1),\n",
              " (('브랙큰', 'Noun'), 1),\n",
              " (('대럴', 'Noun'), 1),\n",
              " (('영문학', 'Noun'), 1),\n",
              " (('어떻게', 'Adjective'), 1),\n",
              " (('5년', 'Number'), 1),\n",
              " (('여', 'Noun'), 1),\n",
              " (('만에', 'Josa'), 1),\n",
              " (('주가', 'Noun'), 1),\n",
              " (('450%', 'Number'), 1),\n",
              " (('올릴', 'Verb'), 1),\n",
              " (('있었느냐', 'Adjective'), 1),\n",
              " (('고', 'Noun'), 1),\n",
              " (('물었더니', 'Verb'), 1),\n",
              " (('만드는', 'Verb'), 1),\n",
              " (('쉼', 'Verb'), 1),\n",
              " (('없이', 'Adverb'), 1),\n",
              " (('고민', 'Noun'), 1),\n",
              " (('했기', 'Verb'), 1),\n",
              " (('때문', 'Noun'), 1),\n",
              " (('가능했다', 'Adjective'), 1),\n",
              " (('관련', 'Noun'), 1),\n",
              " (('중요한', 'Adjective'), 1),\n",
              " (('혁신', 'Noun'), 1),\n",
              " (('규칙', 'Noun'), 1),\n",
              " (('바꾸는', 'Verb'), 1),\n",
              " (('일이', 'Modifier'), 1),\n",
              " (('다', 'Adverb'), 1),\n",
              " (('의술', 'Noun'), 1),\n",
              " (('로봇공학', 'Noun'), 1),\n",
              " (('합성생물학', 'Noun'), 1),\n",
              " (('광범위한', 'Adjective'), 1),\n",
              " (('활용', 'Noun'), 1),\n",
              " (('센서', 'Noun'), 1),\n",
              " (('융합', 'Noun'), 1),\n",
              " (('하면', 'Verb'), 1),\n",
              " (('건강', 'Noun'), 1),\n",
              " (('진단', 'Noun'), 1),\n",
              " (('질병', 'Noun'), 1),\n",
              " (('예방', 'Noun'), 1),\n",
              " (('의사', 'Noun'), 1),\n",
              " (('유전체학', 'Noun'), 1),\n",
              " (('유전자', 'Noun'), 1),\n",
              " (('편집', 'Noun'), 1),\n",
              " (('가뭄', 'Noun'), 1),\n",
              " (('강하고', 'Adjective'), 1),\n",
              " (('전체', 'Noun'), 1),\n",
              " (('먹여', 'Verb'), 1),\n",
              " (('살릴', 'Verb'), 1),\n",
              " (('식물', 'Noun'), 1),\n",
              " (('로봇', 'Noun'), 1),\n",
              " (('사용', 'Noun'), 1),\n",
              " (('노인', 'Noun'), 1),\n",
              " (('위', 'Noun'), 1),\n",
              " (('친구', 'Noun'), 1),\n",
              " (('가능하다', 'Adjective'), 1),\n",
              " (('초소', 'Noun'), 1),\n",
              " (('형', 'Noun'), 1),\n",
              " (('물질', 'Noun'), 1),\n",
              " (('발전', 'Noun'), 1),\n",
              " (('충분히', 'Adjective'), 1),\n",
              " (('태양열', 'Noun'), 1),\n",
              " (('저장', 'Noun'), 1),\n",
              " (('열', 'Noun'), 1),\n",
              " (('해결', 'Noun'), 1),\n",
              " (('책', 'Noun'), 1),\n",
              " (('이끌어내는', 'Verb'), 1),\n",
              " (('데', 'Noun'), 1),\n",
              " (('생물학', 'Noun'), 1),\n",
              " (('의료', 'Noun'), 1),\n",
              " (('행동', 'Noun'), 1),\n",
              " (('여러', 'Noun'), 1),\n",
              " (('지식', 'Noun'), 1),\n",
              " (('처', 'Noun'), 1),\n",
              " (('거대한', 'Adjective'), 1),\n",
              " (('사회', 'Noun'), 1),\n",
              " (('도전', 'Noun'), 1),\n",
              " (('대처', 'Noun'), 1),\n",
              " (('하려면', 'Verb'), 1),\n",
              " (('둘러싼', 'Verb'), 1),\n",
              " (('다양한', 'Adjective'), 1),\n",
              " (('배경', 'Noun'), 1),\n",
              " (('맥락', 'Noun'), 1),\n",
              " (('대해', 'Noun'), 1),\n",
              " (('비판', 'Noun'), 1),\n",
              " (('사고', 'Noun'), 1),\n",
              " (('필수', 'Noun'), 1),\n",
              " (('이는', 'Verb'), 1),\n",
              " (('훈련', 'Noun'), 1),\n",
              " (('받은', 'Verb'), 1),\n",
              " (('일례', 'Noun'), 1),\n",
              " (('음악', 'Noun'), 1),\n",
              " (('비롯', 'Noun'), 1),\n",
              " (('공감', 'Noun'), 1),\n",
              " (('共感', 'Foreign'), 1),\n",
              " (('장점', 'Noun'), 1),\n",
              " (('로마제국', 'Noun'), 1),\n",
              " (('흥망', 'Noun'), 1),\n",
              " (('성쇠', 'Noun'), 1),\n",
              " (('계몽', 'Noun'), 1),\n",
              " (('주의', 'Noun'), 1),\n",
              " (('역사학도', 'Noun'), 1),\n",
              " (('요소', 'Noun'), 1),\n",
              " (('유용성', 'Noun'), 1),\n",
              " (('통찰', 'Noun'), 1),\n",
              " (('력', 'Suffix'), 1),\n",
              " (('가질', 'Verb'), 1),\n",
              " (('동기', 'Noun'), 1),\n",
              " (('動機', 'Foreign'), 1),\n",
              " (('부여', 'Noun'), 1),\n",
              " (('사용자', 'Noun'), 1),\n",
              " (('원하는', 'Adjective'), 1),\n",
              " (('인지', 'Noun'), 1),\n",
              " (('에서만', 'Josa'), 1),\n",
              " (('해온', 'Verb'), 1),\n",
              " (('엔지니어', 'Noun'), 1),\n",
              " (('보다', 'Verb'), 1),\n",
              " (('이해', 'Noun'), 1),\n",
              " (('상상', 'Noun'), 1),\n",
              " (('물건', 'Noun'), 1),\n",
              " (('3', 'Number'), 1),\n",
              " (('D', 'Alpha'), 1),\n",
              " (('있게', 'Adjective'), 1),\n",
              " (('되면', 'Verb'), 1),\n",
              " (('세상', 'Noun'), 1),\n",
              " (('될지도', 'Verb'), 1),\n",
              " (('모른다', 'Verb'), 1),\n",
              " (('.\"', 'Punctuation'), 1),\n",
              " (('어떤', 'Adjective'), 1),\n",
              " (('택하', 'Noun'), 1),\n",
              " (('면', 'Noun'), 1),\n",
              " (('좋겠는가', 'Adjective'), 1),\n",
              " (('라는', 'Josa'), 1),\n",
              " (('질문', 'Noun'), 1),\n",
              " (('받을', 'Verb'), 1),\n",
              " (('때', 'Noun'), 1),\n",
              " (('아이', 'Noun'), 1),\n",
              " (('스스로', 'Noun'), 1),\n",
              " (('싶은', 'Verb'), 1),\n",
              " (('하도록', 'Verb'), 1),\n",
              " (('내버려', 'Verb'), 1),\n",
              " (('두는', 'Verb'), 1),\n",
              " (('최선', 'Noun'), 1),\n",
              " (('과거', 'Noun'), 1),\n",
              " (('강요', 'Noun'), 1),\n",
              " (('해서', 'Verb'), 1),\n",
              " (('학습', 'Noun'), 1),\n",
              " (('억지로', 'Noun'), 1),\n",
              " (('해야', 'Verb'), 1),\n",
              " (('따분한', 'Adjective'), 1),\n",
              " (('방식', 'Noun'), 1),\n",
              " (('따라', 'Verb'), 1),\n",
              " (('해선', 'Noun'), 1),\n",
              " (('안', 'Noun'), 1),\n",
              " (('대신', 'Noun'), 1),\n",
              " (('열정', 'Noun'), 1),\n",
              " (('추구', 'Noun'), 1),\n",
              " (('배우는', 'Verb'), 1),\n",
              " (('걸', 'Noun'), 1),\n",
              " (('즐길', 'Verb'), 1),\n",
              " (('있도록', 'Adjective'), 1),\n",
              " (('북', 'Noun'), 1),\n",
              " (('돋아야', 'Verb'), 1),\n",
              " (('통해', 'Noun'), 1),\n",
              " (('놀라운', 'Adjective'), 1),\n",
              " (('창조', 'Noun'), 1),\n",
              " (('리더', 'Noun'), 1),\n",
              " (('되기', 'Verb'), 1),\n",
              " (('에서는', 'Josa'), 1),\n",
              " (('공학자', 'Noun'), 1),\n",
              " (('손잡고', 'Verb'), 1),\n",
              " (('더', 'Noun'), 1),\n",
              " (('많이', 'Adverb'), 1),\n",
              " (('이제', 'Noun'), 1),\n",
              " (('뿐', 'Noun'), 1),\n",
              " (('아니라', 'Adjective'), 1),\n",
              " (('창의성', 'Noun'), 1),\n",
              " (('에도', 'Josa'), 1),\n",
              " (('진정한', 'Adjective'), 1),\n",
              " (('관심', 'Noun'), 1),\n",
              " (('쏟아야', 'Verb'), 1)]"
            ]
          },
          "metadata": {
            "tags": []
          },
          "execution_count": 86
        }
      ]
    },
    {
      "metadata": {
        "id": "5lBkhHm1kYcz",
        "colab_type": "code",
        "colab": {}
      },
      "cell_type": "code",
      "source": [
        "stopWord = ['의','이','를','은','과','수','했다','것','있는','한다','하는','그','있다','할','이런','되기','해야','있게','여기']"
      ],
      "execution_count": 0,
      "outputs": []
    },
    {
      "metadata": {
        "id": "BJgERpoikh9s",
        "colab_type": "code",
        "colab": {}
      },
      "cell_type": "code",
      "source": [
        "word = []\n",
        "for tag in oktTag:\n",
        "    if tag[1] not in stopPos:\n",
        "        if tag[0] not in stopWord:\n",
        "            word.append(tag[0])"
      ],
      "execution_count": 0,
      "outputs": []
    },
    {
      "metadata": {
        "id": "iUQTDj4KkkBN",
        "colab_type": "code",
        "outputId": "8a4dccea-e49f-4861-8186-b1ca01e71d29",
        "colab": {
          "base_uri": "https://localhost:8080/",
          "height": 55
        }
      },
      "cell_type": "code",
      "source": [
        "print(word)"
      ],
      "execution_count": 0,
      "outputs": [
        {
          "output_type": "stream",
          "text": [
            "['교육', '삶', '최', '우선', '순위', '로', '두고', '한국', '부모', '들', '대학', '전공', '가운데', '의학과', '공학', '과학', '중시', '자녀', '직업', '적', '성공', '위해', '대학', '전공', '의학과', '이공', '계', '우선', '적', '고려', '일', '한국', '산업화', '중', '상황', '올바른', '선택', '이었다', '하지만', '지금', '모든', '달라졌다', '요즘', '실리콘밸리', '확인', '되는', '차', '산업혁명', '시대', '예술', '인문학', '의학', '공학', '만큼', '중요하다는', '사실', '스티브', '잡스', '는', '자신', '대학', '시절', '수강', '했던', '서체', '수업', '매킨토시', '애플', '발표', '한', '개인', '용', '컴퓨터', '개발', '성공', '큰', '영향', '미쳤다고', '말', '는', '아이패드', '공개', '하면서', '애플', '는', '기술', '충분하지', '않다', '교양', '인문학', '결합', '한', '기술', '가슴', '벅찬', '결과', '낳을', '라며', '예술', '디자인', '중요성', '강조', '관점', '바탕', '잡스', '는', '세계', '최고', '가치', '인정받는', '기업', '만들었고', '기술', '산업', '새로운', '표준', '정', '실리콘밸리', '최근', '뜨고', '스타', '기업인', '중', '인문학', '전공자', '들', '제법', '많다', '구인', '구직', '소셜', '네트워킹', '서비스', '기업인', '링크드인', '창업', '자', '리드', '호프', '철학', '석사', '학위', '소지', '자', '잔', '보이', '치키', '유튜브', '는', '역사', '와', '문학', '전공', '메신저', '개발', '업체', '슬랙', '창업', '자', '스튜어트', '버터', '필드', '는', '철학', '세계', '최대', '숙박', '공유', '기업인', '에어비앤비', '설립', '자', '브라이언', '체', '스키', '는', '미술', '전공', '중국', '알리바바', '그룹', '마윈', '회장', '학부', '전공', '영어', '였다', '내', '가', '속', '해', '하버드대', '듀크', '대', '연', '구', '팀', '미국', '기업', '창업', '자', '들', '가', '학사', '학위', '는', '석사', '학위', '이상', '갖고', '있', '음', '밝혀냈다', '창업', '자', '들', '세부', '전공', '보면', '만', '공학', '컴퓨터', '기술', '수학', '전공자', '는', '뿐이었다', '들', '전공', '경영', '회계', '보건', '예술', '인문학', '등', '매우', '다양했다', '컴퓨터', '주변기기', '제조', '업체', '로지텍', '브랙큰', '대럴', '도', '영문학', '전공', '최근', '내', '가', '어떻게', '여', '회사', '주가', '올릴', '있었느냐', '고', '물었더니', '는', '우리', '회사', '가', '만드는', '모든', '제품', '디자인', '쉼', '없이', '고민', '했기', '때문', '가능했다', '기술', '관련', '제품', '성공', '가장', '중요한', '디자인', '답', '차', '산업혁명', '혁신', '규칙', '바꾸는', '일이', '다', '컴퓨터', '와', '인공', '지능', '디지털', '의술', '로봇공학', '합성생물학', '등', '광범위한', '기술', '활용', '된다', '의학', '인공', '지능', '센서', '융합', '하면', '인간', '건강', '진단', '하고', '질병', '예방', '디지털', '의사', '만들', '유전체학', '유전자', '편집', '이용', '해', '가뭄', '강하고', '인류', '전체', '먹여', '살릴', '새', '식물', '개발', '인공', '지능', '로봇', '사용', '해', '노인', '들', '위', '한', '디지털', '친구', '도', '가능하다', '초소', '형', '물질', '발전', '모든', '사람', '충분히', '이용', '태양열', '저장', '기술', '새', '시대', '열', '해결', '책', '이끌어내는', '데', '는', '생물학', '교육', '의료', '인간', '행동', '등', '여러', '분야', '대한', '지식', '필요하다', '우리', '가', '처', '한', '거대한', '사회', '기술', '적', '도전', '대처', '하려면', '인류', '둘러싼', '다양한', '배경', '맥락', '대해', '비판', '적', '사고', '능력', '필수', '적', '이는', '인문학', '전공자', '들', '가장', '잘', '훈련', '받은', '분야', '일례', '로', '음악', '예술', '문학', '심리학', '비롯', '한', '공감', '능력', '디자인', '큰', '장점', '된다', '로마제국', '흥망', '성쇠', '와', '계몽', '주의', '공부', '한', '역사학도', '는', '기술', '인간', '적', '요소', '와', '유용성', '대한', '통찰', '가질', '심리학', '전공자', '는', '사람', '동기', '부여', '가', '무엇', '사용자', '들', '원하는', '게', '무엇', '인지', '공학', '한', '분야', '일', '해온', '엔지니어', '들', '보다', '잘', '이해', '우리', '가', '상상', '물건', '로', '만들', '되면', '음악가', '나', '화가', '들', '세상', '될지도', '모른다', '자녀', '가', '미래', '어떤', '직업', '택하', '면', '좋겠는가', '질문', '받을', '때', '나', '는', '아이', '들', '스스로', '하고', '싶은', '선택', '하도록', '내버려', '두는', '게', '최선', '답', '과거', '우리', '부모', '들', '우리', '공부', '강요', '해서', '학습', '억지로', '따분한', '일', '로', '게', '했던', '방식', '따라', '해선', '안', '된다', '대신', '자녀', '가', '자신', '열정', '추구', '하고', '배우는', '걸', '즐길', '있도록', '북', '돋아야', '기술', '통해', '놀라운', '미래', '창조', '하고', '새로운', '산업혁명', '시대', '리더', '가', '위해', '한국', '공학자', '들', '손잡고', '일', '음악가', '와', '화가', '가', '더', '많이', '필요하다', '이제', '는', '과학', '공학', '의학', '뿐', '아니라', '창의성', '디자인', '진정한', '관심', '쏟아야']\n"
          ],
          "name": "stdout"
        }
      ]
    }
  ]
}